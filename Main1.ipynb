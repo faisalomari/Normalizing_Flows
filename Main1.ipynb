{
 "cells": [
  {
   "cell_type": "markdown",
   "metadata": {},
   "source": [
    "# Tutorial 12: Autoregressive Image Modeling\n",
    "\n",
    "![Status](https://img.shields.io/static/v1.svg?label=Status&message=Finished&color=green)\n",
    "\n",
    "**Filled notebook:** \n",
    "[![View on Github](https://img.shields.io/static/v1.svg?logo=github&label=Repo&message=View%20On%20Github&color=lightgrey)](https://github.com/phlippe/uvadlc_notebooks/blob/master/docs/tutorial_notebooks/tutorial12/Autoregressive_Image_Modeling.ipynb)\n",
    "[![Open In Collab](https://colab.research.google.com/assets/colab-badge.svg)](https://colab.research.google.com/github/phlippe/uvadlc_notebooks/blob/master/docs/tutorial_notebooks/tutorial12/Autoregressive_Image_Modeling.ipynb)  \n",
    "**Pre-trained models:** \n",
    "[![View files on Github](https://img.shields.io/static/v1.svg?logo=github&label=Repo&message=View%20On%20Github&color=lightgrey)](https://github.com/phlippe/saved_models/tree/main/tutorial12)\n",
    "[![GoogleDrive](https://img.shields.io/static/v1.svg?logo=google-drive&logoColor=yellow&label=GDrive&message=Download&color=yellow)](https://drive.google.com/drive/folders/1JLuxAWZ2cYKAlT87rMxJ4yOqlR5UcqhQ?usp=sharing)  \n",
    "**Recordings:** \n",
    "[![YouTube - Part 1](https://img.shields.io/static/v1.svg?logo=youtube&label=YouTube&message=Part%201&color=red)](https://youtu.be/ch0p2HGLa-o)\n",
    "[![YouTube - Part 2](https://img.shields.io/static/v1.svg?logo=youtube&label=YouTube&message=Part%202&color=red)](https://youtu.be/H7dL3qjJKfE)    \n",
    "**JAX+Flax version:**\n",
    "[![View on RTD](https://img.shields.io/static/v1.svg?logo=readthedocs&label=RTD&message=View%20On%20RTD&color=8CA1AF)](https://uvadlc-notebooks.readthedocs.io/en/latest/tutorial_notebooks/JAX/tutorial12/Autoregressive_Image_Modeling.html)   \n",
    "**Author:** Phillip Lippe"
   ]
  },
  {
   "cell_type": "markdown",
   "metadata": {},
   "source": [
    "<div class=\"alert alert-info\">\n",
    "\n",
    "**Note:** Interested in JAX? Check out our [JAX+Flax version](https://uvadlc-notebooks.readthedocs.io/en/latest/tutorial_notebooks/JAX/tutorial12/Autoregressive_Image_Modeling.html) of this tutorial!\n",
    "    \n",
    "</div>"
   ]
  },
  {
   "cell_type": "markdown",
   "metadata": {},
   "source": [
    "In this tutorial, we implement an autoregressive likelihood model for the task of image modeling. Autoregressive models are naturally strong generative models that constitute one of the current state-of-the-art architectures on likelihood-based image modeling, and are also the basis for large language generation models such as GPT3. Similar to the language generation you have seen in assignment 2, autoregressive models work on images by modeling the likelihood of a pixel given all previous ones. For instance, in the picture below, we model the pixel $x_i$ as a conditional probability distribution based on all previous (here blue) pixels (figure credit - [Aaron van den Oord et al.](https://arxiv.org/abs/1601.06759)):\n",
    "\n",
    "<center width=\"100%\" style=\"padding: 10px\"><img src=\"autoregressive_image_modeling.svg\" width=\"200px\"></center>\n",
    "\n",
    "Generally, autoregressive model over high-dimensional data $\\mathbf{x}$ factor the joint distribution as the following product of conditionals:\n",
    "\n",
    "$$p(\\mathbf{x})=p(x_1, ..., x_n)=\\prod_{i=1}^{n} p(x_i|x_1,...,x_{i-1})$$\n",
    "\n",
    "Learning these conditionals is often much simpler than learning the joint distribution $p(\\mathbf{x})$ all together. However, disadvantages of autoregressive models include slow sampling, especially for large images, as we need height-times-width forward passes through the model. In addition, for some applications, we require a latent space as modeled in VAEs and Normalizing Flows. For instance, in autoregressive models, we cannot interpolate between two images because of the lack of a latent representation.\n",
    "We will explore and discuss these benefits and drawbacks alongside with our implementation.\n",
    "\n",
    "Our implementation will focus on the [PixelCNN](https://arxiv.org/pdf/1606.05328.pdf) [2] model which has been discussed in detail in the lecture. Most current SOTA models use PixelCNN as their fundamental architecture, and various additions have been proposed to improve the performance (e.g. [PixelCNN++](https://arxiv.org/pdf/1701.05517.pdf) and [PixelSNAIL](http://proceedings.mlr.press/v80/chen18h/chen18h.pdf)). Hence, implementing PixelCNN is a good starting point for our short tutorial. \n",
    "\n",
    "First of all, we need to import our standard libraries. Similarly as in the last couple of tutorials, we will use [PyTorch Lightning](https://pytorch-lightning.readthedocs.io/en/latest/) here as well."
   ]
  },
  {
   "cell_type": "code",
   "execution_count": 250,
   "metadata": {},
   "outputs": [
    {
     "name": "stderr",
     "output_type": "stream",
     "text": [
      "/tmp/ipykernel_37698/3242715609.py:11: DeprecationWarning: `set_matplotlib_formats` is deprecated since IPython 7.23, directly use `matplotlib_inline.backend_inline.set_matplotlib_formats()`\n",
      "  set_matplotlib_formats('svg', 'pdf') # For export\n",
      "Seed set to 42\n"
     ]
    },
    {
     "name": "stdout",
     "output_type": "stream",
     "text": [
      "Using device cuda:0\n"
     ]
    },
    {
     "data": {
      "text/plain": [
       "<Figure size 640x480 with 0 Axes>"
      ]
     },
     "metadata": {},
     "output_type": "display_data"
    }
   ],
   "source": [
    "## Standard libraries\n",
    "import os\n",
    "import math\n",
    "import numpy as np \n",
    "\n",
    "## Imports for plotting\n",
    "import matplotlib.pyplot as plt\n",
    "plt.set_cmap('cividis')\n",
    "%matplotlib inline \n",
    "from IPython.display import set_matplotlib_formats\n",
    "set_matplotlib_formats('svg', 'pdf') # For export\n",
    "from matplotlib.colors import to_rgb\n",
    "import seaborn as sns\n",
    "\n",
    "## Progress bar\n",
    "from tqdm.notebook import tqdm\n",
    "\n",
    "## PyTorch\n",
    "import torch\n",
    "import torch.nn as nn\n",
    "import torch.nn.functional as F\n",
    "import torch.utils.data as data\n",
    "import torch.optim as optim\n",
    "# Torchvision\n",
    "import torchvision\n",
    "from torchvision.datasets import MNIST\n",
    "from torchvision import transforms\n",
    "# PyTorch Lightning\n",
    "try:\n",
    "    import pytorch_lightning as pl\n",
    "except ModuleNotFoundError: # Google Colab does not have PyTorch Lightning installed by default. Hence, we do it here if necessary\n",
    "    !pip install --quiet pytorch-lightning>=1.4\n",
    "    import pytorch_lightning as pl\n",
    "from pytorch_lightning.callbacks import LearningRateMonitor, ModelCheckpoint\n",
    "\n",
    "# Path to the folder where the datasets are/should be downloaded (e.g. MNIST)\n",
    "DATASET_PATH = \"../data\"\n",
    "# Path to the folder where the pretrained models are saved\n",
    "CHECKPOINT_PATH = \"../saved_models/tutorial12\"\n",
    "\n",
    "# Setting the seed\n",
    "pl.seed_everything(42)\n",
    "\n",
    "# Ensure that all operations are deterministic on GPU (if used) for reproducibility\n",
    "torch.backends.cudnn.deterministic = True\n",
    "torch.backends.cudnn.benchmark = False\n",
    "\n",
    "# Fetching the device that will be used throughout this notebook\n",
    "device = torch.device(\"cpu\") if not torch.cuda.is_available() else torch.device(\"cuda:0\")\n",
    "print(\"Using device\", device)"
   ]
  },
  {
   "cell_type": "markdown",
   "metadata": {},
   "source": [
    "We again provide a pretrained model, which is downloaded below:"
   ]
  },
  {
   "cell_type": "code",
   "execution_count": 251,
   "metadata": {},
   "outputs": [],
   "source": [
    "import urllib.request\n",
    "from urllib.error import HTTPError\n",
    "# Github URL where saved models are stored for this tutorial\n",
    "base_url = \"https://raw.githubusercontent.com/phlippe/saved_models/main/tutorial12/\"\n",
    "# Files to download\n",
    "pretrained_files = [\"PixelCNN.ckpt\"]\n",
    "# Create checkpoint path if it doesn't exist yet\n",
    "os.makedirs(CHECKPOINT_PATH, exist_ok=True)\n",
    "\n",
    "# For each file, check whether it already exists. If not, try downloading it.\n",
    "for file_name in pretrained_files:\n",
    "    file_path = os.path.join(CHECKPOINT_PATH, file_name)\n",
    "    if not os.path.isfile(file_path):\n",
    "        file_url = base_url + file_name\n",
    "        print(f\"Downloading {file_url}...\")\n",
    "        try:\n",
    "            urllib.request.urlretrieve(file_url, file_path)\n",
    "        except HTTPError as e:\n",
    "            print(\"Something went wrong. Please try to download the file from the GDrive folder, or contact the author with the full output including the following error:\\n\", e)"
   ]
  },
  {
   "cell_type": "markdown",
   "metadata": {},
   "source": [
    "Similar to the Normalizing Flows in Tutorial 11, we will work on the MNIST dataset and use 8-bits per pixel (values between 0 and 255). The dataset is loaded below:"
   ]
  },
  {
   "cell_type": "code",
   "execution_count": 252,
   "metadata": {},
   "outputs": [
    {
     "name": "stderr",
     "output_type": "stream",
     "text": [
      "Seed set to 42\n"
     ]
    }
   ],
   "source": [
    "# Convert images from 0-1 to 0-255 (integers). We use the long datatype as we will use the images as labels as well\n",
    "def discretize(sample):\n",
    "    return (sample * 255).to(torch.long)\n",
    "\n",
    "# Transformations applied on each image => only make them a tensor\n",
    "transform = transforms.Compose([transforms.ToTensor(),\n",
    "                                discretize])\n",
    "\n",
    "# Loading the training dataset. We need to split it into a training and validation part\n",
    "train_dataset = MNIST(root=DATASET_PATH, train=True, transform=transform, download=True)\n",
    "pl.seed_everything(42)\n",
    "train_set, val_set = torch.utils.data.random_split(train_dataset, [50000, 10000])\n",
    "\n",
    "# Loading the test set\n",
    "test_set = MNIST(root=DATASET_PATH, train=False, transform=transform, download=True)\n",
    "\n",
    "# We define a set of data loaders that we can use for various purposes later.\n",
    "train_loader = data.DataLoader(train_set, batch_size=128, shuffle=True, drop_last=True, pin_memory=True, num_workers=4)\n",
    "val_loader = data.DataLoader(val_set, batch_size=128, shuffle=False, drop_last=False, num_workers=4)\n",
    "test_loader = data.DataLoader(test_set, batch_size=128, shuffle=False, drop_last=False, num_workers=4)"
   ]
  },
  {
   "cell_type": "markdown",
   "metadata": {},
   "source": [
    "A good practice is to always visualize some data examples to get an intuition of the data:"
   ]
  },
  {
   "cell_type": "code",
   "execution_count": 253,
   "metadata": {},
   "outputs": [
    {
     "data": {
      "application/pdf": "[encoded data removed]",
      "image/svg+xml": [
       "<?xml version=\"1.0\" encoding=\"utf-8\" standalone=\"no\"?>\n",
       "<!DOCTYPE svg PUBLIC \"-//W3C//DTD SVG 1.1//EN\"\n",
       "  \"http://www.w3.org/Graphics/SVG/1.1/DTD/svg11.dtd\">\n",
       "<svg xmlns:xlink=\"http://www.w3.org/1999/xlink\" width=\"341.674839pt\" height=\"180.72pt\" viewBox=\"0 0 341.674839 180.72\" xmlns=\"http://www.w3.org/2000/svg\" version=\"1.1\">\n",
       " <metadata>\n",
       "  <rdf:RDF xmlns:dc=\"http://purl.org/dc/elements/1.1/\" xmlns:cc=\"http://creativecommons.org/ns#\" xmlns:rdf=\"http://www.w3.org/1999/02/22-rdf-syntax-ns#\">\n",
       "   <cc:Work>\n",
       "    <dc:type rdf:resource=\"http://purl.org/dc/dcmitype/StillImage\"/>\n",
       "    <dc:date>2024-07-18T13:42:44.279694</dc:date>\n",
       "    <dc:format>image/svg+xml</dc:format>\n",
       "    <dc:creator>\n",
       "     <cc:Agent>\n",
       "      <dc:title>Matplotlib v3.7.1, https://matplotlib.org/</dc:title>\n",
       "     </cc:Agent>\n",
       "    </dc:creator>\n",
       "   </cc:Work>\n",
       "  </rdf:RDF>\n",
       " </metadata>\n",
       " <defs>\n",
       "  <style type=\"text/css\">*{stroke-linejoin: round; stroke-linecap: butt}</style>\n",
       " </defs>\n",
       " <g id=\"figure_1\">\n",
       "  <g id=\"patch_1\">\n",
       "   <path d=\"M 0 180.72 \n",
       "L 341.674839 180.72 \n",
       "L 341.674839 0 \n",
       "L 0 0 \n",
       "z\n",
       "\" style=\"fill: #ffffff\"/>\n",
       "  </g>\n",
       "  <g id=\"axes_1\">\n",
       "   <g clip-path=\"url(#pab40f98f6d)\">\n",
       "    <image xlink:href=\"data:image/png;base64,\n",
       "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\" id=\"imagee8eada788a\" transform=\"scale(1 -1) translate(0 -166.32)\" x=\"7.2\" y=\"-7.2\" width=\"327.6\" height=\"166.32\"/>\n",
       "   </g>\n",
       "  </g>\n",
       " </g>\n",
       " <defs>\n",
       "  <clipPath id=\"pab40f98f6d\">\n",
       "   <rect x=\"7.2\" y=\"7.2\" width=\"327.274839\" height=\"166.32\"/>\n",
       "  </clipPath>\n",
       " </defs>\n",
       "</svg>\n"
      ],
      "text/plain": [
       "<Figure size 600x300 with 1 Axes>"
      ]
     },
     "metadata": {},
     "output_type": "display_data"
    }
   ],
   "source": [
    "def show_imgs(imgs):\n",
    "    num_imgs = imgs.shape[0] if isinstance(imgs, torch.Tensor) else len(imgs)\n",
    "    nrow = min(num_imgs, 4)\n",
    "    ncol = int(math.ceil(num_imgs/nrow))\n",
    "    imgs = torchvision.utils.make_grid(imgs, nrow=nrow, pad_value=128)\n",
    "    imgs = imgs.clamp(min=0, max=255)\n",
    "    np_imgs = imgs.cpu().numpy()\n",
    "    plt.figure(figsize=(1.5*nrow, 1.5*ncol))\n",
    "    plt.imshow(np.transpose(np_imgs, (1,2,0)), interpolation='nearest')\n",
    "    plt.axis('off')\n",
    "    plt.show()\n",
    "    plt.close()\n",
    "\n",
    "show_imgs([train_set[i][0] for i in range(8)])"
   ]
  },
  {
   "cell_type": "markdown",
   "metadata": {},
   "source": [
    "## Masked autoregressive convolutions\n",
    "\n",
    "The core module of PixelCNN is its masked convolutions. In contrast to language models, we don't apply an LSTM on each pixel one-by-one. This would be inefficient because images are grids instead of sequences. Thus, it is better to rely on convolutions that have shown great success in deep CNN classification models.\n",
    "\n",
    "Nevertheless, we cannot just apply standard convolutions without any changes.\n",
    "Remember that during training of autoregressive models, we want to use teacher forcing which both helps the model training, and significantly reduces the time needed for training. For image modeling, teacher forcing is implemented by using a training image as input to the model, and we want to obtain as output the prediction for each pixel based on *only* its predecessors.\n",
    "Thus, we need to ensure that the prediction for a specific pixel can only be influenced by its predecessors and not by its own value or any \"future\" pixels.\n",
    "For this, we apply convolutions with a mask. \n",
    "\n",
    "Which mask we use depends on the ordering of pixels we decide on, i.e. which is the first pixel we predict, which is the second one, etc.\n",
    "The most commonly used ordering is to denote the upper left pixel as the start pixel, and sort the pixels row by row, as shown in the visualization at the top of the tutorial.\n",
    "Thus, the second pixel is on the right of the first one (first row, second column), and once we reach the end of the row, we start in the second row, first column.\n",
    "If we now want to apply this to our convolutions, we need to ensure that the prediction of pixel 1 is not influenced by its own \"true\" input, and all pixels on its right and in any lower row. In convolutions, this means that we want to set those entries of the weight matrix to zero that take pixels on the right and below into account. As an example for a 5x5 kernel, see a mask below (figure credit - [Aaron van den Oord](https://arxiv.org/pdf/1606.05328.pdf)):\n",
    "\n",
    "<center width=\"100%\" style=\"padding: 10px\"><img src=\"masked_convolution.svg\" width=\"150px\"></center>\n",
    "\n",
    "Before looking into the application of masked convolutions in PixelCNN in detail, let's first implement a module that allows us to apply an arbitrary mask to a convolution:"
   ]
  },
  {
   "cell_type": "code",
   "execution_count": 254,
   "metadata": {},
   "outputs": [],
   "source": [
    "class MaskedConvolution(nn.Module):\n",
    "    \n",
    "    def __init__(self, c_in, c_out, mask, **kwargs):\n",
    "        \"\"\"\n",
    "        Implements a convolution with mask applied on its weights.\n",
    "        Inputs:\n",
    "            c_in - Number of input channels\n",
    "            c_out - Number of output channels\n",
    "            mask - Tensor of shape [kernel_size_H, kernel_size_W] with 0s where\n",
    "                   the convolution should be masked, and 1s otherwise.\n",
    "            kwargs - Additional arguments for the convolution\n",
    "        \"\"\"\n",
    "        super().__init__()\n",
    "        # For simplicity: calculate padding automatically \n",
    "        kernel_size = (mask.shape[0], mask.shape[1])\n",
    "        dilation = 1 if \"dilation\" not in kwargs else kwargs[\"dilation\"]\n",
    "        padding = tuple([dilation*(kernel_size[i]-1)//2 for i in range(2)])\n",
    "        # Actual convolution\n",
    "        self.conv = nn.Conv2d(c_in, c_out, kernel_size, padding=padding, **kwargs)\n",
    "        \n",
    "        # Mask as buffer => it is no parameter but still a tensor of the module \n",
    "        # (must be moved with the devices)\n",
    "        self.register_buffer('mask', mask[None,None])\n",
    "        \n",
    "    def forward(self, x):\n",
    "        self.conv.weight.data *= self.mask # Ensures zero's at masked positions\n",
    "        return self.conv(x)"
   ]
  },
  {
   "cell_type": "markdown",
   "metadata": {},
   "source": [
    "### Vertical and horizontal convolution stacks\n",
    "\n",
    "To build our own autoregressive image model, we could simply stack a few masked convolutions on top of each other.\n",
    "This was actually the case for the original PixelCNN model, discussed in the paper [Pixel Recurrent Neural Networks](https://arxiv.org/pdf/1601.06759.pdf), but this leads to a considerable issue.\n",
    "When sequentially applying a couple of masked convolutions, the receptive field of a pixel show to have a \"blind spot\" on the right upper side, as shown in the figure below (figure credit - [Aaron van den Oord et al.](https://arxiv.org/pdf/1606.05328.pdf)): \n",
    "\n",
    "<center width=\"100%\" style=\"padding: 10px\"><img src=\"pixelcnn_blind_spot.svg\" width=\"275px\"></center>\n",
    "\n",
    "Although a pixel should be able to take into account all other pixels above and left of it, a stack of masked convolutions does not allow us to look to the upper pixels on the right. This is because the features of the pixels above, which we use for convolution, do not contain any information of the pixels on the right of the same row. If they would, we would be \"cheating\" and actually looking into the future. To overcome this issue, van den Oord et. al [2] proposed to split the convolutions into a vertical and a horizontal stack. The vertical stack looks at all pixels above the current one, while the horizontal takes into account all on the left. While keeping both of them separate, we can actually look at the pixels on the right with the vertical stack without breaking any of our assumptions. The two convolutions are also shown in the figure above.\n",
    "\n",
    "Let us implement them here as follows:"
   ]
  },
  {
   "cell_type": "code",
   "execution_count": 255,
   "metadata": {},
   "outputs": [],
   "source": [
    "class VerticalStackConvolution(MaskedConvolution):\n",
    "    \n",
    "    def __init__(self, c_in, c_out, kernel_size=3, mask_center=False, **kwargs):\n",
    "        # Mask out all pixels below. For efficiency, we could also reduce the kernel\n",
    "        # size in height, but for simplicity, we stick with masking here.\n",
    "        mask = torch.ones(kernel_size, kernel_size)\n",
    "        mask[kernel_size//2+1:,:] = 0\n",
    "        \n",
    "        # For the very first convolution, we will also mask the center row\n",
    "        if mask_center:\n",
    "            mask[kernel_size//2,:] = 0\n",
    "        \n",
    "        super().__init__(c_in, c_out, mask, **kwargs)\n",
    "        \n",
    "class HorizontalStackConvolution(MaskedConvolution):\n",
    "    \n",
    "    def __init__(self, c_in, c_out, kernel_size=3, mask_center=False, **kwargs):\n",
    "        # Mask out all pixels on the left. Note that our kernel has a size of 1\n",
    "        # in height because we only look at the pixel in the same row.\n",
    "        mask = torch.ones(1,kernel_size)\n",
    "        mask[0,kernel_size//2+1:] = 0\n",
    "        \n",
    "        # For the very first convolution, we will also mask the center pixel\n",
    "        if mask_center:\n",
    "            mask[0,kernel_size//2] = 0\n",
    "        \n",
    "        super().__init__(c_in, c_out, mask, **kwargs)"
   ]
  },
  {
   "cell_type": "markdown",
   "metadata": {},
   "source": [
    "Note that we have an input argument called `mask_center`. Remember that the input to the model is the actual input image. Hence, the very first convolution we apply cannot use the center pixel as input, but must be masked. All consecutive convolutions, however, should use the center pixel as we otherwise lose the features of the previous layer. Hence, the input argument `mask_center` is True for the very first convolutions, and False for all others."
   ]
  },
  {
   "cell_type": "markdown",
   "metadata": {},
   "source": [
    "### Visualizing the receptive field\n",
    "\n",
    "To validate our implementation of masked convolutions, we can visualize the receptive field we obtain with such convolutions. \n",
    "We should see that with increasing number of convolutional layers, the receptive field grows in both vertical and horizontal direction, without the issue of a blind spot.\n",
    "The receptive field can be empirically measured by backpropagating an arbitrary loss for the output features of a speicifc pixel with respect to the input.\n",
    "We implement this idea below, and visualize the receptive field below."
   ]
  },
  {
   "cell_type": "code",
   "execution_count": 256,
   "metadata": {},
   "outputs": [
    {
     "data": {
      "application/pdf": "[encoded data removed]",
      "image/svg+xml": [
       "<?xml version=\"1.0\" encoding=\"utf-8\" standalone=\"no\"?>\n",
       "<!DOCTYPE svg PUBLIC \"-//W3C//DTD SVG 1.1//EN\"\n",
       "  \"http://www.w3.org/Graphics/SVG/1.1/DTD/svg11.dtd\">\n",
       "<svg xmlns:xlink=\"http://www.w3.org/1999/xlink\" width=\"371.52pt\" height=\"191.845398pt\" viewBox=\"0 0 371.52 191.845398\" xmlns=\"http://www.w3.org/2000/svg\" version=\"1.1\">\n",
       " <metadata>\n",
       "  <rdf:RDF xmlns:dc=\"http://purl.org/dc/elements/1.1/\" xmlns:cc=\"http://creativecommons.org/ns#\" xmlns:rdf=\"http://www.w3.org/1999/02/22-rdf-syntax-ns#\">\n",
       "   <cc:Work>\n",
       "    <dc:type rdf:resource=\"http://purl.org/dc/dcmitype/StillImage\"/>\n",
       "    <dc:date>2024-07-18T13:42:44.472668</dc:date>\n",
       "    <dc:format>image/svg+xml</dc:format>\n",
       "    <dc:creator>\n",
       "     <cc:Agent>\n",
       "      <dc:title>Matplotlib v3.7.1, https://matplotlib.org/</dc:title>\n",
       "     </cc:Agent>\n",
       "    </dc:creator>\n",
       "   </cc:Work>\n",
       "  </rdf:RDF>\n",
       " </metadata>\n",
       " <defs>\n",
       "  <style type=\"text/css\">*{stroke-linejoin: round; stroke-linecap: butt}</style>\n",
       " </defs>\n",
       " <g id=\"figure_1\">\n",
       "  <g id=\"patch_1\">\n",
       "   <path d=\"M 0 191.845398 \n",
       "L 371.52 191.845398 \n",
       "L 371.52 -0 \n",
       "L 0 -0 \n",
       "z\n",
       "\" style=\"fill: #ffffff\"/>\n",
       "  </g>\n",
       "  <g id=\"axes_1\">\n",
       "   <g clip-path=\"url(#p365b907daf)\">\n",
       "    <image xlink:href=\"data:image/png;base64,\n",
       "iVBORw0KGgoAAAANSUhEUgAAAOIAAADiCAYAAABTEBvXAAACyklEQVR4nO3cSw3DQAxAwfSDIQBKIxgKO2TCIUoQ9LbSPqkzACxfnnzzY/l8rwWY6jl7AUCIkCBECBAiBAgRAoQIAUKEACFCgBAhQIgQIEQIECIECBEChAgBQoQAIUKAECFAiBAgRAgQIgQIEQKECAFChAAhQoAQIUCIECBECBAiBAgRAoQIAUKEACFCgBAhQIgQIEQIECIECBEChAgBQoQAIUKAECFAiBAgRAgQIgQIEQKECAFChAAhQoAQIUCIECBECBAiBAgRAoQIAUKEACFCgBAhQIgQIEQIECIECBEChAgBQoQAIUKAECFAiBAgRAgQIgQIEQKECAFChAAhQoAQIUCIECBECBAiBAgRAoQIAUKEACFCgBAhQIgQIEQIECIECBEChAgBQoQAIUKAECFAiBAgRAgQIgQIEQKECAFChAAhQoAQIUCIECBECBAiBAgRAoQIAe/ZC/DbuR9D5722deg8xnERIUCIECBECBAiBAgRAoQIAUKEACFCgBAhQIgQIEQIECIECBEChAgBQoQAIUKAECFAiBAgRAjwsybMj5n/4SJCgBAhQIgQIEQIECIECBEChAgBQoQAIUKAECFAiBAgRAgQIgQIEQKECAFChAAhQoAQIUCIECBECBAiBAgRAoQIAUKEACFCgBAhQIgQIEQIECIECBEChAgBQoQAIUKAECFAiBAgRAgQIgQIEQKECAFChAAhQoAQIUCIECBECBAiBAgRAoQIAUKEACFCgBAhQIgQIEQIECIECBEChAgBQoQAIUKAECFAiBAgRAgQIgQIEQKECAFChAAhQoAQIUCIECBECBAiBAgRAoQIAUKEACFCgBAhQIgQIEQIECIECBEChAgBQoQAIUKAECFAiBAgRAgQIgQIEQKECAFChAAhQoAQIUCIECBECBAiBAgRAoQIAUKEACFCgBAhQIgQIEQIECIECBECbh5EBoqjRsCtAAAAAElFTkSuQmCC\" id=\"image940dfb2376\" transform=\"scale(1 -1) translate(0 -162.72)\" x=\"7.2\" y=\"-21.925398\" width=\"162.72\" height=\"162.72\"/>\n",
       "   </g>\n",
       "   <g id=\"text_1\">\n",
       "    <!-- Weighted receptive field -->\n",
       "    <g transform=\"translate(15.113949 16.318125) scale(0.12 -0.12)\">\n",
       "     <defs>\n",
       "      <path id=\"DejaVuSans-57\" d=\"M 213 4666 \n",
       "L 850 4666 \n",
       "L 1831 722 \n",
       "L 2809 4666 \n",
       "L 3519 4666 \n",
       "L 4500 722 \n",
       "L 5478 4666 \n",
       "L 6119 4666 \n",
       "L 4947 0 \n",
       "L 4153 0 \n",
       "L 3169 4050 \n",
       "L 2175 0 \n",
       "L 1381 0 \n",
       "L 213 4666 \n",
       "z\n",
       "\" transform=\"scale(0.015625)\"/>\n",
       "      <path id=\"DejaVuSans-65\" d=\"M 3597 1894 \n",
       "L 3597 1613 \n",
       "L 953 1613 \n",
       "Q 991 1019 1311 708 \n",
       "Q 1631 397 2203 397 \n",
       "Q 2534 397 2845 478 \n",
       "Q 3156 559 3463 722 \n",
       "L 3463 178 \n",
       "Q 3153 47 2828 -22 \n",
       "Q 2503 -91 2169 -91 \n",
       "Q 1331 -91 842 396 \n",
       "Q 353 884 353 1716 \n",
       "Q 353 2575 817 3079 \n",
       "Q 1281 3584 2069 3584 \n",
       "Q 2775 3584 3186 3129 \n",
       "Q 3597 2675 3597 1894 \n",
       "z\n",
       "M 3022 2063 \n",
       "Q 3016 2534 2758 2815 \n",
       "Q 2500 3097 2075 3097 \n",
       "Q 1594 3097 1305 2825 \n",
       "Q 1016 2553 972 2059 \n",
       "L 3022 2063 \n",
       "z\n",
       "\" transform=\"scale(0.015625)\"/>\n",
       "      <path id=\"DejaVuSans-69\" d=\"M 603 3500 \n",
       "L 1178 3500 \n",
       "L 1178 0 \n",
       "L 603 0 \n",
       "L 603 3500 \n",
       "z\n",
       "M 603 4863 \n",
       "L 1178 4863 \n",
       "L 1178 4134 \n",
       "L 603 4134 \n",
       "L 603 4863 \n",
       "z\n",
       "\" transform=\"scale(0.015625)\"/>\n",
       "      <path id=\"DejaVuSans-67\" d=\"M 2906 1791 \n",
       "Q 2906 2416 2648 2759 \n",
       "Q 2391 3103 1925 3103 \n",
       "Q 1463 3103 1205 2759 \n",
       "Q 947 2416 947 1791 \n",
       "Q 947 1169 1205 825 \n",
       "Q 1463 481 1925 481 \n",
       "Q 2391 481 2648 825 \n",
       "Q 2906 1169 2906 1791 \n",
       "z\n",
       "M 3481 434 \n",
       "Q 3481 -459 3084 -895 \n",
       "Q 2688 -1331 1869 -1331 \n",
       "Q 1566 -1331 1297 -1286 \n",
       "Q 1028 -1241 775 -1147 \n",
       "L 775 -588 \n",
       "Q 1028 -725 1275 -790 \n",
       "Q 1522 -856 1778 -856 \n",
       "Q 2344 -856 2625 -561 \n",
       "Q 2906 -266 2906 331 \n",
       "L 2906 616 \n",
       "Q 2728 306 2450 153 \n",
       "Q 2172 0 1784 0 \n",
       "Q 1141 0 747 490 \n",
       "Q 353 981 353 1791 \n",
       "Q 353 2603 747 3093 \n",
       "Q 1141 3584 1784 3584 \n",
       "Q 2172 3584 2450 3431 \n",
       "Q 2728 3278 2906 2969 \n",
       "L 2906 3500 \n",
       "L 3481 3500 \n",
       "L 3481 434 \n",
       "z\n",
       "\" transform=\"scale(0.015625)\"/>\n",
       "      <path id=\"DejaVuSans-68\" d=\"M 3513 2113 \n",
       "L 3513 0 \n",
       "L 2938 0 \n",
       "L 2938 2094 \n",
       "Q 2938 2591 2744 2837 \n",
       "Q 2550 3084 2163 3084 \n",
       "Q 1697 3084 1428 2787 \n",
       "Q 1159 2491 1159 1978 \n",
       "L 1159 0 \n",
       "L 581 0 \n",
       "L 581 4863 \n",
       "L 1159 4863 \n",
       "L 1159 2956 \n",
       "Q 1366 3272 1645 3428 \n",
       "Q 1925 3584 2291 3584 \n",
       "Q 2894 3584 3203 3211 \n",
       "Q 3513 2838 3513 2113 \n",
       "z\n",
       "\" transform=\"scale(0.015625)\"/>\n",
       "      <path id=\"DejaVuSans-74\" d=\"M 1172 4494 \n",
       "L 1172 3500 \n",
       "L 2356 3500 \n",
       "L 2356 3053 \n",
       "L 1172 3053 \n",
       "L 1172 1153 \n",
       "Q 1172 725 1289 603 \n",
       "Q 1406 481 1766 481 \n",
       "L 2356 481 \n",
       "L 2356 0 \n",
       "L 1766 0 \n",
       "Q 1100 0 847 248 \n",
       "Q 594 497 594 1153 \n",
       "L 594 3053 \n",
       "L 172 3053 \n",
       "L 172 3500 \n",
       "L 594 3500 \n",
       "L 594 4494 \n",
       "L 1172 4494 \n",
       "z\n",
       "\" transform=\"scale(0.015625)\"/>\n",
       "      <path id=\"DejaVuSans-64\" d=\"M 2906 2969 \n",
       "L 2906 4863 \n",
       "L 3481 4863 \n",
       "L 3481 0 \n",
       "L 2906 0 \n",
       "L 2906 525 \n",
       "Q 2725 213 2448 61 \n",
       "Q 2172 -91 1784 -91 \n",
       "Q 1150 -91 751 415 \n",
       "Q 353 922 353 1747 \n",
       "Q 353 2572 751 3078 \n",
       "Q 1150 3584 1784 3584 \n",
       "Q 2172 3584 2448 3432 \n",
       "Q 2725 3281 2906 2969 \n",
       "z\n",
       "M 947 1747 \n",
       "Q 947 1113 1208 752 \n",
       "Q 1469 391 1925 391 \n",
       "Q 2381 391 2643 752 \n",
       "Q 2906 1113 2906 1747 \n",
       "Q 2906 2381 2643 2742 \n",
       "Q 2381 3103 1925 3103 \n",
       "Q 1469 3103 1208 2742 \n",
       "Q 947 2381 947 1747 \n",
       "z\n",
       "\" transform=\"scale(0.015625)\"/>\n",
       "      <path id=\"DejaVuSans-20\" transform=\"scale(0.015625)\"/>\n",
       "      <path id=\"DejaVuSans-72\" d=\"M 2631 2963 \n",
       "Q 2534 3019 2420 3045 \n",
       "Q 2306 3072 2169 3072 \n",
       "Q 1681 3072 1420 2755 \n",
       "Q 1159 2438 1159 1844 \n",
       "L 1159 0 \n",
       "L 581 0 \n",
       "L 581 3500 \n",
       "L 1159 3500 \n",
       "L 1159 2956 \n",
       "Q 1341 3275 1631 3429 \n",
       "Q 1922 3584 2338 3584 \n",
       "Q 2397 3584 2469 3576 \n",
       "Q 2541 3569 2628 3553 \n",
       "L 2631 2963 \n",
       "z\n",
       "\" transform=\"scale(0.015625)\"/>\n",
       "      <path id=\"DejaVuSans-63\" d=\"M 3122 3366 \n",
       "L 3122 2828 \n",
       "Q 2878 2963 2633 3030 \n",
       "Q 2388 3097 2138 3097 \n",
       "Q 1578 3097 1268 2742 \n",
       "Q 959 2388 959 1747 \n",
       "Q 959 1106 1268 751 \n",
       "Q 1578 397 2138 397 \n",
       "Q 2388 397 2633 464 \n",
       "Q 2878 531 3122 666 \n",
       "L 3122 134 \n",
       "Q 2881 22 2623 -34 \n",
       "Q 2366 -91 2075 -91 \n",
       "Q 1284 -91 818 406 \n",
       "Q 353 903 353 1747 \n",
       "Q 353 2603 823 3093 \n",
       "Q 1294 3584 2113 3584 \n",
       "Q 2378 3584 2631 3529 \n",
       "Q 2884 3475 3122 3366 \n",
       "z\n",
       "\" transform=\"scale(0.015625)\"/>\n",
       "      <path id=\"DejaVuSans-70\" d=\"M 1159 525 \n",
       "L 1159 -1331 \n",
       "L 581 -1331 \n",
       "L 581 3500 \n",
       "L 1159 3500 \n",
       "L 1159 2969 \n",
       "Q 1341 3281 1617 3432 \n",
       "Q 1894 3584 2278 3584 \n",
       "Q 2916 3584 3314 3078 \n",
       "Q 3713 2572 3713 1747 \n",
       "Q 3713 922 3314 415 \n",
       "Q 2916 -91 2278 -91 \n",
       "Q 1894 -91 1617 61 \n",
       "Q 1341 213 1159 525 \n",
       "z\n",
       "M 3116 1747 \n",
       "Q 3116 2381 2855 2742 \n",
       "Q 2594 3103 2138 3103 \n",
       "Q 1681 3103 1420 2742 \n",
       "Q 1159 2381 1159 1747 \n",
       "Q 1159 1113 1420 752 \n",
       "Q 1681 391 2138 391 \n",
       "Q 2594 391 2855 752 \n",
       "Q 3116 1113 3116 1747 \n",
       "z\n",
       "\" transform=\"scale(0.015625)\"/>\n",
       "      <path id=\"DejaVuSans-76\" d=\"M 191 3500 \n",
       "L 800 3500 \n",
       "L 1894 563 \n",
       "L 2988 3500 \n",
       "L 3597 3500 \n",
       "L 2284 0 \n",
       "L 1503 0 \n",
       "L 191 3500 \n",
       "z\n",
       "\" transform=\"scale(0.015625)\"/>\n",
       "      <path id=\"DejaVuSans-66\" d=\"M 2375 4863 \n",
       "L 2375 4384 \n",
       "L 1825 4384 \n",
       "Q 1516 4384 1395 4259 \n",
       "Q 1275 4134 1275 3809 \n",
       "L 1275 3500 \n",
       "L 2222 3500 \n",
       "L 2222 3053 \n",
       "L 1275 3053 \n",
       "L 1275 0 \n",
       "L 697 0 \n",
       "L 697 3053 \n",
       "L 147 3053 \n",
       "L 147 3500 \n",
       "L 697 3500 \n",
       "L 697 3744 \n",
       "Q 697 4328 969 4595 \n",
       "Q 1241 4863 1831 4863 \n",
       "L 2375 4863 \n",
       "z\n",
       "\" transform=\"scale(0.015625)\"/>\n",
       "      <path id=\"DejaVuSans-6c\" d=\"M 603 4863 \n",
       "L 1178 4863 \n",
       "L 1178 0 \n",
       "L 603 0 \n",
       "L 603 4863 \n",
       "z\n",
       "\" transform=\"scale(0.015625)\"/>\n",
       "     </defs>\n",
       "     <use xlink:href=\"#DejaVuSans-57\"/>\n",
       "     <use xlink:href=\"#DejaVuSans-65\" x=\"93.001953\"/>\n",
       "     <use xlink:href=\"#DejaVuSans-69\" x=\"154.525391\"/>\n",
       "     <use xlink:href=\"#DejaVuSans-67\" x=\"182.308594\"/>\n",
       "     <use xlink:href=\"#DejaVuSans-68\" x=\"245.785156\"/>\n",
       "     <use xlink:href=\"#DejaVuSans-74\" x=\"309.164062\"/>\n",
       "     <use xlink:href=\"#DejaVuSans-65\" x=\"348.373047\"/>\n",
       "     <use xlink:href=\"#DejaVuSans-64\" x=\"409.896484\"/>\n",
       "     <use xlink:href=\"#DejaVuSans-20\" x=\"473.373047\"/>\n",
       "     <use xlink:href=\"#DejaVuSans-72\" x=\"505.160156\"/>\n",
       "     <use xlink:href=\"#DejaVuSans-65\" x=\"544.023438\"/>\n",
       "     <use xlink:href=\"#DejaVuSans-63\" x=\"605.546875\"/>\n",
       "     <use xlink:href=\"#DejaVuSans-65\" x=\"660.527344\"/>\n",
       "     <use xlink:href=\"#DejaVuSans-70\" x=\"722.050781\"/>\n",
       "     <use xlink:href=\"#DejaVuSans-74\" x=\"785.527344\"/>\n",
       "     <use xlink:href=\"#DejaVuSans-69\" x=\"824.736328\"/>\n",
       "     <use xlink:href=\"#DejaVuSans-76\" x=\"852.519531\"/>\n",
       "     <use xlink:href=\"#DejaVuSans-65\" x=\"911.699219\"/>\n",
       "     <use xlink:href=\"#DejaVuSans-20\" x=\"973.222656\"/>\n",
       "     <use xlink:href=\"#DejaVuSans-66\" x=\"1005.009766\"/>\n",
       "     <use xlink:href=\"#DejaVuSans-69\" x=\"1040.214844\"/>\n",
       "     <use xlink:href=\"#DejaVuSans-65\" x=\"1067.998047\"/>\n",
       "     <use xlink:href=\"#DejaVuSans-6c\" x=\"1129.521484\"/>\n",
       "     <use xlink:href=\"#DejaVuSans-64\" x=\"1157.304688\"/>\n",
       "    </g>\n",
       "   </g>\n",
       "  </g>\n",
       "  <g id=\"axes_2\">\n",
       "   <g clip-path=\"url(#p6291a40efa)\">\n",
       "    <image xlink:href=\"data:image/png;base64,\n",
       "iVBORw0KGgoAAAANSUhEUgAAAOIAAADiCAYAAABTEBvXAAACyklEQVR4nO3cSw3DQAxAwfSDIQBKIxgKO2TCIUoQ9LbSPqkzACxfnnzzY/l8rwWY6jl7AUCIkCBECBAiBAgRAoQIAUKEACFCgBAhQIgQIEQIECIECBEChAgBQoQAIUKAECFAiBAgRAgQIgQIEQKECAFChAAhQoAQIUCIECBECBAiBAgRAoQIAUKEACFCgBAhQIgQIEQIECIECBEChAgBQoQAIUKAECFAiBAgRAgQIgQIEQKECAFChAAhQoAQIUCIECBECBAiBAgRAoQIAUKEACFCgBAhQIgQIEQIECIECBEChAgBQoQAIUKAECFAiBAgRAgQIgQIEQKECAFChAAhQoAQIUCIECBECBAiBAgRAoQIAUKEACFCgBAhQIgQIEQIECIECBEChAgBQoQAIUKAECFAiBAgRAgQIgQIEQKECAFChAAhQoAQIUCIECBECBAiBAgRAoQIAe/ZC/DbuR9D5722deg8xnERIUCIECBECBAiBAgRAoQIAUKEACFCgBAhQIgQIEQIECIECBEChAgBQoQAIUKAECFAiBAgRAjwsybMj5n/4SJCgBAhQIgQIEQIECIECBEChAgBQoQAIUKAECFAiBAgRAgQIgQIEQKECAFChAAhQoAQIUCIECBECBAiBAgRAoQIAUKEACFCgBAhQIgQIEQIECIECBEChAgBQoQAIUKAECFAiBAgRAgQIgQIEQKECAFChAAhQoAQIUCIECBECBAiBAgRAoQIAUKEACFCgBAhQIgQIEQIECIECBEChAgBQoQAIUKAECFAiBAgRAgQIgQIEQKECAFChAAhQoAQIUCIECBECBAiBAgRAoQIAUKEACFCgBAhQIgQIEQIECIECBEChAgBQoQAIUKAECFAiBAgRAgQIgQIEQKECAFChAAhQoAQIUCIECBECBAiBAgRAoQIAUKEACFCgBAhQIgQIEQIECIECBECbh5EBoqjRsCtAAAAAElFTkSuQmCC\" id=\"image018ad0458c\" transform=\"scale(1 -1) translate(0 -162.72)\" x=\"201.992727\" y=\"-21.925398\" width=\"162.72\" height=\"162.72\"/>\n",
       "   </g>\n",
       "   <g id=\"text_2\">\n",
       "    <!-- Binary receptive field -->\n",
       "    <g transform=\"translate(219.029489 16.318125) scale(0.12 -0.12)\">\n",
       "     <defs>\n",
       "      <path id=\"DejaVuSans-42\" d=\"M 1259 2228 \n",
       "L 1259 519 \n",
       "L 2272 519 \n",
       "Q 2781 519 3026 730 \n",
       "Q 3272 941 3272 1375 \n",
       "Q 3272 1813 3026 2020 \n",
       "Q 2781 2228 2272 2228 \n",
       "L 1259 2228 \n",
       "z\n",
       "M 1259 4147 \n",
       "L 1259 2741 \n",
       "L 2194 2741 \n",
       "Q 2656 2741 2882 2914 \n",
       "Q 3109 3088 3109 3444 \n",
       "Q 3109 3797 2882 3972 \n",
       "Q 2656 4147 2194 4147 \n",
       "L 1259 4147 \n",
       "z\n",
       "M 628 4666 \n",
       "L 2241 4666 \n",
       "Q 2963 4666 3353 4366 \n",
       "Q 3744 4066 3744 3513 \n",
       "Q 3744 3084 3544 2831 \n",
       "Q 3344 2578 2956 2516 \n",
       "Q 3422 2416 3680 2098 \n",
       "Q 3938 1781 3938 1306 \n",
       "Q 3938 681 3513 340 \n",
       "Q 3088 0 2303 0 \n",
       "L 628 0 \n",
       "L 628 4666 \n",
       "z\n",
       "\" transform=\"scale(0.015625)\"/>\n",
       "      <path id=\"DejaVuSans-6e\" d=\"M 3513 2113 \n",
       "L 3513 0 \n",
       "L 2938 0 \n",
       "L 2938 2094 \n",
       "Q 2938 2591 2744 2837 \n",
       "Q 2550 3084 2163 3084 \n",
       "Q 1697 3084 1428 2787 \n",
       "Q 1159 2491 1159 1978 \n",
       "L 1159 0 \n",
       "L 581 0 \n",
       "L 581 3500 \n",
       "L 1159 3500 \n",
       "L 1159 2956 \n",
       "Q 1366 3272 1645 3428 \n",
       "Q 1925 3584 2291 3584 \n",
       "Q 2894 3584 3203 3211 \n",
       "Q 3513 2838 3513 2113 \n",
       "z\n",
       "\" transform=\"scale(0.015625)\"/>\n",
       "      <path id=\"DejaVuSans-61\" d=\"M 2194 1759 \n",
       "Q 1497 1759 1228 1600 \n",
       "Q 959 1441 959 1056 \n",
       "Q 959 750 1161 570 \n",
       "Q 1363 391 1709 391 \n",
       "Q 2188 391 2477 730 \n",
       "Q 2766 1069 2766 1631 \n",
       "L 2766 1759 \n",
       "L 2194 1759 \n",
       "z\n",
       "M 3341 1997 \n",
       "L 3341 0 \n",
       "L 2766 0 \n",
       "L 2766 531 \n",
       "Q 2569 213 2275 61 \n",
       "Q 1981 -91 1556 -91 \n",
       "Q 1019 -91 701 211 \n",
       "Q 384 513 384 1019 \n",
       "Q 384 1609 779 1909 \n",
       "Q 1175 2209 1959 2209 \n",
       "L 2766 2209 \n",
       "L 2766 2266 \n",
       "Q 2766 2663 2505 2880 \n",
       "Q 2244 3097 1772 3097 \n",
       "Q 1472 3097 1187 3025 \n",
       "Q 903 2953 641 2809 \n",
       "L 641 3341 \n",
       "Q 956 3463 1253 3523 \n",
       "Q 1550 3584 1831 3584 \n",
       "Q 2591 3584 2966 3190 \n",
       "Q 3341 2797 3341 1997 \n",
       "z\n",
       "\" transform=\"scale(0.015625)\"/>\n",
       "      <path id=\"DejaVuSans-79\" d=\"M 2059 -325 \n",
       "Q 1816 -950 1584 -1140 \n",
       "Q 1353 -1331 966 -1331 \n",
       "L 506 -1331 \n",
       "L 506 -850 \n",
       "L 844 -850 \n",
       "Q 1081 -850 1212 -737 \n",
       "Q 1344 -625 1503 -206 \n",
       "L 1606 56 \n",
       "L 191 3500 \n",
       "L 800 3500 \n",
       "L 1894 763 \n",
       "L 2988 3500 \n",
       "L 3597 3500 \n",
       "L 2059 -325 \n",
       "z\n",
       "\" transform=\"scale(0.015625)\"/>\n",
       "     </defs>\n",
       "     <use xlink:href=\"#DejaVuSans-42\"/>\n",
       "     <use xlink:href=\"#DejaVuSans-69\" x=\"68.603516\"/>\n",
       "     <use xlink:href=\"#DejaVuSans-6e\" x=\"96.386719\"/>\n",
       "     <use xlink:href=\"#DejaVuSans-61\" x=\"159.765625\"/>\n",
       "     <use xlink:href=\"#DejaVuSans-72\" x=\"221.044922\"/>\n",
       "     <use xlink:href=\"#DejaVuSans-79\" x=\"262.158203\"/>\n",
       "     <use xlink:href=\"#DejaVuSans-20\" x=\"321.337891\"/>\n",
       "     <use xlink:href=\"#DejaVuSans-72\" x=\"353.125\"/>\n",
       "     <use xlink:href=\"#DejaVuSans-65\" x=\"391.988281\"/>\n",
       "     <use xlink:href=\"#DejaVuSans-63\" x=\"453.511719\"/>\n",
       "     <use xlink:href=\"#DejaVuSans-65\" x=\"508.492188\"/>\n",
       "     <use xlink:href=\"#DejaVuSans-70\" x=\"570.015625\"/>\n",
       "     <use xlink:href=\"#DejaVuSans-74\" x=\"633.492188\"/>\n",
       "     <use xlink:href=\"#DejaVuSans-69\" x=\"672.701172\"/>\n",
       "     <use xlink:href=\"#DejaVuSans-76\" x=\"700.484375\"/>\n",
       "     <use xlink:href=\"#DejaVuSans-65\" x=\"759.664062\"/>\n",
       "     <use xlink:href=\"#DejaVuSans-20\" x=\"821.1875\"/>\n",
       "     <use xlink:href=\"#DejaVuSans-66\" x=\"852.974609\"/>\n",
       "     <use xlink:href=\"#DejaVuSans-69\" x=\"888.179688\"/>\n",
       "     <use xlink:href=\"#DejaVuSans-65\" x=\"915.962891\"/>\n",
       "     <use xlink:href=\"#DejaVuSans-6c\" x=\"977.486328\"/>\n",
       "     <use xlink:href=\"#DejaVuSans-64\" x=\"1005.269531\"/>\n",
       "    </g>\n",
       "   </g>\n",
       "  </g>\n",
       " </g>\n",
       " <defs>\n",
       "  <clipPath id=\"p365b907daf\">\n",
       "   <rect x=\"7.2\" y=\"22.318125\" width=\"162.327273\" height=\"162.327273\"/>\n",
       "  </clipPath>\n",
       "  <clipPath id=\"p6291a40efa\">\n",
       "   <rect x=\"201.992727\" y=\"22.318125\" width=\"162.327273\" height=\"162.327273\"/>\n",
       "  </clipPath>\n",
       " </defs>\n",
       "</svg>\n"
      ],
      "text/plain": [
       "<Figure size 640x480 with 2 Axes>"
      ]
     },
     "metadata": {},
     "output_type": "display_data"
    }
   ],
   "source": [
    "inp_img = torch.zeros(1, 1, 11, 11)\n",
    "inp_img.requires_grad_()\n",
    "\n",
    "def show_center_recep_field(img, out):\n",
    "    \"\"\"\n",
    "    Calculates the gradients of the input with respect to the output center pixel,\n",
    "    and visualizes the overall receptive field.\n",
    "    Inputs:\n",
    "        img - Input image for which we want to calculate the receptive field on.\n",
    "        out - Output features/loss which is used for backpropagation, and should be\n",
    "              the output of the network/computation graph.\n",
    "    \"\"\"\n",
    "    # Determine gradients\n",
    "    loss = out[0,:,img.shape[2]//2,img.shape[3]//2].sum() # L1 loss for simplicity\n",
    "    loss.backward(retain_graph=True) # Retain graph as we want to stack multiple layers and show the receptive field of all of them\n",
    "    img_grads = img.grad.abs()\n",
    "    img.grad.fill_(0) # Reset grads\n",
    "    \n",
    "    # Plot receptive field\n",
    "    img = img_grads.squeeze().cpu().numpy()\n",
    "    fig, ax = plt.subplots(1,2)\n",
    "    pos = ax[0].imshow(img)\n",
    "    ax[1].imshow(img>0)\n",
    "    # Mark the center pixel in red if it doesn't have any gradients (should be the case for standard autoregressive models)\n",
    "    show_center = (img[img.shape[0]//2,img.shape[1]//2] == 0)\n",
    "    if show_center:\n",
    "        center_pixel = np.zeros(img.shape + (4,))\n",
    "        center_pixel[center_pixel.shape[0]//2,center_pixel.shape[1]//2,:] = np.array([1.0, 0.0, 0.0, 1.0]) \n",
    "    for i in range(2):\n",
    "        ax[i].axis('off')\n",
    "        if show_center:\n",
    "            ax[i].imshow(center_pixel)\n",
    "    ax[0].set_title(\"Weighted receptive field\")\n",
    "    ax[1].set_title(\"Binary receptive field\")\n",
    "    plt.show()\n",
    "    plt.close()\n",
    "\n",
    "show_center_recep_field(inp_img, inp_img)"
   ]
  },
  {
   "cell_type": "markdown",
   "metadata": {},
   "source": [
    "Let's first visualize the receptive field of a horizontal convolution without the center pixel. We use a small, arbitrary input image ($11\\times 11$ pixels), and calculate the loss for the center pixel. For simplicity, we initialize all weights with 1 and the bias with 0, and use a single channel. This is sufficient for our visualization purposes."
   ]
  },
  {
   "cell_type": "code",
   "execution_count": 257,
   "metadata": {},
   "outputs": [
    {
     "data": {
      "application/pdf": "[encoded data removed]",
      "image/svg+xml": [
       "<?xml version=\"1.0\" encoding=\"utf-8\" standalone=\"no\"?>\n",
       "<!DOCTYPE svg PUBLIC \"-//W3C//DTD SVG 1.1//EN\"\n",
       "  \"http://www.w3.org/Graphics/SVG/1.1/DTD/svg11.dtd\">\n",
       "<svg xmlns:xlink=\"http://www.w3.org/1999/xlink\" width=\"371.52pt\" height=\"191.845398pt\" viewBox=\"0 0 371.52 191.845398\" xmlns=\"http://www.w3.org/2000/svg\" version=\"1.1\">\n",
       " <metadata>\n",
       "  <rdf:RDF xmlns:dc=\"http://purl.org/dc/elements/1.1/\" xmlns:cc=\"http://creativecommons.org/ns#\" xmlns:rdf=\"http://www.w3.org/1999/02/22-rdf-syntax-ns#\">\n",
       "   <cc:Work>\n",
       "    <dc:type rdf:resource=\"http://purl.org/dc/dcmitype/StillImage\"/>\n",
       "    <dc:date>2024-07-18T13:42:44.941035</dc:date>\n",
       "    <dc:format>image/svg+xml</dc:format>\n",
       "    <dc:creator>\n",
       "     <cc:Agent>\n",
       "      <dc:title>Matplotlib v3.7.1, https://matplotlib.org/</dc:title>\n",
       "     </cc:Agent>\n",
       "    </dc:creator>\n",
       "   </cc:Work>\n",
       "  </rdf:RDF>\n",
       " </metadata>\n",
       " <defs>\n",
       "  <style type=\"text/css\">*{stroke-linejoin: round; stroke-linecap: butt}</style>\n",
       " </defs>\n",
       " <g id=\"figure_1\">\n",
       "  <g id=\"patch_1\">\n",
       "   <path d=\"M 0 191.845398 \n",
       "L 371.52 191.845398 \n",
       "L 371.52 -0 \n",
       "L 0 -0 \n",
       "z\n",
       "\" style=\"fill: #ffffff\"/>\n",
       "  </g>\n",
       "  <g id=\"axes_1\">\n",
       "   <g clip-path=\"url(#p517949740e)\">\n",
       "    <image xlink:href=\"data:image/png;base64,\n",
       "iVBORw0KGgoAAAANSUhEUgAAAOIAAADiCAYAAABTEBvXAAACzUlEQVR4nO3VwQ3CQBAEQZ9FEnydj8P2g1TIAZkkTroWVAUw2k9rx3ac9wYsta8+ABAiJAgRAoQIAUKEACFCgBAhQIgQIEQIECIECBEChAgBQoQAIUKAECFAiBAgRAgQIgQIEQKECAFChAAhQoAQIUCIECBECBAiBAgRAoQIAUKEACFCgBAhQIgQIEQIECIECBEChAgBQoQAIUKAECFAiBAgRAgQIgQIEQKECAFChAAhQoAQIUCIECBECBAiBAgRAoQIAUKEACFCgBAhQIgQIEQIECIECBEChAgBQoQAIUKAECFAiBAgRAgQIgQIEQKECAFChAAhQoAQIUCIECBECBAiBAgRAoQIAUKEACFCgBAhQIgQIEQIECIECBEChAgBQoQAIUKAECFAiBAgRAgQIgQIEQKECAFChAAhQoAQIUCIECBECBAiBAgRAoQIAUKEACFCwGP1Ab/ic72nb+7P19S9cZxT95jHR4QAIUKAECFAiBAgRAgQIgQIEQKECAFChAAhQoAQIUCIECBECBAiBAgRAoQIAUKEACFCgBAhYGzHea8+Av6djwgBQoQAIUKAECFAiBAgRAgQIgQIEQKECAFChAAhQoAQIUCIECBECBAiBAgRAoQIAUKEACFCgBAhQIgQIEQIECIECBEChAgBQoQAIUKAECFAiBAgRAgQIgQIEQKECAFChAAhQoAQIUCIECBECBAiBAgRAoQIAUKEACFCgBAhQIgQIEQIECIECBEChAgBQoQAIUKAECFAiBAgRAgQIgQIEQKECAFChAAhQoAQIUCIECBECBAiBAgRAoQIAUKEACFCgBAhQIgQIEQIECIECBEChAgBQoQAIUKAECFAiBAgRAgQIgQIEQKECAFChAAhQoAQIUCIECBECBAiBAgRAoQIAUKEACFCgBAhQIgQIEQIECIECBEChAgBQoQAIUKAECFAiBAgRAj4ArMyCKEwsfKGAAAAAElFTkSuQmCC\" id=\"image0e8c97256f\" transform=\"scale(1 -1) translate(0 -162.72)\" x=\"7\" y=\"-22.125398\" width=\"162.72\" height=\"162.72\"/>\n",
       "   </g>\n",
       "   <g id=\"text_1\">\n",
       "    <!-- Weighted receptive field -->\n",
       "    <g transform=\"translate(15.113949 16.318125) scale(0.12 -0.12)\">\n",
       "     <defs>\n",
       "      <path id=\"DejaVuSans-57\" d=\"M 213 4666 \n",
       "L 850 4666 \n",
       "L 1831 722 \n",
       "L 2809 4666 \n",
       "L 3519 4666 \n",
       "L 4500 722 \n",
       "L 5478 4666 \n",
       "L 6119 4666 \n",
       "L 4947 0 \n",
       "L 4153 0 \n",
       "L 3169 4050 \n",
       "L 2175 0 \n",
       "L 1381 0 \n",
       "L 213 4666 \n",
       "z\n",
       "\" transform=\"scale(0.015625)\"/>\n",
       "      <path id=\"DejaVuSans-65\" d=\"M 3597 1894 \n",
       "L 3597 1613 \n",
       "L 953 1613 \n",
       "Q 991 1019 1311 708 \n",
       "Q 1631 397 2203 397 \n",
       "Q 2534 397 2845 478 \n",
       "Q 3156 559 3463 722 \n",
       "L 3463 178 \n",
       "Q 3153 47 2828 -22 \n",
       "Q 2503 -91 2169 -91 \n",
       "Q 1331 -91 842 396 \n",
       "Q 353 884 353 1716 \n",
       "Q 353 2575 817 3079 \n",
       "Q 1281 3584 2069 3584 \n",
       "Q 2775 3584 3186 3129 \n",
       "Q 3597 2675 3597 1894 \n",
       "z\n",
       "M 3022 2063 \n",
       "Q 3016 2534 2758 2815 \n",
       "Q 2500 3097 2075 3097 \n",
       "Q 1594 3097 1305 2825 \n",
       "Q 1016 2553 972 2059 \n",
       "L 3022 2063 \n",
       "z\n",
       "\" transform=\"scale(0.015625)\"/>\n",
       "      <path id=\"DejaVuSans-69\" d=\"M 603 3500 \n",
       "L 1178 3500 \n",
       "L 1178 0 \n",
       "L 603 0 \n",
       "L 603 3500 \n",
       "z\n",
       "M 603 4863 \n",
       "L 1178 4863 \n",
       "L 1178 4134 \n",
       "L 603 4134 \n",
       "L 603 4863 \n",
       "z\n",
       "\" transform=\"scale(0.015625)\"/>\n",
       "      <path id=\"DejaVuSans-67\" d=\"M 2906 1791 \n",
       "Q 2906 2416 2648 2759 \n",
       "Q 2391 3103 1925 3103 \n",
       "Q 1463 3103 1205 2759 \n",
       "Q 947 2416 947 1791 \n",
       "Q 947 1169 1205 825 \n",
       "Q 1463 481 1925 481 \n",
       "Q 2391 481 2648 825 \n",
       "Q 2906 1169 2906 1791 \n",
       "z\n",
       "M 3481 434 \n",
       "Q 3481 -459 3084 -895 \n",
       "Q 2688 -1331 1869 -1331 \n",
       "Q 1566 -1331 1297 -1286 \n",
       "Q 1028 -1241 775 -1147 \n",
       "L 775 -588 \n",
       "Q 1028 -725 1275 -790 \n",
       "Q 1522 -856 1778 -856 \n",
       "Q 2344 -856 2625 -561 \n",
       "Q 2906 -266 2906 331 \n",
       "L 2906 616 \n",
       "Q 2728 306 2450 153 \n",
       "Q 2172 0 1784 0 \n",
       "Q 1141 0 747 490 \n",
       "Q 353 981 353 1791 \n",
       "Q 353 2603 747 3093 \n",
       "Q 1141 3584 1784 3584 \n",
       "Q 2172 3584 2450 3431 \n",
       "Q 2728 3278 2906 2969 \n",
       "L 2906 3500 \n",
       "L 3481 3500 \n",
       "L 3481 434 \n",
       "z\n",
       "\" transform=\"scale(0.015625)\"/>\n",
       "      <path id=\"DejaVuSans-68\" d=\"M 3513 2113 \n",
       "L 3513 0 \n",
       "L 2938 0 \n",
       "L 2938 2094 \n",
       "Q 2938 2591 2744 2837 \n",
       "Q 2550 3084 2163 3084 \n",
       "Q 1697 3084 1428 2787 \n",
       "Q 1159 2491 1159 1978 \n",
       "L 1159 0 \n",
       "L 581 0 \n",
       "L 581 4863 \n",
       "L 1159 4863 \n",
       "L 1159 2956 \n",
       "Q 1366 3272 1645 3428 \n",
       "Q 1925 3584 2291 3584 \n",
       "Q 2894 3584 3203 3211 \n",
       "Q 3513 2838 3513 2113 \n",
       "z\n",
       "\" transform=\"scale(0.015625)\"/>\n",
       "      <path id=\"DejaVuSans-74\" d=\"M 1172 4494 \n",
       "L 1172 3500 \n",
       "L 2356 3500 \n",
       "L 2356 3053 \n",
       "L 1172 3053 \n",
       "L 1172 1153 \n",
       "Q 1172 725 1289 603 \n",
       "Q 1406 481 1766 481 \n",
       "L 2356 481 \n",
       "L 2356 0 \n",
       "L 1766 0 \n",
       "Q 1100 0 847 248 \n",
       "Q 594 497 594 1153 \n",
       "L 594 3053 \n",
       "L 172 3053 \n",
       "L 172 3500 \n",
       "L 594 3500 \n",
       "L 594 4494 \n",
       "L 1172 4494 \n",
       "z\n",
       "\" transform=\"scale(0.015625)\"/>\n",
       "      <path id=\"DejaVuSans-64\" d=\"M 2906 2969 \n",
       "L 2906 4863 \n",
       "L 3481 4863 \n",
       "L 3481 0 \n",
       "L 2906 0 \n",
       "L 2906 525 \n",
       "Q 2725 213 2448 61 \n",
       "Q 2172 -91 1784 -91 \n",
       "Q 1150 -91 751 415 \n",
       "Q 353 922 353 1747 \n",
       "Q 353 2572 751 3078 \n",
       "Q 1150 3584 1784 3584 \n",
       "Q 2172 3584 2448 3432 \n",
       "Q 2725 3281 2906 2969 \n",
       "z\n",
       "M 947 1747 \n",
       "Q 947 1113 1208 752 \n",
       "Q 1469 391 1925 391 \n",
       "Q 2381 391 2643 752 \n",
       "Q 2906 1113 2906 1747 \n",
       "Q 2906 2381 2643 2742 \n",
       "Q 2381 3103 1925 3103 \n",
       "Q 1469 3103 1208 2742 \n",
       "Q 947 2381 947 1747 \n",
       "z\n",
       "\" transform=\"scale(0.015625)\"/>\n",
       "      <path id=\"DejaVuSans-20\" transform=\"scale(0.015625)\"/>\n",
       "      <path id=\"DejaVuSans-72\" d=\"M 2631 2963 \n",
       "Q 2534 3019 2420 3045 \n",
       "Q 2306 3072 2169 3072 \n",
       "Q 1681 3072 1420 2755 \n",
       "Q 1159 2438 1159 1844 \n",
       "L 1159 0 \n",
       "L 581 0 \n",
       "L 581 3500 \n",
       "L 1159 3500 \n",
       "L 1159 2956 \n",
       "Q 1341 3275 1631 3429 \n",
       "Q 1922 3584 2338 3584 \n",
       "Q 2397 3584 2469 3576 \n",
       "Q 2541 3569 2628 3553 \n",
       "L 2631 2963 \n",
       "z\n",
       "\" transform=\"scale(0.015625)\"/>\n",
       "      <path id=\"DejaVuSans-63\" d=\"M 3122 3366 \n",
       "L 3122 2828 \n",
       "Q 2878 2963 2633 3030 \n",
       "Q 2388 3097 2138 3097 \n",
       "Q 1578 3097 1268 2742 \n",
       "Q 959 2388 959 1747 \n",
       "Q 959 1106 1268 751 \n",
       "Q 1578 397 2138 397 \n",
       "Q 2388 397 2633 464 \n",
       "Q 2878 531 3122 666 \n",
       "L 3122 134 \n",
       "Q 2881 22 2623 -34 \n",
       "Q 2366 -91 2075 -91 \n",
       "Q 1284 -91 818 406 \n",
       "Q 353 903 353 1747 \n",
       "Q 353 2603 823 3093 \n",
       "Q 1294 3584 2113 3584 \n",
       "Q 2378 3584 2631 3529 \n",
       "Q 2884 3475 3122 3366 \n",
       "z\n",
       "\" transform=\"scale(0.015625)\"/>\n",
       "      <path id=\"DejaVuSans-70\" d=\"M 1159 525 \n",
       "L 1159 -1331 \n",
       "L 581 -1331 \n",
       "L 581 3500 \n",
       "L 1159 3500 \n",
       "L 1159 2969 \n",
       "Q 1341 3281 1617 3432 \n",
       "Q 1894 3584 2278 3584 \n",
       "Q 2916 3584 3314 3078 \n",
       "Q 3713 2572 3713 1747 \n",
       "Q 3713 922 3314 415 \n",
       "Q 2916 -91 2278 -91 \n",
       "Q 1894 -91 1617 61 \n",
       "Q 1341 213 1159 525 \n",
       "z\n",
       "M 3116 1747 \n",
       "Q 3116 2381 2855 2742 \n",
       "Q 2594 3103 2138 3103 \n",
       "Q 1681 3103 1420 2742 \n",
       "Q 1159 2381 1159 1747 \n",
       "Q 1159 1113 1420 752 \n",
       "Q 1681 391 2138 391 \n",
       "Q 2594 391 2855 752 \n",
       "Q 3116 1113 3116 1747 \n",
       "z\n",
       "\" transform=\"scale(0.015625)\"/>\n",
       "      <path id=\"DejaVuSans-76\" d=\"M 191 3500 \n",
       "L 800 3500 \n",
       "L 1894 563 \n",
       "L 2988 3500 \n",
       "L 3597 3500 \n",
       "L 2284 0 \n",
       "L 1503 0 \n",
       "L 191 3500 \n",
       "z\n",
       "\" transform=\"scale(0.015625)\"/>\n",
       "      <path id=\"DejaVuSans-66\" d=\"M 2375 4863 \n",
       "L 2375 4384 \n",
       "L 1825 4384 \n",
       "Q 1516 4384 1395 4259 \n",
       "Q 1275 4134 1275 3809 \n",
       "L 1275 3500 \n",
       "L 2222 3500 \n",
       "L 2222 3053 \n",
       "L 1275 3053 \n",
       "L 1275 0 \n",
       "L 697 0 \n",
       "L 697 3053 \n",
       "L 147 3053 \n",
       "L 147 3500 \n",
       "L 697 3500 \n",
       "L 697 3744 \n",
       "Q 697 4328 969 4595 \n",
       "Q 1241 4863 1831 4863 \n",
       "L 2375 4863 \n",
       "z\n",
       "\" transform=\"scale(0.015625)\"/>\n",
       "      <path id=\"DejaVuSans-6c\" d=\"M 603 4863 \n",
       "L 1178 4863 \n",
       "L 1178 0 \n",
       "L 603 0 \n",
       "L 603 4863 \n",
       "z\n",
       "\" transform=\"scale(0.015625)\"/>\n",
       "     </defs>\n",
       "     <use xlink:href=\"#DejaVuSans-57\"/>\n",
       "     <use xlink:href=\"#DejaVuSans-65\" x=\"93.001953\"/>\n",
       "     <use xlink:href=\"#DejaVuSans-69\" x=\"154.525391\"/>\n",
       "     <use xlink:href=\"#DejaVuSans-67\" x=\"182.308594\"/>\n",
       "     <use xlink:href=\"#DejaVuSans-68\" x=\"245.785156\"/>\n",
       "     <use xlink:href=\"#DejaVuSans-74\" x=\"309.164062\"/>\n",
       "     <use xlink:href=\"#DejaVuSans-65\" x=\"348.373047\"/>\n",
       "     <use xlink:href=\"#DejaVuSans-64\" x=\"409.896484\"/>\n",
       "     <use xlink:href=\"#DejaVuSans-20\" x=\"473.373047\"/>\n",
       "     <use xlink:href=\"#DejaVuSans-72\" x=\"505.160156\"/>\n",
       "     <use xlink:href=\"#DejaVuSans-65\" x=\"544.023438\"/>\n",
       "     <use xlink:href=\"#DejaVuSans-63\" x=\"605.546875\"/>\n",
       "     <use xlink:href=\"#DejaVuSans-65\" x=\"660.527344\"/>\n",
       "     <use xlink:href=\"#DejaVuSans-70\" x=\"722.050781\"/>\n",
       "     <use xlink:href=\"#DejaVuSans-74\" x=\"785.527344\"/>\n",
       "     <use xlink:href=\"#DejaVuSans-69\" x=\"824.736328\"/>\n",
       "     <use xlink:href=\"#DejaVuSans-76\" x=\"852.519531\"/>\n",
       "     <use xlink:href=\"#DejaVuSans-65\" x=\"911.699219\"/>\n",
       "     <use xlink:href=\"#DejaVuSans-20\" x=\"973.222656\"/>\n",
       "     <use xlink:href=\"#DejaVuSans-66\" x=\"1005.009766\"/>\n",
       "     <use xlink:href=\"#DejaVuSans-69\" x=\"1040.214844\"/>\n",
       "     <use xlink:href=\"#DejaVuSans-65\" x=\"1067.998047\"/>\n",
       "     <use xlink:href=\"#DejaVuSans-6c\" x=\"1129.521484\"/>\n",
       "     <use xlink:href=\"#DejaVuSans-64\" x=\"1157.304688\"/>\n",
       "    </g>\n",
       "   </g>\n",
       "  </g>\n",
       "  <g id=\"axes_2\">\n",
       "   <g clip-path=\"url(#p2c501e4800)\">\n",
       "    <image xlink:href=\"data:image/png;base64,\n",
       "iVBORw0KGgoAAAANSUhEUgAAAOIAAADiCAYAAABTEBvXAAACzUlEQVR4nO3VwQ3CQBAEQZ9FEnydj8P2g1TIAZkkTroWVAUw2k9rx3ac9wYsta8+ABAiJAgRAoQIAUKEACFCgBAhQIgQIEQIECIECBEChAgBQoQAIUKAECFAiBAgRAgQIgQIEQKECAFChAAhQoAQIUCIECBECBAiBAgRAoQIAUKEACFCgBAhQIgQIEQIECIECBEChAgBQoQAIUKAECFAiBAgRAgQIgQIEQKECAFChAAhQoAQIUCIECBECBAiBAgRAoQIAUKEACFCgBAhQIgQIEQIECIECBEChAgBQoQAIUKAECFAiBAgRAgQIgQIEQKECAFChAAhQoAQIUCIECBECBAiBAgRAoQIAUKEACFCgBAhQIgQIEQIECIECBEChAgBQoQAIUKAECFAiBAgRAgQIgQIEQKECAFChAAhQoAQIUCIECBECBAiBAgRAoQIAUKEACFCwGP1Ab/ic72nb+7P19S9cZxT95jHR4QAIUKAECFAiBAgRAgQIgQIEQKECAFChAAhQoAQIUCIECBECBAiBAgRAoQIAUKEACFCgBAhYGzHea8+Av6djwgBQoQAIUKAECFAiBAgRAgQIgQIEQKECAFChAAhQoAQIUCIECBECBAiBAgRAoQIAUKEACFCgBAhQIgQIEQIECIECBEChAgBQoQAIUKAECFAiBAgRAgQIgQIEQKECAFChAAhQoAQIUCIECBECBAiBAgRAoQIAUKEACFCgBAhQIgQIEQIECIECBEChAgBQoQAIUKAECFAiBAgRAgQIgQIEQKECAFChAAhQoAQIUCIECBECBAiBAgRAoQIAUKEACFCgBAhQIgQIEQIECIECBEChAgBQoQAIUKAECFAiBAgRAgQIgQIEQKECAFChAAhQoAQIUCIECBECBAiBAgRAoQIAUKEACFCgBAhQIgQIEQIECIECBEChAgBQoQAIUKAECFAiBAgRAj4ArMyCKEwsfKGAAAAAElFTkSuQmCC\" id=\"imagec5fe760fb3\" transform=\"scale(1 -1) translate(0 -162.72)\" x=\"202\" y=\"-22.125398\" width=\"162.72\" height=\"162.72\"/>\n",
       "   </g>\n",
       "   <g id=\"text_2\">\n",
       "    <!-- Binary receptive field -->\n",
       "    <g transform=\"translate(219.029489 16.318125) scale(0.12 -0.12)\">\n",
       "     <defs>\n",
       "      <path id=\"DejaVuSans-42\" d=\"M 1259 2228 \n",
       "L 1259 519 \n",
       "L 2272 519 \n",
       "Q 2781 519 3026 730 \n",
       "Q 3272 941 3272 1375 \n",
       "Q 3272 1813 3026 2020 \n",
       "Q 2781 2228 2272 2228 \n",
       "L 1259 2228 \n",
       "z\n",
       "M 1259 4147 \n",
       "L 1259 2741 \n",
       "L 2194 2741 \n",
       "Q 2656 2741 2882 2914 \n",
       "Q 3109 3088 3109 3444 \n",
       "Q 3109 3797 2882 3972 \n",
       "Q 2656 4147 2194 4147 \n",
       "L 1259 4147 \n",
       "z\n",
       "M 628 4666 \n",
       "L 2241 4666 \n",
       "Q 2963 4666 3353 4366 \n",
       "Q 3744 4066 3744 3513 \n",
       "Q 3744 3084 3544 2831 \n",
       "Q 3344 2578 2956 2516 \n",
       "Q 3422 2416 3680 2098 \n",
       "Q 3938 1781 3938 1306 \n",
       "Q 3938 681 3513 340 \n",
       "Q 3088 0 2303 0 \n",
       "L 628 0 \n",
       "L 628 4666 \n",
       "z\n",
       "\" transform=\"scale(0.015625)\"/>\n",
       "      <path id=\"DejaVuSans-6e\" d=\"M 3513 2113 \n",
       "L 3513 0 \n",
       "L 2938 0 \n",
       "L 2938 2094 \n",
       "Q 2938 2591 2744 2837 \n",
       "Q 2550 3084 2163 3084 \n",
       "Q 1697 3084 1428 2787 \n",
       "Q 1159 2491 1159 1978 \n",
       "L 1159 0 \n",
       "L 581 0 \n",
       "L 581 3500 \n",
       "L 1159 3500 \n",
       "L 1159 2956 \n",
       "Q 1366 3272 1645 3428 \n",
       "Q 1925 3584 2291 3584 \n",
       "Q 2894 3584 3203 3211 \n",
       "Q 3513 2838 3513 2113 \n",
       "z\n",
       "\" transform=\"scale(0.015625)\"/>\n",
       "      <path id=\"DejaVuSans-61\" d=\"M 2194 1759 \n",
       "Q 1497 1759 1228 1600 \n",
       "Q 959 1441 959 1056 \n",
       "Q 959 750 1161 570 \n",
       "Q 1363 391 1709 391 \n",
       "Q 2188 391 2477 730 \n",
       "Q 2766 1069 2766 1631 \n",
       "L 2766 1759 \n",
       "L 2194 1759 \n",
       "z\n",
       "M 3341 1997 \n",
       "L 3341 0 \n",
       "L 2766 0 \n",
       "L 2766 531 \n",
       "Q 2569 213 2275 61 \n",
       "Q 1981 -91 1556 -91 \n",
       "Q 1019 -91 701 211 \n",
       "Q 384 513 384 1019 \n",
       "Q 384 1609 779 1909 \n",
       "Q 1175 2209 1959 2209 \n",
       "L 2766 2209 \n",
       "L 2766 2266 \n",
       "Q 2766 2663 2505 2880 \n",
       "Q 2244 3097 1772 3097 \n",
       "Q 1472 3097 1187 3025 \n",
       "Q 903 2953 641 2809 \n",
       "L 641 3341 \n",
       "Q 956 3463 1253 3523 \n",
       "Q 1550 3584 1831 3584 \n",
       "Q 2591 3584 2966 3190 \n",
       "Q 3341 2797 3341 1997 \n",
       "z\n",
       "\" transform=\"scale(0.015625)\"/>\n",
       "      <path id=\"DejaVuSans-79\" d=\"M 2059 -325 \n",
       "Q 1816 -950 1584 -1140 \n",
       "Q 1353 -1331 966 -1331 \n",
       "L 506 -1331 \n",
       "L 506 -850 \n",
       "L 844 -850 \n",
       "Q 1081 -850 1212 -737 \n",
       "Q 1344 -625 1503 -206 \n",
       "L 1606 56 \n",
       "L 191 3500 \n",
       "L 800 3500 \n",
       "L 1894 763 \n",
       "L 2988 3500 \n",
       "L 3597 3500 \n",
       "L 2059 -325 \n",
       "z\n",
       "\" transform=\"scale(0.015625)\"/>\n",
       "     </defs>\n",
       "     <use xlink:href=\"#DejaVuSans-42\"/>\n",
       "     <use xlink:href=\"#DejaVuSans-69\" x=\"68.603516\"/>\n",
       "     <use xlink:href=\"#DejaVuSans-6e\" x=\"96.386719\"/>\n",
       "     <use xlink:href=\"#DejaVuSans-61\" x=\"159.765625\"/>\n",
       "     <use xlink:href=\"#DejaVuSans-72\" x=\"221.044922\"/>\n",
       "     <use xlink:href=\"#DejaVuSans-79\" x=\"262.158203\"/>\n",
       "     <use xlink:href=\"#DejaVuSans-20\" x=\"321.337891\"/>\n",
       "     <use xlink:href=\"#DejaVuSans-72\" x=\"353.125\"/>\n",
       "     <use xlink:href=\"#DejaVuSans-65\" x=\"391.988281\"/>\n",
       "     <use xlink:href=\"#DejaVuSans-63\" x=\"453.511719\"/>\n",
       "     <use xlink:href=\"#DejaVuSans-65\" x=\"508.492188\"/>\n",
       "     <use xlink:href=\"#DejaVuSans-70\" x=\"570.015625\"/>\n",
       "     <use xlink:href=\"#DejaVuSans-74\" x=\"633.492188\"/>\n",
       "     <use xlink:href=\"#DejaVuSans-69\" x=\"672.701172\"/>\n",
       "     <use xlink:href=\"#DejaVuSans-76\" x=\"700.484375\"/>\n",
       "     <use xlink:href=\"#DejaVuSans-65\" x=\"759.664062\"/>\n",
       "     <use xlink:href=\"#DejaVuSans-20\" x=\"821.1875\"/>\n",
       "     <use xlink:href=\"#DejaVuSans-66\" x=\"852.974609\"/>\n",
       "     <use xlink:href=\"#DejaVuSans-69\" x=\"888.179688\"/>\n",
       "     <use xlink:href=\"#DejaVuSans-65\" x=\"915.962891\"/>\n",
       "     <use xlink:href=\"#DejaVuSans-6c\" x=\"977.486328\"/>\n",
       "     <use xlink:href=\"#DejaVuSans-64\" x=\"1005.269531\"/>\n",
       "    </g>\n",
       "   </g>\n",
       "  </g>\n",
       " </g>\n",
       " <defs>\n",
       "  <clipPath id=\"p517949740e\">\n",
       "   <rect x=\"7.2\" y=\"22.318125\" width=\"162.327273\" height=\"162.327273\"/>\n",
       "  </clipPath>\n",
       "  <clipPath id=\"p2c501e4800\">\n",
       "   <rect x=\"201.992727\" y=\"22.318125\" width=\"162.327273\" height=\"162.327273\"/>\n",
       "  </clipPath>\n",
       " </defs>\n",
       "</svg>\n"
      ],
      "text/plain": [
       "<Figure size 640x480 with 2 Axes>"
      ]
     },
     "metadata": {},
     "output_type": "display_data"
    }
   ],
   "source": [
    "horiz_conv = HorizontalStackConvolution(c_in=1, c_out=1, kernel_size=3, mask_center=True)\n",
    "horiz_conv.conv.weight.data.fill_(1)\n",
    "horiz_conv.conv.bias.data.fill_(0)\n",
    "horiz_img = horiz_conv(inp_img)\n",
    "show_center_recep_field(inp_img, horiz_img)"
   ]
  },
  {
   "cell_type": "markdown",
   "metadata": {},
   "source": [
    "The receptive field is shown in yellow, the center pixel in red, and all other pixels outside of the receptive field are dark blue. As expected, the receptive field of a single horizontal convolution with the center pixel masked and a $3\\times3$ kernel is only the pixel on the left. If we use a larger kernel size, more pixels would be taken into account on the left.\n",
    "\n",
    "Next, let's take a look at the vertical convolution:"
   ]
  },
  {
   "cell_type": "code",
   "execution_count": 258,
   "metadata": {},
   "outputs": [
    {
     "data": {
      "application/pdf": "[encoded data removed]",
      "image/svg+xml": [
       "<?xml version=\"1.0\" encoding=\"utf-8\" standalone=\"no\"?>\n",
       "<!DOCTYPE svg PUBLIC \"-//W3C//DTD SVG 1.1//EN\"\n",
       "  \"http://www.w3.org/Graphics/SVG/1.1/DTD/svg11.dtd\">\n",
       "<svg xmlns:xlink=\"http://www.w3.org/1999/xlink\" width=\"371.52pt\" height=\"191.845398pt\" viewBox=\"0 0 371.52 191.845398\" xmlns=\"http://www.w3.org/2000/svg\" version=\"1.1\">\n",
       " <metadata>\n",
       "  <rdf:RDF xmlns:dc=\"http://purl.org/dc/elements/1.1/\" xmlns:cc=\"http://creativecommons.org/ns#\" xmlns:rdf=\"http://www.w3.org/1999/02/22-rdf-syntax-ns#\">\n",
       "   <cc:Work>\n",
       "    <dc:type rdf:resource=\"http://purl.org/dc/dcmitype/StillImage\"/>\n",
       "    <dc:date>2024-07-18T13:42:45.159041</dc:date>\n",
       "    <dc:format>image/svg+xml</dc:format>\n",
       "    <dc:creator>\n",
       "     <cc:Agent>\n",
       "      <dc:title>Matplotlib v3.7.1, https://matplotlib.org/</dc:title>\n",
       "     </cc:Agent>\n",
       "    </dc:creator>\n",
       "   </cc:Work>\n",
       "  </rdf:RDF>\n",
       " </metadata>\n",
       " <defs>\n",
       "  <style type=\"text/css\">*{stroke-linejoin: round; stroke-linecap: butt}</style>\n",
       " </defs>\n",
       " <g id=\"figure_1\">\n",
       "  <g id=\"patch_1\">\n",
       "   <path d=\"M 0 191.845398 \n",
       "L 371.52 191.845398 \n",
       "L 371.52 -0 \n",
       "L 0 -0 \n",
       "z\n",
       "\" style=\"fill: #ffffff\"/>\n",
       "  </g>\n",
       "  <g id=\"axes_1\">\n",
       "   <g clip-path=\"url(#pda8d4124c9)\">\n",
       "    <image xlink:href=\"data:image/png;base64,\n",
       "iVBORw0KGgoAAAANSUhEUgAAAOIAAADiCAYAAABTEBvXAAAC4klEQVR4nO3cSQ1CAQwA0c+iAQGY4IAG1KIBGwjAA4sCTjT5k/CegKaXSW/dLMfLewFWtV17AUCIkCBECBAiBAgRAoQIAUKEACFCgBAhQIgQIEQIECIECBEChAgBQoQAIUKAECFAiBAgRAgQIgQIEQKECAFChAAhQoAQIUCIECBECBAiBAgRAoQIAUKEACFCgBAhQIgQIEQIECIECBEChAgBQoQAIUKAECFAiBAgRAgQIgQIEQKECAFChAAhQoAQIUCIECBECBAiBAgRAoQIAUKEACFCgBAhQIgQIEQIECIECBEChAgBQoQAIUKAECFAiBAgRAgQIgQIEQKECAFChAAhQoAQIUCIECBECBAiBAgRAoQIAUKEACFCgBAhQIgQIEQIECIECBEChAgBQoQAIUKAECFAiBAgRAgQIgQIEQKECAFChAAhQoAQIUCIECBECBAiBAgRAoQIAfu1F+C79/06Om9zvIzOY46LCAFChAAhQoAQIUCIECBECBAiBAgRAoQIAUKEACFCgBAhQIgQIEQIECIECBEChAgBQoQAIUKAnzVDnrfH+MzXchqd91zmd9ydD+Mz/5GLCAFChAAhQoAQIUCIECBECBAiBAgRAoQIAUKEACFCgBAhQIgQIEQIECIECBEChAgBQoQAIUKAECHA86ghnijxCxcRAoQIAUKEACFCgBAhQIgQIEQIECIECBEChAgBQoQAIUKAECFAiBAgRAgQIgQIEQKECAFChAAhQoAQIUCIECBECBAiBAgRAoQIAUKEACFCgBAhQIgQIEQIECIECBEChAgBQoQAIUKAECFAiBAgRAgQIgQIEQKECAFChAAhQoAQIUCIECBECBAiBAgRAoQIAUKEACFCgBAhQIgQIEQIECIECBEChAgBQoQAIUKAECFAiBAgRAgQIgQIEQKECAFChAAhQoAQIUCIECBECBAiBAgRAoQIAUKEACFCgBAhQIgQIEQIECIECBECPli5DKj+786SAAAAAElFTkSuQmCC\" id=\"image2ab626267c\" transform=\"scale(1 -1) translate(0 -162.72)\" x=\"7\" y=\"-22.125398\" width=\"162.72\" height=\"162.72\"/>\n",
       "   </g>\n",
       "   <g id=\"text_1\">\n",
       "    <!-- Weighted receptive field -->\n",
       "    <g transform=\"translate(15.113949 16.318125) scale(0.12 -0.12)\">\n",
       "     <defs>\n",
       "      <path id=\"DejaVuSans-57\" d=\"M 213 4666 \n",
       "L 850 4666 \n",
       "L 1831 722 \n",
       "L 2809 4666 \n",
       "L 3519 4666 \n",
       "L 4500 722 \n",
       "L 5478 4666 \n",
       "L 6119 4666 \n",
       "L 4947 0 \n",
       "L 4153 0 \n",
       "L 3169 4050 \n",
       "L 2175 0 \n",
       "L 1381 0 \n",
       "L 213 4666 \n",
       "z\n",
       "\" transform=\"scale(0.015625)\"/>\n",
       "      <path id=\"DejaVuSans-65\" d=\"M 3597 1894 \n",
       "L 3597 1613 \n",
       "L 953 1613 \n",
       "Q 991 1019 1311 708 \n",
       "Q 1631 397 2203 397 \n",
       "Q 2534 397 2845 478 \n",
       "Q 3156 559 3463 722 \n",
       "L 3463 178 \n",
       "Q 3153 47 2828 -22 \n",
       "Q 2503 -91 2169 -91 \n",
       "Q 1331 -91 842 396 \n",
       "Q 353 884 353 1716 \n",
       "Q 353 2575 817 3079 \n",
       "Q 1281 3584 2069 3584 \n",
       "Q 2775 3584 3186 3129 \n",
       "Q 3597 2675 3597 1894 \n",
       "z\n",
       "M 3022 2063 \n",
       "Q 3016 2534 2758 2815 \n",
       "Q 2500 3097 2075 3097 \n",
       "Q 1594 3097 1305 2825 \n",
       "Q 1016 2553 972 2059 \n",
       "L 3022 2063 \n",
       "z\n",
       "\" transform=\"scale(0.015625)\"/>\n",
       "      <path id=\"DejaVuSans-69\" d=\"M 603 3500 \n",
       "L 1178 3500 \n",
       "L 1178 0 \n",
       "L 603 0 \n",
       "L 603 3500 \n",
       "z\n",
       "M 603 4863 \n",
       "L 1178 4863 \n",
       "L 1178 4134 \n",
       "L 603 4134 \n",
       "L 603 4863 \n",
       "z\n",
       "\" transform=\"scale(0.015625)\"/>\n",
       "      <path id=\"DejaVuSans-67\" d=\"M 2906 1791 \n",
       "Q 2906 2416 2648 2759 \n",
       "Q 2391 3103 1925 3103 \n",
       "Q 1463 3103 1205 2759 \n",
       "Q 947 2416 947 1791 \n",
       "Q 947 1169 1205 825 \n",
       "Q 1463 481 1925 481 \n",
       "Q 2391 481 2648 825 \n",
       "Q 2906 1169 2906 1791 \n",
       "z\n",
       "M 3481 434 \n",
       "Q 3481 -459 3084 -895 \n",
       "Q 2688 -1331 1869 -1331 \n",
       "Q 1566 -1331 1297 -1286 \n",
       "Q 1028 -1241 775 -1147 \n",
       "L 775 -588 \n",
       "Q 1028 -725 1275 -790 \n",
       "Q 1522 -856 1778 -856 \n",
       "Q 2344 -856 2625 -561 \n",
       "Q 2906 -266 2906 331 \n",
       "L 2906 616 \n",
       "Q 2728 306 2450 153 \n",
       "Q 2172 0 1784 0 \n",
       "Q 1141 0 747 490 \n",
       "Q 353 981 353 1791 \n",
       "Q 353 2603 747 3093 \n",
       "Q 1141 3584 1784 3584 \n",
       "Q 2172 3584 2450 3431 \n",
       "Q 2728 3278 2906 2969 \n",
       "L 2906 3500 \n",
       "L 3481 3500 \n",
       "L 3481 434 \n",
       "z\n",
       "\" transform=\"scale(0.015625)\"/>\n",
       "      <path id=\"DejaVuSans-68\" d=\"M 3513 2113 \n",
       "L 3513 0 \n",
       "L 2938 0 \n",
       "L 2938 2094 \n",
       "Q 2938 2591 2744 2837 \n",
       "Q 2550 3084 2163 3084 \n",
       "Q 1697 3084 1428 2787 \n",
       "Q 1159 2491 1159 1978 \n",
       "L 1159 0 \n",
       "L 581 0 \n",
       "L 581 4863 \n",
       "L 1159 4863 \n",
       "L 1159 2956 \n",
       "Q 1366 3272 1645 3428 \n",
       "Q 1925 3584 2291 3584 \n",
       "Q 2894 3584 3203 3211 \n",
       "Q 3513 2838 3513 2113 \n",
       "z\n",
       "\" transform=\"scale(0.015625)\"/>\n",
       "      <path id=\"DejaVuSans-74\" d=\"M 1172 4494 \n",
       "L 1172 3500 \n",
       "L 2356 3500 \n",
       "L 2356 3053 \n",
       "L 1172 3053 \n",
       "L 1172 1153 \n",
       "Q 1172 725 1289 603 \n",
       "Q 1406 481 1766 481 \n",
       "L 2356 481 \n",
       "L 2356 0 \n",
       "L 1766 0 \n",
       "Q 1100 0 847 248 \n",
       "Q 594 497 594 1153 \n",
       "L 594 3053 \n",
       "L 172 3053 \n",
       "L 172 3500 \n",
       "L 594 3500 \n",
       "L 594 4494 \n",
       "L 1172 4494 \n",
       "z\n",
       "\" transform=\"scale(0.015625)\"/>\n",
       "      <path id=\"DejaVuSans-64\" d=\"M 2906 2969 \n",
       "L 2906 4863 \n",
       "L 3481 4863 \n",
       "L 3481 0 \n",
       "L 2906 0 \n",
       "L 2906 525 \n",
       "Q 2725 213 2448 61 \n",
       "Q 2172 -91 1784 -91 \n",
       "Q 1150 -91 751 415 \n",
       "Q 353 922 353 1747 \n",
       "Q 353 2572 751 3078 \n",
       "Q 1150 3584 1784 3584 \n",
       "Q 2172 3584 2448 3432 \n",
       "Q 2725 3281 2906 2969 \n",
       "z\n",
       "M 947 1747 \n",
       "Q 947 1113 1208 752 \n",
       "Q 1469 391 1925 391 \n",
       "Q 2381 391 2643 752 \n",
       "Q 2906 1113 2906 1747 \n",
       "Q 2906 2381 2643 2742 \n",
       "Q 2381 3103 1925 3103 \n",
       "Q 1469 3103 1208 2742 \n",
       "Q 947 2381 947 1747 \n",
       "z\n",
       "\" transform=\"scale(0.015625)\"/>\n",
       "      <path id=\"DejaVuSans-20\" transform=\"scale(0.015625)\"/>\n",
       "      <path id=\"DejaVuSans-72\" d=\"M 2631 2963 \n",
       "Q 2534 3019 2420 3045 \n",
       "Q 2306 3072 2169 3072 \n",
       "Q 1681 3072 1420 2755 \n",
       "Q 1159 2438 1159 1844 \n",
       "L 1159 0 \n",
       "L 581 0 \n",
       "L 581 3500 \n",
       "L 1159 3500 \n",
       "L 1159 2956 \n",
       "Q 1341 3275 1631 3429 \n",
       "Q 1922 3584 2338 3584 \n",
       "Q 2397 3584 2469 3576 \n",
       "Q 2541 3569 2628 3553 \n",
       "L 2631 2963 \n",
       "z\n",
       "\" transform=\"scale(0.015625)\"/>\n",
       "      <path id=\"DejaVuSans-63\" d=\"M 3122 3366 \n",
       "L 3122 2828 \n",
       "Q 2878 2963 2633 3030 \n",
       "Q 2388 3097 2138 3097 \n",
       "Q 1578 3097 1268 2742 \n",
       "Q 959 2388 959 1747 \n",
       "Q 959 1106 1268 751 \n",
       "Q 1578 397 2138 397 \n",
       "Q 2388 397 2633 464 \n",
       "Q 2878 531 3122 666 \n",
       "L 3122 134 \n",
       "Q 2881 22 2623 -34 \n",
       "Q 2366 -91 2075 -91 \n",
       "Q 1284 -91 818 406 \n",
       "Q 353 903 353 1747 \n",
       "Q 353 2603 823 3093 \n",
       "Q 1294 3584 2113 3584 \n",
       "Q 2378 3584 2631 3529 \n",
       "Q 2884 3475 3122 3366 \n",
       "z\n",
       "\" transform=\"scale(0.015625)\"/>\n",
       "      <path id=\"DejaVuSans-70\" d=\"M 1159 525 \n",
       "L 1159 -1331 \n",
       "L 581 -1331 \n",
       "L 581 3500 \n",
       "L 1159 3500 \n",
       "L 1159 2969 \n",
       "Q 1341 3281 1617 3432 \n",
       "Q 1894 3584 2278 3584 \n",
       "Q 2916 3584 3314 3078 \n",
       "Q 3713 2572 3713 1747 \n",
       "Q 3713 922 3314 415 \n",
       "Q 2916 -91 2278 -91 \n",
       "Q 1894 -91 1617 61 \n",
       "Q 1341 213 1159 525 \n",
       "z\n",
       "M 3116 1747 \n",
       "Q 3116 2381 2855 2742 \n",
       "Q 2594 3103 2138 3103 \n",
       "Q 1681 3103 1420 2742 \n",
       "Q 1159 2381 1159 1747 \n",
       "Q 1159 1113 1420 752 \n",
       "Q 1681 391 2138 391 \n",
       "Q 2594 391 2855 752 \n",
       "Q 3116 1113 3116 1747 \n",
       "z\n",
       "\" transform=\"scale(0.015625)\"/>\n",
       "      <path id=\"DejaVuSans-76\" d=\"M 191 3500 \n",
       "L 800 3500 \n",
       "L 1894 563 \n",
       "L 2988 3500 \n",
       "L 3597 3500 \n",
       "L 2284 0 \n",
       "L 1503 0 \n",
       "L 191 3500 \n",
       "z\n",
       "\" transform=\"scale(0.015625)\"/>\n",
       "      <path id=\"DejaVuSans-66\" d=\"M 2375 4863 \n",
       "L 2375 4384 \n",
       "L 1825 4384 \n",
       "Q 1516 4384 1395 4259 \n",
       "Q 1275 4134 1275 3809 \n",
       "L 1275 3500 \n",
       "L 2222 3500 \n",
       "L 2222 3053 \n",
       "L 1275 3053 \n",
       "L 1275 0 \n",
       "L 697 0 \n",
       "L 697 3053 \n",
       "L 147 3053 \n",
       "L 147 3500 \n",
       "L 697 3500 \n",
       "L 697 3744 \n",
       "Q 697 4328 969 4595 \n",
       "Q 1241 4863 1831 4863 \n",
       "L 2375 4863 \n",
       "z\n",
       "\" transform=\"scale(0.015625)\"/>\n",
       "      <path id=\"DejaVuSans-6c\" d=\"M 603 4863 \n",
       "L 1178 4863 \n",
       "L 1178 0 \n",
       "L 603 0 \n",
       "L 603 4863 \n",
       "z\n",
       "\" transform=\"scale(0.015625)\"/>\n",
       "     </defs>\n",
       "     <use xlink:href=\"#DejaVuSans-57\"/>\n",
       "     <use xlink:href=\"#DejaVuSans-65\" x=\"93.001953\"/>\n",
       "     <use xlink:href=\"#DejaVuSans-69\" x=\"154.525391\"/>\n",
       "     <use xlink:href=\"#DejaVuSans-67\" x=\"182.308594\"/>\n",
       "     <use xlink:href=\"#DejaVuSans-68\" x=\"245.785156\"/>\n",
       "     <use xlink:href=\"#DejaVuSans-74\" x=\"309.164062\"/>\n",
       "     <use xlink:href=\"#DejaVuSans-65\" x=\"348.373047\"/>\n",
       "     <use xlink:href=\"#DejaVuSans-64\" x=\"409.896484\"/>\n",
       "     <use xlink:href=\"#DejaVuSans-20\" x=\"473.373047\"/>\n",
       "     <use xlink:href=\"#DejaVuSans-72\" x=\"505.160156\"/>\n",
       "     <use xlink:href=\"#DejaVuSans-65\" x=\"544.023438\"/>\n",
       "     <use xlink:href=\"#DejaVuSans-63\" x=\"605.546875\"/>\n",
       "     <use xlink:href=\"#DejaVuSans-65\" x=\"660.527344\"/>\n",
       "     <use xlink:href=\"#DejaVuSans-70\" x=\"722.050781\"/>\n",
       "     <use xlink:href=\"#DejaVuSans-74\" x=\"785.527344\"/>\n",
       "     <use xlink:href=\"#DejaVuSans-69\" x=\"824.736328\"/>\n",
       "     <use xlink:href=\"#DejaVuSans-76\" x=\"852.519531\"/>\n",
       "     <use xlink:href=\"#DejaVuSans-65\" x=\"911.699219\"/>\n",
       "     <use xlink:href=\"#DejaVuSans-20\" x=\"973.222656\"/>\n",
       "     <use xlink:href=\"#DejaVuSans-66\" x=\"1005.009766\"/>\n",
       "     <use xlink:href=\"#DejaVuSans-69\" x=\"1040.214844\"/>\n",
       "     <use xlink:href=\"#DejaVuSans-65\" x=\"1067.998047\"/>\n",
       "     <use xlink:href=\"#DejaVuSans-6c\" x=\"1129.521484\"/>\n",
       "     <use xlink:href=\"#DejaVuSans-64\" x=\"1157.304688\"/>\n",
       "    </g>\n",
       "   </g>\n",
       "  </g>\n",
       "  <g id=\"axes_2\">\n",
       "   <g clip-path=\"url(#pa0a5719e32)\">\n",
       "    <image xlink:href=\"data:image/png;base64,\n",
       "iVBORw0KGgoAAAANSUhEUgAAAOIAAADiCAYAAABTEBvXAAAC4klEQVR4nO3cSQ1CAQwA0c+iAQGY4IAG1KIBGwjAA4sCTjT5k/CegKaXSW/dLMfLewFWtV17AUCIkCBECBAiBAgRAoQIAUKEACFCgBAhQIgQIEQIECIECBEChAgBQoQAIUKAECFAiBAgRAgQIgQIEQKECAFChAAhQoAQIUCIECBECBAiBAgRAoQIAUKEACFCgBAhQIgQIEQIECIECBEChAgBQoQAIUKAECFAiBAgRAgQIgQIEQKECAFChAAhQoAQIUCIECBECBAiBAgRAoQIAUKEACFCgBAhQIgQIEQIECIECBEChAgBQoQAIUKAECFAiBAgRAgQIgQIEQKECAFChAAhQoAQIUCIECBECBAiBAgRAoQIAUKEACFCgBAhQIgQIEQIECIECBEChAgBQoQAIUKAECFAiBAgRAgQIgQIEQKECAFChAAhQoAQIUCIECBECBAiBAgRAoQIAfu1F+C79/06Om9zvIzOY46LCAFChAAhQoAQIUCIECBECBAiBAgRAoQIAUKEACFCgBAhQIgQIEQIECIECBEChAgBQoQAIUKAnzVDnrfH+MzXchqd91zmd9ydD+Mz/5GLCAFChAAhQoAQIUCIECBECBAiBAgRAoQIAUKEACFCgBAhQIgQIEQIECIECBEChAgBQoQAIUKAECHA86ghnijxCxcRAoQIAUKEACFCgBAhQIgQIEQIECIECBEChAgBQoQAIUKAECFAiBAgRAgQIgQIEQKECAFChAAhQoAQIUCIECBECBAiBAgRAoQIAUKEACFCgBAhQIgQIEQIECIECBEChAgBQoQAIUKAECFAiBAgRAgQIgQIEQKECAFChAAhQoAQIUCIECBECBAiBAgRAoQIAUKEACFCgBAhQIgQIEQIECIECBEChAgBQoQAIUKAECFAiBAgRAgQIgQIEQKECAFChAAhQoAQIUCIECBECBAiBAgRAoQIAUKEACFCgBAhQIgQIEQIECIECBECPli5DKj+786SAAAAAElFTkSuQmCC\" id=\"image91e4d43517\" transform=\"scale(1 -1) translate(0 -162.72)\" x=\"202\" y=\"-22.125398\" width=\"162.72\" height=\"162.72\"/>\n",
       "   </g>\n",
       "   <g id=\"text_2\">\n",
       "    <!-- Binary receptive field -->\n",
       "    <g transform=\"translate(219.029489 16.318125) scale(0.12 -0.12)\">\n",
       "     <defs>\n",
       "      <path id=\"DejaVuSans-42\" d=\"M 1259 2228 \n",
       "L 1259 519 \n",
       "L 2272 519 \n",
       "Q 2781 519 3026 730 \n",
       "Q 3272 941 3272 1375 \n",
       "Q 3272 1813 3026 2020 \n",
       "Q 2781 2228 2272 2228 \n",
       "L 1259 2228 \n",
       "z\n",
       "M 1259 4147 \n",
       "L 1259 2741 \n",
       "L 2194 2741 \n",
       "Q 2656 2741 2882 2914 \n",
       "Q 3109 3088 3109 3444 \n",
       "Q 3109 3797 2882 3972 \n",
       "Q 2656 4147 2194 4147 \n",
       "L 1259 4147 \n",
       "z\n",
       "M 628 4666 \n",
       "L 2241 4666 \n",
       "Q 2963 4666 3353 4366 \n",
       "Q 3744 4066 3744 3513 \n",
       "Q 3744 3084 3544 2831 \n",
       "Q 3344 2578 2956 2516 \n",
       "Q 3422 2416 3680 2098 \n",
       "Q 3938 1781 3938 1306 \n",
       "Q 3938 681 3513 340 \n",
       "Q 3088 0 2303 0 \n",
       "L 628 0 \n",
       "L 628 4666 \n",
       "z\n",
       "\" transform=\"scale(0.015625)\"/>\n",
       "      <path id=\"DejaVuSans-6e\" d=\"M 3513 2113 \n",
       "L 3513 0 \n",
       "L 2938 0 \n",
       "L 2938 2094 \n",
       "Q 2938 2591 2744 2837 \n",
       "Q 2550 3084 2163 3084 \n",
       "Q 1697 3084 1428 2787 \n",
       "Q 1159 2491 1159 1978 \n",
       "L 1159 0 \n",
       "L 581 0 \n",
       "L 581 3500 \n",
       "L 1159 3500 \n",
       "L 1159 2956 \n",
       "Q 1366 3272 1645 3428 \n",
       "Q 1925 3584 2291 3584 \n",
       "Q 2894 3584 3203 3211 \n",
       "Q 3513 2838 3513 2113 \n",
       "z\n",
       "\" transform=\"scale(0.015625)\"/>\n",
       "      <path id=\"DejaVuSans-61\" d=\"M 2194 1759 \n",
       "Q 1497 1759 1228 1600 \n",
       "Q 959 1441 959 1056 \n",
       "Q 959 750 1161 570 \n",
       "Q 1363 391 1709 391 \n",
       "Q 2188 391 2477 730 \n",
       "Q 2766 1069 2766 1631 \n",
       "L 2766 1759 \n",
       "L 2194 1759 \n",
       "z\n",
       "M 3341 1997 \n",
       "L 3341 0 \n",
       "L 2766 0 \n",
       "L 2766 531 \n",
       "Q 2569 213 2275 61 \n",
       "Q 1981 -91 1556 -91 \n",
       "Q 1019 -91 701 211 \n",
       "Q 384 513 384 1019 \n",
       "Q 384 1609 779 1909 \n",
       "Q 1175 2209 1959 2209 \n",
       "L 2766 2209 \n",
       "L 2766 2266 \n",
       "Q 2766 2663 2505 2880 \n",
       "Q 2244 3097 1772 3097 \n",
       "Q 1472 3097 1187 3025 \n",
       "Q 903 2953 641 2809 \n",
       "L 641 3341 \n",
       "Q 956 3463 1253 3523 \n",
       "Q 1550 3584 1831 3584 \n",
       "Q 2591 3584 2966 3190 \n",
       "Q 3341 2797 3341 1997 \n",
       "z\n",
       "\" transform=\"scale(0.015625)\"/>\n",
       "      <path id=\"DejaVuSans-79\" d=\"M 2059 -325 \n",
       "Q 1816 -950 1584 -1140 \n",
       "Q 1353 -1331 966 -1331 \n",
       "L 506 -1331 \n",
       "L 506 -850 \n",
       "L 844 -850 \n",
       "Q 1081 -850 1212 -737 \n",
       "Q 1344 -625 1503 -206 \n",
       "L 1606 56 \n",
       "L 191 3500 \n",
       "L 800 3500 \n",
       "L 1894 763 \n",
       "L 2988 3500 \n",
       "L 3597 3500 \n",
       "L 2059 -325 \n",
       "z\n",
       "\" transform=\"scale(0.015625)\"/>\n",
       "     </defs>\n",
       "     <use xlink:href=\"#DejaVuSans-42\"/>\n",
       "     <use xlink:href=\"#DejaVuSans-69\" x=\"68.603516\"/>\n",
       "     <use xlink:href=\"#DejaVuSans-6e\" x=\"96.386719\"/>\n",
       "     <use xlink:href=\"#DejaVuSans-61\" x=\"159.765625\"/>\n",
       "     <use xlink:href=\"#DejaVuSans-72\" x=\"221.044922\"/>\n",
       "     <use xlink:href=\"#DejaVuSans-79\" x=\"262.158203\"/>\n",
       "     <use xlink:href=\"#DejaVuSans-20\" x=\"321.337891\"/>\n",
       "     <use xlink:href=\"#DejaVuSans-72\" x=\"353.125\"/>\n",
       "     <use xlink:href=\"#DejaVuSans-65\" x=\"391.988281\"/>\n",
       "     <use xlink:href=\"#DejaVuSans-63\" x=\"453.511719\"/>\n",
       "     <use xlink:href=\"#DejaVuSans-65\" x=\"508.492188\"/>\n",
       "     <use xlink:href=\"#DejaVuSans-70\" x=\"570.015625\"/>\n",
       "     <use xlink:href=\"#DejaVuSans-74\" x=\"633.492188\"/>\n",
       "     <use xlink:href=\"#DejaVuSans-69\" x=\"672.701172\"/>\n",
       "     <use xlink:href=\"#DejaVuSans-76\" x=\"700.484375\"/>\n",
       "     <use xlink:href=\"#DejaVuSans-65\" x=\"759.664062\"/>\n",
       "     <use xlink:href=\"#DejaVuSans-20\" x=\"821.1875\"/>\n",
       "     <use xlink:href=\"#DejaVuSans-66\" x=\"852.974609\"/>\n",
       "     <use xlink:href=\"#DejaVuSans-69\" x=\"888.179688\"/>\n",
       "     <use xlink:href=\"#DejaVuSans-65\" x=\"915.962891\"/>\n",
       "     <use xlink:href=\"#DejaVuSans-6c\" x=\"977.486328\"/>\n",
       "     <use xlink:href=\"#DejaVuSans-64\" x=\"1005.269531\"/>\n",
       "    </g>\n",
       "   </g>\n",
       "  </g>\n",
       " </g>\n",
       " <defs>\n",
       "  <clipPath id=\"pda8d4124c9\">\n",
       "   <rect x=\"7.2\" y=\"22.318125\" width=\"162.327273\" height=\"162.327273\"/>\n",
       "  </clipPath>\n",
       "  <clipPath id=\"pa0a5719e32\">\n",
       "   <rect x=\"201.992727\" y=\"22.318125\" width=\"162.327273\" height=\"162.327273\"/>\n",
       "  </clipPath>\n",
       " </defs>\n",
       "</svg>\n"
      ],
      "text/plain": [
       "<Figure size 640x480 with 2 Axes>"
      ]
     },
     "metadata": {},
     "output_type": "display_data"
    }
   ],
   "source": [
    "vert_conv = VerticalStackConvolution(c_in=1, c_out=1, kernel_size=3, mask_center=True)\n",
    "vert_conv.conv.weight.data.fill_(1)\n",
    "vert_conv.conv.bias.data.fill_(0)\n",
    "vert_img = vert_conv(inp_img)\n",
    "show_center_recep_field(inp_img, vert_img)"
   ]
  },
  {
   "cell_type": "markdown",
   "metadata": {},
   "source": [
    "The vertical convolution takes all pixels above into account. Combining these two, we get the L-shaped receptive field of the original masked convolution:"
   ]
  },
  {
   "cell_type": "code",
   "execution_count": 259,
   "metadata": {},
   "outputs": [
    {
     "data": {
      "application/pdf": "[encoded data removed]",
      "image/svg+xml": [
       "<?xml version=\"1.0\" encoding=\"utf-8\" standalone=\"no\"?>\n",
       "<!DOCTYPE svg PUBLIC \"-//W3C//DTD SVG 1.1//EN\"\n",
       "  \"http://www.w3.org/Graphics/SVG/1.1/DTD/svg11.dtd\">\n",
       "<svg xmlns:xlink=\"http://www.w3.org/1999/xlink\" width=\"371.52pt\" height=\"191.845398pt\" viewBox=\"0 0 371.52 191.845398\" xmlns=\"http://www.w3.org/2000/svg\" version=\"1.1\">\n",
       " <metadata>\n",
       "  <rdf:RDF xmlns:dc=\"http://purl.org/dc/elements/1.1/\" xmlns:cc=\"http://creativecommons.org/ns#\" xmlns:rdf=\"http://www.w3.org/1999/02/22-rdf-syntax-ns#\">\n",
       "   <cc:Work>\n",
       "    <dc:type rdf:resource=\"http://purl.org/dc/dcmitype/StillImage\"/>\n",
       "    <dc:date>2024-07-18T13:42:45.375370</dc:date>\n",
       "    <dc:format>image/svg+xml</dc:format>\n",
       "    <dc:creator>\n",
       "     <cc:Agent>\n",
       "      <dc:title>Matplotlib v3.7.1, https://matplotlib.org/</dc:title>\n",
       "     </cc:Agent>\n",
       "    </dc:creator>\n",
       "   </cc:Work>\n",
       "  </rdf:RDF>\n",
       " </metadata>\n",
       " <defs>\n",
       "  <style type=\"text/css\">*{stroke-linejoin: round; stroke-linecap: butt}</style>\n",
       " </defs>\n",
       " <g id=\"figure_1\">\n",
       "  <g id=\"patch_1\">\n",
       "   <path d=\"M 0 191.845398 \n",
       "L 371.52 191.845398 \n",
       "L 371.52 -0 \n",
       "L 0 -0 \n",
       "z\n",
       "\" style=\"fill: #ffffff\"/>\n",
       "  </g>\n",
       "  <g id=\"axes_1\">\n",
       "   <g clip-path=\"url(#pa259f454c1)\">\n",
       "    <image xlink:href=\"data:image/png;base64,\n",
       "iVBORw0KGgoAAAANSUhEUgAAAOIAAADiCAYAAABTEBvXAAAC40lEQVR4nO3csQ3CUAxAwRCYAYmWJSiYIWNTMAkSOwQYgi/lCe4GsNw8ufNuOi/vCdjUvPUCgBAhQYgQIEQIECIECBEChAgBQoQAIUKAECFAiBAgRAgQIgQIEQKECAFChAAhQoAQIUCIECBECBAiBAgRAoQIAUKEACFCgBAhQIgQIEQIECIECBEChAgBQoQAIUKAECFAiBAgRAgQIgQIEQKECAFChAAhQoAQIUCIECBECBAiBAgRAoQIAUKEACFCgBAhQIgQIEQIECIECBEChAgBQoQAIUKAECFAiBAgRAgQIgQIEQKECAFChAAhQoAQIUCIECBECBAiBAgRAoQIAUKEACFCgBAhQIgQIEQIECIECBEChAgBQoQAIUKAECFAiBAgRAgQIgQIEQKECAFChAAhQoAQIUCIECBECBAiBAgRAoQIAUKEACFCgBAhQIgQIEQIECIECBECDlsv8CvW23P4zPl0Hzpvd16GzmMcFxEChAgBQoQAIUKAECFAiBAgRAgQIgQIEQKECAFChAAhQoAQIUCIECBECBAiBAgRAoQIAUKEAD9rwl6Py9B56zT+r87+ehw+8x+5iBAgRAgQIgQIEQKECAFChAAhQoAQIUCIECBECBAiBAgRAoQIAUKEACFCgBAhQIgQIEQIECIECBECPI8axBMlvuEiQoAQIUCIECBECBAiBAgRAoQIAUKEACFCgBAhQIgQIEQIECIECBEChAgBQoQAIUKAECFAiBAgRAgQIgQIEQKECAFChAAhQoAQIUCIECBECBAiBAgRAoQIAUKEACFCgBAhQIgQIEQIECIECBEChAgBQoQAIUKAECFAiBAgRAgQIgQIEQKECAFChAAhQoAQIUCIECBECBAiBAgRAoQIAUKEACFCgBAhQIgQIEQIECIECBEChAgBQoQAIUKAECFAiBAgRAgQIgQIEQKECAFChAAhQoAQIUCIECBECBAiBAgRAoQIAUKEACFCwAcKMQvj9406HgAAAABJRU5ErkJggg==\" id=\"imageaf71385df6\" transform=\"scale(1 -1) translate(0 -162.72)\" x=\"7\" y=\"-22.125398\" width=\"162.72\" height=\"162.72\"/>\n",
       "   </g>\n",
       "   <g id=\"text_1\">\n",
       "    <!-- Weighted receptive field -->\n",
       "    <g transform=\"translate(15.113949 16.318125) scale(0.12 -0.12)\">\n",
       "     <defs>\n",
       "      <path id=\"DejaVuSans-57\" d=\"M 213 4666 \n",
       "L 850 4666 \n",
       "L 1831 722 \n",
       "L 2809 4666 \n",
       "L 3519 4666 \n",
       "L 4500 722 \n",
       "L 5478 4666 \n",
       "L 6119 4666 \n",
       "L 4947 0 \n",
       "L 4153 0 \n",
       "L 3169 4050 \n",
       "L 2175 0 \n",
       "L 1381 0 \n",
       "L 213 4666 \n",
       "z\n",
       "\" transform=\"scale(0.015625)\"/>\n",
       "      <path id=\"DejaVuSans-65\" d=\"M 3597 1894 \n",
       "L 3597 1613 \n",
       "L 953 1613 \n",
       "Q 991 1019 1311 708 \n",
       "Q 1631 397 2203 397 \n",
       "Q 2534 397 2845 478 \n",
       "Q 3156 559 3463 722 \n",
       "L 3463 178 \n",
       "Q 3153 47 2828 -22 \n",
       "Q 2503 -91 2169 -91 \n",
       "Q 1331 -91 842 396 \n",
       "Q 353 884 353 1716 \n",
       "Q 353 2575 817 3079 \n",
       "Q 1281 3584 2069 3584 \n",
       "Q 2775 3584 3186 3129 \n",
       "Q 3597 2675 3597 1894 \n",
       "z\n",
       "M 3022 2063 \n",
       "Q 3016 2534 2758 2815 \n",
       "Q 2500 3097 2075 3097 \n",
       "Q 1594 3097 1305 2825 \n",
       "Q 1016 2553 972 2059 \n",
       "L 3022 2063 \n",
       "z\n",
       "\" transform=\"scale(0.015625)\"/>\n",
       "      <path id=\"DejaVuSans-69\" d=\"M 603 3500 \n",
       "L 1178 3500 \n",
       "L 1178 0 \n",
       "L 603 0 \n",
       "L 603 3500 \n",
       "z\n",
       "M 603 4863 \n",
       "L 1178 4863 \n",
       "L 1178 4134 \n",
       "L 603 4134 \n",
       "L 603 4863 \n",
       "z\n",
       "\" transform=\"scale(0.015625)\"/>\n",
       "      <path id=\"DejaVuSans-67\" d=\"M 2906 1791 \n",
       "Q 2906 2416 2648 2759 \n",
       "Q 2391 3103 1925 3103 \n",
       "Q 1463 3103 1205 2759 \n",
       "Q 947 2416 947 1791 \n",
       "Q 947 1169 1205 825 \n",
       "Q 1463 481 1925 481 \n",
       "Q 2391 481 2648 825 \n",
       "Q 2906 1169 2906 1791 \n",
       "z\n",
       "M 3481 434 \n",
       "Q 3481 -459 3084 -895 \n",
       "Q 2688 -1331 1869 -1331 \n",
       "Q 1566 -1331 1297 -1286 \n",
       "Q 1028 -1241 775 -1147 \n",
       "L 775 -588 \n",
       "Q 1028 -725 1275 -790 \n",
       "Q 1522 -856 1778 -856 \n",
       "Q 2344 -856 2625 -561 \n",
       "Q 2906 -266 2906 331 \n",
       "L 2906 616 \n",
       "Q 2728 306 2450 153 \n",
       "Q 2172 0 1784 0 \n",
       "Q 1141 0 747 490 \n",
       "Q 353 981 353 1791 \n",
       "Q 353 2603 747 3093 \n",
       "Q 1141 3584 1784 3584 \n",
       "Q 2172 3584 2450 3431 \n",
       "Q 2728 3278 2906 2969 \n",
       "L 2906 3500 \n",
       "L 3481 3500 \n",
       "L 3481 434 \n",
       "z\n",
       "\" transform=\"scale(0.015625)\"/>\n",
       "      <path id=\"DejaVuSans-68\" d=\"M 3513 2113 \n",
       "L 3513 0 \n",
       "L 2938 0 \n",
       "L 2938 2094 \n",
       "Q 2938 2591 2744 2837 \n",
       "Q 2550 3084 2163 3084 \n",
       "Q 1697 3084 1428 2787 \n",
       "Q 1159 2491 1159 1978 \n",
       "L 1159 0 \n",
       "L 581 0 \n",
       "L 581 4863 \n",
       "L 1159 4863 \n",
       "L 1159 2956 \n",
       "Q 1366 3272 1645 3428 \n",
       "Q 1925 3584 2291 3584 \n",
       "Q 2894 3584 3203 3211 \n",
       "Q 3513 2838 3513 2113 \n",
       "z\n",
       "\" transform=\"scale(0.015625)\"/>\n",
       "      <path id=\"DejaVuSans-74\" d=\"M 1172 4494 \n",
       "L 1172 3500 \n",
       "L 2356 3500 \n",
       "L 2356 3053 \n",
       "L 1172 3053 \n",
       "L 1172 1153 \n",
       "Q 1172 725 1289 603 \n",
       "Q 1406 481 1766 481 \n",
       "L 2356 481 \n",
       "L 2356 0 \n",
       "L 1766 0 \n",
       "Q 1100 0 847 248 \n",
       "Q 594 497 594 1153 \n",
       "L 594 3053 \n",
       "L 172 3053 \n",
       "L 172 3500 \n",
       "L 594 3500 \n",
       "L 594 4494 \n",
       "L 1172 4494 \n",
       "z\n",
       "\" transform=\"scale(0.015625)\"/>\n",
       "      <path id=\"DejaVuSans-64\" d=\"M 2906 2969 \n",
       "L 2906 4863 \n",
       "L 3481 4863 \n",
       "L 3481 0 \n",
       "L 2906 0 \n",
       "L 2906 525 \n",
       "Q 2725 213 2448 61 \n",
       "Q 2172 -91 1784 -91 \n",
       "Q 1150 -91 751 415 \n",
       "Q 353 922 353 1747 \n",
       "Q 353 2572 751 3078 \n",
       "Q 1150 3584 1784 3584 \n",
       "Q 2172 3584 2448 3432 \n",
       "Q 2725 3281 2906 2969 \n",
       "z\n",
       "M 947 1747 \n",
       "Q 947 1113 1208 752 \n",
       "Q 1469 391 1925 391 \n",
       "Q 2381 391 2643 752 \n",
       "Q 2906 1113 2906 1747 \n",
       "Q 2906 2381 2643 2742 \n",
       "Q 2381 3103 1925 3103 \n",
       "Q 1469 3103 1208 2742 \n",
       "Q 947 2381 947 1747 \n",
       "z\n",
       "\" transform=\"scale(0.015625)\"/>\n",
       "      <path id=\"DejaVuSans-20\" transform=\"scale(0.015625)\"/>\n",
       "      <path id=\"DejaVuSans-72\" d=\"M 2631 2963 \n",
       "Q 2534 3019 2420 3045 \n",
       "Q 2306 3072 2169 3072 \n",
       "Q 1681 3072 1420 2755 \n",
       "Q 1159 2438 1159 1844 \n",
       "L 1159 0 \n",
       "L 581 0 \n",
       "L 581 3500 \n",
       "L 1159 3500 \n",
       "L 1159 2956 \n",
       "Q 1341 3275 1631 3429 \n",
       "Q 1922 3584 2338 3584 \n",
       "Q 2397 3584 2469 3576 \n",
       "Q 2541 3569 2628 3553 \n",
       "L 2631 2963 \n",
       "z\n",
       "\" transform=\"scale(0.015625)\"/>\n",
       "      <path id=\"DejaVuSans-63\" d=\"M 3122 3366 \n",
       "L 3122 2828 \n",
       "Q 2878 2963 2633 3030 \n",
       "Q 2388 3097 2138 3097 \n",
       "Q 1578 3097 1268 2742 \n",
       "Q 959 2388 959 1747 \n",
       "Q 959 1106 1268 751 \n",
       "Q 1578 397 2138 397 \n",
       "Q 2388 397 2633 464 \n",
       "Q 2878 531 3122 666 \n",
       "L 3122 134 \n",
       "Q 2881 22 2623 -34 \n",
       "Q 2366 -91 2075 -91 \n",
       "Q 1284 -91 818 406 \n",
       "Q 353 903 353 1747 \n",
       "Q 353 2603 823 3093 \n",
       "Q 1294 3584 2113 3584 \n",
       "Q 2378 3584 2631 3529 \n",
       "Q 2884 3475 3122 3366 \n",
       "z\n",
       "\" transform=\"scale(0.015625)\"/>\n",
       "      <path id=\"DejaVuSans-70\" d=\"M 1159 525 \n",
       "L 1159 -1331 \n",
       "L 581 -1331 \n",
       "L 581 3500 \n",
       "L 1159 3500 \n",
       "L 1159 2969 \n",
       "Q 1341 3281 1617 3432 \n",
       "Q 1894 3584 2278 3584 \n",
       "Q 2916 3584 3314 3078 \n",
       "Q 3713 2572 3713 1747 \n",
       "Q 3713 922 3314 415 \n",
       "Q 2916 -91 2278 -91 \n",
       "Q 1894 -91 1617 61 \n",
       "Q 1341 213 1159 525 \n",
       "z\n",
       "M 3116 1747 \n",
       "Q 3116 2381 2855 2742 \n",
       "Q 2594 3103 2138 3103 \n",
       "Q 1681 3103 1420 2742 \n",
       "Q 1159 2381 1159 1747 \n",
       "Q 1159 1113 1420 752 \n",
       "Q 1681 391 2138 391 \n",
       "Q 2594 391 2855 752 \n",
       "Q 3116 1113 3116 1747 \n",
       "z\n",
       "\" transform=\"scale(0.015625)\"/>\n",
       "      <path id=\"DejaVuSans-76\" d=\"M 191 3500 \n",
       "L 800 3500 \n",
       "L 1894 563 \n",
       "L 2988 3500 \n",
       "L 3597 3500 \n",
       "L 2284 0 \n",
       "L 1503 0 \n",
       "L 191 3500 \n",
       "z\n",
       "\" transform=\"scale(0.015625)\"/>\n",
       "      <path id=\"DejaVuSans-66\" d=\"M 2375 4863 \n",
       "L 2375 4384 \n",
       "L 1825 4384 \n",
       "Q 1516 4384 1395 4259 \n",
       "Q 1275 4134 1275 3809 \n",
       "L 1275 3500 \n",
       "L 2222 3500 \n",
       "L 2222 3053 \n",
       "L 1275 3053 \n",
       "L 1275 0 \n",
       "L 697 0 \n",
       "L 697 3053 \n",
       "L 147 3053 \n",
       "L 147 3500 \n",
       "L 697 3500 \n",
       "L 697 3744 \n",
       "Q 697 4328 969 4595 \n",
       "Q 1241 4863 1831 4863 \n",
       "L 2375 4863 \n",
       "z\n",
       "\" transform=\"scale(0.015625)\"/>\n",
       "      <path id=\"DejaVuSans-6c\" d=\"M 603 4863 \n",
       "L 1178 4863 \n",
       "L 1178 0 \n",
       "L 603 0 \n",
       "L 603 4863 \n",
       "z\n",
       "\" transform=\"scale(0.015625)\"/>\n",
       "     </defs>\n",
       "     <use xlink:href=\"#DejaVuSans-57\"/>\n",
       "     <use xlink:href=\"#DejaVuSans-65\" x=\"93.001953\"/>\n",
       "     <use xlink:href=\"#DejaVuSans-69\" x=\"154.525391\"/>\n",
       "     <use xlink:href=\"#DejaVuSans-67\" x=\"182.308594\"/>\n",
       "     <use xlink:href=\"#DejaVuSans-68\" x=\"245.785156\"/>\n",
       "     <use xlink:href=\"#DejaVuSans-74\" x=\"309.164062\"/>\n",
       "     <use xlink:href=\"#DejaVuSans-65\" x=\"348.373047\"/>\n",
       "     <use xlink:href=\"#DejaVuSans-64\" x=\"409.896484\"/>\n",
       "     <use xlink:href=\"#DejaVuSans-20\" x=\"473.373047\"/>\n",
       "     <use xlink:href=\"#DejaVuSans-72\" x=\"505.160156\"/>\n",
       "     <use xlink:href=\"#DejaVuSans-65\" x=\"544.023438\"/>\n",
       "     <use xlink:href=\"#DejaVuSans-63\" x=\"605.546875\"/>\n",
       "     <use xlink:href=\"#DejaVuSans-65\" x=\"660.527344\"/>\n",
       "     <use xlink:href=\"#DejaVuSans-70\" x=\"722.050781\"/>\n",
       "     <use xlink:href=\"#DejaVuSans-74\" x=\"785.527344\"/>\n",
       "     <use xlink:href=\"#DejaVuSans-69\" x=\"824.736328\"/>\n",
       "     <use xlink:href=\"#DejaVuSans-76\" x=\"852.519531\"/>\n",
       "     <use xlink:href=\"#DejaVuSans-65\" x=\"911.699219\"/>\n",
       "     <use xlink:href=\"#DejaVuSans-20\" x=\"973.222656\"/>\n",
       "     <use xlink:href=\"#DejaVuSans-66\" x=\"1005.009766\"/>\n",
       "     <use xlink:href=\"#DejaVuSans-69\" x=\"1040.214844\"/>\n",
       "     <use xlink:href=\"#DejaVuSans-65\" x=\"1067.998047\"/>\n",
       "     <use xlink:href=\"#DejaVuSans-6c\" x=\"1129.521484\"/>\n",
       "     <use xlink:href=\"#DejaVuSans-64\" x=\"1157.304688\"/>\n",
       "    </g>\n",
       "   </g>\n",
       "  </g>\n",
       "  <g id=\"axes_2\">\n",
       "   <g clip-path=\"url(#p2f05a0a902)\">\n",
       "    <image xlink:href=\"data:image/png;base64,\n",
       "iVBORw0KGgoAAAANSUhEUgAAAOIAAADiCAYAAABTEBvXAAAC40lEQVR4nO3csQ3CUAxAwRCYAYmWJSiYIWNTMAkSOwQYgi/lCe4GsNw8ufNuOi/vCdjUvPUCgBAhQYgQIEQIECIECBEChAgBQoQAIUKAECFAiBAgRAgQIgQIEQKECAFChAAhQoAQIUCIECBECBAiBAgRAoQIAUKEACFCgBAhQIgQIEQIECIECBEChAgBQoQAIUKAECFAiBAgRAgQIgQIEQKECAFChAAhQoAQIUCIECBECBAiBAgRAoQIAUKEACFCgBAhQIgQIEQIECIECBEChAgBQoQAIUKAECFAiBAgRAgQIgQIEQKECAFChAAhQoAQIUCIECBECBAiBAgRAoQIAUKEACFCgBAhQIgQIEQIECIECBEChAgBQoQAIUKAECFAiBAgRAgQIgQIEQKECAFChAAhQoAQIUCIECBECBAiBAgRAoQIAUKEACFCgBAhQIgQIEQIECIECBECDlsv8CvW23P4zPl0Hzpvd16GzmMcFxEChAgBQoQAIUKAECFAiBAgRAgQIgQIEQKECAFChAAhQoAQIUCIECBECBAiBAgRAoQIAUKEAD9rwl6Py9B56zT+r87+ehw+8x+5iBAgRAgQIgQIEQKECAFChAAhQoAQIUCIECBECBAiBAgRAoQIAUKEACFCgBAhQIgQIEQIECIECBECPI8axBMlvuEiQoAQIUCIECBECBAiBAgRAoQIAUKEACFCgBAhQIgQIEQIECIECBEChAgBQoQAIUKAECFAiBAgRAgQIgQIEQKECAFChAAhQoAQIUCIECBECBAiBAgRAoQIAUKEACFCgBAhQIgQIEQIECIECBEChAgBQoQAIUKAECFAiBAgRAgQIgQIEQKECAFChAAhQoAQIUCIECBECBAiBAgRAoQIAUKEACFCgBAhQIgQIEQIECIECBEChAgBQoQAIUKAECFAiBAgRAgQIgQIEQKECAFChAAhQoAQIUCIECBECBAiBAgRAoQIAUKEACFCwAcKMQvj9406HgAAAABJRU5ErkJggg==\" id=\"image5879606256\" transform=\"scale(1 -1) translate(0 -162.72)\" x=\"202\" y=\"-22.125398\" width=\"162.72\" height=\"162.72\"/>\n",
       "   </g>\n",
       "   <g id=\"text_2\">\n",
       "    <!-- Binary receptive field -->\n",
       "    <g transform=\"translate(219.029489 16.318125) scale(0.12 -0.12)\">\n",
       "     <defs>\n",
       "      <path id=\"DejaVuSans-42\" d=\"M 1259 2228 \n",
       "L 1259 519 \n",
       "L 2272 519 \n",
       "Q 2781 519 3026 730 \n",
       "Q 3272 941 3272 1375 \n",
       "Q 3272 1813 3026 2020 \n",
       "Q 2781 2228 2272 2228 \n",
       "L 1259 2228 \n",
       "z\n",
       "M 1259 4147 \n",
       "L 1259 2741 \n",
       "L 2194 2741 \n",
       "Q 2656 2741 2882 2914 \n",
       "Q 3109 3088 3109 3444 \n",
       "Q 3109 3797 2882 3972 \n",
       "Q 2656 4147 2194 4147 \n",
       "L 1259 4147 \n",
       "z\n",
       "M 628 4666 \n",
       "L 2241 4666 \n",
       "Q 2963 4666 3353 4366 \n",
       "Q 3744 4066 3744 3513 \n",
       "Q 3744 3084 3544 2831 \n",
       "Q 3344 2578 2956 2516 \n",
       "Q 3422 2416 3680 2098 \n",
       "Q 3938 1781 3938 1306 \n",
       "Q 3938 681 3513 340 \n",
       "Q 3088 0 2303 0 \n",
       "L 628 0 \n",
       "L 628 4666 \n",
       "z\n",
       "\" transform=\"scale(0.015625)\"/>\n",
       "      <path id=\"DejaVuSans-6e\" d=\"M 3513 2113 \n",
       "L 3513 0 \n",
       "L 2938 0 \n",
       "L 2938 2094 \n",
       "Q 2938 2591 2744 2837 \n",
       "Q 2550 3084 2163 3084 \n",
       "Q 1697 3084 1428 2787 \n",
       "Q 1159 2491 1159 1978 \n",
       "L 1159 0 \n",
       "L 581 0 \n",
       "L 581 3500 \n",
       "L 1159 3500 \n",
       "L 1159 2956 \n",
       "Q 1366 3272 1645 3428 \n",
       "Q 1925 3584 2291 3584 \n",
       "Q 2894 3584 3203 3211 \n",
       "Q 3513 2838 3513 2113 \n",
       "z\n",
       "\" transform=\"scale(0.015625)\"/>\n",
       "      <path id=\"DejaVuSans-61\" d=\"M 2194 1759 \n",
       "Q 1497 1759 1228 1600 \n",
       "Q 959 1441 959 1056 \n",
       "Q 959 750 1161 570 \n",
       "Q 1363 391 1709 391 \n",
       "Q 2188 391 2477 730 \n",
       "Q 2766 1069 2766 1631 \n",
       "L 2766 1759 \n",
       "L 2194 1759 \n",
       "z\n",
       "M 3341 1997 \n",
       "L 3341 0 \n",
       "L 2766 0 \n",
       "L 2766 531 \n",
       "Q 2569 213 2275 61 \n",
       "Q 1981 -91 1556 -91 \n",
       "Q 1019 -91 701 211 \n",
       "Q 384 513 384 1019 \n",
       "Q 384 1609 779 1909 \n",
       "Q 1175 2209 1959 2209 \n",
       "L 2766 2209 \n",
       "L 2766 2266 \n",
       "Q 2766 2663 2505 2880 \n",
       "Q 2244 3097 1772 3097 \n",
       "Q 1472 3097 1187 3025 \n",
       "Q 903 2953 641 2809 \n",
       "L 641 3341 \n",
       "Q 956 3463 1253 3523 \n",
       "Q 1550 3584 1831 3584 \n",
       "Q 2591 3584 2966 3190 \n",
       "Q 3341 2797 3341 1997 \n",
       "z\n",
       "\" transform=\"scale(0.015625)\"/>\n",
       "      <path id=\"DejaVuSans-79\" d=\"M 2059 -325 \n",
       "Q 1816 -950 1584 -1140 \n",
       "Q 1353 -1331 966 -1331 \n",
       "L 506 -1331 \n",
       "L 506 -850 \n",
       "L 844 -850 \n",
       "Q 1081 -850 1212 -737 \n",
       "Q 1344 -625 1503 -206 \n",
       "L 1606 56 \n",
       "L 191 3500 \n",
       "L 800 3500 \n",
       "L 1894 763 \n",
       "L 2988 3500 \n",
       "L 3597 3500 \n",
       "L 2059 -325 \n",
       "z\n",
       "\" transform=\"scale(0.015625)\"/>\n",
       "     </defs>\n",
       "     <use xlink:href=\"#DejaVuSans-42\"/>\n",
       "     <use xlink:href=\"#DejaVuSans-69\" x=\"68.603516\"/>\n",
       "     <use xlink:href=\"#DejaVuSans-6e\" x=\"96.386719\"/>\n",
       "     <use xlink:href=\"#DejaVuSans-61\" x=\"159.765625\"/>\n",
       "     <use xlink:href=\"#DejaVuSans-72\" x=\"221.044922\"/>\n",
       "     <use xlink:href=\"#DejaVuSans-79\" x=\"262.158203\"/>\n",
       "     <use xlink:href=\"#DejaVuSans-20\" x=\"321.337891\"/>\n",
       "     <use xlink:href=\"#DejaVuSans-72\" x=\"353.125\"/>\n",
       "     <use xlink:href=\"#DejaVuSans-65\" x=\"391.988281\"/>\n",
       "     <use xlink:href=\"#DejaVuSans-63\" x=\"453.511719\"/>\n",
       "     <use xlink:href=\"#DejaVuSans-65\" x=\"508.492188\"/>\n",
       "     <use xlink:href=\"#DejaVuSans-70\" x=\"570.015625\"/>\n",
       "     <use xlink:href=\"#DejaVuSans-74\" x=\"633.492188\"/>\n",
       "     <use xlink:href=\"#DejaVuSans-69\" x=\"672.701172\"/>\n",
       "     <use xlink:href=\"#DejaVuSans-76\" x=\"700.484375\"/>\n",
       "     <use xlink:href=\"#DejaVuSans-65\" x=\"759.664062\"/>\n",
       "     <use xlink:href=\"#DejaVuSans-20\" x=\"821.1875\"/>\n",
       "     <use xlink:href=\"#DejaVuSans-66\" x=\"852.974609\"/>\n",
       "     <use xlink:href=\"#DejaVuSans-69\" x=\"888.179688\"/>\n",
       "     <use xlink:href=\"#DejaVuSans-65\" x=\"915.962891\"/>\n",
       "     <use xlink:href=\"#DejaVuSans-6c\" x=\"977.486328\"/>\n",
       "     <use xlink:href=\"#DejaVuSans-64\" x=\"1005.269531\"/>\n",
       "    </g>\n",
       "   </g>\n",
       "  </g>\n",
       " </g>\n",
       " <defs>\n",
       "  <clipPath id=\"pa259f454c1\">\n",
       "   <rect x=\"7.2\" y=\"22.318125\" width=\"162.327273\" height=\"162.327273\"/>\n",
       "  </clipPath>\n",
       "  <clipPath id=\"p2f05a0a902\">\n",
       "   <rect x=\"201.992727\" y=\"22.318125\" width=\"162.327273\" height=\"162.327273\"/>\n",
       "  </clipPath>\n",
       " </defs>\n",
       "</svg>\n"
      ],
      "text/plain": [
       "<Figure size 640x480 with 2 Axes>"
      ]
     },
     "metadata": {},
     "output_type": "display_data"
    }
   ],
   "source": [
    "horiz_img = vert_img + horiz_img\n",
    "show_center_recep_field(inp_img, horiz_img)"
   ]
  },
  {
   "cell_type": "markdown",
   "metadata": {},
   "source": [
    "If we stack multiple horizontal and vertical convolutions, we need to take two aspects into account:\n",
    "\n",
    "1. The center should not be masked anymore for the following convolutions as the features at the pixel's position are already independent of its actual value. If it is hard to imagine why we can do this, just change the value below to `mask_center=True` and see what happens.\n",
    "2. The vertical convolution is not allowed to work on features from the horizontal convolution. In the feature map of the horizontal convolutions, a pixel contains information about all of the \"true\" pixels on the left. If we apply a vertical convolution which also uses features from the right, we effectively expand our receptive field to the true input which we want to prevent. Thus, the feature maps can only be merged for the horizontal convolution.\n",
    "\n",
    "Using this, we can stack the convolutions in the following way. We have two feature streams: one for the vertical stack, and one for the horizontal stack. The horizontal convolutions can operate on the joint features of the previous horizontals and vertical convolutions, while the vertical stack only takes its own previous features as input. For a quick implementation, we can therefore sum the horizontal and vertical output features at each layer, and use those as final output features to calculate the loss on. An implementation of 4 consecutive layers is shown below. Note that we reuse the features from the other convolutions with `mask_center=True` from above."
   ]
  },
  {
   "cell_type": "code",
   "execution_count": 260,
   "metadata": {},
   "outputs": [
    {
     "name": "stdout",
     "output_type": "stream",
     "text": [
      "Layer 2\n"
     ]
    },
    {
     "data": {
      "application/pdf": "[encoded data removed]",
      "image/svg+xml": [
       "<?xml version=\"1.0\" encoding=\"utf-8\" standalone=\"no\"?>\n",
       "<!DOCTYPE svg PUBLIC \"-//W3C//DTD SVG 1.1//EN\"\n",
       "  \"http://www.w3.org/Graphics/SVG/1.1/DTD/svg11.dtd\">\n",
       "<svg xmlns:xlink=\"http://www.w3.org/1999/xlink\" width=\"371.52pt\" height=\"191.845398pt\" viewBox=\"0 0 371.52 191.845398\" xmlns=\"http://www.w3.org/2000/svg\" version=\"1.1\">\n",
       " <metadata>\n",
       "  <rdf:RDF xmlns:dc=\"http://purl.org/dc/elements/1.1/\" xmlns:cc=\"http://creativecommons.org/ns#\" xmlns:rdf=\"http://www.w3.org/1999/02/22-rdf-syntax-ns#\">\n",
       "   <cc:Work>\n",
       "    <dc:type rdf:resource=\"http://purl.org/dc/dcmitype/StillImage\"/>\n",
       "    <dc:date>2024-07-18T13:42:45.608921</dc:date>\n",
       "    <dc:format>image/svg+xml</dc:format>\n",
       "    <dc:creator>\n",
       "     <cc:Agent>\n",
       "      <dc:title>Matplotlib v3.7.1, https://matplotlib.org/</dc:title>\n",
       "     </cc:Agent>\n",
       "    </dc:creator>\n",
       "   </cc:Work>\n",
       "  </rdf:RDF>\n",
       " </metadata>\n",
       " <defs>\n",
       "  <style type=\"text/css\">*{stroke-linejoin: round; stroke-linecap: butt}</style>\n",
       " </defs>\n",
       " <g id=\"figure_1\">\n",
       "  <g id=\"patch_1\">\n",
       "   <path d=\"M 0 191.845398 \n",
       "L 371.52 191.845398 \n",
       "L 371.52 -0 \n",
       "L 0 -0 \n",
       "z\n",
       "\" style=\"fill: #ffffff\"/>\n",
       "  </g>\n",
       "  <g id=\"axes_1\">\n",
       "   <g clip-path=\"url(#p5f66cc7773)\">\n",
       "    <image xlink:href=\"data:image/png;base64,\n",
       "iVBORw0KGgoAAAANSUhEUgAAAOIAAADiCAYAAABTEBvXAAADLElEQVR4nO3csUmlQQBG0XmymUUITyMzg8XUBp5FWJOxoIm5icF2oIJgYqAGW4SBIKslmAz8d3nnFPAxE1wmm9VYb74GsKidpQ8ACBEShAgBQoQAIUKAECFAiBAgRAgQIgQIEQKECAFChAAhQoAQIUCIECBECBAiBAgRAoQIAUKEACFCgBAhQIgQIEQIECIECBEChAgBQoQAIUKAECFAiBAgRAgQIgQIEQKECAFChAAhQoAQIUCIECBECBAiBAgRAoQIAUKEACFCgBAhQIgQIEQIECIECBEChAgBQoQAIUKAECFAiBAgRAgQIgQIEQKECAFChAAhQoAQIUCIECBECBAiBAgRAoQIAUKEACFCgBAhQIgQIEQIECIECBEChAgBQoQAIUKAECFAiBAgRAgQIgQIEQKECAFChAAhQoAQIUCIECBECBAiBAgRAoQIAUKEACFCgBAhQIgQIEQIECIECBEChAgBQoQAIUKAECHg19IHWMrv/b2lj/Cjuz/nU/dW683UPebxIkKAECFAiBAgRAgQIgQIEQKECAFChAAhQoAQIUCIECBECBAiBAgRAoQIAUKEACFCgBAhQIgQsLV/1hwdzL362en71L0xxvh3dTx17/z6cOreGGNc3s699/3b36l7/wsvIgQIEQKECAFChAAhQoAQIUCIECBECBAiBAgRAoQIAUKEACFCgBAhQIgQIEQIECIECBEChAgBQoSArf086vH1c+rexc3u1L0xxnh4Ppm69/TyMXWPebyIECBECBAiBAgRAoQIAUKEACFCgBAhQIgQIEQIECIECBEChAgBQoQAIUKAECFAiBAgRAgQIgSsxnrztfQhYNt5ESFAiBAgRAgQIgQIEQKECAFChAAhQoAQIUCIECBECBAiBAgRAoQIAUKEACFCgBAhQIgQIEQIECIECBEChAgBQoQAIUKAECFAiBAgRAgQIgQIEQKECAFChAAhQoAQIUCIECBECBAiBAgRAoQIAUKEACFCgBAhQIgQIEQIECIECBEChAgBQoQAIUKAECFAiBAgRAgQIgQIEQKECAFChAAhQoAQIUCIECBECBAiBAgRAr4BuPEaQCecahoAAAAASUVORK5CYII=\" id=\"image1c75754d36\" transform=\"scale(1 -1) translate(0 -162.72)\" x=\"7\" y=\"-22.125398\" width=\"162.72\" height=\"162.72\"/>\n",
       "   </g>\n",
       "   <g id=\"text_1\">\n",
       "    <!-- Weighted receptive field -->\n",
       "    <g transform=\"translate(15.113949 16.318125) scale(0.12 -0.12)\">\n",
       "     <defs>\n",
       "      <path id=\"DejaVuSans-57\" d=\"M 213 4666 \n",
       "L 850 4666 \n",
       "L 1831 722 \n",
       "L 2809 4666 \n",
       "L 3519 4666 \n",
       "L 4500 722 \n",
       "L 5478 4666 \n",
       "L 6119 4666 \n",
       "L 4947 0 \n",
       "L 4153 0 \n",
       "L 3169 4050 \n",
       "L 2175 0 \n",
       "L 1381 0 \n",
       "L 213 4666 \n",
       "z\n",
       "\" transform=\"scale(0.015625)\"/>\n",
       "      <path id=\"DejaVuSans-65\" d=\"M 3597 1894 \n",
       "L 3597 1613 \n",
       "L 953 1613 \n",
       "Q 991 1019 1311 708 \n",
       "Q 1631 397 2203 397 \n",
       "Q 2534 397 2845 478 \n",
       "Q 3156 559 3463 722 \n",
       "L 3463 178 \n",
       "Q 3153 47 2828 -22 \n",
       "Q 2503 -91 2169 -91 \n",
       "Q 1331 -91 842 396 \n",
       "Q 353 884 353 1716 \n",
       "Q 353 2575 817 3079 \n",
       "Q 1281 3584 2069 3584 \n",
       "Q 2775 3584 3186 3129 \n",
       "Q 3597 2675 3597 1894 \n",
       "z\n",
       "M 3022 2063 \n",
       "Q 3016 2534 2758 2815 \n",
       "Q 2500 3097 2075 3097 \n",
       "Q 1594 3097 1305 2825 \n",
       "Q 1016 2553 972 2059 \n",
       "L 3022 2063 \n",
       "z\n",
       "\" transform=\"scale(0.015625)\"/>\n",
       "      <path id=\"DejaVuSans-69\" d=\"M 603 3500 \n",
       "L 1178 3500 \n",
       "L 1178 0 \n",
       "L 603 0 \n",
       "L 603 3500 \n",
       "z\n",
       "M 603 4863 \n",
       "L 1178 4863 \n",
       "L 1178 4134 \n",
       "L 603 4134 \n",
       "L 603 4863 \n",
       "z\n",
       "\" transform=\"scale(0.015625)\"/>\n",
       "      <path id=\"DejaVuSans-67\" d=\"M 2906 1791 \n",
       "Q 2906 2416 2648 2759 \n",
       "Q 2391 3103 1925 3103 \n",
       "Q 1463 3103 1205 2759 \n",
       "Q 947 2416 947 1791 \n",
       "Q 947 1169 1205 825 \n",
       "Q 1463 481 1925 481 \n",
       "Q 2391 481 2648 825 \n",
       "Q 2906 1169 2906 1791 \n",
       "z\n",
       "M 3481 434 \n",
       "Q 3481 -459 3084 -895 \n",
       "Q 2688 -1331 1869 -1331 \n",
       "Q 1566 -1331 1297 -1286 \n",
       "Q 1028 -1241 775 -1147 \n",
       "L 775 -588 \n",
       "Q 1028 -725 1275 -790 \n",
       "Q 1522 -856 1778 -856 \n",
       "Q 2344 -856 2625 -561 \n",
       "Q 2906 -266 2906 331 \n",
       "L 2906 616 \n",
       "Q 2728 306 2450 153 \n",
       "Q 2172 0 1784 0 \n",
       "Q 1141 0 747 490 \n",
       "Q 353 981 353 1791 \n",
       "Q 353 2603 747 3093 \n",
       "Q 1141 3584 1784 3584 \n",
       "Q 2172 3584 2450 3431 \n",
       "Q 2728 3278 2906 2969 \n",
       "L 2906 3500 \n",
       "L 3481 3500 \n",
       "L 3481 434 \n",
       "z\n",
       "\" transform=\"scale(0.015625)\"/>\n",
       "      <path id=\"DejaVuSans-68\" d=\"M 3513 2113 \n",
       "L 3513 0 \n",
       "L 2938 0 \n",
       "L 2938 2094 \n",
       "Q 2938 2591 2744 2837 \n",
       "Q 2550 3084 2163 3084 \n",
       "Q 1697 3084 1428 2787 \n",
       "Q 1159 2491 1159 1978 \n",
       "L 1159 0 \n",
       "L 581 0 \n",
       "L 581 4863 \n",
       "L 1159 4863 \n",
       "L 1159 2956 \n",
       "Q 1366 3272 1645 3428 \n",
       "Q 1925 3584 2291 3584 \n",
       "Q 2894 3584 3203 3211 \n",
       "Q 3513 2838 3513 2113 \n",
       "z\n",
       "\" transform=\"scale(0.015625)\"/>\n",
       "      <path id=\"DejaVuSans-74\" d=\"M 1172 4494 \n",
       "L 1172 3500 \n",
       "L 2356 3500 \n",
       "L 2356 3053 \n",
       "L 1172 3053 \n",
       "L 1172 1153 \n",
       "Q 1172 725 1289 603 \n",
       "Q 1406 481 1766 481 \n",
       "L 2356 481 \n",
       "L 2356 0 \n",
       "L 1766 0 \n",
       "Q 1100 0 847 248 \n",
       "Q 594 497 594 1153 \n",
       "L 594 3053 \n",
       "L 172 3053 \n",
       "L 172 3500 \n",
       "L 594 3500 \n",
       "L 594 4494 \n",
       "L 1172 4494 \n",
       "z\n",
       "\" transform=\"scale(0.015625)\"/>\n",
       "      <path id=\"DejaVuSans-64\" d=\"M 2906 2969 \n",
       "L 2906 4863 \n",
       "L 3481 4863 \n",
       "L 3481 0 \n",
       "L 2906 0 \n",
       "L 2906 525 \n",
       "Q 2725 213 2448 61 \n",
       "Q 2172 -91 1784 -91 \n",
       "Q 1150 -91 751 415 \n",
       "Q 353 922 353 1747 \n",
       "Q 353 2572 751 3078 \n",
       "Q 1150 3584 1784 3584 \n",
       "Q 2172 3584 2448 3432 \n",
       "Q 2725 3281 2906 2969 \n",
       "z\n",
       "M 947 1747 \n",
       "Q 947 1113 1208 752 \n",
       "Q 1469 391 1925 391 \n",
       "Q 2381 391 2643 752 \n",
       "Q 2906 1113 2906 1747 \n",
       "Q 2906 2381 2643 2742 \n",
       "Q 2381 3103 1925 3103 \n",
       "Q 1469 3103 1208 2742 \n",
       "Q 947 2381 947 1747 \n",
       "z\n",
       "\" transform=\"scale(0.015625)\"/>\n",
       "      <path id=\"DejaVuSans-20\" transform=\"scale(0.015625)\"/>\n",
       "      <path id=\"DejaVuSans-72\" d=\"M 2631 2963 \n",
       "Q 2534 3019 2420 3045 \n",
       "Q 2306 3072 2169 3072 \n",
       "Q 1681 3072 1420 2755 \n",
       "Q 1159 2438 1159 1844 \n",
       "L 1159 0 \n",
       "L 581 0 \n",
       "L 581 3500 \n",
       "L 1159 3500 \n",
       "L 1159 2956 \n",
       "Q 1341 3275 1631 3429 \n",
       "Q 1922 3584 2338 3584 \n",
       "Q 2397 3584 2469 3576 \n",
       "Q 2541 3569 2628 3553 \n",
       "L 2631 2963 \n",
       "z\n",
       "\" transform=\"scale(0.015625)\"/>\n",
       "      <path id=\"DejaVuSans-63\" d=\"M 3122 3366 \n",
       "L 3122 2828 \n",
       "Q 2878 2963 2633 3030 \n",
       "Q 2388 3097 2138 3097 \n",
       "Q 1578 3097 1268 2742 \n",
       "Q 959 2388 959 1747 \n",
       "Q 959 1106 1268 751 \n",
       "Q 1578 397 2138 397 \n",
       "Q 2388 397 2633 464 \n",
       "Q 2878 531 3122 666 \n",
       "L 3122 134 \n",
       "Q 2881 22 2623 -34 \n",
       "Q 2366 -91 2075 -91 \n",
       "Q 1284 -91 818 406 \n",
       "Q 353 903 353 1747 \n",
       "Q 353 2603 823 3093 \n",
       "Q 1294 3584 2113 3584 \n",
       "Q 2378 3584 2631 3529 \n",
       "Q 2884 3475 3122 3366 \n",
       "z\n",
       "\" transform=\"scale(0.015625)\"/>\n",
       "      <path id=\"DejaVuSans-70\" d=\"M 1159 525 \n",
       "L 1159 -1331 \n",
       "L 581 -1331 \n",
       "L 581 3500 \n",
       "L 1159 3500 \n",
       "L 1159 2969 \n",
       "Q 1341 3281 1617 3432 \n",
       "Q 1894 3584 2278 3584 \n",
       "Q 2916 3584 3314 3078 \n",
       "Q 3713 2572 3713 1747 \n",
       "Q 3713 922 3314 415 \n",
       "Q 2916 -91 2278 -91 \n",
       "Q 1894 -91 1617 61 \n",
       "Q 1341 213 1159 525 \n",
       "z\n",
       "M 3116 1747 \n",
       "Q 3116 2381 2855 2742 \n",
       "Q 2594 3103 2138 3103 \n",
       "Q 1681 3103 1420 2742 \n",
       "Q 1159 2381 1159 1747 \n",
       "Q 1159 1113 1420 752 \n",
       "Q 1681 391 2138 391 \n",
       "Q 2594 391 2855 752 \n",
       "Q 3116 1113 3116 1747 \n",
       "z\n",
       "\" transform=\"scale(0.015625)\"/>\n",
       "      <path id=\"DejaVuSans-76\" d=\"M 191 3500 \n",
       "L 800 3500 \n",
       "L 1894 563 \n",
       "L 2988 3500 \n",
       "L 3597 3500 \n",
       "L 2284 0 \n",
       "L 1503 0 \n",
       "L 191 3500 \n",
       "z\n",
       "\" transform=\"scale(0.015625)\"/>\n",
       "      <path id=\"DejaVuSans-66\" d=\"M 2375 4863 \n",
       "L 2375 4384 \n",
       "L 1825 4384 \n",
       "Q 1516 4384 1395 4259 \n",
       "Q 1275 4134 1275 3809 \n",
       "L 1275 3500 \n",
       "L 2222 3500 \n",
       "L 2222 3053 \n",
       "L 1275 3053 \n",
       "L 1275 0 \n",
       "L 697 0 \n",
       "L 697 3053 \n",
       "L 147 3053 \n",
       "L 147 3500 \n",
       "L 697 3500 \n",
       "L 697 3744 \n",
       "Q 697 4328 969 4595 \n",
       "Q 1241 4863 1831 4863 \n",
       "L 2375 4863 \n",
       "z\n",
       "\" transform=\"scale(0.015625)\"/>\n",
       "      <path id=\"DejaVuSans-6c\" d=\"M 603 4863 \n",
       "L 1178 4863 \n",
       "L 1178 0 \n",
       "L 603 0 \n",
       "L 603 4863 \n",
       "z\n",
       "\" transform=\"scale(0.015625)\"/>\n",
       "     </defs>\n",
       "     <use xlink:href=\"#DejaVuSans-57\"/>\n",
       "     <use xlink:href=\"#DejaVuSans-65\" x=\"93.001953\"/>\n",
       "     <use xlink:href=\"#DejaVuSans-69\" x=\"154.525391\"/>\n",
       "     <use xlink:href=\"#DejaVuSans-67\" x=\"182.308594\"/>\n",
       "     <use xlink:href=\"#DejaVuSans-68\" x=\"245.785156\"/>\n",
       "     <use xlink:href=\"#DejaVuSans-74\" x=\"309.164062\"/>\n",
       "     <use xlink:href=\"#DejaVuSans-65\" x=\"348.373047\"/>\n",
       "     <use xlink:href=\"#DejaVuSans-64\" x=\"409.896484\"/>\n",
       "     <use xlink:href=\"#DejaVuSans-20\" x=\"473.373047\"/>\n",
       "     <use xlink:href=\"#DejaVuSans-72\" x=\"505.160156\"/>\n",
       "     <use xlink:href=\"#DejaVuSans-65\" x=\"544.023438\"/>\n",
       "     <use xlink:href=\"#DejaVuSans-63\" x=\"605.546875\"/>\n",
       "     <use xlink:href=\"#DejaVuSans-65\" x=\"660.527344\"/>\n",
       "     <use xlink:href=\"#DejaVuSans-70\" x=\"722.050781\"/>\n",
       "     <use xlink:href=\"#DejaVuSans-74\" x=\"785.527344\"/>\n",
       "     <use xlink:href=\"#DejaVuSans-69\" x=\"824.736328\"/>\n",
       "     <use xlink:href=\"#DejaVuSans-76\" x=\"852.519531\"/>\n",
       "     <use xlink:href=\"#DejaVuSans-65\" x=\"911.699219\"/>\n",
       "     <use xlink:href=\"#DejaVuSans-20\" x=\"973.222656\"/>\n",
       "     <use xlink:href=\"#DejaVuSans-66\" x=\"1005.009766\"/>\n",
       "     <use xlink:href=\"#DejaVuSans-69\" x=\"1040.214844\"/>\n",
       "     <use xlink:href=\"#DejaVuSans-65\" x=\"1067.998047\"/>\n",
       "     <use xlink:href=\"#DejaVuSans-6c\" x=\"1129.521484\"/>\n",
       "     <use xlink:href=\"#DejaVuSans-64\" x=\"1157.304688\"/>\n",
       "    </g>\n",
       "   </g>\n",
       "  </g>\n",
       "  <g id=\"axes_2\">\n",
       "   <g clip-path=\"url(#p8671bceb33)\">\n",
       "    <image xlink:href=\"data:image/png;base64,\n",
       "iVBORw0KGgoAAAANSUhEUgAAAOIAAADiCAYAAABTEBvXAAAC7ElEQVR4nO3cuY1CURBFwc8SAxIuSYxBDISNQSRI5MDijTvOl/qMqArg6TpH7b3Ncrq8F2DUdnoAIERIECIECBEChAgBQoQAIUKAECFAiBAgRAgQIgQIEQKECAFChAAhQoAQIUCIECBECBAiBAgRAoQIAUKEACFCgBAhQIgQIEQIECIECBEChAgBQoQAIUKAECFAiBAgRAgQIgQIEQKECAFChAAhQoAQIUCIECBECBAiBAgRAoQIAUKEACFCgBAhQIgQIEQIECIECBEChAgBQoQAIUKAECFAiBAgRAgQIgQIEQKECAFChAAhQoAQIUCIECBECBAiBAgRAoQIAUKEACFCgBAhQIgQIEQIECIECBEChAgBQoQAIUKAECFAiBAgRAgQIgQIEQKECAFChAAhQoAQIUCIECBECBAiBAgRAoQIAUKEACFCgBAhQIgQIEQIECIECBEChAgBQoSA/fSAKc/rY3rCn7bH26rvbU6XVd9jPS4iBAgRAoQIAUKEACFCgBAhQIgQIEQIECIECBEChAgBQoQAIUKAECFAiBAgRAgQIgQIEQKECAFf+2fNf/C6/6z63nPp/9OzOx+mJ4xwESFAiBAgRAgQIgQIEQKECAFChAAhQoAQIUCIECBECBAiBAgRAoQIAUKEACFCgBAhQIgQIEQIECIECBEChAgBQoQAIUKAECFAiBAgRAgQIgQIEQKECAFChAAhQoAQIUCIECBECBAiBAgRAoQIAUKEACFCwH56wJTd+TA9AX65iBAgRAgQIgQIEQKECAFChAAhQoAQIUCIECBECBAiBAgRAoQIAUKEACFCgBAhQIgQIEQIECIECBEChAgBQoQAIUKAECFAiBAgRAgQIgQIEQKECAFChAAhQoAQIUCIECBECBAiBAgRAoQIAUKEACFCgBAhQIgQIEQIECIECBEChAgBQoQAIUKAECFAiBAgRAgQIgQIEQKECAFChAAhQoAQIUCIECBECBAiBAgRAoQIAR8eIAvjgWSjCQAAAABJRU5ErkJggg==\" id=\"image3225632df2\" transform=\"scale(1 -1) translate(0 -162.72)\" x=\"202\" y=\"-22.125398\" width=\"162.72\" height=\"162.72\"/>\n",
       "   </g>\n",
       "   <g id=\"text_2\">\n",
       "    <!-- Binary receptive field -->\n",
       "    <g transform=\"translate(219.029489 16.318125) scale(0.12 -0.12)\">\n",
       "     <defs>\n",
       "      <path id=\"DejaVuSans-42\" d=\"M 1259 2228 \n",
       "L 1259 519 \n",
       "L 2272 519 \n",
       "Q 2781 519 3026 730 \n",
       "Q 3272 941 3272 1375 \n",
       "Q 3272 1813 3026 2020 \n",
       "Q 2781 2228 2272 2228 \n",
       "L 1259 2228 \n",
       "z\n",
       "M 1259 4147 \n",
       "L 1259 2741 \n",
       "L 2194 2741 \n",
       "Q 2656 2741 2882 2914 \n",
       "Q 3109 3088 3109 3444 \n",
       "Q 3109 3797 2882 3972 \n",
       "Q 2656 4147 2194 4147 \n",
       "L 1259 4147 \n",
       "z\n",
       "M 628 4666 \n",
       "L 2241 4666 \n",
       "Q 2963 4666 3353 4366 \n",
       "Q 3744 4066 3744 3513 \n",
       "Q 3744 3084 3544 2831 \n",
       "Q 3344 2578 2956 2516 \n",
       "Q 3422 2416 3680 2098 \n",
       "Q 3938 1781 3938 1306 \n",
       "Q 3938 681 3513 340 \n",
       "Q 3088 0 2303 0 \n",
       "L 628 0 \n",
       "L 628 4666 \n",
       "z\n",
       "\" transform=\"scale(0.015625)\"/>\n",
       "      <path id=\"DejaVuSans-6e\" d=\"M 3513 2113 \n",
       "L 3513 0 \n",
       "L 2938 0 \n",
       "L 2938 2094 \n",
       "Q 2938 2591 2744 2837 \n",
       "Q 2550 3084 2163 3084 \n",
       "Q 1697 3084 1428 2787 \n",
       "Q 1159 2491 1159 1978 \n",
       "L 1159 0 \n",
       "L 581 0 \n",
       "L 581 3500 \n",
       "L 1159 3500 \n",
       "L 1159 2956 \n",
       "Q 1366 3272 1645 3428 \n",
       "Q 1925 3584 2291 3584 \n",
       "Q 2894 3584 3203 3211 \n",
       "Q 3513 2838 3513 2113 \n",
       "z\n",
       "\" transform=\"scale(0.015625)\"/>\n",
       "      <path id=\"DejaVuSans-61\" d=\"M 2194 1759 \n",
       "Q 1497 1759 1228 1600 \n",
       "Q 959 1441 959 1056 \n",
       "Q 959 750 1161 570 \n",
       "Q 1363 391 1709 391 \n",
       "Q 2188 391 2477 730 \n",
       "Q 2766 1069 2766 1631 \n",
       "L 2766 1759 \n",
       "L 2194 1759 \n",
       "z\n",
       "M 3341 1997 \n",
       "L 3341 0 \n",
       "L 2766 0 \n",
       "L 2766 531 \n",
       "Q 2569 213 2275 61 \n",
       "Q 1981 -91 1556 -91 \n",
       "Q 1019 -91 701 211 \n",
       "Q 384 513 384 1019 \n",
       "Q 384 1609 779 1909 \n",
       "Q 1175 2209 1959 2209 \n",
       "L 2766 2209 \n",
       "L 2766 2266 \n",
       "Q 2766 2663 2505 2880 \n",
       "Q 2244 3097 1772 3097 \n",
       "Q 1472 3097 1187 3025 \n",
       "Q 903 2953 641 2809 \n",
       "L 641 3341 \n",
       "Q 956 3463 1253 3523 \n",
       "Q 1550 3584 1831 3584 \n",
       "Q 2591 3584 2966 3190 \n",
       "Q 3341 2797 3341 1997 \n",
       "z\n",
       "\" transform=\"scale(0.015625)\"/>\n",
       "      <path id=\"DejaVuSans-79\" d=\"M 2059 -325 \n",
       "Q 1816 -950 1584 -1140 \n",
       "Q 1353 -1331 966 -1331 \n",
       "L 506 -1331 \n",
       "L 506 -850 \n",
       "L 844 -850 \n",
       "Q 1081 -850 1212 -737 \n",
       "Q 1344 -625 1503 -206 \n",
       "L 1606 56 \n",
       "L 191 3500 \n",
       "L 800 3500 \n",
       "L 1894 763 \n",
       "L 2988 3500 \n",
       "L 3597 3500 \n",
       "L 2059 -325 \n",
       "z\n",
       "\" transform=\"scale(0.015625)\"/>\n",
       "     </defs>\n",
       "     <use xlink:href=\"#DejaVuSans-42\"/>\n",
       "     <use xlink:href=\"#DejaVuSans-69\" x=\"68.603516\"/>\n",
       "     <use xlink:href=\"#DejaVuSans-6e\" x=\"96.386719\"/>\n",
       "     <use xlink:href=\"#DejaVuSans-61\" x=\"159.765625\"/>\n",
       "     <use xlink:href=\"#DejaVuSans-72\" x=\"221.044922\"/>\n",
       "     <use xlink:href=\"#DejaVuSans-79\" x=\"262.158203\"/>\n",
       "     <use xlink:href=\"#DejaVuSans-20\" x=\"321.337891\"/>\n",
       "     <use xlink:href=\"#DejaVuSans-72\" x=\"353.125\"/>\n",
       "     <use xlink:href=\"#DejaVuSans-65\" x=\"391.988281\"/>\n",
       "     <use xlink:href=\"#DejaVuSans-63\" x=\"453.511719\"/>\n",
       "     <use xlink:href=\"#DejaVuSans-65\" x=\"508.492188\"/>\n",
       "     <use xlink:href=\"#DejaVuSans-70\" x=\"570.015625\"/>\n",
       "     <use xlink:href=\"#DejaVuSans-74\" x=\"633.492188\"/>\n",
       "     <use xlink:href=\"#DejaVuSans-69\" x=\"672.701172\"/>\n",
       "     <use xlink:href=\"#DejaVuSans-76\" x=\"700.484375\"/>\n",
       "     <use xlink:href=\"#DejaVuSans-65\" x=\"759.664062\"/>\n",
       "     <use xlink:href=\"#DejaVuSans-20\" x=\"821.1875\"/>\n",
       "     <use xlink:href=\"#DejaVuSans-66\" x=\"852.974609\"/>\n",
       "     <use xlink:href=\"#DejaVuSans-69\" x=\"888.179688\"/>\n",
       "     <use xlink:href=\"#DejaVuSans-65\" x=\"915.962891\"/>\n",
       "     <use xlink:href=\"#DejaVuSans-6c\" x=\"977.486328\"/>\n",
       "     <use xlink:href=\"#DejaVuSans-64\" x=\"1005.269531\"/>\n",
       "    </g>\n",
       "   </g>\n",
       "  </g>\n",
       " </g>\n",
       " <defs>\n",
       "  <clipPath id=\"p5f66cc7773\">\n",
       "   <rect x=\"7.2\" y=\"22.318125\" width=\"162.327273\" height=\"162.327273\"/>\n",
       "  </clipPath>\n",
       "  <clipPath id=\"p8671bceb33\">\n",
       "   <rect x=\"201.992727\" y=\"22.318125\" width=\"162.327273\" height=\"162.327273\"/>\n",
       "  </clipPath>\n",
       " </defs>\n",
       "</svg>\n"
      ],
      "text/plain": [
       "<Figure size 640x480 with 2 Axes>"
      ]
     },
     "metadata": {},
     "output_type": "display_data"
    },
    {
     "name": "stdout",
     "output_type": "stream",
     "text": [
      "Layer 3\n"
     ]
    },
    {
     "data": {
      "application/pdf": "[encoded data removed]",
      "image/svg+xml": [
       "<?xml version=\"1.0\" encoding=\"utf-8\" standalone=\"no\"?>\n",
       "<!DOCTYPE svg PUBLIC \"-//W3C//DTD SVG 1.1//EN\"\n",
       "  \"http://www.w3.org/Graphics/SVG/1.1/DTD/svg11.dtd\">\n",
       "<svg xmlns:xlink=\"http://www.w3.org/1999/xlink\" width=\"371.52pt\" height=\"191.845398pt\" viewBox=\"0 0 371.52 191.845398\" xmlns=\"http://www.w3.org/2000/svg\" version=\"1.1\">\n",
       " <metadata>\n",
       "  <rdf:RDF xmlns:dc=\"http://purl.org/dc/elements/1.1/\" xmlns:cc=\"http://creativecommons.org/ns#\" xmlns:rdf=\"http://www.w3.org/1999/02/22-rdf-syntax-ns#\">\n",
       "   <cc:Work>\n",
       "    <dc:type rdf:resource=\"http://purl.org/dc/dcmitype/StillImage\"/>\n",
       "    <dc:date>2024-07-18T13:42:45.841615</dc:date>\n",
       "    <dc:format>image/svg+xml</dc:format>\n",
       "    <dc:creator>\n",
       "     <cc:Agent>\n",
       "      <dc:title>Matplotlib v3.7.1, https://matplotlib.org/</dc:title>\n",
       "     </cc:Agent>\n",
       "    </dc:creator>\n",
       "   </cc:Work>\n",
       "  </rdf:RDF>\n",
       " </metadata>\n",
       " <defs>\n",
       "  <style type=\"text/css\">*{stroke-linejoin: round; stroke-linecap: butt}</style>\n",
       " </defs>\n",
       " <g id=\"figure_1\">\n",
       "  <g id=\"patch_1\">\n",
       "   <path d=\"M 0 191.845398 \n",
       "L 371.52 191.845398 \n",
       "L 371.52 -0 \n",
       "L 0 -0 \n",
       "z\n",
       "\" style=\"fill: #ffffff\"/>\n",
       "  </g>\n",
       "  <g id=\"axes_1\">\n",
       "   <g clip-path=\"url(#p63d9335f2e)\">\n",
       "    <image xlink:href=\"data:image/png;base64,\n",
       "iVBORw0KGgoAAAANSUhEUgAAAOIAAADiCAYAAABTEBvXAAADdklEQVR4nO3cMWoUUBhG0TcS0GgsrJSoINPY2lq5gkEX6CYs7KwjYmsKQauYQkRBzJipHJdghCdzI+cs4OM1l797i7FcbQewU1d2/QBAiJAgRAgQIgQIEQKECAFChAAhQoAQIUCIECBECBAiBAgRAoQIAUKEACFCgBAhQIgQIEQIECIECBEChAgBQoQAIUKAECFAiBAgRAgQIgQIEQKECAFChAAhQoAQIUCIECBECBAiBAgRAoQIAUKEACFCgBAhQIgQIEQIECIECBEChAgBQoQAIUKAECFAiBAgRAgQIgQIEQKECAFChAAhQoAQIUCIECBECBAiBAgRAoQIAUKEACFCgBAhQIgQIEQIECIECBEChAgBQoQAIUKAECFAiBAgRAgQIgQIEQKECAFChAAhQoAQIUCIECBECBAiBAgRAoQIAUKEACFCgBAhQIgQIEQIECIECBEChAgBQoQAIUKAECFAiBAgRAgQIgQIEQKECAF7u37Ahezfnj5549rB1L315mzq3hhjbI+fT91bLFdT95jHRYQAIUKAECFAiBAgRAgQIgQIEQKECAFChAAhQoAQIUCIECBECBAiBAgRAoQIAUKEACFCgBAhYDGWq+2uH/EnD+8+mL759PH+1L1nT75P3fsXXr29NX3z5dHcv3renG6m7o0xxjj/PH9zMhcRAoQIAUKEACFCgBAhQIgQIEQIECIECBEChAgBQoQAIUKAECFAiBAgRAgQIgQIEQKECAFChAAhQsDerh/wv7h/58v0zcPD08mLjybvjfHx5OrUvXdfD6bujTHG2udRwEUIEQKECAFChAAhQoAQIUCIECBECBAiBAgRAoQIAUKEACFCgBAhQIgQIEQIECIECBEChAgBl+LPmvffzqdvvng9d+/DyeHcwTHGzev3pu79+Plr6t4YYxx/2k7dW2/Opu5dFi4iBAgRAoQIAUKEACFCgBAhQIgQIEQIECIECBEChAgBQoQAIUKAECFAiBAgRAgQIgQIEQKECAFChIDFWK7m/v4D/DUXEQKECAFChAAhQoAQIUCIECBECBAiBAgRAoQIAUKEACFCgBAhQIgQIEQIECIECBEChAgBQoQAIUKAECFAiBAgRAgQIgQIEQKECAFChAAhQoAQIUCIECBECBAiBAgRAoQIAUKEACFCgBAhQIgQIEQIECIE/AY7gy6mpaA06AAAAABJRU5ErkJggg==\" id=\"image742d6896b2\" transform=\"scale(1 -1) translate(0 -162.72)\" x=\"7\" y=\"-22.125398\" width=\"162.72\" height=\"162.72\"/>\n",
       "   </g>\n",
       "   <g id=\"text_1\">\n",
       "    <!-- Weighted receptive field -->\n",
       "    <g transform=\"translate(15.113949 16.318125) scale(0.12 -0.12)\">\n",
       "     <defs>\n",
       "      <path id=\"DejaVuSans-57\" d=\"M 213 4666 \n",
       "L 850 4666 \n",
       "L 1831 722 \n",
       "L 2809 4666 \n",
       "L 3519 4666 \n",
       "L 4500 722 \n",
       "L 5478 4666 \n",
       "L 6119 4666 \n",
       "L 4947 0 \n",
       "L 4153 0 \n",
       "L 3169 4050 \n",
       "L 2175 0 \n",
       "L 1381 0 \n",
       "L 213 4666 \n",
       "z\n",
       "\" transform=\"scale(0.015625)\"/>\n",
       "      <path id=\"DejaVuSans-65\" d=\"M 3597 1894 \n",
       "L 3597 1613 \n",
       "L 953 1613 \n",
       "Q 991 1019 1311 708 \n",
       "Q 1631 397 2203 397 \n",
       "Q 2534 397 2845 478 \n",
       "Q 3156 559 3463 722 \n",
       "L 3463 178 \n",
       "Q 3153 47 2828 -22 \n",
       "Q 2503 -91 2169 -91 \n",
       "Q 1331 -91 842 396 \n",
       "Q 353 884 353 1716 \n",
       "Q 353 2575 817 3079 \n",
       "Q 1281 3584 2069 3584 \n",
       "Q 2775 3584 3186 3129 \n",
       "Q 3597 2675 3597 1894 \n",
       "z\n",
       "M 3022 2063 \n",
       "Q 3016 2534 2758 2815 \n",
       "Q 2500 3097 2075 3097 \n",
       "Q 1594 3097 1305 2825 \n",
       "Q 1016 2553 972 2059 \n",
       "L 3022 2063 \n",
       "z\n",
       "\" transform=\"scale(0.015625)\"/>\n",
       "      <path id=\"DejaVuSans-69\" d=\"M 603 3500 \n",
       "L 1178 3500 \n",
       "L 1178 0 \n",
       "L 603 0 \n",
       "L 603 3500 \n",
       "z\n",
       "M 603 4863 \n",
       "L 1178 4863 \n",
       "L 1178 4134 \n",
       "L 603 4134 \n",
       "L 603 4863 \n",
       "z\n",
       "\" transform=\"scale(0.015625)\"/>\n",
       "      <path id=\"DejaVuSans-67\" d=\"M 2906 1791 \n",
       "Q 2906 2416 2648 2759 \n",
       "Q 2391 3103 1925 3103 \n",
       "Q 1463 3103 1205 2759 \n",
       "Q 947 2416 947 1791 \n",
       "Q 947 1169 1205 825 \n",
       "Q 1463 481 1925 481 \n",
       "Q 2391 481 2648 825 \n",
       "Q 2906 1169 2906 1791 \n",
       "z\n",
       "M 3481 434 \n",
       "Q 3481 -459 3084 -895 \n",
       "Q 2688 -1331 1869 -1331 \n",
       "Q 1566 -1331 1297 -1286 \n",
       "Q 1028 -1241 775 -1147 \n",
       "L 775 -588 \n",
       "Q 1028 -725 1275 -790 \n",
       "Q 1522 -856 1778 -856 \n",
       "Q 2344 -856 2625 -561 \n",
       "Q 2906 -266 2906 331 \n",
       "L 2906 616 \n",
       "Q 2728 306 2450 153 \n",
       "Q 2172 0 1784 0 \n",
       "Q 1141 0 747 490 \n",
       "Q 353 981 353 1791 \n",
       "Q 353 2603 747 3093 \n",
       "Q 1141 3584 1784 3584 \n",
       "Q 2172 3584 2450 3431 \n",
       "Q 2728 3278 2906 2969 \n",
       "L 2906 3500 \n",
       "L 3481 3500 \n",
       "L 3481 434 \n",
       "z\n",
       "\" transform=\"scale(0.015625)\"/>\n",
       "      <path id=\"DejaVuSans-68\" d=\"M 3513 2113 \n",
       "L 3513 0 \n",
       "L 2938 0 \n",
       "L 2938 2094 \n",
       "Q 2938 2591 2744 2837 \n",
       "Q 2550 3084 2163 3084 \n",
       "Q 1697 3084 1428 2787 \n",
       "Q 1159 2491 1159 1978 \n",
       "L 1159 0 \n",
       "L 581 0 \n",
       "L 581 4863 \n",
       "L 1159 4863 \n",
       "L 1159 2956 \n",
       "Q 1366 3272 1645 3428 \n",
       "Q 1925 3584 2291 3584 \n",
       "Q 2894 3584 3203 3211 \n",
       "Q 3513 2838 3513 2113 \n",
       "z\n",
       "\" transform=\"scale(0.015625)\"/>\n",
       "      <path id=\"DejaVuSans-74\" d=\"M 1172 4494 \n",
       "L 1172 3500 \n",
       "L 2356 3500 \n",
       "L 2356 3053 \n",
       "L 1172 3053 \n",
       "L 1172 1153 \n",
       "Q 1172 725 1289 603 \n",
       "Q 1406 481 1766 481 \n",
       "L 2356 481 \n",
       "L 2356 0 \n",
       "L 1766 0 \n",
       "Q 1100 0 847 248 \n",
       "Q 594 497 594 1153 \n",
       "L 594 3053 \n",
       "L 172 3053 \n",
       "L 172 3500 \n",
       "L 594 3500 \n",
       "L 594 4494 \n",
       "L 1172 4494 \n",
       "z\n",
       "\" transform=\"scale(0.015625)\"/>\n",
       "      <path id=\"DejaVuSans-64\" d=\"M 2906 2969 \n",
       "L 2906 4863 \n",
       "L 3481 4863 \n",
       "L 3481 0 \n",
       "L 2906 0 \n",
       "L 2906 525 \n",
       "Q 2725 213 2448 61 \n",
       "Q 2172 -91 1784 -91 \n",
       "Q 1150 -91 751 415 \n",
       "Q 353 922 353 1747 \n",
       "Q 353 2572 751 3078 \n",
       "Q 1150 3584 1784 3584 \n",
       "Q 2172 3584 2448 3432 \n",
       "Q 2725 3281 2906 2969 \n",
       "z\n",
       "M 947 1747 \n",
       "Q 947 1113 1208 752 \n",
       "Q 1469 391 1925 391 \n",
       "Q 2381 391 2643 752 \n",
       "Q 2906 1113 2906 1747 \n",
       "Q 2906 2381 2643 2742 \n",
       "Q 2381 3103 1925 3103 \n",
       "Q 1469 3103 1208 2742 \n",
       "Q 947 2381 947 1747 \n",
       "z\n",
       "\" transform=\"scale(0.015625)\"/>\n",
       "      <path id=\"DejaVuSans-20\" transform=\"scale(0.015625)\"/>\n",
       "      <path id=\"DejaVuSans-72\" d=\"M 2631 2963 \n",
       "Q 2534 3019 2420 3045 \n",
       "Q 2306 3072 2169 3072 \n",
       "Q 1681 3072 1420 2755 \n",
       "Q 1159 2438 1159 1844 \n",
       "L 1159 0 \n",
       "L 581 0 \n",
       "L 581 3500 \n",
       "L 1159 3500 \n",
       "L 1159 2956 \n",
       "Q 1341 3275 1631 3429 \n",
       "Q 1922 3584 2338 3584 \n",
       "Q 2397 3584 2469 3576 \n",
       "Q 2541 3569 2628 3553 \n",
       "L 2631 2963 \n",
       "z\n",
       "\" transform=\"scale(0.015625)\"/>\n",
       "      <path id=\"DejaVuSans-63\" d=\"M 3122 3366 \n",
       "L 3122 2828 \n",
       "Q 2878 2963 2633 3030 \n",
       "Q 2388 3097 2138 3097 \n",
       "Q 1578 3097 1268 2742 \n",
       "Q 959 2388 959 1747 \n",
       "Q 959 1106 1268 751 \n",
       "Q 1578 397 2138 397 \n",
       "Q 2388 397 2633 464 \n",
       "Q 2878 531 3122 666 \n",
       "L 3122 134 \n",
       "Q 2881 22 2623 -34 \n",
       "Q 2366 -91 2075 -91 \n",
       "Q 1284 -91 818 406 \n",
       "Q 353 903 353 1747 \n",
       "Q 353 2603 823 3093 \n",
       "Q 1294 3584 2113 3584 \n",
       "Q 2378 3584 2631 3529 \n",
       "Q 2884 3475 3122 3366 \n",
       "z\n",
       "\" transform=\"scale(0.015625)\"/>\n",
       "      <path id=\"DejaVuSans-70\" d=\"M 1159 525 \n",
       "L 1159 -1331 \n",
       "L 581 -1331 \n",
       "L 581 3500 \n",
       "L 1159 3500 \n",
       "L 1159 2969 \n",
       "Q 1341 3281 1617 3432 \n",
       "Q 1894 3584 2278 3584 \n",
       "Q 2916 3584 3314 3078 \n",
       "Q 3713 2572 3713 1747 \n",
       "Q 3713 922 3314 415 \n",
       "Q 2916 -91 2278 -91 \n",
       "Q 1894 -91 1617 61 \n",
       "Q 1341 213 1159 525 \n",
       "z\n",
       "M 3116 1747 \n",
       "Q 3116 2381 2855 2742 \n",
       "Q 2594 3103 2138 3103 \n",
       "Q 1681 3103 1420 2742 \n",
       "Q 1159 2381 1159 1747 \n",
       "Q 1159 1113 1420 752 \n",
       "Q 1681 391 2138 391 \n",
       "Q 2594 391 2855 752 \n",
       "Q 3116 1113 3116 1747 \n",
       "z\n",
       "\" transform=\"scale(0.015625)\"/>\n",
       "      <path id=\"DejaVuSans-76\" d=\"M 191 3500 \n",
       "L 800 3500 \n",
       "L 1894 563 \n",
       "L 2988 3500 \n",
       "L 3597 3500 \n",
       "L 2284 0 \n",
       "L 1503 0 \n",
       "L 191 3500 \n",
       "z\n",
       "\" transform=\"scale(0.015625)\"/>\n",
       "      <path id=\"DejaVuSans-66\" d=\"M 2375 4863 \n",
       "L 2375 4384 \n",
       "L 1825 4384 \n",
       "Q 1516 4384 1395 4259 \n",
       "Q 1275 4134 1275 3809 \n",
       "L 1275 3500 \n",
       "L 2222 3500 \n",
       "L 2222 3053 \n",
       "L 1275 3053 \n",
       "L 1275 0 \n",
       "L 697 0 \n",
       "L 697 3053 \n",
       "L 147 3053 \n",
       "L 147 3500 \n",
       "L 697 3500 \n",
       "L 697 3744 \n",
       "Q 697 4328 969 4595 \n",
       "Q 1241 4863 1831 4863 \n",
       "L 2375 4863 \n",
       "z\n",
       "\" transform=\"scale(0.015625)\"/>\n",
       "      <path id=\"DejaVuSans-6c\" d=\"M 603 4863 \n",
       "L 1178 4863 \n",
       "L 1178 0 \n",
       "L 603 0 \n",
       "L 603 4863 \n",
       "z\n",
       "\" transform=\"scale(0.015625)\"/>\n",
       "     </defs>\n",
       "     <use xlink:href=\"#DejaVuSans-57\"/>\n",
       "     <use xlink:href=\"#DejaVuSans-65\" x=\"93.001953\"/>\n",
       "     <use xlink:href=\"#DejaVuSans-69\" x=\"154.525391\"/>\n",
       "     <use xlink:href=\"#DejaVuSans-67\" x=\"182.308594\"/>\n",
       "     <use xlink:href=\"#DejaVuSans-68\" x=\"245.785156\"/>\n",
       "     <use xlink:href=\"#DejaVuSans-74\" x=\"309.164062\"/>\n",
       "     <use xlink:href=\"#DejaVuSans-65\" x=\"348.373047\"/>\n",
       "     <use xlink:href=\"#DejaVuSans-64\" x=\"409.896484\"/>\n",
       "     <use xlink:href=\"#DejaVuSans-20\" x=\"473.373047\"/>\n",
       "     <use xlink:href=\"#DejaVuSans-72\" x=\"505.160156\"/>\n",
       "     <use xlink:href=\"#DejaVuSans-65\" x=\"544.023438\"/>\n",
       "     <use xlink:href=\"#DejaVuSans-63\" x=\"605.546875\"/>\n",
       "     <use xlink:href=\"#DejaVuSans-65\" x=\"660.527344\"/>\n",
       "     <use xlink:href=\"#DejaVuSans-70\" x=\"722.050781\"/>\n",
       "     <use xlink:href=\"#DejaVuSans-74\" x=\"785.527344\"/>\n",
       "     <use xlink:href=\"#DejaVuSans-69\" x=\"824.736328\"/>\n",
       "     <use xlink:href=\"#DejaVuSans-76\" x=\"852.519531\"/>\n",
       "     <use xlink:href=\"#DejaVuSans-65\" x=\"911.699219\"/>\n",
       "     <use xlink:href=\"#DejaVuSans-20\" x=\"973.222656\"/>\n",
       "     <use xlink:href=\"#DejaVuSans-66\" x=\"1005.009766\"/>\n",
       "     <use xlink:href=\"#DejaVuSans-69\" x=\"1040.214844\"/>\n",
       "     <use xlink:href=\"#DejaVuSans-65\" x=\"1067.998047\"/>\n",
       "     <use xlink:href=\"#DejaVuSans-6c\" x=\"1129.521484\"/>\n",
       "     <use xlink:href=\"#DejaVuSans-64\" x=\"1157.304688\"/>\n",
       "    </g>\n",
       "   </g>\n",
       "  </g>\n",
       "  <g id=\"axes_2\">\n",
       "   <g clip-path=\"url(#p1210154bcf)\">\n",
       "    <image xlink:href=\"data:image/png;base64,\n",
       "iVBORw0KGgoAAAANSUhEUgAAAOIAAADiCAYAAABTEBvXAAAC7ElEQVR4nO3cOw0CQRhG0eWhgYQWExRoQDYFSkjwsIAEKJbMJZwjYPI1N383q+lwfk7AUOvRAwAhQoIQIUCIECBECBAiBAgRAoQIAUKEACFCgBAhQIgQIEQIECIECBEChAgBQoQAIUKAECFAiBAgRAgQIgQIEQKECAFChAAhQoAQIUCIECBECBAiBAgRAoQIAUKEACFCgBAhQIgQIEQIECIECBEChAgBQoQAIUKAECFAiBAgRAgQIgQIEQKECAFChAAhQoAQIUCIECBECBAiBAgRAoQIAUKEACFCgBAhQIgQIEQIECIECBEChAgBQoQAIUKAECFAiBAgRAgQIgQIEQKECAFChAAhQoAQIUCIECBECBAiBAgRAoQIAUKEACFCgBAhQIgQIEQIECIECBEChAgBQoQAIUKAECFAiBAgRAgQIgQIEQKECAFChAAhQoAQIUCIECBECBAiBGxHD/jEfLmPnjDEen9d9L3V4bzoeyzHRYQAIUKAECFAiBAgRAgQIgQIEQKECAFChAAhQoAQIUCIECBECBAiBAgRAoQIAUKEACFCgBAh4Cf+rPlXj9tx0ffm6T///tmcdqMnvOUiQoAQIUCIECBECBAiBAgRAoQIAUKEACFCgBAhQIgQIEQIECIECBEChAgBQoQAIUKAECFAiBAgRAgQIgQIEQKECAFChAAhQoAQIUCIECBECBAiBAgRAoQIAUKEACFCgBAhQIgQIEQIECIECBEChAgBQoQAIUKAECFAiBAgRAgQIgQIEQKECAFChAAhQoAQIUCIECBECBAiBAgRAoQIAUKEACFCgBAhQIgQIEQIECIEbEcP+MTmtBs9Ab7KRYQAIUKAECFAiBAgRAgQIgQIEQKECAFChAAhQoAQIUCIECBECBAiBAgRAoQIAUKEACFCgBAhQIgQIEQIECIECBEChAgBQoQAIUKAECFAiBAgRAgQIgQIEQKECAFChAAhQoAQIUCIECBECBAiBAgRAoQIAS8Mqgvjri574wAAAABJRU5ErkJggg==\" id=\"image5bfc7b3c4f\" transform=\"scale(1 -1) translate(0 -162.72)\" x=\"202\" y=\"-22.125398\" width=\"162.72\" height=\"162.72\"/>\n",
       "   </g>\n",
       "   <g id=\"text_2\">\n",
       "    <!-- Binary receptive field -->\n",
       "    <g transform=\"translate(219.029489 16.318125) scale(0.12 -0.12)\">\n",
       "     <defs>\n",
       "      <path id=\"DejaVuSans-42\" d=\"M 1259 2228 \n",
       "L 1259 519 \n",
       "L 2272 519 \n",
       "Q 2781 519 3026 730 \n",
       "Q 3272 941 3272 1375 \n",
       "Q 3272 1813 3026 2020 \n",
       "Q 2781 2228 2272 2228 \n",
       "L 1259 2228 \n",
       "z\n",
       "M 1259 4147 \n",
       "L 1259 2741 \n",
       "L 2194 2741 \n",
       "Q 2656 2741 2882 2914 \n",
       "Q 3109 3088 3109 3444 \n",
       "Q 3109 3797 2882 3972 \n",
       "Q 2656 4147 2194 4147 \n",
       "L 1259 4147 \n",
       "z\n",
       "M 628 4666 \n",
       "L 2241 4666 \n",
       "Q 2963 4666 3353 4366 \n",
       "Q 3744 4066 3744 3513 \n",
       "Q 3744 3084 3544 2831 \n",
       "Q 3344 2578 2956 2516 \n",
       "Q 3422 2416 3680 2098 \n",
       "Q 3938 1781 3938 1306 \n",
       "Q 3938 681 3513 340 \n",
       "Q 3088 0 2303 0 \n",
       "L 628 0 \n",
       "L 628 4666 \n",
       "z\n",
       "\" transform=\"scale(0.015625)\"/>\n",
       "      <path id=\"DejaVuSans-6e\" d=\"M 3513 2113 \n",
       "L 3513 0 \n",
       "L 2938 0 \n",
       "L 2938 2094 \n",
       "Q 2938 2591 2744 2837 \n",
       "Q 2550 3084 2163 3084 \n",
       "Q 1697 3084 1428 2787 \n",
       "Q 1159 2491 1159 1978 \n",
       "L 1159 0 \n",
       "L 581 0 \n",
       "L 581 3500 \n",
       "L 1159 3500 \n",
       "L 1159 2956 \n",
       "Q 1366 3272 1645 3428 \n",
       "Q 1925 3584 2291 3584 \n",
       "Q 2894 3584 3203 3211 \n",
       "Q 3513 2838 3513 2113 \n",
       "z\n",
       "\" transform=\"scale(0.015625)\"/>\n",
       "      <path id=\"DejaVuSans-61\" d=\"M 2194 1759 \n",
       "Q 1497 1759 1228 1600 \n",
       "Q 959 1441 959 1056 \n",
       "Q 959 750 1161 570 \n",
       "Q 1363 391 1709 391 \n",
       "Q 2188 391 2477 730 \n",
       "Q 2766 1069 2766 1631 \n",
       "L 2766 1759 \n",
       "L 2194 1759 \n",
       "z\n",
       "M 3341 1997 \n",
       "L 3341 0 \n",
       "L 2766 0 \n",
       "L 2766 531 \n",
       "Q 2569 213 2275 61 \n",
       "Q 1981 -91 1556 -91 \n",
       "Q 1019 -91 701 211 \n",
       "Q 384 513 384 1019 \n",
       "Q 384 1609 779 1909 \n",
       "Q 1175 2209 1959 2209 \n",
       "L 2766 2209 \n",
       "L 2766 2266 \n",
       "Q 2766 2663 2505 2880 \n",
       "Q 2244 3097 1772 3097 \n",
       "Q 1472 3097 1187 3025 \n",
       "Q 903 2953 641 2809 \n",
       "L 641 3341 \n",
       "Q 956 3463 1253 3523 \n",
       "Q 1550 3584 1831 3584 \n",
       "Q 2591 3584 2966 3190 \n",
       "Q 3341 2797 3341 1997 \n",
       "z\n",
       "\" transform=\"scale(0.015625)\"/>\n",
       "      <path id=\"DejaVuSans-79\" d=\"M 2059 -325 \n",
       "Q 1816 -950 1584 -1140 \n",
       "Q 1353 -1331 966 -1331 \n",
       "L 506 -1331 \n",
       "L 506 -850 \n",
       "L 844 -850 \n",
       "Q 1081 -850 1212 -737 \n",
       "Q 1344 -625 1503 -206 \n",
       "L 1606 56 \n",
       "L 191 3500 \n",
       "L 800 3500 \n",
       "L 1894 763 \n",
       "L 2988 3500 \n",
       "L 3597 3500 \n",
       "L 2059 -325 \n",
       "z\n",
       "\" transform=\"scale(0.015625)\"/>\n",
       "     </defs>\n",
       "     <use xlink:href=\"#DejaVuSans-42\"/>\n",
       "     <use xlink:href=\"#DejaVuSans-69\" x=\"68.603516\"/>\n",
       "     <use xlink:href=\"#DejaVuSans-6e\" x=\"96.386719\"/>\n",
       "     <use xlink:href=\"#DejaVuSans-61\" x=\"159.765625\"/>\n",
       "     <use xlink:href=\"#DejaVuSans-72\" x=\"221.044922\"/>\n",
       "     <use xlink:href=\"#DejaVuSans-79\" x=\"262.158203\"/>\n",
       "     <use xlink:href=\"#DejaVuSans-20\" x=\"321.337891\"/>\n",
       "     <use xlink:href=\"#DejaVuSans-72\" x=\"353.125\"/>\n",
       "     <use xlink:href=\"#DejaVuSans-65\" x=\"391.988281\"/>\n",
       "     <use xlink:href=\"#DejaVuSans-63\" x=\"453.511719\"/>\n",
       "     <use xlink:href=\"#DejaVuSans-65\" x=\"508.492188\"/>\n",
       "     <use xlink:href=\"#DejaVuSans-70\" x=\"570.015625\"/>\n",
       "     <use xlink:href=\"#DejaVuSans-74\" x=\"633.492188\"/>\n",
       "     <use xlink:href=\"#DejaVuSans-69\" x=\"672.701172\"/>\n",
       "     <use xlink:href=\"#DejaVuSans-76\" x=\"700.484375\"/>\n",
       "     <use xlink:href=\"#DejaVuSans-65\" x=\"759.664062\"/>\n",
       "     <use xlink:href=\"#DejaVuSans-20\" x=\"821.1875\"/>\n",
       "     <use xlink:href=\"#DejaVuSans-66\" x=\"852.974609\"/>\n",
       "     <use xlink:href=\"#DejaVuSans-69\" x=\"888.179688\"/>\n",
       "     <use xlink:href=\"#DejaVuSans-65\" x=\"915.962891\"/>\n",
       "     <use xlink:href=\"#DejaVuSans-6c\" x=\"977.486328\"/>\n",
       "     <use xlink:href=\"#DejaVuSans-64\" x=\"1005.269531\"/>\n",
       "    </g>\n",
       "   </g>\n",
       "  </g>\n",
       " </g>\n",
       " <defs>\n",
       "  <clipPath id=\"p63d9335f2e\">\n",
       "   <rect x=\"7.2\" y=\"22.318125\" width=\"162.327273\" height=\"162.327273\"/>\n",
       "  </clipPath>\n",
       "  <clipPath id=\"p1210154bcf\">\n",
       "   <rect x=\"201.992727\" y=\"22.318125\" width=\"162.327273\" height=\"162.327273\"/>\n",
       "  </clipPath>\n",
       " </defs>\n",
       "</svg>\n"
      ],
      "text/plain": [
       "<Figure size 640x480 with 2 Axes>"
      ]
     },
     "metadata": {},
     "output_type": "display_data"
    },
    {
     "name": "stdout",
     "output_type": "stream",
     "text": [
      "Layer 4\n"
     ]
    },
    {
     "data": {
      "application/pdf": "[encoded data removed]",
      "image/svg+xml": [
       "<?xml version=\"1.0\" encoding=\"utf-8\" standalone=\"no\"?>\n",
       "<!DOCTYPE svg PUBLIC \"-//W3C//DTD SVG 1.1//EN\"\n",
       "  \"http://www.w3.org/Graphics/SVG/1.1/DTD/svg11.dtd\">\n",
       "<svg xmlns:xlink=\"http://www.w3.org/1999/xlink\" width=\"371.52pt\" height=\"191.845398pt\" viewBox=\"0 0 371.52 191.845398\" xmlns=\"http://www.w3.org/2000/svg\" version=\"1.1\">\n",
       " <metadata>\n",
       "  <rdf:RDF xmlns:dc=\"http://purl.org/dc/elements/1.1/\" xmlns:cc=\"http://creativecommons.org/ns#\" xmlns:rdf=\"http://www.w3.org/1999/02/22-rdf-syntax-ns#\">\n",
       "   <cc:Work>\n",
       "    <dc:type rdf:resource=\"http://purl.org/dc/dcmitype/StillImage\"/>\n",
       "    <dc:date>2024-07-18T13:42:46.074281</dc:date>\n",
       "    <dc:format>image/svg+xml</dc:format>\n",
       "    <dc:creator>\n",
       "     <cc:Agent>\n",
       "      <dc:title>Matplotlib v3.7.1, https://matplotlib.org/</dc:title>\n",
       "     </cc:Agent>\n",
       "    </dc:creator>\n",
       "   </cc:Work>\n",
       "  </rdf:RDF>\n",
       " </metadata>\n",
       " <defs>\n",
       "  <style type=\"text/css\">*{stroke-linejoin: round; stroke-linecap: butt}</style>\n",
       " </defs>\n",
       " <g id=\"figure_1\">\n",
       "  <g id=\"patch_1\">\n",
       "   <path d=\"M 0 191.845398 \n",
       "L 371.52 191.845398 \n",
       "L 371.52 -0 \n",
       "L 0 -0 \n",
       "z\n",
       "\" style=\"fill: #ffffff\"/>\n",
       "  </g>\n",
       "  <g id=\"axes_1\">\n",
       "   <g clip-path=\"url(#pb2a3d5461a)\">\n",
       "    <image xlink:href=\"data:image/png;base64,\n",
       "iVBORw0KGgoAAAANSUhEUgAAAOIAAADiCAYAAABTEBvXAAAD6ElEQVR4nO3csW5QZRjH4bcWIthGVEzEgaUuLjro4u7cyes08QZc3NxMJC6iCw7GSCoGUrCFehNvw8/4PBfwz8l38jvfdg7m5PRqgNfqjdf9AIAQIUGIECBECBAiBAgRAoQIAUKEACFCgBAhQIgQIEQIECIECBEChAgBQoQAIUKAECFAiBAgRAgQIgQIEQKECAFChAAhQoAQIUCIECBECBAiBAgRAoQIAUKEACFCgBAhQIgQIEQIECIECBEChAgBQoQAIUKAECFAiBAgRAgQIgQIEQKECAFChAAhQoAQIUCIECBECBAiBAgRAoQIAUKEACFCgBAhQIgQIEQIECIECBEChAgBQoQAIUKAECFAiBAgRAgQIgQIEQKECAFChAAhQoAQIUCIECBECBAiBAgRAoQIAUKEACFCgBAhQIgQIEQIECIECBEChAgBQoQAIUKAECFAiBAgRAgQIgQIEQKECAFChAAhQoAQIUCIECBECBAiBAgRAm5cy+rB4e7ezaPdvetw8Wx98uqXb1b3Dk5OV/fY40aEACFCgBAhQIgQIEQIECIECBEChAgBQoQAIUKAECFAiBAgRAgQIgQIEQKECAFChAAhQoAQIeBgTk6v1ldv3V2d+/SD49W9mZnPPtr9Bt2/99bq3szMxeWr1b1ffztf3ZuZefBod++nxy92B2dmzv/Y3bt6ubs3bkRIECIECBEChAgBQoQAIUKAECFAiBAgRAgQIgQIEQKECAFChAAhQoAQIUCIECBECBAiBAgRAoQIATeuZfXw9urcvTv7/7f64pNbq3tfffnj6t7MzHt3/1zd++77z1f3Zma+/nb3HC9+WJ2bmZmfL492B//5e3dv3IiQIEQIECIECBEChAgBQoQAIUKAECFAiBAgRAgQIgQIEQKECAFChAAhQoAQIUCIECBECBAiBFzPP2tenq/O/f7keHVvZubBw8vVvbePPl7dm5n58P3dc3z4aP8cn54/X927fHWwuvdf4UaEACFCgBAhQIgQIEQIECIECBEChAgBQoQAIUKAECFAiBAgRAgQIgQIEQKECAFChAAhQoAQIUCIEHAwJ6dX+6uHu3tvvrO7NzPvHt1Z3bt//HJ1b2bm9s3dvfOL3b2ZmUdPd9/12bMnq3szM/Pir929q/137UaEACFCgBAhQIgQIEQIECIECBEChAgBQoQAIUKAECFAiBAgRAgQIgQIEQKECAFChAAhQoAQIeDGtaxu/9Pj+ePdvZk5W948239E/kfciBAgRAgQIgQIEQKECAFChAAhQoAQIUCIECBECBAiBAgRAoQIAUKEACFCgBAhQIgQIEQIECIECBEC/gVyfEoa2Tl58QAAAABJRU5ErkJggg==\" id=\"imageb869e1b4ee\" transform=\"scale(1 -1) translate(0 -162.72)\" x=\"7\" y=\"-22.125398\" width=\"162.72\" height=\"162.72\"/>\n",
       "   </g>\n",
       "   <g id=\"text_1\">\n",
       "    <!-- Weighted receptive field -->\n",
       "    <g transform=\"translate(15.113949 16.318125) scale(0.12 -0.12)\">\n",
       "     <defs>\n",
       "      <path id=\"DejaVuSans-57\" d=\"M 213 4666 \n",
       "L 850 4666 \n",
       "L 1831 722 \n",
       "L 2809 4666 \n",
       "L 3519 4666 \n",
       "L 4500 722 \n",
       "L 5478 4666 \n",
       "L 6119 4666 \n",
       "L 4947 0 \n",
       "L 4153 0 \n",
       "L 3169 4050 \n",
       "L 2175 0 \n",
       "L 1381 0 \n",
       "L 213 4666 \n",
       "z\n",
       "\" transform=\"scale(0.015625)\"/>\n",
       "      <path id=\"DejaVuSans-65\" d=\"M 3597 1894 \n",
       "L 3597 1613 \n",
       "L 953 1613 \n",
       "Q 991 1019 1311 708 \n",
       "Q 1631 397 2203 397 \n",
       "Q 2534 397 2845 478 \n",
       "Q 3156 559 3463 722 \n",
       "L 3463 178 \n",
       "Q 3153 47 2828 -22 \n",
       "Q 2503 -91 2169 -91 \n",
       "Q 1331 -91 842 396 \n",
       "Q 353 884 353 1716 \n",
       "Q 353 2575 817 3079 \n",
       "Q 1281 3584 2069 3584 \n",
       "Q 2775 3584 3186 3129 \n",
       "Q 3597 2675 3597 1894 \n",
       "z\n",
       "M 3022 2063 \n",
       "Q 3016 2534 2758 2815 \n",
       "Q 2500 3097 2075 3097 \n",
       "Q 1594 3097 1305 2825 \n",
       "Q 1016 2553 972 2059 \n",
       "L 3022 2063 \n",
       "z\n",
       "\" transform=\"scale(0.015625)\"/>\n",
       "      <path id=\"DejaVuSans-69\" d=\"M 603 3500 \n",
       "L 1178 3500 \n",
       "L 1178 0 \n",
       "L 603 0 \n",
       "L 603 3500 \n",
       "z\n",
       "M 603 4863 \n",
       "L 1178 4863 \n",
       "L 1178 4134 \n",
       "L 603 4134 \n",
       "L 603 4863 \n",
       "z\n",
       "\" transform=\"scale(0.015625)\"/>\n",
       "      <path id=\"DejaVuSans-67\" d=\"M 2906 1791 \n",
       "Q 2906 2416 2648 2759 \n",
       "Q 2391 3103 1925 3103 \n",
       "Q 1463 3103 1205 2759 \n",
       "Q 947 2416 947 1791 \n",
       "Q 947 1169 1205 825 \n",
       "Q 1463 481 1925 481 \n",
       "Q 2391 481 2648 825 \n",
       "Q 2906 1169 2906 1791 \n",
       "z\n",
       "M 3481 434 \n",
       "Q 3481 -459 3084 -895 \n",
       "Q 2688 -1331 1869 -1331 \n",
       "Q 1566 -1331 1297 -1286 \n",
       "Q 1028 -1241 775 -1147 \n",
       "L 775 -588 \n",
       "Q 1028 -725 1275 -790 \n",
       "Q 1522 -856 1778 -856 \n",
       "Q 2344 -856 2625 -561 \n",
       "Q 2906 -266 2906 331 \n",
       "L 2906 616 \n",
       "Q 2728 306 2450 153 \n",
       "Q 2172 0 1784 0 \n",
       "Q 1141 0 747 490 \n",
       "Q 353 981 353 1791 \n",
       "Q 353 2603 747 3093 \n",
       "Q 1141 3584 1784 3584 \n",
       "Q 2172 3584 2450 3431 \n",
       "Q 2728 3278 2906 2969 \n",
       "L 2906 3500 \n",
       "L 3481 3500 \n",
       "L 3481 434 \n",
       "z\n",
       "\" transform=\"scale(0.015625)\"/>\n",
       "      <path id=\"DejaVuSans-68\" d=\"M 3513 2113 \n",
       "L 3513 0 \n",
       "L 2938 0 \n",
       "L 2938 2094 \n",
       "Q 2938 2591 2744 2837 \n",
       "Q 2550 3084 2163 3084 \n",
       "Q 1697 3084 1428 2787 \n",
       "Q 1159 2491 1159 1978 \n",
       "L 1159 0 \n",
       "L 581 0 \n",
       "L 581 4863 \n",
       "L 1159 4863 \n",
       "L 1159 2956 \n",
       "Q 1366 3272 1645 3428 \n",
       "Q 1925 3584 2291 3584 \n",
       "Q 2894 3584 3203 3211 \n",
       "Q 3513 2838 3513 2113 \n",
       "z\n",
       "\" transform=\"scale(0.015625)\"/>\n",
       "      <path id=\"DejaVuSans-74\" d=\"M 1172 4494 \n",
       "L 1172 3500 \n",
       "L 2356 3500 \n",
       "L 2356 3053 \n",
       "L 1172 3053 \n",
       "L 1172 1153 \n",
       "Q 1172 725 1289 603 \n",
       "Q 1406 481 1766 481 \n",
       "L 2356 481 \n",
       "L 2356 0 \n",
       "L 1766 0 \n",
       "Q 1100 0 847 248 \n",
       "Q 594 497 594 1153 \n",
       "L 594 3053 \n",
       "L 172 3053 \n",
       "L 172 3500 \n",
       "L 594 3500 \n",
       "L 594 4494 \n",
       "L 1172 4494 \n",
       "z\n",
       "\" transform=\"scale(0.015625)\"/>\n",
       "      <path id=\"DejaVuSans-64\" d=\"M 2906 2969 \n",
       "L 2906 4863 \n",
       "L 3481 4863 \n",
       "L 3481 0 \n",
       "L 2906 0 \n",
       "L 2906 525 \n",
       "Q 2725 213 2448 61 \n",
       "Q 2172 -91 1784 -91 \n",
       "Q 1150 -91 751 415 \n",
       "Q 353 922 353 1747 \n",
       "Q 353 2572 751 3078 \n",
       "Q 1150 3584 1784 3584 \n",
       "Q 2172 3584 2448 3432 \n",
       "Q 2725 3281 2906 2969 \n",
       "z\n",
       "M 947 1747 \n",
       "Q 947 1113 1208 752 \n",
       "Q 1469 391 1925 391 \n",
       "Q 2381 391 2643 752 \n",
       "Q 2906 1113 2906 1747 \n",
       "Q 2906 2381 2643 2742 \n",
       "Q 2381 3103 1925 3103 \n",
       "Q 1469 3103 1208 2742 \n",
       "Q 947 2381 947 1747 \n",
       "z\n",
       "\" transform=\"scale(0.015625)\"/>\n",
       "      <path id=\"DejaVuSans-20\" transform=\"scale(0.015625)\"/>\n",
       "      <path id=\"DejaVuSans-72\" d=\"M 2631 2963 \n",
       "Q 2534 3019 2420 3045 \n",
       "Q 2306 3072 2169 3072 \n",
       "Q 1681 3072 1420 2755 \n",
       "Q 1159 2438 1159 1844 \n",
       "L 1159 0 \n",
       "L 581 0 \n",
       "L 581 3500 \n",
       "L 1159 3500 \n",
       "L 1159 2956 \n",
       "Q 1341 3275 1631 3429 \n",
       "Q 1922 3584 2338 3584 \n",
       "Q 2397 3584 2469 3576 \n",
       "Q 2541 3569 2628 3553 \n",
       "L 2631 2963 \n",
       "z\n",
       "\" transform=\"scale(0.015625)\"/>\n",
       "      <path id=\"DejaVuSans-63\" d=\"M 3122 3366 \n",
       "L 3122 2828 \n",
       "Q 2878 2963 2633 3030 \n",
       "Q 2388 3097 2138 3097 \n",
       "Q 1578 3097 1268 2742 \n",
       "Q 959 2388 959 1747 \n",
       "Q 959 1106 1268 751 \n",
       "Q 1578 397 2138 397 \n",
       "Q 2388 397 2633 464 \n",
       "Q 2878 531 3122 666 \n",
       "L 3122 134 \n",
       "Q 2881 22 2623 -34 \n",
       "Q 2366 -91 2075 -91 \n",
       "Q 1284 -91 818 406 \n",
       "Q 353 903 353 1747 \n",
       "Q 353 2603 823 3093 \n",
       "Q 1294 3584 2113 3584 \n",
       "Q 2378 3584 2631 3529 \n",
       "Q 2884 3475 3122 3366 \n",
       "z\n",
       "\" transform=\"scale(0.015625)\"/>\n",
       "      <path id=\"DejaVuSans-70\" d=\"M 1159 525 \n",
       "L 1159 -1331 \n",
       "L 581 -1331 \n",
       "L 581 3500 \n",
       "L 1159 3500 \n",
       "L 1159 2969 \n",
       "Q 1341 3281 1617 3432 \n",
       "Q 1894 3584 2278 3584 \n",
       "Q 2916 3584 3314 3078 \n",
       "Q 3713 2572 3713 1747 \n",
       "Q 3713 922 3314 415 \n",
       "Q 2916 -91 2278 -91 \n",
       "Q 1894 -91 1617 61 \n",
       "Q 1341 213 1159 525 \n",
       "z\n",
       "M 3116 1747 \n",
       "Q 3116 2381 2855 2742 \n",
       "Q 2594 3103 2138 3103 \n",
       "Q 1681 3103 1420 2742 \n",
       "Q 1159 2381 1159 1747 \n",
       "Q 1159 1113 1420 752 \n",
       "Q 1681 391 2138 391 \n",
       "Q 2594 391 2855 752 \n",
       "Q 3116 1113 3116 1747 \n",
       "z\n",
       "\" transform=\"scale(0.015625)\"/>\n",
       "      <path id=\"DejaVuSans-76\" d=\"M 191 3500 \n",
       "L 800 3500 \n",
       "L 1894 563 \n",
       "L 2988 3500 \n",
       "L 3597 3500 \n",
       "L 2284 0 \n",
       "L 1503 0 \n",
       "L 191 3500 \n",
       "z\n",
       "\" transform=\"scale(0.015625)\"/>\n",
       "      <path id=\"DejaVuSans-66\" d=\"M 2375 4863 \n",
       "L 2375 4384 \n",
       "L 1825 4384 \n",
       "Q 1516 4384 1395 4259 \n",
       "Q 1275 4134 1275 3809 \n",
       "L 1275 3500 \n",
       "L 2222 3500 \n",
       "L 2222 3053 \n",
       "L 1275 3053 \n",
       "L 1275 0 \n",
       "L 697 0 \n",
       "L 697 3053 \n",
       "L 147 3053 \n",
       "L 147 3500 \n",
       "L 697 3500 \n",
       "L 697 3744 \n",
       "Q 697 4328 969 4595 \n",
       "Q 1241 4863 1831 4863 \n",
       "L 2375 4863 \n",
       "z\n",
       "\" transform=\"scale(0.015625)\"/>\n",
       "      <path id=\"DejaVuSans-6c\" d=\"M 603 4863 \n",
       "L 1178 4863 \n",
       "L 1178 0 \n",
       "L 603 0 \n",
       "L 603 4863 \n",
       "z\n",
       "\" transform=\"scale(0.015625)\"/>\n",
       "     </defs>\n",
       "     <use xlink:href=\"#DejaVuSans-57\"/>\n",
       "     <use xlink:href=\"#DejaVuSans-65\" x=\"93.001953\"/>\n",
       "     <use xlink:href=\"#DejaVuSans-69\" x=\"154.525391\"/>\n",
       "     <use xlink:href=\"#DejaVuSans-67\" x=\"182.308594\"/>\n",
       "     <use xlink:href=\"#DejaVuSans-68\" x=\"245.785156\"/>\n",
       "     <use xlink:href=\"#DejaVuSans-74\" x=\"309.164062\"/>\n",
       "     <use xlink:href=\"#DejaVuSans-65\" x=\"348.373047\"/>\n",
       "     <use xlink:href=\"#DejaVuSans-64\" x=\"409.896484\"/>\n",
       "     <use xlink:href=\"#DejaVuSans-20\" x=\"473.373047\"/>\n",
       "     <use xlink:href=\"#DejaVuSans-72\" x=\"505.160156\"/>\n",
       "     <use xlink:href=\"#DejaVuSans-65\" x=\"544.023438\"/>\n",
       "     <use xlink:href=\"#DejaVuSans-63\" x=\"605.546875\"/>\n",
       "     <use xlink:href=\"#DejaVuSans-65\" x=\"660.527344\"/>\n",
       "     <use xlink:href=\"#DejaVuSans-70\" x=\"722.050781\"/>\n",
       "     <use xlink:href=\"#DejaVuSans-74\" x=\"785.527344\"/>\n",
       "     <use xlink:href=\"#DejaVuSans-69\" x=\"824.736328\"/>\n",
       "     <use xlink:href=\"#DejaVuSans-76\" x=\"852.519531\"/>\n",
       "     <use xlink:href=\"#DejaVuSans-65\" x=\"911.699219\"/>\n",
       "     <use xlink:href=\"#DejaVuSans-20\" x=\"973.222656\"/>\n",
       "     <use xlink:href=\"#DejaVuSans-66\" x=\"1005.009766\"/>\n",
       "     <use xlink:href=\"#DejaVuSans-69\" x=\"1040.214844\"/>\n",
       "     <use xlink:href=\"#DejaVuSans-65\" x=\"1067.998047\"/>\n",
       "     <use xlink:href=\"#DejaVuSans-6c\" x=\"1129.521484\"/>\n",
       "     <use xlink:href=\"#DejaVuSans-64\" x=\"1157.304688\"/>\n",
       "    </g>\n",
       "   </g>\n",
       "  </g>\n",
       "  <g id=\"axes_2\">\n",
       "   <g clip-path=\"url(#pd32e1e3029)\">\n",
       "    <image xlink:href=\"data:image/png;base64,\n",
       "iVBORw0KGgoAAAANSUhEUgAAAOIAAADiCAYAAABTEBvXAAAC5klEQVR4nO3cuw0CMRRFweVTAxIpTRBQA2UTUAkSPSzQhC2OYKaAKydHL/NmOV3fC/BV228/ABAiJAgRAoQIAUKEACFCgBAhQIgQIEQIECIECBEChAgBQoQAIUKAECFAiBAgRAgQIgQIEQKECAFChAAhQoAQIUCIECBECBAiBAgRAoQIAUKEACFCgBAhQIgQIEQIECIECBEChAgBQoQAIUKAECFAiBAgRAgQIgQIEQKECAFChAAhQoAQIUCIECBECBAiBAgRAoQIAUKEACFCgBAhQIgQIEQIECIECBEChAgBQoQAIUKAECFAiBAgRAgQIgQIEQKECAFChAAhQoAQIUCIECBECBAiBAgRAoQIAUKEACFCgBAhQIgQIEQIECIECBEChAgBQoQAIUKAECFAiBAgRAgQIgQIEQKECAFChAAhQoAQIUCIECBECBAiBAgRAoQIAUKEACFCwH7G6Hp7zpj9O9vjfeje5nQdusc4LiIECBEChAgBQoQAIUKAECFAiBAgRAgQIgQIEQKECAFChAAhQoAQIUCIECBECBAiBAgRAoQIAVP+rGGM1+M8dG9d/CU0wu5yGL7pIkKAECFAiBAgRAgQIgQIEQKECAFChAAhQoAQIUCIECBECBAiBAgRAoQIAUKEACFCgBAhQIgQIEQIECIECBEChAgBQoQAIUKAECFAiBAgRAgQIgQIEQKECAFChAAhQoAQIUCIECBECBAiBAgRAoQIAUKEACFCgBAhQIgQIEQIECIECBEChAgBQoQAIUKAECFAiBAgRAgQIgQIEQKECAFChAAhQoAQIUCIECBECBAiBAgRAoQIAUKEACFCgBAhQIgQIEQIECIECBEChAgBQoQAIUKAECFAiBAgRAgQIgQIEQKECAFChAAhQsB+xujucpgxCz/LRYQAIUKAECFAiBAgRAgQIgQIEQKECAFChAAhQoAQIUCIECBECBAiBAgRAoQIAUKEACFCgBAhQIgQ8AEgmQvjZglhlQAAAABJRU5ErkJggg==\" id=\"image0fb8531f03\" transform=\"scale(1 -1) translate(0 -162.72)\" x=\"202\" y=\"-22.125398\" width=\"162.72\" height=\"162.72\"/>\n",
       "   </g>\n",
       "   <g id=\"text_2\">\n",
       "    <!-- Binary receptive field -->\n",
       "    <g transform=\"translate(219.029489 16.318125) scale(0.12 -0.12)\">\n",
       "     <defs>\n",
       "      <path id=\"DejaVuSans-42\" d=\"M 1259 2228 \n",
       "L 1259 519 \n",
       "L 2272 519 \n",
       "Q 2781 519 3026 730 \n",
       "Q 3272 941 3272 1375 \n",
       "Q 3272 1813 3026 2020 \n",
       "Q 2781 2228 2272 2228 \n",
       "L 1259 2228 \n",
       "z\n",
       "M 1259 4147 \n",
       "L 1259 2741 \n",
       "L 2194 2741 \n",
       "Q 2656 2741 2882 2914 \n",
       "Q 3109 3088 3109 3444 \n",
       "Q 3109 3797 2882 3972 \n",
       "Q 2656 4147 2194 4147 \n",
       "L 1259 4147 \n",
       "z\n",
       "M 628 4666 \n",
       "L 2241 4666 \n",
       "Q 2963 4666 3353 4366 \n",
       "Q 3744 4066 3744 3513 \n",
       "Q 3744 3084 3544 2831 \n",
       "Q 3344 2578 2956 2516 \n",
       "Q 3422 2416 3680 2098 \n",
       "Q 3938 1781 3938 1306 \n",
       "Q 3938 681 3513 340 \n",
       "Q 3088 0 2303 0 \n",
       "L 628 0 \n",
       "L 628 4666 \n",
       "z\n",
       "\" transform=\"scale(0.015625)\"/>\n",
       "      <path id=\"DejaVuSans-6e\" d=\"M 3513 2113 \n",
       "L 3513 0 \n",
       "L 2938 0 \n",
       "L 2938 2094 \n",
       "Q 2938 2591 2744 2837 \n",
       "Q 2550 3084 2163 3084 \n",
       "Q 1697 3084 1428 2787 \n",
       "Q 1159 2491 1159 1978 \n",
       "L 1159 0 \n",
       "L 581 0 \n",
       "L 581 3500 \n",
       "L 1159 3500 \n",
       "L 1159 2956 \n",
       "Q 1366 3272 1645 3428 \n",
       "Q 1925 3584 2291 3584 \n",
       "Q 2894 3584 3203 3211 \n",
       "Q 3513 2838 3513 2113 \n",
       "z\n",
       "\" transform=\"scale(0.015625)\"/>\n",
       "      <path id=\"DejaVuSans-61\" d=\"M 2194 1759 \n",
       "Q 1497 1759 1228 1600 \n",
       "Q 959 1441 959 1056 \n",
       "Q 959 750 1161 570 \n",
       "Q 1363 391 1709 391 \n",
       "Q 2188 391 2477 730 \n",
       "Q 2766 1069 2766 1631 \n",
       "L 2766 1759 \n",
       "L 2194 1759 \n",
       "z\n",
       "M 3341 1997 \n",
       "L 3341 0 \n",
       "L 2766 0 \n",
       "L 2766 531 \n",
       "Q 2569 213 2275 61 \n",
       "Q 1981 -91 1556 -91 \n",
       "Q 1019 -91 701 211 \n",
       "Q 384 513 384 1019 \n",
       "Q 384 1609 779 1909 \n",
       "Q 1175 2209 1959 2209 \n",
       "L 2766 2209 \n",
       "L 2766 2266 \n",
       "Q 2766 2663 2505 2880 \n",
       "Q 2244 3097 1772 3097 \n",
       "Q 1472 3097 1187 3025 \n",
       "Q 903 2953 641 2809 \n",
       "L 641 3341 \n",
       "Q 956 3463 1253 3523 \n",
       "Q 1550 3584 1831 3584 \n",
       "Q 2591 3584 2966 3190 \n",
       "Q 3341 2797 3341 1997 \n",
       "z\n",
       "\" transform=\"scale(0.015625)\"/>\n",
       "      <path id=\"DejaVuSans-79\" d=\"M 2059 -325 \n",
       "Q 1816 -950 1584 -1140 \n",
       "Q 1353 -1331 966 -1331 \n",
       "L 506 -1331 \n",
       "L 506 -850 \n",
       "L 844 -850 \n",
       "Q 1081 -850 1212 -737 \n",
       "Q 1344 -625 1503 -206 \n",
       "L 1606 56 \n",
       "L 191 3500 \n",
       "L 800 3500 \n",
       "L 1894 763 \n",
       "L 2988 3500 \n",
       "L 3597 3500 \n",
       "L 2059 -325 \n",
       "z\n",
       "\" transform=\"scale(0.015625)\"/>\n",
       "     </defs>\n",
       "     <use xlink:href=\"#DejaVuSans-42\"/>\n",
       "     <use xlink:href=\"#DejaVuSans-69\" x=\"68.603516\"/>\n",
       "     <use xlink:href=\"#DejaVuSans-6e\" x=\"96.386719\"/>\n",
       "     <use xlink:href=\"#DejaVuSans-61\" x=\"159.765625\"/>\n",
       "     <use xlink:href=\"#DejaVuSans-72\" x=\"221.044922\"/>\n",
       "     <use xlink:href=\"#DejaVuSans-79\" x=\"262.158203\"/>\n",
       "     <use xlink:href=\"#DejaVuSans-20\" x=\"321.337891\"/>\n",
       "     <use xlink:href=\"#DejaVuSans-72\" x=\"353.125\"/>\n",
       "     <use xlink:href=\"#DejaVuSans-65\" x=\"391.988281\"/>\n",
       "     <use xlink:href=\"#DejaVuSans-63\" x=\"453.511719\"/>\n",
       "     <use xlink:href=\"#DejaVuSans-65\" x=\"508.492188\"/>\n",
       "     <use xlink:href=\"#DejaVuSans-70\" x=\"570.015625\"/>\n",
       "     <use xlink:href=\"#DejaVuSans-74\" x=\"633.492188\"/>\n",
       "     <use xlink:href=\"#DejaVuSans-69\" x=\"672.701172\"/>\n",
       "     <use xlink:href=\"#DejaVuSans-76\" x=\"700.484375\"/>\n",
       "     <use xlink:href=\"#DejaVuSans-65\" x=\"759.664062\"/>\n",
       "     <use xlink:href=\"#DejaVuSans-20\" x=\"821.1875\"/>\n",
       "     <use xlink:href=\"#DejaVuSans-66\" x=\"852.974609\"/>\n",
       "     <use xlink:href=\"#DejaVuSans-69\" x=\"888.179688\"/>\n",
       "     <use xlink:href=\"#DejaVuSans-65\" x=\"915.962891\"/>\n",
       "     <use xlink:href=\"#DejaVuSans-6c\" x=\"977.486328\"/>\n",
       "     <use xlink:href=\"#DejaVuSans-64\" x=\"1005.269531\"/>\n",
       "    </g>\n",
       "   </g>\n",
       "  </g>\n",
       " </g>\n",
       " <defs>\n",
       "  <clipPath id=\"pb2a3d5461a\">\n",
       "   <rect x=\"7.2\" y=\"22.318125\" width=\"162.327273\" height=\"162.327273\"/>\n",
       "  </clipPath>\n",
       "  <clipPath id=\"pd32e1e3029\">\n",
       "   <rect x=\"201.992727\" y=\"22.318125\" width=\"162.327273\" height=\"162.327273\"/>\n",
       "  </clipPath>\n",
       " </defs>\n",
       "</svg>\n"
      ],
      "text/plain": [
       "<Figure size 640x480 with 2 Axes>"
      ]
     },
     "metadata": {},
     "output_type": "display_data"
    },
    {
     "name": "stdout",
     "output_type": "stream",
     "text": [
      "Layer 5\n"
     ]
    },
    {
     "data": {
      "application/pdf": "[encoded data removed]",
      "image/svg+xml": [
       "<?xml version=\"1.0\" encoding=\"utf-8\" standalone=\"no\"?>\n",
       "<!DOCTYPE svg PUBLIC \"-//W3C//DTD SVG 1.1//EN\"\n",
       "  \"http://www.w3.org/Graphics/SVG/1.1/DTD/svg11.dtd\">\n",
       "<svg xmlns:xlink=\"http://www.w3.org/1999/xlink\" width=\"371.52pt\" height=\"191.845398pt\" viewBox=\"0 0 371.52 191.845398\" xmlns=\"http://www.w3.org/2000/svg\" version=\"1.1\">\n",
       " <metadata>\n",
       "  <rdf:RDF xmlns:dc=\"http://purl.org/dc/elements/1.1/\" xmlns:cc=\"http://creativecommons.org/ns#\" xmlns:rdf=\"http://www.w3.org/1999/02/22-rdf-syntax-ns#\">\n",
       "   <cc:Work>\n",
       "    <dc:type rdf:resource=\"http://purl.org/dc/dcmitype/StillImage\"/>\n",
       "    <dc:date>2024-07-18T13:42:46.308395</dc:date>\n",
       "    <dc:format>image/svg+xml</dc:format>\n",
       "    <dc:creator>\n",
       "     <cc:Agent>\n",
       "      <dc:title>Matplotlib v3.7.1, https://matplotlib.org/</dc:title>\n",
       "     </cc:Agent>\n",
       "    </dc:creator>\n",
       "   </cc:Work>\n",
       "  </rdf:RDF>\n",
       " </metadata>\n",
       " <defs>\n",
       "  <style type=\"text/css\">*{stroke-linejoin: round; stroke-linecap: butt}</style>\n",
       " </defs>\n",
       " <g id=\"figure_1\">\n",
       "  <g id=\"patch_1\">\n",
       "   <path d=\"M 0 191.845398 \n",
       "L 371.52 191.845398 \n",
       "L 371.52 -0 \n",
       "L 0 -0 \n",
       "z\n",
       "\" style=\"fill: #ffffff\"/>\n",
       "  </g>\n",
       "  <g id=\"axes_1\">\n",
       "   <g clip-path=\"url(#p553f7b9b24)\">\n",
       "    <image xlink:href=\"data:image/png;base64,\n",
       "iVBORw0KGgoAAAANSUhEUgAAAOIAAADiCAYAAABTEBvXAAAEI0lEQVR4nO3cz64dchSG4bWdHnX6J0ERJkiZEgMTMzfQxL26AjMjCTEQTQ2qEtGq0pamR89xCwar6Tt4ngv4srN33v2brcNcv3E+wAv10ov+AIAQIUGIECBECBAiBAgRAoQIAUKEACFCgBAhQIgQIEQIECIECBEChAgBQoQAIUKAECFAiBAgRAgQIgQIEQKECAFChAAhQoAQIUCIECBECBAiBAgRAoQIAUKEACFCgBAhQIgQIEQIECIECBEChAgBQoQAIUKAECFAiBAgRAgQIgQIEQKECAFChAAhQoAQIUCIECBECBAiBAgRAoQIAUKEACFCgBAhQIgQIEQIECIECBEChAgBQoQAIUKAECFAiBAgRAgQIgQIEQKECAFChAAhQoAQIUCIECBECBAiBAgRAoQIAUKEACFCgBAhQIgQIEQIECIECBEChAgBQoQAIUKAECFAiBAgRAgQIgQIEQKECAFChAAhQoAQIUCIECBECBAiBAgRAi48l9XD0fLec/i/OD9b3nu2uzcz5z99ubp3uH5jdY89XkQIECIECBEChAgBQoQAIUKAECFAiBAgRAgQIgQIEQKECAFChAAhQoAQIUCIECBECBAiBAgRAg7zwRfn66snb63OffjqK6t7MzPvX9u9MXP15LC6NzNz+u/u3t2/dvdmZm492L1PdO/Rw9W9mZl5+mB37+x0d2+8iJAgRAgQIgQIEQKECAFChAAhQoAQIUCIECBECBAiBAgRAoQIAUKEACFCgBAhQIgQIEQIECIECBECLszR8froG5dOVvc+eXf30NPMzOefXlnd++zju6t7MzMXj3evR33745urezMzX32z+9t8/cOl1b2Zme9+W35vntzb3RsvIiQIEQKECAFChAAhQoAQIUCIECBECBAiBAgRAoQIAUKEACFCgBAhQIgQIEQIECIECBEChAgBF170B/g/jo4O65tXTs5W995759fVvZmZ117/fXXv7Gz/f/fWL2+v7l2783B1b2Zm7l/e3Tvc390bLyIkCBEChAgBQoQAIUKAECFAiBAgRAgQIgQIEQKECAFChAAhQoAQIUCIECBECBAiBAgRAoQIAUKEgAvz7HR99N7f/6zufX/74urezMxhnqzu3bzz0erezMzVS7tHs+7/uXswa2bm5u1Hq3s//3G0ujczM6fLB6nO979HLyIECBEChAgBQoQAIUKAECFAiBAgRAgQIgQIEQKECAFChAAhQoAQIUCIECBECBAiBAgRAoQIAYe5fuN8f3X57sjx5d29mZmXX12du3x8vLo3M3P5aPenefxs9wbOzMzj0+WbR08f7O7NzJw+3t07f7a7N15ESBAiBAgRAoQIAUKEACFCgBAhQIgQIEQIECIECBEChAgBQoQAIUKAECFAiBAgRAgQIgQIEQKECAH/AeH9VM3V7ZaaAAAAAElFTkSuQmCC\" id=\"image2009d8505a\" transform=\"scale(1 -1) translate(0 -162.72)\" x=\"7\" y=\"-22.125398\" width=\"162.72\" height=\"162.72\"/>\n",
       "   </g>\n",
       "   <g id=\"text_1\">\n",
       "    <!-- Weighted receptive field -->\n",
       "    <g transform=\"translate(15.113949 16.318125) scale(0.12 -0.12)\">\n",
       "     <defs>\n",
       "      <path id=\"DejaVuSans-57\" d=\"M 213 4666 \n",
       "L 850 4666 \n",
       "L 1831 722 \n",
       "L 2809 4666 \n",
       "L 3519 4666 \n",
       "L 4500 722 \n",
       "L 5478 4666 \n",
       "L 6119 4666 \n",
       "L 4947 0 \n",
       "L 4153 0 \n",
       "L 3169 4050 \n",
       "L 2175 0 \n",
       "L 1381 0 \n",
       "L 213 4666 \n",
       "z\n",
       "\" transform=\"scale(0.015625)\"/>\n",
       "      <path id=\"DejaVuSans-65\" d=\"M 3597 1894 \n",
       "L 3597 1613 \n",
       "L 953 1613 \n",
       "Q 991 1019 1311 708 \n",
       "Q 1631 397 2203 397 \n",
       "Q 2534 397 2845 478 \n",
       "Q 3156 559 3463 722 \n",
       "L 3463 178 \n",
       "Q 3153 47 2828 -22 \n",
       "Q 2503 -91 2169 -91 \n",
       "Q 1331 -91 842 396 \n",
       "Q 353 884 353 1716 \n",
       "Q 353 2575 817 3079 \n",
       "Q 1281 3584 2069 3584 \n",
       "Q 2775 3584 3186 3129 \n",
       "Q 3597 2675 3597 1894 \n",
       "z\n",
       "M 3022 2063 \n",
       "Q 3016 2534 2758 2815 \n",
       "Q 2500 3097 2075 3097 \n",
       "Q 1594 3097 1305 2825 \n",
       "Q 1016 2553 972 2059 \n",
       "L 3022 2063 \n",
       "z\n",
       "\" transform=\"scale(0.015625)\"/>\n",
       "      <path id=\"DejaVuSans-69\" d=\"M 603 3500 \n",
       "L 1178 3500 \n",
       "L 1178 0 \n",
       "L 603 0 \n",
       "L 603 3500 \n",
       "z\n",
       "M 603 4863 \n",
       "L 1178 4863 \n",
       "L 1178 4134 \n",
       "L 603 4134 \n",
       "L 603 4863 \n",
       "z\n",
       "\" transform=\"scale(0.015625)\"/>\n",
       "      <path id=\"DejaVuSans-67\" d=\"M 2906 1791 \n",
       "Q 2906 2416 2648 2759 \n",
       "Q 2391 3103 1925 3103 \n",
       "Q 1463 3103 1205 2759 \n",
       "Q 947 2416 947 1791 \n",
       "Q 947 1169 1205 825 \n",
       "Q 1463 481 1925 481 \n",
       "Q 2391 481 2648 825 \n",
       "Q 2906 1169 2906 1791 \n",
       "z\n",
       "M 3481 434 \n",
       "Q 3481 -459 3084 -895 \n",
       "Q 2688 -1331 1869 -1331 \n",
       "Q 1566 -1331 1297 -1286 \n",
       "Q 1028 -1241 775 -1147 \n",
       "L 775 -588 \n",
       "Q 1028 -725 1275 -790 \n",
       "Q 1522 -856 1778 -856 \n",
       "Q 2344 -856 2625 -561 \n",
       "Q 2906 -266 2906 331 \n",
       "L 2906 616 \n",
       "Q 2728 306 2450 153 \n",
       "Q 2172 0 1784 0 \n",
       "Q 1141 0 747 490 \n",
       "Q 353 981 353 1791 \n",
       "Q 353 2603 747 3093 \n",
       "Q 1141 3584 1784 3584 \n",
       "Q 2172 3584 2450 3431 \n",
       "Q 2728 3278 2906 2969 \n",
       "L 2906 3500 \n",
       "L 3481 3500 \n",
       "L 3481 434 \n",
       "z\n",
       "\" transform=\"scale(0.015625)\"/>\n",
       "      <path id=\"DejaVuSans-68\" d=\"M 3513 2113 \n",
       "L 3513 0 \n",
       "L 2938 0 \n",
       "L 2938 2094 \n",
       "Q 2938 2591 2744 2837 \n",
       "Q 2550 3084 2163 3084 \n",
       "Q 1697 3084 1428 2787 \n",
       "Q 1159 2491 1159 1978 \n",
       "L 1159 0 \n",
       "L 581 0 \n",
       "L 581 4863 \n",
       "L 1159 4863 \n",
       "L 1159 2956 \n",
       "Q 1366 3272 1645 3428 \n",
       "Q 1925 3584 2291 3584 \n",
       "Q 2894 3584 3203 3211 \n",
       "Q 3513 2838 3513 2113 \n",
       "z\n",
       "\" transform=\"scale(0.015625)\"/>\n",
       "      <path id=\"DejaVuSans-74\" d=\"M 1172 4494 \n",
       "L 1172 3500 \n",
       "L 2356 3500 \n",
       "L 2356 3053 \n",
       "L 1172 3053 \n",
       "L 1172 1153 \n",
       "Q 1172 725 1289 603 \n",
       "Q 1406 481 1766 481 \n",
       "L 2356 481 \n",
       "L 2356 0 \n",
       "L 1766 0 \n",
       "Q 1100 0 847 248 \n",
       "Q 594 497 594 1153 \n",
       "L 594 3053 \n",
       "L 172 3053 \n",
       "L 172 3500 \n",
       "L 594 3500 \n",
       "L 594 4494 \n",
       "L 1172 4494 \n",
       "z\n",
       "\" transform=\"scale(0.015625)\"/>\n",
       "      <path id=\"DejaVuSans-64\" d=\"M 2906 2969 \n",
       "L 2906 4863 \n",
       "L 3481 4863 \n",
       "L 3481 0 \n",
       "L 2906 0 \n",
       "L 2906 525 \n",
       "Q 2725 213 2448 61 \n",
       "Q 2172 -91 1784 -91 \n",
       "Q 1150 -91 751 415 \n",
       "Q 353 922 353 1747 \n",
       "Q 353 2572 751 3078 \n",
       "Q 1150 3584 1784 3584 \n",
       "Q 2172 3584 2448 3432 \n",
       "Q 2725 3281 2906 2969 \n",
       "z\n",
       "M 947 1747 \n",
       "Q 947 1113 1208 752 \n",
       "Q 1469 391 1925 391 \n",
       "Q 2381 391 2643 752 \n",
       "Q 2906 1113 2906 1747 \n",
       "Q 2906 2381 2643 2742 \n",
       "Q 2381 3103 1925 3103 \n",
       "Q 1469 3103 1208 2742 \n",
       "Q 947 2381 947 1747 \n",
       "z\n",
       "\" transform=\"scale(0.015625)\"/>\n",
       "      <path id=\"DejaVuSans-20\" transform=\"scale(0.015625)\"/>\n",
       "      <path id=\"DejaVuSans-72\" d=\"M 2631 2963 \n",
       "Q 2534 3019 2420 3045 \n",
       "Q 2306 3072 2169 3072 \n",
       "Q 1681 3072 1420 2755 \n",
       "Q 1159 2438 1159 1844 \n",
       "L 1159 0 \n",
       "L 581 0 \n",
       "L 581 3500 \n",
       "L 1159 3500 \n",
       "L 1159 2956 \n",
       "Q 1341 3275 1631 3429 \n",
       "Q 1922 3584 2338 3584 \n",
       "Q 2397 3584 2469 3576 \n",
       "Q 2541 3569 2628 3553 \n",
       "L 2631 2963 \n",
       "z\n",
       "\" transform=\"scale(0.015625)\"/>\n",
       "      <path id=\"DejaVuSans-63\" d=\"M 3122 3366 \n",
       "L 3122 2828 \n",
       "Q 2878 2963 2633 3030 \n",
       "Q 2388 3097 2138 3097 \n",
       "Q 1578 3097 1268 2742 \n",
       "Q 959 2388 959 1747 \n",
       "Q 959 1106 1268 751 \n",
       "Q 1578 397 2138 397 \n",
       "Q 2388 397 2633 464 \n",
       "Q 2878 531 3122 666 \n",
       "L 3122 134 \n",
       "Q 2881 22 2623 -34 \n",
       "Q 2366 -91 2075 -91 \n",
       "Q 1284 -91 818 406 \n",
       "Q 353 903 353 1747 \n",
       "Q 353 2603 823 3093 \n",
       "Q 1294 3584 2113 3584 \n",
       "Q 2378 3584 2631 3529 \n",
       "Q 2884 3475 3122 3366 \n",
       "z\n",
       "\" transform=\"scale(0.015625)\"/>\n",
       "      <path id=\"DejaVuSans-70\" d=\"M 1159 525 \n",
       "L 1159 -1331 \n",
       "L 581 -1331 \n",
       "L 581 3500 \n",
       "L 1159 3500 \n",
       "L 1159 2969 \n",
       "Q 1341 3281 1617 3432 \n",
       "Q 1894 3584 2278 3584 \n",
       "Q 2916 3584 3314 3078 \n",
       "Q 3713 2572 3713 1747 \n",
       "Q 3713 922 3314 415 \n",
       "Q 2916 -91 2278 -91 \n",
       "Q 1894 -91 1617 61 \n",
       "Q 1341 213 1159 525 \n",
       "z\n",
       "M 3116 1747 \n",
       "Q 3116 2381 2855 2742 \n",
       "Q 2594 3103 2138 3103 \n",
       "Q 1681 3103 1420 2742 \n",
       "Q 1159 2381 1159 1747 \n",
       "Q 1159 1113 1420 752 \n",
       "Q 1681 391 2138 391 \n",
       "Q 2594 391 2855 752 \n",
       "Q 3116 1113 3116 1747 \n",
       "z\n",
       "\" transform=\"scale(0.015625)\"/>\n",
       "      <path id=\"DejaVuSans-76\" d=\"M 191 3500 \n",
       "L 800 3500 \n",
       "L 1894 563 \n",
       "L 2988 3500 \n",
       "L 3597 3500 \n",
       "L 2284 0 \n",
       "L 1503 0 \n",
       "L 191 3500 \n",
       "z\n",
       "\" transform=\"scale(0.015625)\"/>\n",
       "      <path id=\"DejaVuSans-66\" d=\"M 2375 4863 \n",
       "L 2375 4384 \n",
       "L 1825 4384 \n",
       "Q 1516 4384 1395 4259 \n",
       "Q 1275 4134 1275 3809 \n",
       "L 1275 3500 \n",
       "L 2222 3500 \n",
       "L 2222 3053 \n",
       "L 1275 3053 \n",
       "L 1275 0 \n",
       "L 697 0 \n",
       "L 697 3053 \n",
       "L 147 3053 \n",
       "L 147 3500 \n",
       "L 697 3500 \n",
       "L 697 3744 \n",
       "Q 697 4328 969 4595 \n",
       "Q 1241 4863 1831 4863 \n",
       "L 2375 4863 \n",
       "z\n",
       "\" transform=\"scale(0.015625)\"/>\n",
       "      <path id=\"DejaVuSans-6c\" d=\"M 603 4863 \n",
       "L 1178 4863 \n",
       "L 1178 0 \n",
       "L 603 0 \n",
       "L 603 4863 \n",
       "z\n",
       "\" transform=\"scale(0.015625)\"/>\n",
       "     </defs>\n",
       "     <use xlink:href=\"#DejaVuSans-57\"/>\n",
       "     <use xlink:href=\"#DejaVuSans-65\" x=\"93.001953\"/>\n",
       "     <use xlink:href=\"#DejaVuSans-69\" x=\"154.525391\"/>\n",
       "     <use xlink:href=\"#DejaVuSans-67\" x=\"182.308594\"/>\n",
       "     <use xlink:href=\"#DejaVuSans-68\" x=\"245.785156\"/>\n",
       "     <use xlink:href=\"#DejaVuSans-74\" x=\"309.164062\"/>\n",
       "     <use xlink:href=\"#DejaVuSans-65\" x=\"348.373047\"/>\n",
       "     <use xlink:href=\"#DejaVuSans-64\" x=\"409.896484\"/>\n",
       "     <use xlink:href=\"#DejaVuSans-20\" x=\"473.373047\"/>\n",
       "     <use xlink:href=\"#DejaVuSans-72\" x=\"505.160156\"/>\n",
       "     <use xlink:href=\"#DejaVuSans-65\" x=\"544.023438\"/>\n",
       "     <use xlink:href=\"#DejaVuSans-63\" x=\"605.546875\"/>\n",
       "     <use xlink:href=\"#DejaVuSans-65\" x=\"660.527344\"/>\n",
       "     <use xlink:href=\"#DejaVuSans-70\" x=\"722.050781\"/>\n",
       "     <use xlink:href=\"#DejaVuSans-74\" x=\"785.527344\"/>\n",
       "     <use xlink:href=\"#DejaVuSans-69\" x=\"824.736328\"/>\n",
       "     <use xlink:href=\"#DejaVuSans-76\" x=\"852.519531\"/>\n",
       "     <use xlink:href=\"#DejaVuSans-65\" x=\"911.699219\"/>\n",
       "     <use xlink:href=\"#DejaVuSans-20\" x=\"973.222656\"/>\n",
       "     <use xlink:href=\"#DejaVuSans-66\" x=\"1005.009766\"/>\n",
       "     <use xlink:href=\"#DejaVuSans-69\" x=\"1040.214844\"/>\n",
       "     <use xlink:href=\"#DejaVuSans-65\" x=\"1067.998047\"/>\n",
       "     <use xlink:href=\"#DejaVuSans-6c\" x=\"1129.521484\"/>\n",
       "     <use xlink:href=\"#DejaVuSans-64\" x=\"1157.304688\"/>\n",
       "    </g>\n",
       "   </g>\n",
       "  </g>\n",
       "  <g id=\"axes_2\">\n",
       "   <g clip-path=\"url(#p93ffd61e67)\">\n",
       "    <image xlink:href=\"data:image/png;base64,\n",
       "iVBORw0KGgoAAAANSUhEUgAAAOIAAADiCAYAAABTEBvXAAACyElEQVR4nO3cMQ3EQAwAwVxYfBsSjyLAg+RRRAmBL0+6LWYAWG5W7jy243w2YKl99QKAECFBiBAgRAgQIgQIEQKECAFChAAhQoAQIUCIECBECBAiBAgRAoQIAUKEACFCgBAhQIgQIEQIECIECBEChAgBQoQAIUKAECFAiBAgRAgQIgQIEQKECAFChAAhQoAQIUCIECBECBAiBAgRAoQIAUKEACFCgBAhQIgQIEQIECIECBEChAgBQoQAIUKAECFAiBAgRAgQIgQIEQKECAFChAAhQoAQIUCIECBECBAiBAgRAoQIAUKEACFCgBAhQIgQIEQIECIECBEChAgBQoQAIUKAECFAiBAgRAgQIgQIEQKECAFChAAhQoAQIUCIECBECBAiBAgRAoQIAUKEACFCgBAhQIgQIEQIECIECBEChAgBQoQAIUKAECFAiBAgRAgQIgQIEQLG/fs+q5fgv/1zTZ03jnPqPOZxESFAiBAgRAgQIgQIEQKECAFChAAhQoAQIUCIECBECBAiBAgRAoQIAUKEACFCgBAhQIgQIEQI8LMGAlxECBAiBAgRAoQIAUKEACFCgBAhQIgQIEQIECIECBEChAgBQoQAIUKAECFAiBAgRAgQIgQIEQKECAFChAAhQoAQIUCIECBECBAiBAgRAoQIAUKEACFCgBAhQIgQIEQIECIECBEChAgBQoQAIUKAECFAiBAgRAgQIgQIEQKECAFChAAhQoAQIUCIECBECBAiBAgRAoQIAUKEACFCgBAhQIgQIEQIECIECBEChAgBQoQAIUKAECFAiBAgRAgQIgQIEQKECAFChAAhQoAQIUCIECBECBAiBAgRAoQIAUKEACFCgBAhQIgQIEQIECIECBEChAgBQoQAIUKAECFAiBAgRAgQIgQIEQKECAFChAAhQoAQIUCIECBECBAiBAgRAoQIAUKEACFCwAvLsQq4rvibSwAAAABJRU5ErkJggg==\" id=\"imagefa98761fa7\" transform=\"scale(1 -1) translate(0 -162.72)\" x=\"202\" y=\"-22.125398\" width=\"162.72\" height=\"162.72\"/>\n",
       "   </g>\n",
       "   <g id=\"text_2\">\n",
       "    <!-- Binary receptive field -->\n",
       "    <g transform=\"translate(219.029489 16.318125) scale(0.12 -0.12)\">\n",
       "     <defs>\n",
       "      <path id=\"DejaVuSans-42\" d=\"M 1259 2228 \n",
       "L 1259 519 \n",
       "L 2272 519 \n",
       "Q 2781 519 3026 730 \n",
       "Q 3272 941 3272 1375 \n",
       "Q 3272 1813 3026 2020 \n",
       "Q 2781 2228 2272 2228 \n",
       "L 1259 2228 \n",
       "z\n",
       "M 1259 4147 \n",
       "L 1259 2741 \n",
       "L 2194 2741 \n",
       "Q 2656 2741 2882 2914 \n",
       "Q 3109 3088 3109 3444 \n",
       "Q 3109 3797 2882 3972 \n",
       "Q 2656 4147 2194 4147 \n",
       "L 1259 4147 \n",
       "z\n",
       "M 628 4666 \n",
       "L 2241 4666 \n",
       "Q 2963 4666 3353 4366 \n",
       "Q 3744 4066 3744 3513 \n",
       "Q 3744 3084 3544 2831 \n",
       "Q 3344 2578 2956 2516 \n",
       "Q 3422 2416 3680 2098 \n",
       "Q 3938 1781 3938 1306 \n",
       "Q 3938 681 3513 340 \n",
       "Q 3088 0 2303 0 \n",
       "L 628 0 \n",
       "L 628 4666 \n",
       "z\n",
       "\" transform=\"scale(0.015625)\"/>\n",
       "      <path id=\"DejaVuSans-6e\" d=\"M 3513 2113 \n",
       "L 3513 0 \n",
       "L 2938 0 \n",
       "L 2938 2094 \n",
       "Q 2938 2591 2744 2837 \n",
       "Q 2550 3084 2163 3084 \n",
       "Q 1697 3084 1428 2787 \n",
       "Q 1159 2491 1159 1978 \n",
       "L 1159 0 \n",
       "L 581 0 \n",
       "L 581 3500 \n",
       "L 1159 3500 \n",
       "L 1159 2956 \n",
       "Q 1366 3272 1645 3428 \n",
       "Q 1925 3584 2291 3584 \n",
       "Q 2894 3584 3203 3211 \n",
       "Q 3513 2838 3513 2113 \n",
       "z\n",
       "\" transform=\"scale(0.015625)\"/>\n",
       "      <path id=\"DejaVuSans-61\" d=\"M 2194 1759 \n",
       "Q 1497 1759 1228 1600 \n",
       "Q 959 1441 959 1056 \n",
       "Q 959 750 1161 570 \n",
       "Q 1363 391 1709 391 \n",
       "Q 2188 391 2477 730 \n",
       "Q 2766 1069 2766 1631 \n",
       "L 2766 1759 \n",
       "L 2194 1759 \n",
       "z\n",
       "M 3341 1997 \n",
       "L 3341 0 \n",
       "L 2766 0 \n",
       "L 2766 531 \n",
       "Q 2569 213 2275 61 \n",
       "Q 1981 -91 1556 -91 \n",
       "Q 1019 -91 701 211 \n",
       "Q 384 513 384 1019 \n",
       "Q 384 1609 779 1909 \n",
       "Q 1175 2209 1959 2209 \n",
       "L 2766 2209 \n",
       "L 2766 2266 \n",
       "Q 2766 2663 2505 2880 \n",
       "Q 2244 3097 1772 3097 \n",
       "Q 1472 3097 1187 3025 \n",
       "Q 903 2953 641 2809 \n",
       "L 641 3341 \n",
       "Q 956 3463 1253 3523 \n",
       "Q 1550 3584 1831 3584 \n",
       "Q 2591 3584 2966 3190 \n",
       "Q 3341 2797 3341 1997 \n",
       "z\n",
       "\" transform=\"scale(0.015625)\"/>\n",
       "      <path id=\"DejaVuSans-79\" d=\"M 2059 -325 \n",
       "Q 1816 -950 1584 -1140 \n",
       "Q 1353 -1331 966 -1331 \n",
       "L 506 -1331 \n",
       "L 506 -850 \n",
       "L 844 -850 \n",
       "Q 1081 -850 1212 -737 \n",
       "Q 1344 -625 1503 -206 \n",
       "L 1606 56 \n",
       "L 191 3500 \n",
       "L 800 3500 \n",
       "L 1894 763 \n",
       "L 2988 3500 \n",
       "L 3597 3500 \n",
       "L 2059 -325 \n",
       "z\n",
       "\" transform=\"scale(0.015625)\"/>\n",
       "     </defs>\n",
       "     <use xlink:href=\"#DejaVuSans-42\"/>\n",
       "     <use xlink:href=\"#DejaVuSans-69\" x=\"68.603516\"/>\n",
       "     <use xlink:href=\"#DejaVuSans-6e\" x=\"96.386719\"/>\n",
       "     <use xlink:href=\"#DejaVuSans-61\" x=\"159.765625\"/>\n",
       "     <use xlink:href=\"#DejaVuSans-72\" x=\"221.044922\"/>\n",
       "     <use xlink:href=\"#DejaVuSans-79\" x=\"262.158203\"/>\n",
       "     <use xlink:href=\"#DejaVuSans-20\" x=\"321.337891\"/>\n",
       "     <use xlink:href=\"#DejaVuSans-72\" x=\"353.125\"/>\n",
       "     <use xlink:href=\"#DejaVuSans-65\" x=\"391.988281\"/>\n",
       "     <use xlink:href=\"#DejaVuSans-63\" x=\"453.511719\"/>\n",
       "     <use xlink:href=\"#DejaVuSans-65\" x=\"508.492188\"/>\n",
       "     <use xlink:href=\"#DejaVuSans-70\" x=\"570.015625\"/>\n",
       "     <use xlink:href=\"#DejaVuSans-74\" x=\"633.492188\"/>\n",
       "     <use xlink:href=\"#DejaVuSans-69\" x=\"672.701172\"/>\n",
       "     <use xlink:href=\"#DejaVuSans-76\" x=\"700.484375\"/>\n",
       "     <use xlink:href=\"#DejaVuSans-65\" x=\"759.664062\"/>\n",
       "     <use xlink:href=\"#DejaVuSans-20\" x=\"821.1875\"/>\n",
       "     <use xlink:href=\"#DejaVuSans-66\" x=\"852.974609\"/>\n",
       "     <use xlink:href=\"#DejaVuSans-69\" x=\"888.179688\"/>\n",
       "     <use xlink:href=\"#DejaVuSans-65\" x=\"915.962891\"/>\n",
       "     <use xlink:href=\"#DejaVuSans-6c\" x=\"977.486328\"/>\n",
       "     <use xlink:href=\"#DejaVuSans-64\" x=\"1005.269531\"/>\n",
       "    </g>\n",
       "   </g>\n",
       "  </g>\n",
       " </g>\n",
       " <defs>\n",
       "  <clipPath id=\"p553f7b9b24\">\n",
       "   <rect x=\"7.2\" y=\"22.318125\" width=\"162.327273\" height=\"162.327273\"/>\n",
       "  </clipPath>\n",
       "  <clipPath id=\"p93ffd61e67\">\n",
       "   <rect x=\"201.992727\" y=\"22.318125\" width=\"162.327273\" height=\"162.327273\"/>\n",
       "  </clipPath>\n",
       " </defs>\n",
       "</svg>\n"
      ],
      "text/plain": [
       "<Figure size 640x480 with 2 Axes>"
      ]
     },
     "metadata": {},
     "output_type": "display_data"
    }
   ],
   "source": [
    "# Initialize convolutions with equal weight to all input pixels\n",
    "horiz_conv = HorizontalStackConvolution(c_in=1, c_out=1, kernel_size=3, mask_center=False)\n",
    "horiz_conv.conv.weight.data.fill_(1)\n",
    "horiz_conv.conv.bias.data.fill_(0)\n",
    "vert_conv = VerticalStackConvolution(c_in=1, c_out=1, kernel_size=3,mask_center=False)\n",
    "vert_conv.conv.weight.data.fill_(1)\n",
    "vert_conv.conv.bias.data.fill_(0)\n",
    "\n",
    "# We reuse our convolutions for the 4 layers here. Note that in a standard network,\n",
    "# we don't do that, and instead learn 4 separate convolution. As this cell is only for\n",
    "# visualization purposes, we reuse the convolutions for all layers.\n",
    "for l_idx in range(4):\n",
    "    vert_img = vert_conv(vert_img)\n",
    "    horiz_img = horiz_conv(horiz_img) + vert_img\n",
    "    print(f\"Layer {l_idx+2}\")\n",
    "    show_center_recep_field(inp_img, horiz_img)"
   ]
  },
  {
   "cell_type": "markdown",
   "metadata": {},
   "source": [
    "The receptive field above it visualized for the horizontal stack, which includes the features of the vertical convolutions. It grows over layers without any blind spot as we had before. The difference between \"weighted\" and \"binary\" receptive field is that for the latter, we check whether there are any gradients flowing back to this pixel. This indicates that the center pixel indeed can use information from this pixel. Nevertheless, due to the convolution weights, some pixels have a stronger effect on the prediction than others. This is visualized in the weighted receptive field by plotting the gradient magnitude for each pixel instead of a binary yes/no.\n",
    "\n",
    "\n",
    "Another receptive field we can check is the one for the vertical stack as the one above is for the horizontal stack. Let's visualize it below:"
   ]
  },
  {
   "cell_type": "code",
   "execution_count": 261,
   "metadata": {},
   "outputs": [
    {
     "data": {
      "application/pdf": "[encoded data removed]",
      "image/svg+xml": [
       "<?xml version=\"1.0\" encoding=\"utf-8\" standalone=\"no\"?>\n",
       "<!DOCTYPE svg PUBLIC \"-//W3C//DTD SVG 1.1//EN\"\n",
       "  \"http://www.w3.org/Graphics/SVG/1.1/DTD/svg11.dtd\">\n",
       "<svg xmlns:xlink=\"http://www.w3.org/1999/xlink\" width=\"371.52pt\" height=\"191.845398pt\" viewBox=\"0 0 371.52 191.845398\" xmlns=\"http://www.w3.org/2000/svg\" version=\"1.1\">\n",
       " <metadata>\n",
       "  <rdf:RDF xmlns:dc=\"http://purl.org/dc/elements/1.1/\" xmlns:cc=\"http://creativecommons.org/ns#\" xmlns:rdf=\"http://www.w3.org/1999/02/22-rdf-syntax-ns#\">\n",
       "   <cc:Work>\n",
       "    <dc:type rdf:resource=\"http://purl.org/dc/dcmitype/StillImage\"/>\n",
       "    <dc:date>2024-07-18T13:42:46.500963</dc:date>\n",
       "    <dc:format>image/svg+xml</dc:format>\n",
       "    <dc:creator>\n",
       "     <cc:Agent>\n",
       "      <dc:title>Matplotlib v3.7.1, https://matplotlib.org/</dc:title>\n",
       "     </cc:Agent>\n",
       "    </dc:creator>\n",
       "   </cc:Work>\n",
       "  </rdf:RDF>\n",
       " </metadata>\n",
       " <defs>\n",
       "  <style type=\"text/css\">*{stroke-linejoin: round; stroke-linecap: butt}</style>\n",
       " </defs>\n",
       " <g id=\"figure_1\">\n",
       "  <g id=\"patch_1\">\n",
       "   <path d=\"M 0 191.845398 \n",
       "L 371.52 191.845398 \n",
       "L 371.52 -0 \n",
       "L 0 -0 \n",
       "z\n",
       "\" style=\"fill: #ffffff\"/>\n",
       "  </g>\n",
       "  <g id=\"axes_1\">\n",
       "   <g clip-path=\"url(#p08c3b5ce31)\">\n",
       "    <image xlink:href=\"data:image/png;base64,\n",
       "iVBORw0KGgoAAAANSUhEUgAAAOIAAADiCAYAAABTEBvXAAAEB0lEQVR4nO3cz6qVZRiH4WfrMpcNFMIIBIt2OBQaNO4MdifraTQIHEpFBRsMURTCZf7ZDRo3e8J7cF0H8GOxvu/+3tl7NucXVwN8VNc+9g8AhAgJQoQAIUKAECFAiBAgRAgQIgQIEQKECAFChAAhQoAQIUCIECBECBAiBAgRAoQIAUKEACFCgBAhQIgQIEQIECIECBEChAgBQoQAIUKAECFAiBAgRAgQIgQIEQKECAFChAAhQoAQIUCIECBECBAiBAgRAoQIAUKEACFCgBAhQIgQIEQIECIECBEChAgBQoQAIUKAECFAiBAgRAgQIgQIEQKECAFChAAhQoAQIUCIECBECBAiBAgRAoQIAUKEACFCgBAhQIgQIEQIECIECBEChAgBQoQAIUKAECFAiBAgRAgQIgQIEQKECAFChAAhQoAQIUCIECBECBAiBAgRAoQIAUKEACFCgBAhQIgQIEQIECIECBEChAgBQoQAIUKAECFAiBBw+Ng/gP929cuj1b2z84vVPfY4ESFAiBAgRAgQIgQIEQKECAFChAAhQoAQIUCIECBECBAiBAgRAoQIAUKEACFCgBAhQIgQIEQIOJvzi6v11es3d/du3N7dm5njrd3Ne8cPq3szM8fD7qM5vTtb3ZuZuTztfstPr1+t7s3MzNvlzfdvdvfGiQgJQoQAIUKAECFAiBAgRAgQIgQIEQKECAFChAAhQoAQIUCIECBECBAiBAgRAoQIAUKEACFCgBAh4DDXbuyvHj9fnfvui+urezMz336zezHTwwe3VvdmZu7eebe69+zlYXVvZubxk9Pq3k8/f7q6NzPz49Ply8xeP93dGyciJAgRAoQIAUKEACFCgBAhQIgQIEQIECIECBEChAgBQoQAIUKAECFAiBAgRAgQIgQIEQKECAGHubZ/H8zxk907Qu59tnt3y8zMwwfH1b0fvv91dW9m5sv7v63u/f7HV6t7//p6de3PF3+t7s3MHF/svo+nN/vNOBEhQIgQIEQIECIECBEChAgBQoQAIUKAECFAiBAgRAgQIgQIEQKECAFChAAhQoAQIUCIECBECBAiBBzmw/v10dPfb1b3Lp/vX9bz+MlpeXH3EqWZmbt37q/uPXt5WN2b2f8fL5+vzs3M/vv4fzTjRIQAIUKAECFAiBAgRAgQIgQIEQKECAFChAAhQoAQIUCIECBECBAiBAgRAoQIAUKEACFCgBAh4GzOL67WV6/f3N27cXt3b2aOt3Y37x0/rO7NzBwPu4/m9O5sdW9m5vK0+y0/vX61ujczM2+XN98v34EzTkRIECIECBEChAgBQoQAIUKAECFAiBAgRAgQIgQIEQKECAFChAAhQoAQIUCIECBECBAiBAgRAoQIAf8A3SBRGScSdhwAAAAASUVORK5CYII=\" id=\"image38ddc7c517\" transform=\"scale(1 -1) translate(0 -162.72)\" x=\"7\" y=\"-22.125398\" width=\"162.72\" height=\"162.72\"/>\n",
       "   </g>\n",
       "   <g id=\"text_1\">\n",
       "    <!-- Weighted receptive field -->\n",
       "    <g transform=\"translate(15.113949 16.318125) scale(0.12 -0.12)\">\n",
       "     <defs>\n",
       "      <path id=\"DejaVuSans-57\" d=\"M 213 4666 \n",
       "L 850 4666 \n",
       "L 1831 722 \n",
       "L 2809 4666 \n",
       "L 3519 4666 \n",
       "L 4500 722 \n",
       "L 5478 4666 \n",
       "L 6119 4666 \n",
       "L 4947 0 \n",
       "L 4153 0 \n",
       "L 3169 4050 \n",
       "L 2175 0 \n",
       "L 1381 0 \n",
       "L 213 4666 \n",
       "z\n",
       "\" transform=\"scale(0.015625)\"/>\n",
       "      <path id=\"DejaVuSans-65\" d=\"M 3597 1894 \n",
       "L 3597 1613 \n",
       "L 953 1613 \n",
       "Q 991 1019 1311 708 \n",
       "Q 1631 397 2203 397 \n",
       "Q 2534 397 2845 478 \n",
       "Q 3156 559 3463 722 \n",
       "L 3463 178 \n",
       "Q 3153 47 2828 -22 \n",
       "Q 2503 -91 2169 -91 \n",
       "Q 1331 -91 842 396 \n",
       "Q 353 884 353 1716 \n",
       "Q 353 2575 817 3079 \n",
       "Q 1281 3584 2069 3584 \n",
       "Q 2775 3584 3186 3129 \n",
       "Q 3597 2675 3597 1894 \n",
       "z\n",
       "M 3022 2063 \n",
       "Q 3016 2534 2758 2815 \n",
       "Q 2500 3097 2075 3097 \n",
       "Q 1594 3097 1305 2825 \n",
       "Q 1016 2553 972 2059 \n",
       "L 3022 2063 \n",
       "z\n",
       "\" transform=\"scale(0.015625)\"/>\n",
       "      <path id=\"DejaVuSans-69\" d=\"M 603 3500 \n",
       "L 1178 3500 \n",
       "L 1178 0 \n",
       "L 603 0 \n",
       "L 603 3500 \n",
       "z\n",
       "M 603 4863 \n",
       "L 1178 4863 \n",
       "L 1178 4134 \n",
       "L 603 4134 \n",
       "L 603 4863 \n",
       "z\n",
       "\" transform=\"scale(0.015625)\"/>\n",
       "      <path id=\"DejaVuSans-67\" d=\"M 2906 1791 \n",
       "Q 2906 2416 2648 2759 \n",
       "Q 2391 3103 1925 3103 \n",
       "Q 1463 3103 1205 2759 \n",
       "Q 947 2416 947 1791 \n",
       "Q 947 1169 1205 825 \n",
       "Q 1463 481 1925 481 \n",
       "Q 2391 481 2648 825 \n",
       "Q 2906 1169 2906 1791 \n",
       "z\n",
       "M 3481 434 \n",
       "Q 3481 -459 3084 -895 \n",
       "Q 2688 -1331 1869 -1331 \n",
       "Q 1566 -1331 1297 -1286 \n",
       "Q 1028 -1241 775 -1147 \n",
       "L 775 -588 \n",
       "Q 1028 -725 1275 -790 \n",
       "Q 1522 -856 1778 -856 \n",
       "Q 2344 -856 2625 -561 \n",
       "Q 2906 -266 2906 331 \n",
       "L 2906 616 \n",
       "Q 2728 306 2450 153 \n",
       "Q 2172 0 1784 0 \n",
       "Q 1141 0 747 490 \n",
       "Q 353 981 353 1791 \n",
       "Q 353 2603 747 3093 \n",
       "Q 1141 3584 1784 3584 \n",
       "Q 2172 3584 2450 3431 \n",
       "Q 2728 3278 2906 2969 \n",
       "L 2906 3500 \n",
       "L 3481 3500 \n",
       "L 3481 434 \n",
       "z\n",
       "\" transform=\"scale(0.015625)\"/>\n",
       "      <path id=\"DejaVuSans-68\" d=\"M 3513 2113 \n",
       "L 3513 0 \n",
       "L 2938 0 \n",
       "L 2938 2094 \n",
       "Q 2938 2591 2744 2837 \n",
       "Q 2550 3084 2163 3084 \n",
       "Q 1697 3084 1428 2787 \n",
       "Q 1159 2491 1159 1978 \n",
       "L 1159 0 \n",
       "L 581 0 \n",
       "L 581 4863 \n",
       "L 1159 4863 \n",
       "L 1159 2956 \n",
       "Q 1366 3272 1645 3428 \n",
       "Q 1925 3584 2291 3584 \n",
       "Q 2894 3584 3203 3211 \n",
       "Q 3513 2838 3513 2113 \n",
       "z\n",
       "\" transform=\"scale(0.015625)\"/>\n",
       "      <path id=\"DejaVuSans-74\" d=\"M 1172 4494 \n",
       "L 1172 3500 \n",
       "L 2356 3500 \n",
       "L 2356 3053 \n",
       "L 1172 3053 \n",
       "L 1172 1153 \n",
       "Q 1172 725 1289 603 \n",
       "Q 1406 481 1766 481 \n",
       "L 2356 481 \n",
       "L 2356 0 \n",
       "L 1766 0 \n",
       "Q 1100 0 847 248 \n",
       "Q 594 497 594 1153 \n",
       "L 594 3053 \n",
       "L 172 3053 \n",
       "L 172 3500 \n",
       "L 594 3500 \n",
       "L 594 4494 \n",
       "L 1172 4494 \n",
       "z\n",
       "\" transform=\"scale(0.015625)\"/>\n",
       "      <path id=\"DejaVuSans-64\" d=\"M 2906 2969 \n",
       "L 2906 4863 \n",
       "L 3481 4863 \n",
       "L 3481 0 \n",
       "L 2906 0 \n",
       "L 2906 525 \n",
       "Q 2725 213 2448 61 \n",
       "Q 2172 -91 1784 -91 \n",
       "Q 1150 -91 751 415 \n",
       "Q 353 922 353 1747 \n",
       "Q 353 2572 751 3078 \n",
       "Q 1150 3584 1784 3584 \n",
       "Q 2172 3584 2448 3432 \n",
       "Q 2725 3281 2906 2969 \n",
       "z\n",
       "M 947 1747 \n",
       "Q 947 1113 1208 752 \n",
       "Q 1469 391 1925 391 \n",
       "Q 2381 391 2643 752 \n",
       "Q 2906 1113 2906 1747 \n",
       "Q 2906 2381 2643 2742 \n",
       "Q 2381 3103 1925 3103 \n",
       "Q 1469 3103 1208 2742 \n",
       "Q 947 2381 947 1747 \n",
       "z\n",
       "\" transform=\"scale(0.015625)\"/>\n",
       "      <path id=\"DejaVuSans-20\" transform=\"scale(0.015625)\"/>\n",
       "      <path id=\"DejaVuSans-72\" d=\"M 2631 2963 \n",
       "Q 2534 3019 2420 3045 \n",
       "Q 2306 3072 2169 3072 \n",
       "Q 1681 3072 1420 2755 \n",
       "Q 1159 2438 1159 1844 \n",
       "L 1159 0 \n",
       "L 581 0 \n",
       "L 581 3500 \n",
       "L 1159 3500 \n",
       "L 1159 2956 \n",
       "Q 1341 3275 1631 3429 \n",
       "Q 1922 3584 2338 3584 \n",
       "Q 2397 3584 2469 3576 \n",
       "Q 2541 3569 2628 3553 \n",
       "L 2631 2963 \n",
       "z\n",
       "\" transform=\"scale(0.015625)\"/>\n",
       "      <path id=\"DejaVuSans-63\" d=\"M 3122 3366 \n",
       "L 3122 2828 \n",
       "Q 2878 2963 2633 3030 \n",
       "Q 2388 3097 2138 3097 \n",
       "Q 1578 3097 1268 2742 \n",
       "Q 959 2388 959 1747 \n",
       "Q 959 1106 1268 751 \n",
       "Q 1578 397 2138 397 \n",
       "Q 2388 397 2633 464 \n",
       "Q 2878 531 3122 666 \n",
       "L 3122 134 \n",
       "Q 2881 22 2623 -34 \n",
       "Q 2366 -91 2075 -91 \n",
       "Q 1284 -91 818 406 \n",
       "Q 353 903 353 1747 \n",
       "Q 353 2603 823 3093 \n",
       "Q 1294 3584 2113 3584 \n",
       "Q 2378 3584 2631 3529 \n",
       "Q 2884 3475 3122 3366 \n",
       "z\n",
       "\" transform=\"scale(0.015625)\"/>\n",
       "      <path id=\"DejaVuSans-70\" d=\"M 1159 525 \n",
       "L 1159 -1331 \n",
       "L 581 -1331 \n",
       "L 581 3500 \n",
       "L 1159 3500 \n",
       "L 1159 2969 \n",
       "Q 1341 3281 1617 3432 \n",
       "Q 1894 3584 2278 3584 \n",
       "Q 2916 3584 3314 3078 \n",
       "Q 3713 2572 3713 1747 \n",
       "Q 3713 922 3314 415 \n",
       "Q 2916 -91 2278 -91 \n",
       "Q 1894 -91 1617 61 \n",
       "Q 1341 213 1159 525 \n",
       "z\n",
       "M 3116 1747 \n",
       "Q 3116 2381 2855 2742 \n",
       "Q 2594 3103 2138 3103 \n",
       "Q 1681 3103 1420 2742 \n",
       "Q 1159 2381 1159 1747 \n",
       "Q 1159 1113 1420 752 \n",
       "Q 1681 391 2138 391 \n",
       "Q 2594 391 2855 752 \n",
       "Q 3116 1113 3116 1747 \n",
       "z\n",
       "\" transform=\"scale(0.015625)\"/>\n",
       "      <path id=\"DejaVuSans-76\" d=\"M 191 3500 \n",
       "L 800 3500 \n",
       "L 1894 563 \n",
       "L 2988 3500 \n",
       "L 3597 3500 \n",
       "L 2284 0 \n",
       "L 1503 0 \n",
       "L 191 3500 \n",
       "z\n",
       "\" transform=\"scale(0.015625)\"/>\n",
       "      <path id=\"DejaVuSans-66\" d=\"M 2375 4863 \n",
       "L 2375 4384 \n",
       "L 1825 4384 \n",
       "Q 1516 4384 1395 4259 \n",
       "Q 1275 4134 1275 3809 \n",
       "L 1275 3500 \n",
       "L 2222 3500 \n",
       "L 2222 3053 \n",
       "L 1275 3053 \n",
       "L 1275 0 \n",
       "L 697 0 \n",
       "L 697 3053 \n",
       "L 147 3053 \n",
       "L 147 3500 \n",
       "L 697 3500 \n",
       "L 697 3744 \n",
       "Q 697 4328 969 4595 \n",
       "Q 1241 4863 1831 4863 \n",
       "L 2375 4863 \n",
       "z\n",
       "\" transform=\"scale(0.015625)\"/>\n",
       "      <path id=\"DejaVuSans-6c\" d=\"M 603 4863 \n",
       "L 1178 4863 \n",
       "L 1178 0 \n",
       "L 603 0 \n",
       "L 603 4863 \n",
       "z\n",
       "\" transform=\"scale(0.015625)\"/>\n",
       "     </defs>\n",
       "     <use xlink:href=\"#DejaVuSans-57\"/>\n",
       "     <use xlink:href=\"#DejaVuSans-65\" x=\"93.001953\"/>\n",
       "     <use xlink:href=\"#DejaVuSans-69\" x=\"154.525391\"/>\n",
       "     <use xlink:href=\"#DejaVuSans-67\" x=\"182.308594\"/>\n",
       "     <use xlink:href=\"#DejaVuSans-68\" x=\"245.785156\"/>\n",
       "     <use xlink:href=\"#DejaVuSans-74\" x=\"309.164062\"/>\n",
       "     <use xlink:href=\"#DejaVuSans-65\" x=\"348.373047\"/>\n",
       "     <use xlink:href=\"#DejaVuSans-64\" x=\"409.896484\"/>\n",
       "     <use xlink:href=\"#DejaVuSans-20\" x=\"473.373047\"/>\n",
       "     <use xlink:href=\"#DejaVuSans-72\" x=\"505.160156\"/>\n",
       "     <use xlink:href=\"#DejaVuSans-65\" x=\"544.023438\"/>\n",
       "     <use xlink:href=\"#DejaVuSans-63\" x=\"605.546875\"/>\n",
       "     <use xlink:href=\"#DejaVuSans-65\" x=\"660.527344\"/>\n",
       "     <use xlink:href=\"#DejaVuSans-70\" x=\"722.050781\"/>\n",
       "     <use xlink:href=\"#DejaVuSans-74\" x=\"785.527344\"/>\n",
       "     <use xlink:href=\"#DejaVuSans-69\" x=\"824.736328\"/>\n",
       "     <use xlink:href=\"#DejaVuSans-76\" x=\"852.519531\"/>\n",
       "     <use xlink:href=\"#DejaVuSans-65\" x=\"911.699219\"/>\n",
       "     <use xlink:href=\"#DejaVuSans-20\" x=\"973.222656\"/>\n",
       "     <use xlink:href=\"#DejaVuSans-66\" x=\"1005.009766\"/>\n",
       "     <use xlink:href=\"#DejaVuSans-69\" x=\"1040.214844\"/>\n",
       "     <use xlink:href=\"#DejaVuSans-65\" x=\"1067.998047\"/>\n",
       "     <use xlink:href=\"#DejaVuSans-6c\" x=\"1129.521484\"/>\n",
       "     <use xlink:href=\"#DejaVuSans-64\" x=\"1157.304688\"/>\n",
       "    </g>\n",
       "   </g>\n",
       "  </g>\n",
       "  <g id=\"axes_2\">\n",
       "   <g clip-path=\"url(#p3576e8a7fd)\">\n",
       "    <image xlink:href=\"data:image/png;base64,\n",
       "iVBORw0KGgoAAAANSUhEUgAAAOIAAADiCAYAAABTEBvXAAACyUlEQVR4nO3VQQ0CQRBFwR2CkjWBilWLH66oIIMCbpPMS6gS0PmXlx7Hec0D2Oq2ewAgREgQIgQIEQKECAFChAAhQoAQIUCIECBECBAiBAgRAoQIAUKEACFCgBAhQIgQIEQIECIECBEChAgBQoQAIUKAECFAiBAgRAgQIgQIEQKECAFChAAhQoAQIUCIECBECBAiBAgRAoQIAUKEACFCgBAhQIgQIEQIECIECBEChAgBQoQAIUKAECFAiBAgRAgQIgQIEQKECAFChAAhQoAQIUCIECBECBAiBAgRAoQIAUKEACFCgBAhQIgQIEQIECIECBEChAgBQoQAIUKAECFAiBAgRAgQIgQIEQKECAFChAAhQoAQIUCIECBECBAiBAgRAoQIAUKEACFCgBAhQIgQIEQIECIECBEChAgBQoQAIUKAECFAiBAgRAgQIgQIEQKECAFChID77gH8Nl/PpffGeS29xzo+IgQIEQKECAFChAAhQoAQIUCIECBECBAiBAgRAoQIAUKEACFCgBAhQIgQIEQIECIECBEChAgB4/N+zN0j4N/5iBAgRAgQIgQIEQKECAFChAAhQoAQIUCIECBECBAiBAgRAoQIAUKEACFCgBAhQIgQIEQIECIECBEChAgBQoQAIUKAECFAiBAgRAgQIgQIEQKECAFChAAhQoAQIUCIECBECBAiBAgRAoQIAUKEACFCgBAhQIgQIEQIECIECBEChAgBQoQAIUKAECFAiBAgRAgQIgQIEQKECAFChAAhQoAQIUCIECBECBAiBAgRAoQIAUKEACFCgBAhQIgQIEQIECIECBEChAgBQoQAIUKAECFAiBAgRAgQIgQIEQKECAFChAAhQoAQIUCIECBECBAiBAgRAoQIAUKEACFCgBAhQIgQIEQIECIECBEChAgBQoQAIUKAECFAiBAgRAgQIgQIEQKECAFChIAvapIJTZ5ryYsAAAAASUVORK5CYII=\" id=\"image5d2e6c2223\" transform=\"scale(1 -1) translate(0 -162.72)\" x=\"202\" y=\"-22.125398\" width=\"162.72\" height=\"162.72\"/>\n",
       "   </g>\n",
       "   <g id=\"text_2\">\n",
       "    <!-- Binary receptive field -->\n",
       "    <g transform=\"translate(219.029489 16.318125) scale(0.12 -0.12)\">\n",
       "     <defs>\n",
       "      <path id=\"DejaVuSans-42\" d=\"M 1259 2228 \n",
       "L 1259 519 \n",
       "L 2272 519 \n",
       "Q 2781 519 3026 730 \n",
       "Q 3272 941 3272 1375 \n",
       "Q 3272 1813 3026 2020 \n",
       "Q 2781 2228 2272 2228 \n",
       "L 1259 2228 \n",
       "z\n",
       "M 1259 4147 \n",
       "L 1259 2741 \n",
       "L 2194 2741 \n",
       "Q 2656 2741 2882 2914 \n",
       "Q 3109 3088 3109 3444 \n",
       "Q 3109 3797 2882 3972 \n",
       "Q 2656 4147 2194 4147 \n",
       "L 1259 4147 \n",
       "z\n",
       "M 628 4666 \n",
       "L 2241 4666 \n",
       "Q 2963 4666 3353 4366 \n",
       "Q 3744 4066 3744 3513 \n",
       "Q 3744 3084 3544 2831 \n",
       "Q 3344 2578 2956 2516 \n",
       "Q 3422 2416 3680 2098 \n",
       "Q 3938 1781 3938 1306 \n",
       "Q 3938 681 3513 340 \n",
       "Q 3088 0 2303 0 \n",
       "L 628 0 \n",
       "L 628 4666 \n",
       "z\n",
       "\" transform=\"scale(0.015625)\"/>\n",
       "      <path id=\"DejaVuSans-6e\" d=\"M 3513 2113 \n",
       "L 3513 0 \n",
       "L 2938 0 \n",
       "L 2938 2094 \n",
       "Q 2938 2591 2744 2837 \n",
       "Q 2550 3084 2163 3084 \n",
       "Q 1697 3084 1428 2787 \n",
       "Q 1159 2491 1159 1978 \n",
       "L 1159 0 \n",
       "L 581 0 \n",
       "L 581 3500 \n",
       "L 1159 3500 \n",
       "L 1159 2956 \n",
       "Q 1366 3272 1645 3428 \n",
       "Q 1925 3584 2291 3584 \n",
       "Q 2894 3584 3203 3211 \n",
       "Q 3513 2838 3513 2113 \n",
       "z\n",
       "\" transform=\"scale(0.015625)\"/>\n",
       "      <path id=\"DejaVuSans-61\" d=\"M 2194 1759 \n",
       "Q 1497 1759 1228 1600 \n",
       "Q 959 1441 959 1056 \n",
       "Q 959 750 1161 570 \n",
       "Q 1363 391 1709 391 \n",
       "Q 2188 391 2477 730 \n",
       "Q 2766 1069 2766 1631 \n",
       "L 2766 1759 \n",
       "L 2194 1759 \n",
       "z\n",
       "M 3341 1997 \n",
       "L 3341 0 \n",
       "L 2766 0 \n",
       "L 2766 531 \n",
       "Q 2569 213 2275 61 \n",
       "Q 1981 -91 1556 -91 \n",
       "Q 1019 -91 701 211 \n",
       "Q 384 513 384 1019 \n",
       "Q 384 1609 779 1909 \n",
       "Q 1175 2209 1959 2209 \n",
       "L 2766 2209 \n",
       "L 2766 2266 \n",
       "Q 2766 2663 2505 2880 \n",
       "Q 2244 3097 1772 3097 \n",
       "Q 1472 3097 1187 3025 \n",
       "Q 903 2953 641 2809 \n",
       "L 641 3341 \n",
       "Q 956 3463 1253 3523 \n",
       "Q 1550 3584 1831 3584 \n",
       "Q 2591 3584 2966 3190 \n",
       "Q 3341 2797 3341 1997 \n",
       "z\n",
       "\" transform=\"scale(0.015625)\"/>\n",
       "      <path id=\"DejaVuSans-79\" d=\"M 2059 -325 \n",
       "Q 1816 -950 1584 -1140 \n",
       "Q 1353 -1331 966 -1331 \n",
       "L 506 -1331 \n",
       "L 506 -850 \n",
       "L 844 -850 \n",
       "Q 1081 -850 1212 -737 \n",
       "Q 1344 -625 1503 -206 \n",
       "L 1606 56 \n",
       "L 191 3500 \n",
       "L 800 3500 \n",
       "L 1894 763 \n",
       "L 2988 3500 \n",
       "L 3597 3500 \n",
       "L 2059 -325 \n",
       "z\n",
       "\" transform=\"scale(0.015625)\"/>\n",
       "     </defs>\n",
       "     <use xlink:href=\"#DejaVuSans-42\"/>\n",
       "     <use xlink:href=\"#DejaVuSans-69\" x=\"68.603516\"/>\n",
       "     <use xlink:href=\"#DejaVuSans-6e\" x=\"96.386719\"/>\n",
       "     <use xlink:href=\"#DejaVuSans-61\" x=\"159.765625\"/>\n",
       "     <use xlink:href=\"#DejaVuSans-72\" x=\"221.044922\"/>\n",
       "     <use xlink:href=\"#DejaVuSans-79\" x=\"262.158203\"/>\n",
       "     <use xlink:href=\"#DejaVuSans-20\" x=\"321.337891\"/>\n",
       "     <use xlink:href=\"#DejaVuSans-72\" x=\"353.125\"/>\n",
       "     <use xlink:href=\"#DejaVuSans-65\" x=\"391.988281\"/>\n",
       "     <use xlink:href=\"#DejaVuSans-63\" x=\"453.511719\"/>\n",
       "     <use xlink:href=\"#DejaVuSans-65\" x=\"508.492188\"/>\n",
       "     <use xlink:href=\"#DejaVuSans-70\" x=\"570.015625\"/>\n",
       "     <use xlink:href=\"#DejaVuSans-74\" x=\"633.492188\"/>\n",
       "     <use xlink:href=\"#DejaVuSans-69\" x=\"672.701172\"/>\n",
       "     <use xlink:href=\"#DejaVuSans-76\" x=\"700.484375\"/>\n",
       "     <use xlink:href=\"#DejaVuSans-65\" x=\"759.664062\"/>\n",
       "     <use xlink:href=\"#DejaVuSans-20\" x=\"821.1875\"/>\n",
       "     <use xlink:href=\"#DejaVuSans-66\" x=\"852.974609\"/>\n",
       "     <use xlink:href=\"#DejaVuSans-69\" x=\"888.179688\"/>\n",
       "     <use xlink:href=\"#DejaVuSans-65\" x=\"915.962891\"/>\n",
       "     <use xlink:href=\"#DejaVuSans-6c\" x=\"977.486328\"/>\n",
       "     <use xlink:href=\"#DejaVuSans-64\" x=\"1005.269531\"/>\n",
       "    </g>\n",
       "   </g>\n",
       "  </g>\n",
       " </g>\n",
       " <defs>\n",
       "  <clipPath id=\"p08c3b5ce31\">\n",
       "   <rect x=\"7.2\" y=\"22.318125\" width=\"162.327273\" height=\"162.327273\"/>\n",
       "  </clipPath>\n",
       "  <clipPath id=\"p3576e8a7fd\">\n",
       "   <rect x=\"201.992727\" y=\"22.318125\" width=\"162.327273\" height=\"162.327273\"/>\n",
       "  </clipPath>\n",
       " </defs>\n",
       "</svg>\n"
      ],
      "text/plain": [
       "<Figure size 640x480 with 2 Axes>"
      ]
     },
     "metadata": {},
     "output_type": "display_data"
    }
   ],
   "source": [
    "show_center_recep_field(inp_img, vert_img)"
   ]
  },
  {
   "cell_type": "markdown",
   "metadata": {},
   "source": [
    "As we have discussed before, the vertical stack only looks at pixels above the one we want to predict.\n",
    "Hence, we can validate that our implementation works as we initially expected it to.\n",
    "As a final step, let's clean up the computation graph we still had kept in memory for the visualization of the receptive field:"
   ]
  },
  {
   "cell_type": "code",
   "execution_count": 262,
   "metadata": {},
   "outputs": [],
   "source": [
    "del inp_img, horiz_conv, vert_conv"
   ]
  },
  {
   "cell_type": "markdown",
   "metadata": {},
   "source": [
    "## Gated PixelCNN\n",
    "\n",
    "In the next step, we will use the masked convolutions to build a full autoregressive model, called Gated PixelCNN. The difference between the original PixelCNN and Gated PixelCNN is the use of separate horizontal and vertical stacks. However, in literature, you often see that people refer to the Gated PixelCNN simply as \"PixelCNN\". Hence, in the following, if we say \"PixelCNN\", we usually mean the gated version. What \"Gated\" refers to in the model name is explained next. \n",
    "\n",
    "### Gated Convolutions\n",
    "\n",
    "For visualizing the receptive field, we assumed a very simplified stack of vertical and horizontal convolutions. \n",
    "Obviously, there are more sophisticated ways of doing it, and PixelCNN uses gated convolutions for this.\n",
    "Specifically, the Gated Convolution block in PixelCNN looks as follows (figure credit - [Aaron van den Oord et al.](https://arxiv.org/pdf/1606.05328.pdf)):\n",
    "\n",
    "<center width=\"100%\"><img src=\"PixelCNN_GatedConv.svg\" width=\"700px\" style=\"padding: 15px\"/></center>\n",
    "\n",
    "The left path is the vertical stack (the $N\\times N$ convolution is masked correspondingly), and the right path is the horizontal stack. Gated convolutions are implemented by having a twice as large output channel size, and combine them by a element-wise multiplication of $\\tanh$ and a sigmoid. For a linear layer, we can express a gated activation unit as follows:\n",
    "\n",
    "$$\\mathbf{y} = \\tanh\\left(\\mathbf{W}_{f}\\mathbf{x}\\right)\\odot\\sigma\\left(\\mathbf{W}_{g}\\mathbf{x}\\right)$$\n",
    "\n",
    "For simplicity, biases have been neglected and the linear layer split into two part, $\\mathbf{W}_{f}$ and $\\mathbf{W}_{g}$. This concept resembles the input and modulation gate in an LSTM, and has been used in many other architectures as well. The main motivation behind this gated activation is that it might allow to model more complex interactions and simplifies learning. But as in any other architecture, this is mostly a design choice and can be considered a hyperparameters.\n",
    "\n",
    "Besides the gated convolutions, we also see that the horizontal stack uses a residual connection while the vertical stack does not. This is because we use the output of the horizontal stack for prediction. Each convolution in the vertical stack also receives a strong gradient signal as it is only two $1\\times 1$ convolutions away from the residual connection, and does not require another residual connection to all its earleri layers.\n",
    "\n",
    "The implementation in PyTorch is fairly straight forward for this block, because the visualization above gives us a computation graph to follow:"
   ]
  },
  {
   "cell_type": "code",
   "execution_count": 263,
   "metadata": {},
   "outputs": [],
   "source": [
    "class GatedMaskedConv(nn.Module):\n",
    "    \n",
    "    def __init__(self, c_in, **kwargs):\n",
    "        \"\"\"\n",
    "        Gated Convolution block implemented the computation graph shown above.\n",
    "        \"\"\"\n",
    "        super().__init__()\n",
    "        self.conv_vert = VerticalStackConvolution(c_in, c_out=2*c_in, **kwargs)\n",
    "        self.conv_horiz = HorizontalStackConvolution(c_in, c_out=2*c_in, **kwargs)\n",
    "        self.conv_vert_to_horiz = nn.Conv2d(2*c_in, 2*c_in, kernel_size=1, padding=0)\n",
    "        self.conv_horiz_1x1 = nn.Conv2d(c_in, c_in, kernel_size=1, padding=0)\n",
    "    \n",
    "    def forward(self, v_stack, h_stack):\n",
    "        # Vertical stack (left)\n",
    "        v_stack_feat = self.conv_vert(v_stack)\n",
    "        v_val, v_gate = v_stack_feat.chunk(2, dim=1)\n",
    "        v_stack_out = torch.tanh(v_val) * torch.sigmoid(v_gate)\n",
    "        \n",
    "        # Horizontal stack (right)\n",
    "        h_stack_feat = self.conv_horiz(h_stack)\n",
    "        h_stack_feat = h_stack_feat + self.conv_vert_to_horiz(v_stack_feat)\n",
    "        h_val, h_gate = h_stack_feat.chunk(2, dim=1)\n",
    "        h_stack_feat = torch.tanh(h_val) * torch.sigmoid(h_gate)\n",
    "        h_stack_out = self.conv_horiz_1x1(h_stack_feat)\n",
    "        h_stack_out = h_stack_out + h_stack\n",
    "        \n",
    "        return v_stack_out, h_stack_out"
   ]
  },
  {
   "cell_type": "markdown",
   "metadata": {},
   "source": [
    "### Building the model\n",
    "\n",
    "Using the gated convolutions, we can now build our PixelCNN model. \n",
    "The architecture consists of multiple stacked GatedMaskedConv blocks, where we add an additional dilation factor to a few convolutions. \n",
    "This is used to increase the receptive field of the model and allows to take a larger context into accout during generation. \n",
    "As a reminder, dilation on a convolution works looks as follows (figure credit - [Vincent Dumoulin and Francesco Visin](https://arxiv.org/pdf/1603.07285.pdf)):\n",
    "\n",
    "<center width=\"100%\"><img src=\"https://raw.githubusercontent.com/vdumoulin/conv_arithmetic/master/gif/dilation.gif\" width=\"250px\"></center>\n",
    "\n",
    "Note that the smaller output size is only because the animation assumes no padding. In our implementation, we will pad the input image correspondingly. Alternatively to dilated convolutions, we could downsample the input and use a encoder-decoder architecture as in PixelCNN++ [3]. This is especially beneficial if we want to build a very deep autoregressive model. Nonetheless, as we seek to train a reasonably small model, dilated convolutions are the more efficient option to use here. \n",
    "\n",
    "Below, we implement the PixelCNN model as a PyTorch Lightning module. Besides the stack of gated convolutions, we also have the initial horizontal and vertical convolutions which mask the center pixel, and a final $1\\times 1$ convolution which maps the output features to class predictions. To determine the likelihood of a batch of images, we first create our initial features using the masked horizontal and vertical input convolution. Next, we forward the features through the stack of gated convolutions. Finally, we take the output features of the horizontal stack, and apply the $1\\times 1$ convolution for classification. We use the bits per dimension metric for the likelihood, similarly to Tutorial 11 and assignment 3."
   ]
  },
  {
   "cell_type": "code",
   "execution_count": 264,
   "metadata": {},
   "outputs": [
    {
     "name": "stderr",
     "output_type": "stream",
     "text": [
      "GPU available: True (cuda), used: True\n",
      "TPU available: False, using: 0 TPU cores\n",
      "HPU available: False, using: 0 HPUs\n",
      "LOCAL_RANK: 0 - CUDA_VISIBLE_DEVICES: [0]\n",
      "\n",
      "  | Name   | Type       | Params | Mode \n",
      "----------------------------------------------\n",
      "0 | layers | ModuleList | 604 K  | train\n",
      "----------------------------------------------\n",
      "604 K     Trainable params\n",
      "0         Non-trainable params\n",
      "604 K     Total params\n",
      "2.419     Total estimated model params size (MB)\n"
     ]
    },
    {
     "data": {
      "application/vnd.jupyter.widget-view+json": {
       "model_id": "5e7681f48663401bab0bc1c1d99dfeb4",
       "version_major": 2,
       "version_minor": 0
      },
      "text/plain": [
       "Sanity Checking: |          | 0/? [00:00<?, ?it/s]"
      ]
     },
     "metadata": {},
     "output_type": "display_data"
    },
    {
     "name": "stderr",
     "output_type": "stream",
     "text": [
      "/home/faisal/anaconda3/lib/python3.10/site-packages/pytorch_lightning/trainer/connectors/data_connector.py:424: The 'val_dataloader' does not have many workers which may be a bottleneck. Consider increasing the value of the `num_workers` argument` to `num_workers=5` in the `DataLoader` to improve performance.\n",
      "/home/faisal/anaconda3/lib/python3.10/site-packages/pytorch_lightning/trainer/connectors/data_connector.py:424: The 'train_dataloader' does not have many workers which may be a bottleneck. Consider increasing the value of the `num_workers` argument` to `num_workers=5` in the `DataLoader` to improve performance.\n"
     ]
    },
    {
     "data": {
      "application/vnd.jupyter.widget-view+json": {
       "model_id": "dee74180bc1b4c4782336d14e423bd94",
       "version_major": 2,
       "version_minor": 0
      },
      "text/plain": [
       "Training: |          | 0/? [00:00<?, ?it/s]"
      ]
     },
     "metadata": {},
     "output_type": "display_data"
    },
    {
     "data": {
      "application/vnd.jupyter.widget-view+json": {
       "model_id": "238ad1bc416f4789801b970624357f99",
       "version_major": 2,
       "version_minor": 0
      },
      "text/plain": [
       "Validation: |          | 0/? [00:00<?, ?it/s]"
      ]
     },
     "metadata": {},
     "output_type": "display_data"
    },
    {
     "data": {
      "application/vnd.jupyter.widget-view+json": {
       "model_id": "62c52d1c6bf94ee2962c23d76b3ea90d",
       "version_major": 2,
       "version_minor": 0
      },
      "text/plain": [
       "Validation: |          | 0/? [00:00<?, ?it/s]"
      ]
     },
     "metadata": {},
     "output_type": "display_data"
    },
    {
     "data": {
      "application/vnd.jupyter.widget-view+json": {
       "model_id": "b939e76b456d45fcaf9261211016be40",
       "version_major": 2,
       "version_minor": 0
      },
      "text/plain": [
       "Validation: |          | 0/? [00:00<?, ?it/s]"
      ]
     },
     "metadata": {},
     "output_type": "display_data"
    },
    {
     "data": {
      "application/vnd.jupyter.widget-view+json": {
       "model_id": "f62be0de5ed644c89a01540f318fb580",
       "version_major": 2,
       "version_minor": 0
      },
      "text/plain": [
       "Validation: |          | 0/? [00:00<?, ?it/s]"
      ]
     },
     "metadata": {},
     "output_type": "display_data"
    },
    {
     "data": {
      "application/vnd.jupyter.widget-view+json": {
       "model_id": "3392edd94e1c4904aea1250cb334dd8b",
       "version_major": 2,
       "version_minor": 0
      },
      "text/plain": [
       "Validation: |          | 0/? [00:00<?, ?it/s]"
      ]
     },
     "metadata": {},
     "output_type": "display_data"
    },
    {
     "data": {
      "application/vnd.jupyter.widget-view+json": {
       "model_id": "1abfbbfe889844788ffa3f58ca94a731",
       "version_major": 2,
       "version_minor": 0
      },
      "text/plain": [
       "Validation: |          | 0/? [00:00<?, ?it/s]"
      ]
     },
     "metadata": {},
     "output_type": "display_data"
    },
    {
     "data": {
      "application/vnd.jupyter.widget-view+json": {
       "model_id": "bd3970004be74d0e818b6e77650def5c",
       "version_major": 2,
       "version_minor": 0
      },
      "text/plain": [
       "Validation: |          | 0/? [00:00<?, ?it/s]"
      ]
     },
     "metadata": {},
     "output_type": "display_data"
    },
    {
     "data": {
      "application/vnd.jupyter.widget-view+json": {
       "model_id": "e3e7940bb23f4c8294ebf811640c6552",
       "version_major": 2,
       "version_minor": 0
      },
      "text/plain": [
       "Validation: |          | 0/? [00:00<?, ?it/s]"
      ]
     },
     "metadata": {},
     "output_type": "display_data"
    },
    {
     "data": {
      "application/vnd.jupyter.widget-view+json": {
       "model_id": "4569d38f9d414de98b88e9a523d7f2bb",
       "version_major": 2,
       "version_minor": 0
      },
      "text/plain": [
       "Validation: |          | 0/? [00:00<?, ?it/s]"
      ]
     },
     "metadata": {},
     "output_type": "display_data"
    },
    {
     "data": {
      "application/vnd.jupyter.widget-view+json": {
       "model_id": "3aecfdc6775340e6bea53e7712336735",
       "version_major": 2,
       "version_minor": 0
      },
      "text/plain": [
       "Validation: |          | 0/? [00:00<?, ?it/s]"
      ]
     },
     "metadata": {},
     "output_type": "display_data"
    },
    {
     "data": {
      "application/vnd.jupyter.widget-view+json": {
       "model_id": "39ba38ede5924feaa24bc1cd110401dc",
       "version_major": 2,
       "version_minor": 0
      },
      "text/plain": [
       "Validation: |          | 0/? [00:00<?, ?it/s]"
      ]
     },
     "metadata": {},
     "output_type": "display_data"
    },
    {
     "data": {
      "application/vnd.jupyter.widget-view+json": {
       "model_id": "5b10971d44924ed2a136bc8d77a88c13",
       "version_major": 2,
       "version_minor": 0
      },
      "text/plain": [
       "Validation: |          | 0/? [00:00<?, ?it/s]"
      ]
     },
     "metadata": {},
     "output_type": "display_data"
    },
    {
     "data": {
      "application/vnd.jupyter.widget-view+json": {
       "model_id": "dec586ce49974252a2e2a8a64bd317a6",
       "version_major": 2,
       "version_minor": 0
      },
      "text/plain": [
       "Validation: |          | 0/? [00:00<?, ?it/s]"
      ]
     },
     "metadata": {},
     "output_type": "display_data"
    },
    {
     "data": {
      "application/vnd.jupyter.widget-view+json": {
       "model_id": "2ff96346b79f4a379c99dcb7205b722e",
       "version_major": 2,
       "version_minor": 0
      },
      "text/plain": [
       "Validation: |          | 0/? [00:00<?, ?it/s]"
      ]
     },
     "metadata": {},
     "output_type": "display_data"
    },
    {
     "data": {
      "application/vnd.jupyter.widget-view+json": {
       "model_id": "40f8094acb5d438e9ed27453c1f9f338",
       "version_major": 2,
       "version_minor": 0
      },
      "text/plain": [
       "Validation: |          | 0/? [00:00<?, ?it/s]"
      ]
     },
     "metadata": {},
     "output_type": "display_data"
    },
    {
     "data": {
      "application/vnd.jupyter.widget-view+json": {
       "model_id": "73806d7656a745fd99d95150d67fab9e",
       "version_major": 2,
       "version_minor": 0
      },
      "text/plain": [
       "Validation: |          | 0/? [00:00<?, ?it/s]"
      ]
     },
     "metadata": {},
     "output_type": "display_data"
    },
    {
     "data": {
      "application/vnd.jupyter.widget-view+json": {
       "model_id": "5ca74ad8eed545d78d39ffab685ef630",
       "version_major": 2,
       "version_minor": 0
      },
      "text/plain": [
       "Validation: |          | 0/? [00:00<?, ?it/s]"
      ]
     },
     "metadata": {},
     "output_type": "display_data"
    },
    {
     "data": {
      "application/vnd.jupyter.widget-view+json": {
       "model_id": "a831184eff854a129296b2e90f59c1f8",
       "version_major": 2,
       "version_minor": 0
      },
      "text/plain": [
       "Validation: |          | 0/? [00:00<?, ?it/s]"
      ]
     },
     "metadata": {},
     "output_type": "display_data"
    },
    {
     "data": {
      "application/vnd.jupyter.widget-view+json": {
       "model_id": "953ce41d08cf4352a4ce6670856dcb57",
       "version_major": 2,
       "version_minor": 0
      },
      "text/plain": [
       "Validation: |          | 0/? [00:00<?, ?it/s]"
      ]
     },
     "metadata": {},
     "output_type": "display_data"
    },
    {
     "data": {
      "application/vnd.jupyter.widget-view+json": {
       "model_id": "9b427bdf1282494cbec04fc21bd1bf43",
       "version_major": 2,
       "version_minor": 0
      },
      "text/plain": [
       "Validation: |          | 0/? [00:00<?, ?it/s]"
      ]
     },
     "metadata": {},
     "output_type": "display_data"
    },
    {
     "data": {
      "application/vnd.jupyter.widget-view+json": {
       "model_id": "ad0932e0e1f84adcab73d08079568ea9",
       "version_major": 2,
       "version_minor": 0
      },
      "text/plain": [
       "Validation: |          | 0/? [00:00<?, ?it/s]"
      ]
     },
     "metadata": {},
     "output_type": "display_data"
    },
    {
     "data": {
      "application/vnd.jupyter.widget-view+json": {
       "model_id": "668fa180503042a4a3aefdc51ba2ac92",
       "version_major": 2,
       "version_minor": 0
      },
      "text/plain": [
       "Validation: |          | 0/? [00:00<?, ?it/s]"
      ]
     },
     "metadata": {},
     "output_type": "display_data"
    },
    {
     "data": {
      "application/vnd.jupyter.widget-view+json": {
       "model_id": "af5fa244a02c438680f80036184647e5",
       "version_major": 2,
       "version_minor": 0
      },
      "text/plain": [
       "Validation: |          | 0/? [00:00<?, ?it/s]"
      ]
     },
     "metadata": {},
     "output_type": "display_data"
    },
    {
     "data": {
      "application/vnd.jupyter.widget-view+json": {
       "model_id": "a3f558189bad4a5ba83338695cfaaa2a",
       "version_major": 2,
       "version_minor": 0
      },
      "text/plain": [
       "Validation: |          | 0/? [00:00<?, ?it/s]"
      ]
     },
     "metadata": {},
     "output_type": "display_data"
    },
    {
     "data": {
      "application/vnd.jupyter.widget-view+json": {
       "model_id": "0fd1368dd2914e02afeeefb6534632f1",
       "version_major": 2,
       "version_minor": 0
      },
      "text/plain": [
       "Validation: |          | 0/? [00:00<?, ?it/s]"
      ]
     },
     "metadata": {},
     "output_type": "display_data"
    },
    {
     "data": {
      "application/vnd.jupyter.widget-view+json": {
       "model_id": "73f1169b0cc04ae79c925c198ab1560c",
       "version_major": 2,
       "version_minor": 0
      },
      "text/plain": [
       "Validation: |          | 0/? [00:00<?, ?it/s]"
      ]
     },
     "metadata": {},
     "output_type": "display_data"
    },
    {
     "data": {
      "application/vnd.jupyter.widget-view+json": {
       "model_id": "25a8684e1d28487ab5c7aa8fd4341c7f",
       "version_major": 2,
       "version_minor": 0
      },
      "text/plain": [
       "Validation: |          | 0/? [00:00<?, ?it/s]"
      ]
     },
     "metadata": {},
     "output_type": "display_data"
    },
    {
     "data": {
      "application/vnd.jupyter.widget-view+json": {
       "model_id": "14972f19c7c44f1eab628769ef756599",
       "version_major": 2,
       "version_minor": 0
      },
      "text/plain": [
       "Validation: |          | 0/? [00:00<?, ?it/s]"
      ]
     },
     "metadata": {},
     "output_type": "display_data"
    },
    {
     "data": {
      "application/vnd.jupyter.widget-view+json": {
       "model_id": "9da05927506e4bc9bd1ba311ce263e09",
       "version_major": 2,
       "version_minor": 0
      },
      "text/plain": [
       "Validation: |          | 0/? [00:00<?, ?it/s]"
      ]
     },
     "metadata": {},
     "output_type": "display_data"
    },
    {
     "data": {
      "application/vnd.jupyter.widget-view+json": {
       "model_id": "5f00d143e42a424d9e7140a4b0a6a809",
       "version_major": 2,
       "version_minor": 0
      },
      "text/plain": [
       "Validation: |          | 0/? [00:00<?, ?it/s]"
      ]
     },
     "metadata": {},
     "output_type": "display_data"
    },
    {
     "data": {
      "application/vnd.jupyter.widget-view+json": {
       "model_id": "79d7a74256024d2f992bba0df4ef241e",
       "version_major": 2,
       "version_minor": 0
      },
      "text/plain": [
       "Validation: |          | 0/? [00:00<?, ?it/s]"
      ]
     },
     "metadata": {},
     "output_type": "display_data"
    },
    {
     "data": {
      "application/vnd.jupyter.widget-view+json": {
       "model_id": "dfd0c9b6665d492bb529dac83b991e6c",
       "version_major": 2,
       "version_minor": 0
      },
      "text/plain": [
       "Validation: |          | 0/? [00:00<?, ?it/s]"
      ]
     },
     "metadata": {},
     "output_type": "display_data"
    },
    {
     "data": {
      "application/vnd.jupyter.widget-view+json": {
       "model_id": "60ddc40d675c49678e98229cfa44016e",
       "version_major": 2,
       "version_minor": 0
      },
      "text/plain": [
       "Validation: |          | 0/? [00:00<?, ?it/s]"
      ]
     },
     "metadata": {},
     "output_type": "display_data"
    },
    {
     "data": {
      "application/vnd.jupyter.widget-view+json": {
       "model_id": "17cdda9469504d38a00660a849fe08fd",
       "version_major": 2,
       "version_minor": 0
      },
      "text/plain": [
       "Validation: |          | 0/? [00:00<?, ?it/s]"
      ]
     },
     "metadata": {},
     "output_type": "display_data"
    },
    {
     "data": {
      "application/vnd.jupyter.widget-view+json": {
       "model_id": "51d97bee7f45424f8df18d293f647483",
       "version_major": 2,
       "version_minor": 0
      },
      "text/plain": [
       "Validation: |          | 0/? [00:00<?, ?it/s]"
      ]
     },
     "metadata": {},
     "output_type": "display_data"
    },
    {
     "data": {
      "application/vnd.jupyter.widget-view+json": {
       "model_id": "581a6a2d7950458280353349a3ba273b",
       "version_major": 2,
       "version_minor": 0
      },
      "text/plain": [
       "Validation: |          | 0/? [00:00<?, ?it/s]"
      ]
     },
     "metadata": {},
     "output_type": "display_data"
    },
    {
     "data": {
      "application/vnd.jupyter.widget-view+json": {
       "model_id": "a012ce4792ae4d8292d9ba7a0c7f5a7c",
       "version_major": 2,
       "version_minor": 0
      },
      "text/plain": [
       "Validation: |          | 0/? [00:00<?, ?it/s]"
      ]
     },
     "metadata": {},
     "output_type": "display_data"
    },
    {
     "data": {
      "application/vnd.jupyter.widget-view+json": {
       "model_id": "ca00d91ec73742f0bf265188ee689f5d",
       "version_major": 2,
       "version_minor": 0
      },
      "text/plain": [
       "Validation: |          | 0/? [00:00<?, ?it/s]"
      ]
     },
     "metadata": {},
     "output_type": "display_data"
    },
    {
     "data": {
      "application/vnd.jupyter.widget-view+json": {
       "model_id": "aa1c29b9727f4ff3a1cd04a0fedcf839",
       "version_major": 2,
       "version_minor": 0
      },
      "text/plain": [
       "Validation: |          | 0/? [00:00<?, ?it/s]"
      ]
     },
     "metadata": {},
     "output_type": "display_data"
    },
    {
     "data": {
      "application/vnd.jupyter.widget-view+json": {
       "model_id": "082b439b31f044b08d9a1ead7851631f",
       "version_major": 2,
       "version_minor": 0
      },
      "text/plain": [
       "Validation: |          | 0/? [00:00<?, ?it/s]"
      ]
     },
     "metadata": {},
     "output_type": "display_data"
    },
    {
     "data": {
      "application/vnd.jupyter.widget-view+json": {
       "model_id": "9c94713077bf42498ca5f78221999ca5",
       "version_major": 2,
       "version_minor": 0
      },
      "text/plain": [
       "Validation: |          | 0/? [00:00<?, ?it/s]"
      ]
     },
     "metadata": {},
     "output_type": "display_data"
    },
    {
     "data": {
      "application/vnd.jupyter.widget-view+json": {
       "model_id": "e72e2299848c4437974d02398527b0b3",
       "version_major": 2,
       "version_minor": 0
      },
      "text/plain": [
       "Validation: |          | 0/? [00:00<?, ?it/s]"
      ]
     },
     "metadata": {},
     "output_type": "display_data"
    },
    {
     "data": {
      "application/vnd.jupyter.widget-view+json": {
       "model_id": "07da7a4be13d410fa82b925b616c77fb",
       "version_major": 2,
       "version_minor": 0
      },
      "text/plain": [
       "Validation: |          | 0/? [00:00<?, ?it/s]"
      ]
     },
     "metadata": {},
     "output_type": "display_data"
    },
    {
     "data": {
      "application/vnd.jupyter.widget-view+json": {
       "model_id": "0d98a9b7cb5645b7a0eeb4a42969ac85",
       "version_major": 2,
       "version_minor": 0
      },
      "text/plain": [
       "Validation: |          | 0/? [00:00<?, ?it/s]"
      ]
     },
     "metadata": {},
     "output_type": "display_data"
    },
    {
     "data": {
      "application/vnd.jupyter.widget-view+json": {
       "model_id": "3cefc4e263144f9b96ed7b6cb5531698",
       "version_major": 2,
       "version_minor": 0
      },
      "text/plain": [
       "Validation: |          | 0/? [00:00<?, ?it/s]"
      ]
     },
     "metadata": {},
     "output_type": "display_data"
    },
    {
     "data": {
      "application/vnd.jupyter.widget-view+json": {
       "model_id": "c6fd6bec0b4942c2917ae54da74c7e4a",
       "version_major": 2,
       "version_minor": 0
      },
      "text/plain": [
       "Validation: |          | 0/? [00:00<?, ?it/s]"
      ]
     },
     "metadata": {},
     "output_type": "display_data"
    },
    {
     "data": {
      "application/vnd.jupyter.widget-view+json": {
       "model_id": "a6c404d166c84ffaaac7bbaf1c8b2a7a",
       "version_major": 2,
       "version_minor": 0
      },
      "text/plain": [
       "Validation: |          | 0/? [00:00<?, ?it/s]"
      ]
     },
     "metadata": {},
     "output_type": "display_data"
    },
    {
     "data": {
      "application/vnd.jupyter.widget-view+json": {
       "model_id": "b2c410a36be54ae18a4a2474354842a6",
       "version_major": 2,
       "version_minor": 0
      },
      "text/plain": [
       "Validation: |          | 0/? [00:00<?, ?it/s]"
      ]
     },
     "metadata": {},
     "output_type": "display_data"
    },
    {
     "data": {
      "application/vnd.jupyter.widget-view+json": {
       "model_id": "534ad12a82914317868095f99d83b2cb",
       "version_major": 2,
       "version_minor": 0
      },
      "text/plain": [
       "Validation: |          | 0/? [00:00<?, ?it/s]"
      ]
     },
     "metadata": {},
     "output_type": "display_data"
    },
    {
     "data": {
      "application/vnd.jupyter.widget-view+json": {
       "model_id": "e293165f5eb345f38c890ac382c3fd91",
       "version_major": 2,
       "version_minor": 0
      },
      "text/plain": [
       "Validation: |          | 0/? [00:00<?, ?it/s]"
      ]
     },
     "metadata": {},
     "output_type": "display_data"
    },
    {
     "data": {
      "application/vnd.jupyter.widget-view+json": {
       "model_id": "4eb27a6b5c6d4af6917ea491f9a018ac",
       "version_major": 2,
       "version_minor": 0
      },
      "text/plain": [
       "Validation: |          | 0/? [00:00<?, ?it/s]"
      ]
     },
     "metadata": {},
     "output_type": "display_data"
    },
    {
     "data": {
      "application/vnd.jupyter.widget-view+json": {
       "model_id": "933191d31da94eb5867a302135e998eb",
       "version_major": 2,
       "version_minor": 0
      },
      "text/plain": [
       "Validation: |          | 0/? [00:00<?, ?it/s]"
      ]
     },
     "metadata": {},
     "output_type": "display_data"
    },
    {
     "data": {
      "application/vnd.jupyter.widget-view+json": {
       "model_id": "bccbc091741f4ff4a9ac439e9081f987",
       "version_major": 2,
       "version_minor": 0
      },
      "text/plain": [
       "Validation: |          | 0/? [00:00<?, ?it/s]"
      ]
     },
     "metadata": {},
     "output_type": "display_data"
    },
    {
     "data": {
      "application/vnd.jupyter.widget-view+json": {
       "model_id": "ed0c4204eb9642cdba539905bd24e90e",
       "version_major": 2,
       "version_minor": 0
      },
      "text/plain": [
       "Validation: |          | 0/? [00:00<?, ?it/s]"
      ]
     },
     "metadata": {},
     "output_type": "display_data"
    },
    {
     "data": {
      "application/vnd.jupyter.widget-view+json": {
       "model_id": "dfddff59358f47fe939c49735c6487fb",
       "version_major": 2,
       "version_minor": 0
      },
      "text/plain": [
       "Validation: |          | 0/? [00:00<?, ?it/s]"
      ]
     },
     "metadata": {},
     "output_type": "display_data"
    },
    {
     "data": {
      "application/vnd.jupyter.widget-view+json": {
       "model_id": "32920b8bdfb14af1835527777fc67899",
       "version_major": 2,
       "version_minor": 0
      },
      "text/plain": [
       "Validation: |          | 0/? [00:00<?, ?it/s]"
      ]
     },
     "metadata": {},
     "output_type": "display_data"
    },
    {
     "data": {
      "application/vnd.jupyter.widget-view+json": {
       "model_id": "a9dd6f8971864eb4b6de28e0cd42b6ad",
       "version_major": 2,
       "version_minor": 0
      },
      "text/plain": [
       "Validation: |          | 0/? [00:00<?, ?it/s]"
      ]
     },
     "metadata": {},
     "output_type": "display_data"
    },
    {
     "data": {
      "application/vnd.jupyter.widget-view+json": {
       "model_id": "99169e730c544cfdbc55d43118196542",
       "version_major": 2,
       "version_minor": 0
      },
      "text/plain": [
       "Validation: |          | 0/? [00:00<?, ?it/s]"
      ]
     },
     "metadata": {},
     "output_type": "display_data"
    },
    {
     "data": {
      "application/vnd.jupyter.widget-view+json": {
       "model_id": "150c5d86fa7e4ee3bec7d246e45b5ed2",
       "version_major": 2,
       "version_minor": 0
      },
      "text/plain": [
       "Validation: |          | 0/? [00:00<?, ?it/s]"
      ]
     },
     "metadata": {},
     "output_type": "display_data"
    },
    {
     "data": {
      "application/vnd.jupyter.widget-view+json": {
       "model_id": "ceba4540341a4669b9aaf88bd2aec23c",
       "version_major": 2,
       "version_minor": 0
      },
      "text/plain": [
       "Validation: |          | 0/? [00:00<?, ?it/s]"
      ]
     },
     "metadata": {},
     "output_type": "display_data"
    },
    {
     "data": {
      "application/vnd.jupyter.widget-view+json": {
       "model_id": "b1155e70c2e24216962572004394a921",
       "version_major": 2,
       "version_minor": 0
      },
      "text/plain": [
       "Validation: |          | 0/? [00:00<?, ?it/s]"
      ]
     },
     "metadata": {},
     "output_type": "display_data"
    },
    {
     "data": {
      "application/vnd.jupyter.widget-view+json": {
       "model_id": "44301a3121ab4addbf74eb4597acb677",
       "version_major": 2,
       "version_minor": 0
      },
      "text/plain": [
       "Validation: |          | 0/? [00:00<?, ?it/s]"
      ]
     },
     "metadata": {},
     "output_type": "display_data"
    },
    {
     "data": {
      "application/vnd.jupyter.widget-view+json": {
       "model_id": "5d5b2d61f34a42708469003a5238dd6a",
       "version_major": 2,
       "version_minor": 0
      },
      "text/plain": [
       "Validation: |          | 0/? [00:00<?, ?it/s]"
      ]
     },
     "metadata": {},
     "output_type": "display_data"
    },
    {
     "data": {
      "application/vnd.jupyter.widget-view+json": {
       "model_id": "36b561b003b84d2980c9366e312e683f",
       "version_major": 2,
       "version_minor": 0
      },
      "text/plain": [
       "Validation: |          | 0/? [00:00<?, ?it/s]"
      ]
     },
     "metadata": {},
     "output_type": "display_data"
    },
    {
     "data": {
      "application/vnd.jupyter.widget-view+json": {
       "model_id": "f220e2a227dc45fe95ea487df170013a",
       "version_major": 2,
       "version_minor": 0
      },
      "text/plain": [
       "Validation: |          | 0/? [00:00<?, ?it/s]"
      ]
     },
     "metadata": {},
     "output_type": "display_data"
    },
    {
     "data": {
      "application/vnd.jupyter.widget-view+json": {
       "model_id": "54377a8c84274d69a82f8d64f5ce896d",
       "version_major": 2,
       "version_minor": 0
      },
      "text/plain": [
       "Validation: |          | 0/? [00:00<?, ?it/s]"
      ]
     },
     "metadata": {},
     "output_type": "display_data"
    },
    {
     "data": {
      "application/vnd.jupyter.widget-view+json": {
       "model_id": "09be45a775d443eaa205f43f3a1ece0c",
       "version_major": 2,
       "version_minor": 0
      },
      "text/plain": [
       "Validation: |          | 0/? [00:00<?, ?it/s]"
      ]
     },
     "metadata": {},
     "output_type": "display_data"
    },
    {
     "data": {
      "application/vnd.jupyter.widget-view+json": {
       "model_id": "9f14a4b014f948b1bcc76de8278ec9f7",
       "version_major": 2,
       "version_minor": 0
      },
      "text/plain": [
       "Validation: |          | 0/? [00:00<?, ?it/s]"
      ]
     },
     "metadata": {},
     "output_type": "display_data"
    },
    {
     "data": {
      "application/vnd.jupyter.widget-view+json": {
       "model_id": "2142e0119b85465f8f7a5538ba8155c8",
       "version_major": 2,
       "version_minor": 0
      },
      "text/plain": [
       "Validation: |          | 0/? [00:00<?, ?it/s]"
      ]
     },
     "metadata": {},
     "output_type": "display_data"
    },
    {
     "data": {
      "application/vnd.jupyter.widget-view+json": {
       "model_id": "31b7f0d0361c4e8e8caed88f43f7963d",
       "version_major": 2,
       "version_minor": 0
      },
      "text/plain": [
       "Validation: |          | 0/? [00:00<?, ?it/s]"
      ]
     },
     "metadata": {},
     "output_type": "display_data"
    },
    {
     "data": {
      "application/vnd.jupyter.widget-view+json": {
       "model_id": "bd91f31109b748a3b6afeb9c27ed7e54",
       "version_major": 2,
       "version_minor": 0
      },
      "text/plain": [
       "Validation: |          | 0/? [00:00<?, ?it/s]"
      ]
     },
     "metadata": {},
     "output_type": "display_data"
    },
    {
     "data": {
      "application/vnd.jupyter.widget-view+json": {
       "model_id": "6738fdda92a44a9e912a5b55dfb683ce",
       "version_major": 2,
       "version_minor": 0
      },
      "text/plain": [
       "Validation: |          | 0/? [00:00<?, ?it/s]"
      ]
     },
     "metadata": {},
     "output_type": "display_data"
    },
    {
     "data": {
      "application/vnd.jupyter.widget-view+json": {
       "model_id": "7e03bb4f8ba3496cbc60c8edee2820a9",
       "version_major": 2,
       "version_minor": 0
      },
      "text/plain": [
       "Validation: |          | 0/? [00:00<?, ?it/s]"
      ]
     },
     "metadata": {},
     "output_type": "display_data"
    },
    {
     "data": {
      "application/vnd.jupyter.widget-view+json": {
       "model_id": "fb6ec9a9e5e8466995c2825b329aba21",
       "version_major": 2,
       "version_minor": 0
      },
      "text/plain": [
       "Validation: |          | 0/? [00:00<?, ?it/s]"
      ]
     },
     "metadata": {},
     "output_type": "display_data"
    },
    {
     "data": {
      "application/vnd.jupyter.widget-view+json": {
       "model_id": "376df6f346284950b7b5bb393ed87dcd",
       "version_major": 2,
       "version_minor": 0
      },
      "text/plain": [
       "Validation: |          | 0/? [00:00<?, ?it/s]"
      ]
     },
     "metadata": {},
     "output_type": "display_data"
    },
    {
     "data": {
      "application/vnd.jupyter.widget-view+json": {
       "model_id": "4febcc0f63774500af922d795d17a885",
       "version_major": 2,
       "version_minor": 0
      },
      "text/plain": [
       "Validation: |          | 0/? [00:00<?, ?it/s]"
      ]
     },
     "metadata": {},
     "output_type": "display_data"
    },
    {
     "data": {
      "application/vnd.jupyter.widget-view+json": {
       "model_id": "dc21cb3558574d5baed15e1d623c5145",
       "version_major": 2,
       "version_minor": 0
      },
      "text/plain": [
       "Validation: |          | 0/? [00:00<?, ?it/s]"
      ]
     },
     "metadata": {},
     "output_type": "display_data"
    },
    {
     "data": {
      "application/vnd.jupyter.widget-view+json": {
       "model_id": "cf10a70a13e346b386e2f95a9cd78868",
       "version_major": 2,
       "version_minor": 0
      },
      "text/plain": [
       "Validation: |          | 0/? [00:00<?, ?it/s]"
      ]
     },
     "metadata": {},
     "output_type": "display_data"
    },
    {
     "data": {
      "application/vnd.jupyter.widget-view+json": {
       "model_id": "ea58381d3ac04b4991ae860dfe57e832",
       "version_major": 2,
       "version_minor": 0
      },
      "text/plain": [
       "Validation: |          | 0/? [00:00<?, ?it/s]"
      ]
     },
     "metadata": {},
     "output_type": "display_data"
    },
    {
     "data": {
      "application/vnd.jupyter.widget-view+json": {
       "model_id": "9d40b36d402d42eba8832b7cdd858ef4",
       "version_major": 2,
       "version_minor": 0
      },
      "text/plain": [
       "Validation: |          | 0/? [00:00<?, ?it/s]"
      ]
     },
     "metadata": {},
     "output_type": "display_data"
    },
    {
     "data": {
      "application/vnd.jupyter.widget-view+json": {
       "model_id": "e730e17afa3545039d732497dbc55163",
       "version_major": 2,
       "version_minor": 0
      },
      "text/plain": [
       "Validation: |          | 0/? [00:00<?, ?it/s]"
      ]
     },
     "metadata": {},
     "output_type": "display_data"
    },
    {
     "data": {
      "application/vnd.jupyter.widget-view+json": {
       "model_id": "ee22acf378a34c3a83c2cd9941a4165c",
       "version_major": 2,
       "version_minor": 0
      },
      "text/plain": [
       "Validation: |          | 0/? [00:00<?, ?it/s]"
      ]
     },
     "metadata": {},
     "output_type": "display_data"
    },
    {
     "data": {
      "application/vnd.jupyter.widget-view+json": {
       "model_id": "38e3d971ddcb4d7da8ae322ab0885f94",
       "version_major": 2,
       "version_minor": 0
      },
      "text/plain": [
       "Validation: |          | 0/? [00:00<?, ?it/s]"
      ]
     },
     "metadata": {},
     "output_type": "display_data"
    },
    {
     "data": {
      "application/vnd.jupyter.widget-view+json": {
       "model_id": "a555dd3c19914467a8af6940e3f5268d",
       "version_major": 2,
       "version_minor": 0
      },
      "text/plain": [
       "Validation: |          | 0/? [00:00<?, ?it/s]"
      ]
     },
     "metadata": {},
     "output_type": "display_data"
    },
    {
     "data": {
      "application/vnd.jupyter.widget-view+json": {
       "model_id": "04795167bb18460fbec66dcab28de1f3",
       "version_major": 2,
       "version_minor": 0
      },
      "text/plain": [
       "Validation: |          | 0/? [00:00<?, ?it/s]"
      ]
     },
     "metadata": {},
     "output_type": "display_data"
    },
    {
     "data": {
      "application/vnd.jupyter.widget-view+json": {
       "model_id": "b7c509c4dffb48c4b3a286e38e5b6522",
       "version_major": 2,
       "version_minor": 0
      },
      "text/plain": [
       "Validation: |          | 0/? [00:00<?, ?it/s]"
      ]
     },
     "metadata": {},
     "output_type": "display_data"
    },
    {
     "data": {
      "application/vnd.jupyter.widget-view+json": {
       "model_id": "bc786ac189bc43d1b323cfdafa34745b",
       "version_major": 2,
       "version_minor": 0
      },
      "text/plain": [
       "Validation: |          | 0/? [00:00<?, ?it/s]"
      ]
     },
     "metadata": {},
     "output_type": "display_data"
    },
    {
     "data": {
      "application/vnd.jupyter.widget-view+json": {
       "model_id": "2e565cfde18f482da749918e9a15711f",
       "version_major": 2,
       "version_minor": 0
      },
      "text/plain": [
       "Validation: |          | 0/? [00:00<?, ?it/s]"
      ]
     },
     "metadata": {},
     "output_type": "display_data"
    },
    {
     "data": {
      "application/vnd.jupyter.widget-view+json": {
       "model_id": "e501ea1883d9414fa61bee5a451cd223",
       "version_major": 2,
       "version_minor": 0
      },
      "text/plain": [
       "Validation: |          | 0/? [00:00<?, ?it/s]"
      ]
     },
     "metadata": {},
     "output_type": "display_data"
    },
    {
     "data": {
      "application/vnd.jupyter.widget-view+json": {
       "model_id": "38c7db5565f343a6b12790359721c323",
       "version_major": 2,
       "version_minor": 0
      },
      "text/plain": [
       "Validation: |          | 0/? [00:00<?, ?it/s]"
      ]
     },
     "metadata": {},
     "output_type": "display_data"
    },
    {
     "data": {
      "application/vnd.jupyter.widget-view+json": {
       "model_id": "1cf0bad969d34e02b3fcce5850643f8f",
       "version_major": 2,
       "version_minor": 0
      },
      "text/plain": [
       "Validation: |          | 0/? [00:00<?, ?it/s]"
      ]
     },
     "metadata": {},
     "output_type": "display_data"
    },
    {
     "data": {
      "application/vnd.jupyter.widget-view+json": {
       "model_id": "9d9eae17541f4663b62c24649b66722d",
       "version_major": 2,
       "version_minor": 0
      },
      "text/plain": [
       "Validation: |          | 0/? [00:00<?, ?it/s]"
      ]
     },
     "metadata": {},
     "output_type": "display_data"
    },
    {
     "data": {
      "application/vnd.jupyter.widget-view+json": {
       "model_id": "cafd1cbf3f5d41c0931b08261e05fc19",
       "version_major": 2,
       "version_minor": 0
      },
      "text/plain": [
       "Validation: |          | 0/? [00:00<?, ?it/s]"
      ]
     },
     "metadata": {},
     "output_type": "display_data"
    },
    {
     "data": {
      "application/vnd.jupyter.widget-view+json": {
       "model_id": "a790de661a384f1f91c0c1a34bfc31f1",
       "version_major": 2,
       "version_minor": 0
      },
      "text/plain": [
       "Validation: |          | 0/? [00:00<?, ?it/s]"
      ]
     },
     "metadata": {},
     "output_type": "display_data"
    },
    {
     "data": {
      "application/vnd.jupyter.widget-view+json": {
       "model_id": "ee32a1a1a20b476b9a33eaf59b4ae4d9",
       "version_major": 2,
       "version_minor": 0
      },
      "text/plain": [
       "Validation: |          | 0/? [00:00<?, ?it/s]"
      ]
     },
     "metadata": {},
     "output_type": "display_data"
    },
    {
     "data": {
      "application/vnd.jupyter.widget-view+json": {
       "model_id": "4f7118c3e9154d83bbe0ba2821746110",
       "version_major": 2,
       "version_minor": 0
      },
      "text/plain": [
       "Validation: |          | 0/? [00:00<?, ?it/s]"
      ]
     },
     "metadata": {},
     "output_type": "display_data"
    },
    {
     "data": {
      "application/vnd.jupyter.widget-view+json": {
       "model_id": "cf3b06e93cba4136b44482a8c60c1e67",
       "version_major": 2,
       "version_minor": 0
      },
      "text/plain": [
       "Validation: |          | 0/? [00:00<?, ?it/s]"
      ]
     },
     "metadata": {},
     "output_type": "display_data"
    },
    {
     "data": {
      "application/vnd.jupyter.widget-view+json": {
       "model_id": "f27c27420da6456d85de040b15711e50",
       "version_major": 2,
       "version_minor": 0
      },
      "text/plain": [
       "Validation: |          | 0/? [00:00<?, ?it/s]"
      ]
     },
     "metadata": {},
     "output_type": "display_data"
    },
    {
     "data": {
      "application/vnd.jupyter.widget-view+json": {
       "model_id": "5e3327d3d4f24a25aec10636a078126d",
       "version_major": 2,
       "version_minor": 0
      },
      "text/plain": [
       "Validation: |          | 0/? [00:00<?, ?it/s]"
      ]
     },
     "metadata": {},
     "output_type": "display_data"
    },
    {
     "data": {
      "application/vnd.jupyter.widget-view+json": {
       "model_id": "090aa1ed43a84e079289d618bb1e8df3",
       "version_major": 2,
       "version_minor": 0
      },
      "text/plain": [
       "Validation: |          | 0/? [00:00<?, ?it/s]"
      ]
     },
     "metadata": {},
     "output_type": "display_data"
    },
    {
     "data": {
      "application/vnd.jupyter.widget-view+json": {
       "model_id": "13e7887aefa04ebd9995acc5ef61ea15",
       "version_major": 2,
       "version_minor": 0
      },
      "text/plain": [
       "Validation: |          | 0/? [00:00<?, ?it/s]"
      ]
     },
     "metadata": {},
     "output_type": "display_data"
    },
    {
     "data": {
      "application/vnd.jupyter.widget-view+json": {
       "model_id": "57ef959b4b3446b886cd33ae873fc88a",
       "version_major": 2,
       "version_minor": 0
      },
      "text/plain": [
       "Validation: |          | 0/? [00:00<?, ?it/s]"
      ]
     },
     "metadata": {},
     "output_type": "display_data"
    },
    {
     "data": {
      "application/vnd.jupyter.widget-view+json": {
       "model_id": "59ca97f188f84f20b37306ef5eba675d",
       "version_major": 2,
       "version_minor": 0
      },
      "text/plain": [
       "Validation: |          | 0/? [00:00<?, ?it/s]"
      ]
     },
     "metadata": {},
     "output_type": "display_data"
    },
    {
     "data": {
      "application/vnd.jupyter.widget-view+json": {
       "model_id": "f15e9ccea80443128a3506ef04bfdae6",
       "version_major": 2,
       "version_minor": 0
      },
      "text/plain": [
       "Validation: |          | 0/? [00:00<?, ?it/s]"
      ]
     },
     "metadata": {},
     "output_type": "display_data"
    },
    {
     "data": {
      "application/vnd.jupyter.widget-view+json": {
       "model_id": "51f4595055b04cb2b9b160f073616dcc",
       "version_major": 2,
       "version_minor": 0
      },
      "text/plain": [
       "Validation: |          | 0/? [00:00<?, ?it/s]"
      ]
     },
     "metadata": {},
     "output_type": "display_data"
    },
    {
     "data": {
      "application/vnd.jupyter.widget-view+json": {
       "model_id": "90da4830104a4bb9b65adcb29e4d0072",
       "version_major": 2,
       "version_minor": 0
      },
      "text/plain": [
       "Validation: |          | 0/? [00:00<?, ?it/s]"
      ]
     },
     "metadata": {},
     "output_type": "display_data"
    },
    {
     "data": {
      "application/vnd.jupyter.widget-view+json": {
       "model_id": "97e5de2c770b4658863c1cc53714b779",
       "version_major": 2,
       "version_minor": 0
      },
      "text/plain": [
       "Validation: |          | 0/? [00:00<?, ?it/s]"
      ]
     },
     "metadata": {},
     "output_type": "display_data"
    },
    {
     "data": {
      "application/vnd.jupyter.widget-view+json": {
       "model_id": "b6e22310e4c1482f9d320988c7c6f07d",
       "version_major": 2,
       "version_minor": 0
      },
      "text/plain": [
       "Validation: |          | 0/? [00:00<?, ?it/s]"
      ]
     },
     "metadata": {},
     "output_type": "display_data"
    },
    {
     "data": {
      "application/vnd.jupyter.widget-view+json": {
       "model_id": "73f401981229466e8875a8fd7a18e294",
       "version_major": 2,
       "version_minor": 0
      },
      "text/plain": [
       "Validation: |          | 0/? [00:00<?, ?it/s]"
      ]
     },
     "metadata": {},
     "output_type": "display_data"
    },
    {
     "data": {
      "application/vnd.jupyter.widget-view+json": {
       "model_id": "e532b41f8cea4d88a7855f827f4e001a",
       "version_major": 2,
       "version_minor": 0
      },
      "text/plain": [
       "Validation: |          | 0/? [00:00<?, ?it/s]"
      ]
     },
     "metadata": {},
     "output_type": "display_data"
    },
    {
     "data": {
      "application/vnd.jupyter.widget-view+json": {
       "model_id": "5e0a27bff97e463cb59c979e9f2f41a8",
       "version_major": 2,
       "version_minor": 0
      },
      "text/plain": [
       "Validation: |          | 0/? [00:00<?, ?it/s]"
      ]
     },
     "metadata": {},
     "output_type": "display_data"
    },
    {
     "data": {
      "application/vnd.jupyter.widget-view+json": {
       "model_id": "ef1d176e921e42369eff4d8f9b0a198b",
       "version_major": 2,
       "version_minor": 0
      },
      "text/plain": [
       "Validation: |          | 0/? [00:00<?, ?it/s]"
      ]
     },
     "metadata": {},
     "output_type": "display_data"
    },
    {
     "data": {
      "application/vnd.jupyter.widget-view+json": {
       "model_id": "3f8813db81ca4123b4bcfae249c7bff3",
       "version_major": 2,
       "version_minor": 0
      },
      "text/plain": [
       "Validation: |          | 0/? [00:00<?, ?it/s]"
      ]
     },
     "metadata": {},
     "output_type": "display_data"
    },
    {
     "data": {
      "application/vnd.jupyter.widget-view+json": {
       "model_id": "0613b722333c4cb098bedcc2bcadef2f",
       "version_major": 2,
       "version_minor": 0
      },
      "text/plain": [
       "Validation: |          | 0/? [00:00<?, ?it/s]"
      ]
     },
     "metadata": {},
     "output_type": "display_data"
    },
    {
     "data": {
      "application/vnd.jupyter.widget-view+json": {
       "model_id": "04ed793ae4e34b0989435a630c2da797",
       "version_major": 2,
       "version_minor": 0
      },
      "text/plain": [
       "Validation: |          | 0/? [00:00<?, ?it/s]"
      ]
     },
     "metadata": {},
     "output_type": "display_data"
    },
    {
     "data": {
      "application/vnd.jupyter.widget-view+json": {
       "model_id": "0cdb77006a404f7ba4a3fcde745e6387",
       "version_major": 2,
       "version_minor": 0
      },
      "text/plain": [
       "Validation: |          | 0/? [00:00<?, ?it/s]"
      ]
     },
     "metadata": {},
     "output_type": "display_data"
    },
    {
     "data": {
      "application/vnd.jupyter.widget-view+json": {
       "model_id": "2ad72f18099b4098ac79a7f89f83374e",
       "version_major": 2,
       "version_minor": 0
      },
      "text/plain": [
       "Validation: |          | 0/? [00:00<?, ?it/s]"
      ]
     },
     "metadata": {},
     "output_type": "display_data"
    },
    {
     "data": {
      "application/vnd.jupyter.widget-view+json": {
       "model_id": "617afc3157404626ab44eb43ce47dbbf",
       "version_major": 2,
       "version_minor": 0
      },
      "text/plain": [
       "Validation: |          | 0/? [00:00<?, ?it/s]"
      ]
     },
     "metadata": {},
     "output_type": "display_data"
    },
    {
     "data": {
      "application/vnd.jupyter.widget-view+json": {
       "model_id": "db363e48544b44c3ba27585573f64090",
       "version_major": 2,
       "version_minor": 0
      },
      "text/plain": [
       "Validation: |          | 0/? [00:00<?, ?it/s]"
      ]
     },
     "metadata": {},
     "output_type": "display_data"
    },
    {
     "data": {
      "application/vnd.jupyter.widget-view+json": {
       "model_id": "7bed2ee79da5459d8e61d4bc5ffcd5e9",
       "version_major": 2,
       "version_minor": 0
      },
      "text/plain": [
       "Validation: |          | 0/? [00:00<?, ?it/s]"
      ]
     },
     "metadata": {},
     "output_type": "display_data"
    },
    {
     "data": {
      "application/vnd.jupyter.widget-view+json": {
       "model_id": "c93bc052fd6f4816a762f8c1b681b196",
       "version_major": 2,
       "version_minor": 0
      },
      "text/plain": [
       "Validation: |          | 0/? [00:00<?, ?it/s]"
      ]
     },
     "metadata": {},
     "output_type": "display_data"
    },
    {
     "data": {
      "application/vnd.jupyter.widget-view+json": {
       "model_id": "d192f6555163472cb68faebf0893f671",
       "version_major": 2,
       "version_minor": 0
      },
      "text/plain": [
       "Validation: |          | 0/? [00:00<?, ?it/s]"
      ]
     },
     "metadata": {},
     "output_type": "display_data"
    },
    {
     "data": {
      "application/vnd.jupyter.widget-view+json": {
       "model_id": "d58a486449f34f6cbabe98721307bca5",
       "version_major": 2,
       "version_minor": 0
      },
      "text/plain": [
       "Validation: |          | 0/? [00:00<?, ?it/s]"
      ]
     },
     "metadata": {},
     "output_type": "display_data"
    },
    {
     "data": {
      "application/vnd.jupyter.widget-view+json": {
       "model_id": "2ebf81b51dc348efafce612ddda65d53",
       "version_major": 2,
       "version_minor": 0
      },
      "text/plain": [
       "Validation: |          | 0/? [00:00<?, ?it/s]"
      ]
     },
     "metadata": {},
     "output_type": "display_data"
    },
    {
     "data": {
      "application/vnd.jupyter.widget-view+json": {
       "model_id": "ed474b55fa0949b58ac7cfd6577f482e",
       "version_major": 2,
       "version_minor": 0
      },
      "text/plain": [
       "Validation: |          | 0/? [00:00<?, ?it/s]"
      ]
     },
     "metadata": {},
     "output_type": "display_data"
    },
    {
     "data": {
      "application/vnd.jupyter.widget-view+json": {
       "model_id": "dcee753e31d54fef89f7bf1f98f4b9d1",
       "version_major": 2,
       "version_minor": 0
      },
      "text/plain": [
       "Validation: |          | 0/? [00:00<?, ?it/s]"
      ]
     },
     "metadata": {},
     "output_type": "display_data"
    },
    {
     "data": {
      "application/vnd.jupyter.widget-view+json": {
       "model_id": "767c9128cce04eaa91ce004b42e7d2c3",
       "version_major": 2,
       "version_minor": 0
      },
      "text/plain": [
       "Validation: |          | 0/? [00:00<?, ?it/s]"
      ]
     },
     "metadata": {},
     "output_type": "display_data"
    },
    {
     "data": {
      "application/vnd.jupyter.widget-view+json": {
       "model_id": "25a1d7b4cbf5411da85ca03c0942bf75",
       "version_major": 2,
       "version_minor": 0
      },
      "text/plain": [
       "Validation: |          | 0/? [00:00<?, ?it/s]"
      ]
     },
     "metadata": {},
     "output_type": "display_data"
    },
    {
     "data": {
      "application/vnd.jupyter.widget-view+json": {
       "model_id": "658e5db719bc4b328db3546c864c8aa0",
       "version_major": 2,
       "version_minor": 0
      },
      "text/plain": [
       "Validation: |          | 0/? [00:00<?, ?it/s]"
      ]
     },
     "metadata": {},
     "output_type": "display_data"
    },
    {
     "data": {
      "application/vnd.jupyter.widget-view+json": {
       "model_id": "267c1295ddd043568b33a8286baf50db",
       "version_major": 2,
       "version_minor": 0
      },
      "text/plain": [
       "Validation: |          | 0/? [00:00<?, ?it/s]"
      ]
     },
     "metadata": {},
     "output_type": "display_data"
    },
    {
     "data": {
      "application/vnd.jupyter.widget-view+json": {
       "model_id": "31a0cbd270b74c8f952eab123b56bcf0",
       "version_major": 2,
       "version_minor": 0
      },
      "text/plain": [
       "Validation: |          | 0/? [00:00<?, ?it/s]"
      ]
     },
     "metadata": {},
     "output_type": "display_data"
    },
    {
     "data": {
      "application/vnd.jupyter.widget-view+json": {
       "model_id": "673c1a5bca794e8fb5a9977cc5601104",
       "version_major": 2,
       "version_minor": 0
      },
      "text/plain": [
       "Validation: |          | 0/? [00:00<?, ?it/s]"
      ]
     },
     "metadata": {},
     "output_type": "display_data"
    },
    {
     "data": {
      "application/vnd.jupyter.widget-view+json": {
       "model_id": "bb356974ec5b4f72b0841b6d1e058157",
       "version_major": 2,
       "version_minor": 0
      },
      "text/plain": [
       "Validation: |          | 0/? [00:00<?, ?it/s]"
      ]
     },
     "metadata": {},
     "output_type": "display_data"
    },
    {
     "data": {
      "application/vnd.jupyter.widget-view+json": {
       "model_id": "b9010161211340e2a0239270189d397f",
       "version_major": 2,
       "version_minor": 0
      },
      "text/plain": [
       "Validation: |          | 0/? [00:00<?, ?it/s]"
      ]
     },
     "metadata": {},
     "output_type": "display_data"
    },
    {
     "data": {
      "application/vnd.jupyter.widget-view+json": {
       "model_id": "49f1c2df46514c8c898e47a7728b3cbd",
       "version_major": 2,
       "version_minor": 0
      },
      "text/plain": [
       "Validation: |          | 0/? [00:00<?, ?it/s]"
      ]
     },
     "metadata": {},
     "output_type": "display_data"
    },
    {
     "data": {
      "application/vnd.jupyter.widget-view+json": {
       "model_id": "909e3cb304ba40d6bbeca71700cfabd7",
       "version_major": 2,
       "version_minor": 0
      },
      "text/plain": [
       "Validation: |          | 0/? [00:00<?, ?it/s]"
      ]
     },
     "metadata": {},
     "output_type": "display_data"
    },
    {
     "data": {
      "application/vnd.jupyter.widget-view+json": {
       "model_id": "eed2f094d8314579859318fc7034cd60",
       "version_major": 2,
       "version_minor": 0
      },
      "text/plain": [
       "Validation: |          | 0/? [00:00<?, ?it/s]"
      ]
     },
     "metadata": {},
     "output_type": "display_data"
    },
    {
     "data": {
      "application/vnd.jupyter.widget-view+json": {
       "model_id": "3f14568cbe004a289fdae10ae77d4bcc",
       "version_major": 2,
       "version_minor": 0
      },
      "text/plain": [
       "Validation: |          | 0/? [00:00<?, ?it/s]"
      ]
     },
     "metadata": {},
     "output_type": "display_data"
    },
    {
     "data": {
      "application/vnd.jupyter.widget-view+json": {
       "model_id": "e500b312815a4f749ad756aafa48fb35",
       "version_major": 2,
       "version_minor": 0
      },
      "text/plain": [
       "Validation: |          | 0/? [00:00<?, ?it/s]"
      ]
     },
     "metadata": {},
     "output_type": "display_data"
    },
    {
     "data": {
      "application/vnd.jupyter.widget-view+json": {
       "model_id": "38fb540ef0a1442d9641c28f6dc641af",
       "version_major": 2,
       "version_minor": 0
      },
      "text/plain": [
       "Validation: |          | 0/? [00:00<?, ?it/s]"
      ]
     },
     "metadata": {},
     "output_type": "display_data"
    },
    {
     "data": {
      "application/vnd.jupyter.widget-view+json": {
       "model_id": "4c0dd8d80b144a4ebbf029ce45e92d98",
       "version_major": 2,
       "version_minor": 0
      },
      "text/plain": [
       "Validation: |          | 0/? [00:00<?, ?it/s]"
      ]
     },
     "metadata": {},
     "output_type": "display_data"
    },
    {
     "data": {
      "application/vnd.jupyter.widget-view+json": {
       "model_id": "41dd3c409bce4fbeaaa445e6d0e27324",
       "version_major": 2,
       "version_minor": 0
      },
      "text/plain": [
       "Validation: |          | 0/? [00:00<?, ?it/s]"
      ]
     },
     "metadata": {},
     "output_type": "display_data"
    },
    {
     "data": {
      "application/vnd.jupyter.widget-view+json": {
       "model_id": "2442cf7b08a743848b8bfc1ab9c04870",
       "version_major": 2,
       "version_minor": 0
      },
      "text/plain": [
       "Validation: |          | 0/? [00:00<?, ?it/s]"
      ]
     },
     "metadata": {},
     "output_type": "display_data"
    },
    {
     "data": {
      "application/vnd.jupyter.widget-view+json": {
       "model_id": "481724025f6c49fb91c7e8c4492a3d13",
       "version_major": 2,
       "version_minor": 0
      },
      "text/plain": [
       "Validation: |          | 0/? [00:00<?, ?it/s]"
      ]
     },
     "metadata": {},
     "output_type": "display_data"
    },
    {
     "data": {
      "application/vnd.jupyter.widget-view+json": {
       "model_id": "99595d8daa774723994dfd0b33bddf7b",
       "version_major": 2,
       "version_minor": 0
      },
      "text/plain": [
       "Validation: |          | 0/? [00:00<?, ?it/s]"
      ]
     },
     "metadata": {},
     "output_type": "display_data"
    },
    {
     "data": {
      "application/vnd.jupyter.widget-view+json": {
       "model_id": "1e39697c3c2e4ed8987d108d36acd44d",
       "version_major": 2,
       "version_minor": 0
      },
      "text/plain": [
       "Validation: |          | 0/? [00:00<?, ?it/s]"
      ]
     },
     "metadata": {},
     "output_type": "display_data"
    },
    {
     "data": {
      "application/vnd.jupyter.widget-view+json": {
       "model_id": "aa2121481edd4068ba4fad545f5f1bf5",
       "version_major": 2,
       "version_minor": 0
      },
      "text/plain": [
       "Validation: |          | 0/? [00:00<?, ?it/s]"
      ]
     },
     "metadata": {},
     "output_type": "display_data"
    },
    {
     "data": {
      "application/vnd.jupyter.widget-view+json": {
       "model_id": "5e06e48888384285b51b82f31284a0ce",
       "version_major": 2,
       "version_minor": 0
      },
      "text/plain": [
       "Validation: |          | 0/? [00:00<?, ?it/s]"
      ]
     },
     "metadata": {},
     "output_type": "display_data"
    },
    {
     "data": {
      "application/vnd.jupyter.widget-view+json": {
       "model_id": "614bc48cf608499eac11bf39604aecf0",
       "version_major": 2,
       "version_minor": 0
      },
      "text/plain": [
       "Validation: |          | 0/? [00:00<?, ?it/s]"
      ]
     },
     "metadata": {},
     "output_type": "display_data"
    },
    {
     "data": {
      "application/vnd.jupyter.widget-view+json": {
       "model_id": "6f90da0351954204a7ea99456b672b03",
       "version_major": 2,
       "version_minor": 0
      },
      "text/plain": [
       "Validation: |          | 0/? [00:00<?, ?it/s]"
      ]
     },
     "metadata": {},
     "output_type": "display_data"
    },
    {
     "data": {
      "application/vnd.jupyter.widget-view+json": {
       "model_id": "d2988803af6c4501a140fe80fbb8c315",
       "version_major": 2,
       "version_minor": 0
      },
      "text/plain": [
       "Validation: |          | 0/? [00:00<?, ?it/s]"
      ]
     },
     "metadata": {},
     "output_type": "display_data"
    },
    {
     "data": {
      "application/vnd.jupyter.widget-view+json": {
       "model_id": "dfc95b039a0440f78c64ff6bfc5441f2",
       "version_major": 2,
       "version_minor": 0
      },
      "text/plain": [
       "Validation: |          | 0/? [00:00<?, ?it/s]"
      ]
     },
     "metadata": {},
     "output_type": "display_data"
    },
    {
     "data": {
      "application/vnd.jupyter.widget-view+json": {
       "model_id": "5e3399ffa4c1482699daf07f65e48d91",
       "version_major": 2,
       "version_minor": 0
      },
      "text/plain": [
       "Validation: |          | 0/? [00:00<?, ?it/s]"
      ]
     },
     "metadata": {},
     "output_type": "display_data"
    },
    {
     "data": {
      "application/vnd.jupyter.widget-view+json": {
       "model_id": "fd9855a372814f30b20e509cc65db633",
       "version_major": 2,
       "version_minor": 0
      },
      "text/plain": [
       "Validation: |          | 0/? [00:00<?, ?it/s]"
      ]
     },
     "metadata": {},
     "output_type": "display_data"
    },
    {
     "data": {
      "application/vnd.jupyter.widget-view+json": {
       "model_id": "f26b80d3e8724c12b799ca1c708954ff",
       "version_major": 2,
       "version_minor": 0
      },
      "text/plain": [
       "Validation: |          | 0/? [00:00<?, ?it/s]"
      ]
     },
     "metadata": {},
     "output_type": "display_data"
    },
    {
     "data": {
      "application/vnd.jupyter.widget-view+json": {
       "model_id": "033c7f1fc6664c7ea6ba0a05218a3d79",
       "version_major": 2,
       "version_minor": 0
      },
      "text/plain": [
       "Validation: |          | 0/? [00:00<?, ?it/s]"
      ]
     },
     "metadata": {},
     "output_type": "display_data"
    },
    {
     "data": {
      "application/vnd.jupyter.widget-view+json": {
       "model_id": "2bf2961511c946aba715287ac90d13b6",
       "version_major": 2,
       "version_minor": 0
      },
      "text/plain": [
       "Validation: |          | 0/? [00:00<?, ?it/s]"
      ]
     },
     "metadata": {},
     "output_type": "display_data"
    },
    {
     "data": {
      "application/vnd.jupyter.widget-view+json": {
       "model_id": "7b846ff2f08e4404b727bd88a55add9f",
       "version_major": 2,
       "version_minor": 0
      },
      "text/plain": [
       "Validation: |          | 0/? [00:00<?, ?it/s]"
      ]
     },
     "metadata": {},
     "output_type": "display_data"
    },
    {
     "data": {
      "application/vnd.jupyter.widget-view+json": {
       "model_id": "57501cba2ec749e598008d56373c3eb9",
       "version_major": 2,
       "version_minor": 0
      },
      "text/plain": [
       "Validation: |          | 0/? [00:00<?, ?it/s]"
      ]
     },
     "metadata": {},
     "output_type": "display_data"
    },
    {
     "data": {
      "application/vnd.jupyter.widget-view+json": {
       "model_id": "76e5b3f42ea74a7fbbddbfb646b23d83",
       "version_major": 2,
       "version_minor": 0
      },
      "text/plain": [
       "Validation: |          | 0/? [00:00<?, ?it/s]"
      ]
     },
     "metadata": {},
     "output_type": "display_data"
    },
    {
     "data": {
      "application/vnd.jupyter.widget-view+json": {
       "model_id": "d102cae801a2472db8ccf67a70832fa2",
       "version_major": 2,
       "version_minor": 0
      },
      "text/plain": [
       "Validation: |          | 0/? [00:00<?, ?it/s]"
      ]
     },
     "metadata": {},
     "output_type": "display_data"
    },
    {
     "data": {
      "application/vnd.jupyter.widget-view+json": {
       "model_id": "bf3e5d52388b40d0a1995985720f6fde",
       "version_major": 2,
       "version_minor": 0
      },
      "text/plain": [
       "Validation: |          | 0/? [00:00<?, ?it/s]"
      ]
     },
     "metadata": {},
     "output_type": "display_data"
    },
    {
     "data": {
      "application/vnd.jupyter.widget-view+json": {
       "model_id": "c78d2538e83d40a49e335ab868de25c0",
       "version_major": 2,
       "version_minor": 0
      },
      "text/plain": [
       "Validation: |          | 0/? [00:00<?, ?it/s]"
      ]
     },
     "metadata": {},
     "output_type": "display_data"
    },
    {
     "data": {
      "application/vnd.jupyter.widget-view+json": {
       "model_id": "9fe20d1da7234043a722c0a6b923b331",
       "version_major": 2,
       "version_minor": 0
      },
      "text/plain": [
       "Validation: |          | 0/? [00:00<?, ?it/s]"
      ]
     },
     "metadata": {},
     "output_type": "display_data"
    },
    {
     "data": {
      "application/vnd.jupyter.widget-view+json": {
       "model_id": "a42afbc6ef824ccc8f03e4bce575840d",
       "version_major": 2,
       "version_minor": 0
      },
      "text/plain": [
       "Validation: |          | 0/? [00:00<?, ?it/s]"
      ]
     },
     "metadata": {},
     "output_type": "display_data"
    },
    {
     "data": {
      "application/vnd.jupyter.widget-view+json": {
       "model_id": "b2d120421c044ae0a72447ab6f50b52c",
       "version_major": 2,
       "version_minor": 0
      },
      "text/plain": [
       "Validation: |          | 0/? [00:00<?, ?it/s]"
      ]
     },
     "metadata": {},
     "output_type": "display_data"
    },
    {
     "data": {
      "application/vnd.jupyter.widget-view+json": {
       "model_id": "78a85f6ce5c144cdab15dd6c11a9ff2d",
       "version_major": 2,
       "version_minor": 0
      },
      "text/plain": [
       "Validation: |          | 0/? [00:00<?, ?it/s]"
      ]
     },
     "metadata": {},
     "output_type": "display_data"
    },
    {
     "data": {
      "application/vnd.jupyter.widget-view+json": {
       "model_id": "528d60bb9a1445a3820d73f60847a2b4",
       "version_major": 2,
       "version_minor": 0
      },
      "text/plain": [
       "Validation: |          | 0/? [00:00<?, ?it/s]"
      ]
     },
     "metadata": {},
     "output_type": "display_data"
    },
    {
     "data": {
      "application/vnd.jupyter.widget-view+json": {
       "model_id": "0c5b27ef3f2243c2bbc560db3a9b51a9",
       "version_major": 2,
       "version_minor": 0
      },
      "text/plain": [
       "Validation: |          | 0/? [00:00<?, ?it/s]"
      ]
     },
     "metadata": {},
     "output_type": "display_data"
    },
    {
     "data": {
      "application/vnd.jupyter.widget-view+json": {
       "model_id": "31004e5c9c7e4d8981a3132dc1bcc225",
       "version_major": 2,
       "version_minor": 0
      },
      "text/plain": [
       "Validation: |          | 0/? [00:00<?, ?it/s]"
      ]
     },
     "metadata": {},
     "output_type": "display_data"
    },
    {
     "data": {
      "application/vnd.jupyter.widget-view+json": {
       "model_id": "2e8fc3f12e9e4a00928de233b16b3332",
       "version_major": 2,
       "version_minor": 0
      },
      "text/plain": [
       "Validation: |          | 0/? [00:00<?, ?it/s]"
      ]
     },
     "metadata": {},
     "output_type": "display_data"
    },
    {
     "data": {
      "application/vnd.jupyter.widget-view+json": {
       "model_id": "8fa6d0ad4a324beba1af867046d0148d",
       "version_major": 2,
       "version_minor": 0
      },
      "text/plain": [
       "Validation: |          | 0/? [00:00<?, ?it/s]"
      ]
     },
     "metadata": {},
     "output_type": "display_data"
    },
    {
     "data": {
      "application/vnd.jupyter.widget-view+json": {
       "model_id": "cd7013cf64e14068b6efe1fbc6507445",
       "version_major": 2,
       "version_minor": 0
      },
      "text/plain": [
       "Validation: |          | 0/? [00:00<?, ?it/s]"
      ]
     },
     "metadata": {},
     "output_type": "display_data"
    },
    {
     "data": {
      "application/vnd.jupyter.widget-view+json": {
       "model_id": "eb349d5b047d4fffa030df7e47764b63",
       "version_major": 2,
       "version_minor": 0
      },
      "text/plain": [
       "Validation: |          | 0/? [00:00<?, ?it/s]"
      ]
     },
     "metadata": {},
     "output_type": "display_data"
    },
    {
     "data": {
      "application/vnd.jupyter.widget-view+json": {
       "model_id": "2e635808204e434d9bd239213cf7c5cd",
       "version_major": 2,
       "version_minor": 0
      },
      "text/plain": [
       "Validation: |          | 0/? [00:00<?, ?it/s]"
      ]
     },
     "metadata": {},
     "output_type": "display_data"
    },
    {
     "data": {
      "application/vnd.jupyter.widget-view+json": {
       "model_id": "d6c9e713d13a487098b8fa90984a8158",
       "version_major": 2,
       "version_minor": 0
      },
      "text/plain": [
       "Validation: |          | 0/? [00:00<?, ?it/s]"
      ]
     },
     "metadata": {},
     "output_type": "display_data"
    },
    {
     "data": {
      "application/vnd.jupyter.widget-view+json": {
       "model_id": "ec284fdb21e944e5991c617ca21d6b94",
       "version_major": 2,
       "version_minor": 0
      },
      "text/plain": [
       "Validation: |          | 0/? [00:00<?, ?it/s]"
      ]
     },
     "metadata": {},
     "output_type": "display_data"
    },
    {
     "data": {
      "application/vnd.jupyter.widget-view+json": {
       "model_id": "8f4f7ee2594c4fb89cc515cc02eed3bb",
       "version_major": 2,
       "version_minor": 0
      },
      "text/plain": [
       "Validation: |          | 0/? [00:00<?, ?it/s]"
      ]
     },
     "metadata": {},
     "output_type": "display_data"
    },
    {
     "data": {
      "application/vnd.jupyter.widget-view+json": {
       "model_id": "140c5857795149dba8c32712fbda74e0",
       "version_major": 2,
       "version_minor": 0
      },
      "text/plain": [
       "Validation: |          | 0/? [00:00<?, ?it/s]"
      ]
     },
     "metadata": {},
     "output_type": "display_data"
    },
    {
     "data": {
      "application/vnd.jupyter.widget-view+json": {
       "model_id": "0949f6fb64cc4080909743f96e9be732",
       "version_major": 2,
       "version_minor": 0
      },
      "text/plain": [
       "Validation: |          | 0/? [00:00<?, ?it/s]"
      ]
     },
     "metadata": {},
     "output_type": "display_data"
    },
    {
     "data": {
      "application/vnd.jupyter.widget-view+json": {
       "model_id": "318bd2b9a3f74380b2be8d1c553bf18d",
       "version_major": 2,
       "version_minor": 0
      },
      "text/plain": [
       "Validation: |          | 0/? [00:00<?, ?it/s]"
      ]
     },
     "metadata": {},
     "output_type": "display_data"
    },
    {
     "data": {
      "application/vnd.jupyter.widget-view+json": {
       "model_id": "5a6d666e088a41019892de5318ad0f18",
       "version_major": 2,
       "version_minor": 0
      },
      "text/plain": [
       "Validation: |          | 0/? [00:00<?, ?it/s]"
      ]
     },
     "metadata": {},
     "output_type": "display_data"
    },
    {
     "data": {
      "application/vnd.jupyter.widget-view+json": {
       "model_id": "f1b190bb6d7f45e6bd23d5468bd4f55d",
       "version_major": 2,
       "version_minor": 0
      },
      "text/plain": [
       "Validation: |          | 0/? [00:00<?, ?it/s]"
      ]
     },
     "metadata": {},
     "output_type": "display_data"
    },
    {
     "data": {
      "application/vnd.jupyter.widget-view+json": {
       "model_id": "daea36881fb6477b814d869b8cc4ce9d",
       "version_major": 2,
       "version_minor": 0
      },
      "text/plain": [
       "Validation: |          | 0/? [00:00<?, ?it/s]"
      ]
     },
     "metadata": {},
     "output_type": "display_data"
    },
    {
     "data": {
      "application/vnd.jupyter.widget-view+json": {
       "model_id": "5de04b0ef18d4de690618ae6db88a775",
       "version_major": 2,
       "version_minor": 0
      },
      "text/plain": [
       "Validation: |          | 0/? [00:00<?, ?it/s]"
      ]
     },
     "metadata": {},
     "output_type": "display_data"
    },
    {
     "data": {
      "application/vnd.jupyter.widget-view+json": {
       "model_id": "122b34729f6a4e80ab032b1c5612d2f6",
       "version_major": 2,
       "version_minor": 0
      },
      "text/plain": [
       "Validation: |          | 0/? [00:00<?, ?it/s]"
      ]
     },
     "metadata": {},
     "output_type": "display_data"
    },
    {
     "data": {
      "application/vnd.jupyter.widget-view+json": {
       "model_id": "3fd5594dc16a4dacbb6459df82b574e9",
       "version_major": 2,
       "version_minor": 0
      },
      "text/plain": [
       "Validation: |          | 0/? [00:00<?, ?it/s]"
      ]
     },
     "metadata": {},
     "output_type": "display_data"
    },
    {
     "data": {
      "application/vnd.jupyter.widget-view+json": {
       "model_id": "c67ceb701af149a384260cfac764ae31",
       "version_major": 2,
       "version_minor": 0
      },
      "text/plain": [
       "Validation: |          | 0/? [00:00<?, ?it/s]"
      ]
     },
     "metadata": {},
     "output_type": "display_data"
    },
    {
     "data": {
      "application/vnd.jupyter.widget-view+json": {
       "model_id": "70d9a5c333ab44269f49f4e578895a6d",
       "version_major": 2,
       "version_minor": 0
      },
      "text/plain": [
       "Validation: |          | 0/? [00:00<?, ?it/s]"
      ]
     },
     "metadata": {},
     "output_type": "display_data"
    },
    {
     "data": {
      "application/vnd.jupyter.widget-view+json": {
       "model_id": "5c0f8438523649509821e264e762fb0f",
       "version_major": 2,
       "version_minor": 0
      },
      "text/plain": [
       "Validation: |          | 0/? [00:00<?, ?it/s]"
      ]
     },
     "metadata": {},
     "output_type": "display_data"
    },
    {
     "data": {
      "application/vnd.jupyter.widget-view+json": {
       "model_id": "c5e6cc08795c4b6b9d8a30fa4029824f",
       "version_major": 2,
       "version_minor": 0
      },
      "text/plain": [
       "Validation: |          | 0/? [00:00<?, ?it/s]"
      ]
     },
     "metadata": {},
     "output_type": "display_data"
    },
    {
     "data": {
      "application/vnd.jupyter.widget-view+json": {
       "model_id": "dd2726fd94294eeca00d6c6d2566ac3e",
       "version_major": 2,
       "version_minor": 0
      },
      "text/plain": [
       "Validation: |          | 0/? [00:00<?, ?it/s]"
      ]
     },
     "metadata": {},
     "output_type": "display_data"
    },
    {
     "data": {
      "application/vnd.jupyter.widget-view+json": {
       "model_id": "8a36959ff9a04f4789a786942aeffcb7",
       "version_major": 2,
       "version_minor": 0
      },
      "text/plain": [
       "Validation: |          | 0/? [00:00<?, ?it/s]"
      ]
     },
     "metadata": {},
     "output_type": "display_data"
    },
    {
     "data": {
      "application/vnd.jupyter.widget-view+json": {
       "model_id": "30fd749113d340769ca4eeaf4f0fc997",
       "version_major": 2,
       "version_minor": 0
      },
      "text/plain": [
       "Validation: |          | 0/? [00:00<?, ?it/s]"
      ]
     },
     "metadata": {},
     "output_type": "display_data"
    },
    {
     "data": {
      "application/vnd.jupyter.widget-view+json": {
       "model_id": "f1ba3079c1a241c3905ea6e3427e9cdc",
       "version_major": 2,
       "version_minor": 0
      },
      "text/plain": [
       "Validation: |          | 0/? [00:00<?, ?it/s]"
      ]
     },
     "metadata": {},
     "output_type": "display_data"
    },
    {
     "data": {
      "application/vnd.jupyter.widget-view+json": {
       "model_id": "4269948252cd480bb18ce0cbab441a96",
       "version_major": 2,
       "version_minor": 0
      },
      "text/plain": [
       "Validation: |          | 0/? [00:00<?, ?it/s]"
      ]
     },
     "metadata": {},
     "output_type": "display_data"
    },
    {
     "data": {
      "application/vnd.jupyter.widget-view+json": {
       "model_id": "cc0a6e88ce9e49dba7f8f8a8fe2dde7a",
       "version_major": 2,
       "version_minor": 0
      },
      "text/plain": [
       "Validation: |          | 0/? [00:00<?, ?it/s]"
      ]
     },
     "metadata": {},
     "output_type": "display_data"
    },
    {
     "data": {
      "application/vnd.jupyter.widget-view+json": {
       "model_id": "c1b9ad6e2f8344f4b5890e9047fdaef3",
       "version_major": 2,
       "version_minor": 0
      },
      "text/plain": [
       "Validation: |          | 0/? [00:00<?, ?it/s]"
      ]
     },
     "metadata": {},
     "output_type": "display_data"
    },
    {
     "data": {
      "application/vnd.jupyter.widget-view+json": {
       "model_id": "8d11d6c966354854a00d3bafa4191c2f",
       "version_major": 2,
       "version_minor": 0
      },
      "text/plain": [
       "Validation: |          | 0/? [00:00<?, ?it/s]"
      ]
     },
     "metadata": {},
     "output_type": "display_data"
    },
    {
     "data": {
      "application/vnd.jupyter.widget-view+json": {
       "model_id": "3ef916618f744fbe9ea2d13b4adceb1b",
       "version_major": 2,
       "version_minor": 0
      },
      "text/plain": [
       "Validation: |          | 0/? [00:00<?, ?it/s]"
      ]
     },
     "metadata": {},
     "output_type": "display_data"
    },
    {
     "name": "stderr",
     "output_type": "stream",
     "text": [
      "`Trainer.fit` stopped: `max_epochs=200` reached.\n",
      "GPU available: True (cuda), used: True\n",
      "TPU available: False, using: 0 TPU cores\n",
      "HPU available: False, using: 0 HPUs\n",
      "LOCAL_RANK: 0 - CUDA_VISIBLE_DEVICES: [0]\n",
      "/home/faisal/anaconda3/lib/python3.10/site-packages/pytorch_lightning/trainer/connectors/data_connector.py:424: The 'test_dataloader' does not have many workers which may be a bottleneck. Consider increasing the value of the `num_workers` argument` to `num_workers=5` in the `DataLoader` to improve performance.\n"
     ]
    },
    {
     "data": {
      "application/vnd.jupyter.widget-view+json": {
       "model_id": "862f61ad94cd4f168be4afe11f6410b4",
       "version_major": 2,
       "version_minor": 0
      },
      "text/plain": [
       "Testing: |          | 0/? [00:00<?, ?it/s]"
      ]
     },
     "metadata": {},
     "output_type": "display_data"
    },
    {
     "data": {
      "text/html": [
       "<pre style=\"white-space:pre;overflow-x:auto;line-height:normal;font-family:Menlo,'DejaVu Sans Mono',consolas,'Courier New',monospace\">┏━━━━━━━━━━━━━━━━━━━━━━━━━━━┳━━━━━━━━━━━━━━━━━━━━━━━━━━━┓\n",
       "┃<span style=\"font-weight: bold\">        Test metric        </span>┃<span style=\"font-weight: bold\">       DataLoader 0        </span>┃\n",
       "┡━━━━━━━━━━━━━━━━━━━━━━━━━━━╇━━━━━━━━━━━━━━━━━━━━━━━━━━━┩\n",
       "│<span style=\"color: #008080; text-decoration-color: #008080\">         test_loss         </span>│<span style=\"color: #800080; text-decoration-color: #800080\">     -6224.38818359375     </span>│\n",
       "└───────────────────────────┴───────────────────────────┘\n",
       "</pre>\n"
      ],
      "text/plain": [
       "┏━━━━━━━━━━━━━━━━━━━━━━━━━━━┳━━━━━━━━━━━━━━━━━━━━━━━━━━━┓\n",
       "┃\u001b[1m \u001b[0m\u001b[1m       Test metric       \u001b[0m\u001b[1m \u001b[0m┃\u001b[1m \u001b[0m\u001b[1m      DataLoader 0       \u001b[0m\u001b[1m \u001b[0m┃\n",
       "┡━━━━━━━━━━━━━━━━━━━━━━━━━━━╇━━━━━━━━━━━━━━━━━━━━━━━━━━━┩\n",
       "│\u001b[36m \u001b[0m\u001b[36m        test_loss        \u001b[0m\u001b[36m \u001b[0m│\u001b[35m \u001b[0m\u001b[35m    -6224.38818359375    \u001b[0m\u001b[35m \u001b[0m│\n",
       "└───────────────────────────┴───────────────────────────┘\n"
      ]
     },
     "metadata": {},
     "output_type": "display_data"
    },
    {
     "name": "stderr",
     "output_type": "stream",
     "text": [
      "Clipping input data to the valid range for imshow with RGB data ([0..1] for floats or [0..255] for integers).\n"
     ]
    },
    {
     "data": {
      "application/pdf": "[encoded data removed]",
      "image/svg+xml": [
       "<?xml version=\"1.0\" encoding=\"utf-8\" standalone=\"no\"?>\n",
       "<!DOCTYPE svg PUBLIC \"-//W3C//DTD SVG 1.1//EN\"\n",
       "  \"http://www.w3.org/Graphics/SVG/1.1/DTD/svg11.dtd\">\n",
       "<svg xmlns:xlink=\"http://www.w3.org/1999/xlink\" width=\"347.04pt\" height=\"347.04pt\" viewBox=\"0 0 347.04 347.04\" xmlns=\"http://www.w3.org/2000/svg\" version=\"1.1\">\n",
       " <metadata>\n",
       "  <rdf:RDF xmlns:dc=\"http://purl.org/dc/elements/1.1/\" xmlns:cc=\"http://creativecommons.org/ns#\" xmlns:rdf=\"http://www.w3.org/1999/02/22-rdf-syntax-ns#\">\n",
       "   <cc:Work>\n",
       "    <dc:type rdf:resource=\"http://purl.org/dc/dcmitype/StillImage\"/>\n",
       "    <dc:date>2024-07-18T14:31:22.404649</dc:date>\n",
       "    <dc:format>image/svg+xml</dc:format>\n",
       "    <dc:creator>\n",
       "     <cc:Agent>\n",
       "      <dc:title>Matplotlib v3.7.1, https://matplotlib.org/</dc:title>\n",
       "     </cc:Agent>\n",
       "    </dc:creator>\n",
       "   </cc:Work>\n",
       "  </rdf:RDF>\n",
       " </metadata>\n",
       " <defs>\n",
       "  <style type=\"text/css\">*{stroke-linejoin: round; stroke-linecap: butt}</style>\n",
       " </defs>\n",
       " <g id=\"figure_1\">\n",
       "  <g id=\"patch_1\">\n",
       "   <path d=\"M 0 347.04 \n",
       "L 347.04 347.04 \n",
       "L 347.04 -0 \n",
       "L 0 -0 \n",
       "z\n",
       "\" style=\"fill: #ffffff\"/>\n",
       "  </g>\n",
       "  <g id=\"axes_1\">\n",
       "   <g clip-path=\"url(#p8643d9cb81)\">\n",
       "    <image xlink:href=\"data:image/png;base64,\n",
       "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\" id=\"imagebc30ebf79c\" transform=\"scale(1 -1) translate(0 -333.36)\" x=\"7.2\" y=\"-6.48\" width=\"332.64\" height=\"333.36\"/>\n",
       "   </g>\n",
       "  </g>\n",
       " </g>\n",
       " <defs>\n",
       "  <clipPath id=\"p8643d9cb81\">\n",
       "   <rect x=\"7.2\" y=\"7.2\" width=\"332.64\" height=\"332.64\"/>\n",
       "  </clipPath>\n",
       " </defs>\n",
       "</svg>\n"
      ],
      "text/plain": [
       "<Figure size 600x600 with 1 Axes>"
      ]
     },
     "metadata": {},
     "output_type": "display_data"
    }
   ],
   "source": [
    "import os\n",
    "import torch\n",
    "import torch.nn as nn\n",
    "import torch.optim as optim\n",
    "import pytorch_lightning as pl\n",
    "from pytorch_lightning.callbacks import ModelCheckpoint, LearningRateMonitor\n",
    "from torchvision.datasets import MNIST\n",
    "from torchvision import transforms\n",
    "from torch.utils.data import DataLoader\n",
    "import numpy as np\n",
    "\n",
    "# Define checkpoint path\n",
    "CHECKPOINT_PATH = \"./checkpoints\"\n",
    "\n",
    "# Define the Coupling Layer\n",
    "class CouplingLayer(nn.Module):\n",
    "    def __init__(self, input_dim, alternate):\n",
    "        super(CouplingLayer, self).__init__()\n",
    "        self.input_dim = input_dim\n",
    "        self.half_dim = input_dim // 2\n",
    "        self.alternate = alternate\n",
    "\n",
    "        self.network = nn.Sequential(\n",
    "            nn.Linear(self.half_dim, 128),\n",
    "            nn.ReLU(),\n",
    "            nn.Linear(128, 128),\n",
    "            nn.ReLU(),\n",
    "            nn.Linear(128, 128),\n",
    "            nn.ReLU(),\n",
    "            nn.Linear(128, 128),\n",
    "            nn.ReLU(),\n",
    "            nn.Linear(128, self.half_dim)\n",
    "        )\n",
    "        self.scale = nn.Parameter(torch.zeros(input_dim))\n",
    "\n",
    "    def forward(self, x):\n",
    "        if self.alternate:\n",
    "            x2, x1 = x[:, :self.half_dim], x[:, self.half_dim:]\n",
    "        else:\n",
    "            x1, x2 = x[:, :self.half_dim], x[:, self.half_dim:]\n",
    "\n",
    "        h = self.network(x1)\n",
    "        h = torch.clamp(h, min=-5.0, max=5.0)  # Clipping the values of h\n",
    "        z1 = x1\n",
    "        z2 = x2 * torch.exp(h) + self.scale[:self.half_dim]\n",
    "        z = torch.cat([z1, z2], dim=1) if not self.alternate else torch.cat([z2, z1], dim=1)\n",
    "        log_det_jacobian = torch.sum(h, dim=1)\n",
    "        return z, log_det_jacobian\n",
    "\n",
    "    def inverse(self, z):\n",
    "        if self.alternate:\n",
    "            z2, z1 = z[:, :self.half_dim], z[:, self.half_dim:]\n",
    "        else:\n",
    "            z1, z2 = z[:, :self.half_dim], z[:, self.half_dim:]\n",
    "\n",
    "        h = self.network(z1)\n",
    "        h = torch.clamp(h, min=-5.0, max=5.0)  # Clipping the values of h\n",
    "        x1 = z1\n",
    "        x2 = (z2 - self.scale[:self.half_dim]) / torch.exp(h)\n",
    "        x = torch.cat([x1, x2], dim=1) if not self.alternate else torch.cat([x2, x1], dim=1)\n",
    "        return x\n",
    "\n",
    "# Define the Normalizing Flow Model\n",
    "class NormalizingFlowModel(pl.LightningModule):\n",
    "    def __init__(self, input_dim, num_flows):\n",
    "        super(NormalizingFlowModel, self).__init__()\n",
    "        self.save_hyperparameters()\n",
    "        self.num_flows = num_flows\n",
    "\n",
    "        self.layers = nn.ModuleList([CouplingLayer(input_dim, i % 2 == 1) for i in range(num_flows)])\n",
    "        self.prior = torch.distributions.normal.Normal(loc=0.0, scale=1.0)\n",
    "\n",
    "    def forward(self, x):\n",
    "        log_det_jacobian = torch.zeros(x.size(0)).to(x.device)\n",
    "        for layer in self.layers:\n",
    "            x, ldj = layer(x)\n",
    "            log_det_jacobian += ldj\n",
    "        return x, log_det_jacobian\n",
    "\n",
    "    def inverse(self, z):\n",
    "        for layer in reversed(self.layers):\n",
    "            z = layer.inverse(z)\n",
    "        return z\n",
    "\n",
    "    def calc_likelihood(self, x):\n",
    "        z, log_det_jacobian = self.forward(x)\n",
    "        z = torch.clamp(z, min=-10.0, max=10.0)  # Clipping the values of z\n",
    "        log_pz = self.prior.log_prob(z).sum(dim=1)\n",
    "        log_likelihood = log_pz + log_det_jacobian\n",
    "        return -torch.mean(log_likelihood)\n",
    "\n",
    "    def sample(self, num_samples):\n",
    "        z = torch.randn(num_samples, self.hparams.input_dim).to(self.device)\n",
    "        x = self.inverse(z)\n",
    "        return x\n",
    "\n",
    "    def configure_optimizers(self):\n",
    "        optimizer = optim.Adam(self.parameters(), lr=1e-3)\n",
    "        return optimizer\n",
    "\n",
    "    def training_step(self, batch, batch_idx):\n",
    "        x, _ = batch\n",
    "        x = x.view(x.size(0), -1).float()\n",
    "        x = x / 255.0  # Normalizing the input data\n",
    "        loss = self.calc_likelihood(x)\n",
    "        self.log('train_loss', loss)\n",
    "        return loss\n",
    "\n",
    "    def validation_step(self, batch, batch_idx):\n",
    "        x, _ = batch\n",
    "        x = x.view(x.size(0), -1).float()\n",
    "        x = x / 255.0  # Normalizing the input data\n",
    "        loss = self.calc_likelihood(x)\n",
    "        self.log('val_loss', loss)\n",
    "\n",
    "    def test_step(self, batch, batch_idx):\n",
    "        x, _ = batch\n",
    "        x = x.view(x.size(0), -1).float()\n",
    "        x = x / 255.0  # Normalizing the input data\n",
    "        loss = self.calc_likelihood(x)\n",
    "        self.log('test_loss', loss)\n",
    "\n",
    "# Data preparation\n",
    "transform = transforms.Compose([transforms.ToTensor()])\n",
    "mnist_train = MNIST(os.getcwd(), train=True, download=True, transform=transform)\n",
    "mnist_test = MNIST(os.getcwd(), train=False, download=True, transform=transform)\n",
    "train_loader = DataLoader(mnist_train, batch_size=64, shuffle=True)\n",
    "val_loader = DataLoader(mnist_test, batch_size=64)\n",
    "test_loader = DataLoader(mnist_test, batch_size=64)\n",
    "\n",
    "def train_model(input_dim, num_flows):\n",
    "    model = NormalizingFlowModel(input_dim, num_flows)\n",
    "    trainer = pl.Trainer(default_root_dir=os.path.join(CHECKPOINT_PATH, \"NormalizingFlowModel\"), \n",
    "                         accelerator=\"gpu\" if torch.cuda.is_available() else \"cpu\",\n",
    "                         devices=1,\n",
    "                         max_epochs=200, \n",
    "                         callbacks=[ModelCheckpoint(save_weights_only=True, mode=\"min\", monitor=\"val_loss\"),\n",
    "                                    LearningRateMonitor(\"epoch\")])\n",
    "    trainer.fit(model, train_loader, val_loader)\n",
    "    torch.save(model.state_dict(), os.path.join(CHECKPOINT_PATH, \"NormalizingFlowModel\", \"200model.pth\"))\n",
    "    return model\n",
    "\n",
    "model = train_model(input_dim=28*28, num_flows=4)\n",
    "\n",
    "# Evaluate the model\n",
    "trainer = pl.Trainer()\n",
    "trainer.test(model, test_loader)\n",
    "\n",
    "# Generate and display samples\n",
    "samples = model.sample(16).view(-1, 1, 28, 28).cpu().detach()\n",
    "samples = samples * 255.0\n",
    "# Assuming show_imgs is a function to display images\n",
    "show_imgs(samples)\n"
   ]
  },
  {
   "cell_type": "markdown",
   "metadata": {},
   "source": [
    "To sample from the autoregressive model, we need to iterate over all dimensions of the input. We start with an empty image, and fill the pixels one by one, starting from the upper left corner. Note that as for predicting $x_i$, all pixels below it have no influence on the prediction. Hence, we can cut the image in height without changing the prediction while increasing efficiency. Nevertheless, all the loops in the sampling function already show that it will take us quite some time to sample. A lot of computation could be reused across loop iterations as those the features on the already predicted pixels will not change over iterations. Nevertheless, this takes quite some effort to implement, and is often not done in implementations because in the end, autoregressive sampling remains sequential and slow. Hence, we settle with the default implementation here.\n",
    "\n",
    "Before training the model, we can check the full receptive field of the model on an MNIST image of size $28\\times 28$:"
   ]
  },
  {
   "cell_type": "code",
   "execution_count": 265,
   "metadata": {},
   "outputs": [
    {
     "ename": "SyntaxError",
     "evalue": "invalid syntax (1191842144.py, line 1)",
     "output_type": "error",
     "traceback": [
      "\u001b[0;36m  Cell \u001b[0;32mIn[265], line 1\u001b[0;36m\u001b[0m\n\u001b[0;31m    test_model = PixelCNN(c_in=, c_hidden=64)\u001b[0m\n\u001b[0m                               ^\u001b[0m\n\u001b[0;31mSyntaxError\u001b[0m\u001b[0;31m:\u001b[0m invalid syntax\n"
     ]
    }
   ],
   "source": [
    "test_model = PixelCNN(c_in=, c_hidden=64)\n",
    "inp = torch.zeros(1,1,28,28)\n",
    "inp.requires_grad_()\n",
    "out = test_model(inp)\n",
    "show_center_recep_field(inp, out.squeeze(dim=2))\n",
    "del inp, out, test_model"
   ]
  },
  {
   "cell_type": "markdown",
   "metadata": {},
   "source": [
    "The visualization shows that for predicting any pixel, we can take almost half of the image into account. \n",
    "However, keep in mind that this is the \"theoretical\" receptive field and not necessarily the [effective receptive field](https://arxiv.org/pdf/1701.04128.pdf), which is usually much smaller. \n",
    "For a stronger model, we should therefore try to increase the receptive field even further. Especially, for the pixel on the bottom right, the very last pixel, we would be allowed to take into account the whole image. However, our current receptive field only spans across 1/4 of the image. An encoder-decoder architecture can help with this, but it also shows that we require a much deeper, more complex network in autoregressive models than in VAEs or energy-based models."
   ]
  },
  {
   "cell_type": "markdown",
   "metadata": {},
   "source": [
    "### Training loop\n",
    "\n",
    "To train the model, we again can rely on PyTorch Lightning and write a function below for loading the pretrained model if it exists. To reduce the computational cost, we have saved the validation and test score in the checkpoint already:"
   ]
  },
  {
   "cell_type": "code",
   "execution_count": null,
   "metadata": {},
   "outputs": [],
   "source": [
    "def train_model(**kwargs):\n",
    "    # Create a PyTorch Lightning trainer with the generation callback\n",
    "    trainer = pl.Trainer(default_root_dir=os.path.join(CHECKPOINT_PATH, \"PixelCNN\"), \n",
    "                         accelerator=\"gpu\" if str(device).startswith(\"cuda\") else \"cpu\",\n",
    "                         devices=1,\n",
    "                         max_epochs=150, \n",
    "                         callbacks=[ModelCheckpoint(save_weights_only=True, mode=\"min\", monitor=\"val_bpd\"),\n",
    "                                    LearningRateMonitor(\"epoch\")])\n",
    "    result = None\n",
    "    # Check whether pretrained model exists. If yes, load it and skip training\n",
    "    pretrained_filename = os.path.join(CHECKPOINT_PATH, \"PixelCNN.ckpt\")\n",
    "    if os.path.isfile(pretrained_filename):\n",
    "        print(\"Found pretrained model, loading...\")\n",
    "        model = PixelCNN.load_from_checkpoint(pretrained_filename)\n",
    "        ckpt = torch.load(pretrained_filename, map_location=device)\n",
    "        result = ckpt.get(\"result\", None)\n",
    "    else:\n",
    "        model = PixelCNN(**kwargs)\n",
    "        trainer.fit(model, train_loader, val_loader)\n",
    "    model = model.to(device)\n",
    "    \n",
    "    if result is None:\n",
    "        # Test best model on validation and test set\n",
    "        val_result = trainer.test(model, val_loader, verbose=False)\n",
    "        test_result = trainer.test(model, test_loader, verbose=False)\n",
    "        result = {\"test\": test_result, \"val\": val_result}\n",
    "    return model, result"
   ]
  },
  {
   "cell_type": "markdown",
   "metadata": {},
   "source": [
    "Training the model is time consuming and we recommend using the provided pre-trained model for going through this notebook. However, feel free to play around with the hyperparameter like number of layers etc. if you want to get a feeling for those. \n",
    "\n",
    "When calling the training function with a pre-trained model, we automatically load it and print its test performance:"
   ]
  },
  {
   "cell_type": "code",
   "execution_count": null,
   "metadata": {},
   "outputs": [],
   "source": [
    "model, result = train_model(c_in=1, c_hidden=64)\n",
    "test_res = result[\"test\"][0]\n",
    "print(\"Test bits per dimension: %4.3fbpd\" % (test_res[\"test_loss\"] if \"test_loss\" in test_res else test_res[\"test_bpd\"]))"
   ]
  },
  {
   "cell_type": "markdown",
   "metadata": {},
   "source": [
    "With a test performance of 0.809bpd, the PixelCNN significantly outperforms the normalizing flows we have seen in Tutorial 11. \n",
    "Considering image modeling as an autoregressive problem simplifies the learning process as predicting one pixel given the ground truth of all others is much easier than predicting all pixels at once.\n",
    "In addition, PixelCNN can explicitly predict the pixel values by a discrete softmax while Normalizing Flows have to learn transformations in continuous latent space.\n",
    "These two aspects allow the PixelCNN to achieve a notably better performance. \n",
    "\n",
    "To fully compare the models, let's also measure the number of parameters of the PixelCNN:"
   ]
  },
  {
   "cell_type": "code",
   "execution_count": null,
   "metadata": {},
   "outputs": [],
   "source": [
    "num_params = sum([np.prod(param.shape) for param in model.parameters()])\n",
    "print(\"Number of parameters: {:,}\".format(num_params))"
   ]
  },
  {
   "cell_type": "markdown",
   "metadata": {},
   "source": [
    "Compared to the multi-scale normalizing flows, the PixelCNN has considerably less parameters. \n",
    "Of course, the number of parameters depend on our hyperparameter choices.\n",
    "Nevertheless, in general, it can be said that autoregressive models require considerably less parameters than normalizing flows to reach good performance, based on the reasons stated above. Still, autoregressive models are much slower in sampling than normalizing flows, which limits their possible applications."
   ]
  },
  {
   "cell_type": "markdown",
   "metadata": {},
   "source": [
    "## Sampling\n",
    "\n",
    "One way of qualitatively analysing generative models is by looking at the actual samples.\n",
    "Let's therefore use our sampling function to generate a few digits:"
   ]
  },
  {
   "cell_type": "code",
   "execution_count": null,
   "metadata": {},
   "outputs": [],
   "source": [
    "pl.seed_everything(1)\n",
    "samples = model.sample(img_shape=(16,1,28,28))\n",
    "show_imgs(samples.cpu())"
   ]
  },
  {
   "cell_type": "markdown",
   "metadata": {},
   "source": [
    "Most of the samples can be identified as digits, and overall we achieve a better quality than we had in normalizing flows.\n",
    "This goes along with the lower likelihood we achieved with autoregressive models.\n",
    "Nevertheless, we also see that there is still place for improvement as a considerable amount of samples cannot be identified (for example the first row). Deeper autoregressive models are expected to achieve better quality, as they can take more context into account for generating the pixels.\n",
    "\n",
    "Note that on Google Colab, you might see different results, specifically with a white line at the top. After some debugging, it seemed that the difference occurs inside the dilated convolution, as it gives different results for different batch sizes. However, it is hard to debug this further as it might be a bug of the installed PyTorch version on Google Colab.\n",
    "\n",
    "The trained model itself is not restricted to any specific image size. However, what happens if we actually sample a larger image than we had seen in our training dataset? Let's try below to sample images of size $64\\times64$ instead of $28\\times28$:"
   ]
  },
  {
   "cell_type": "code",
   "execution_count": null,
   "metadata": {},
   "outputs": [],
   "source": [
    "pl.seed_everything(1)\n",
    "samples = model.sample(img_shape=(8,1,64,64))\n",
    "show_imgs(samples.cpu())"
   ]
  },
  {
   "cell_type": "markdown",
   "metadata": {},
   "source": [
    "The larger images show that changing the size of the image during testing confuses the model and generates abstract figures (you can sometimes spot a digit in the upper left corner).\n",
    "In addition, sampling for images of 64x64 pixels take more than a minute on a GPU. \n",
    "Clearly, autoregressive models cannot be scaled to large images without changing the sampling procedure such as with [forecasting](https://arxiv.org/abs/2002.09928). \n",
    "Our implementation is also not the most efficient as many computations can be stored and reused throughout the sampling process.\n",
    "Nevertheless, the sampling procedure stays sequential which is inherently slower than parallel generation like done in normalizing flows."
   ]
  },
  {
   "cell_type": "markdown",
   "metadata": {},
   "source": [
    "### Autocompletion\n",
    "\n",
    "One common application done with autoregressive models is auto-completing an image. As autoregressive models predict pixels one by one, we can set the first $N$ pixels to predefined values and check how the model completes the image. For implementing this, we just need to skip the iterations in the sampling loop that already have a value unequals -1. See above in our PyTorch Lightning module for the specific implementation. In the cell below, we randomly take three images from the training set, mask about the lower half of the image, and let the model autocomplete it. To see the diversity of samples, we do this 12 times for each image:"
   ]
  },
  {
   "cell_type": "code",
   "execution_count": null,
   "metadata": {},
   "outputs": [],
   "source": [
    "def autocomplete_image(img):\n",
    "    # Remove lower half of the image\n",
    "    img_init = img.clone()\n",
    "    img_init[:,10:,:] = -1\n",
    "    print(\"Original image and input image to sampling:\")\n",
    "    show_imgs([img,img_init])\n",
    "    # Generate 12 example completions\n",
    "    img_init = img_init.unsqueeze(dim=0).expand(12,-1,-1,-1).to(device)\n",
    "    pl.seed_everything(1)\n",
    "    img_generated = model.sample(img_init.shape, img_init)\n",
    "    print(\"Autocompletion samples:\")\n",
    "    show_imgs(img_generated)\n",
    "\n",
    "for i in range(1,4):\n",
    "    img = train_set[i][0]\n",
    "    autocomplete_image(img)"
   ]
  },
  {
   "cell_type": "markdown",
   "metadata": {},
   "source": [
    "For the first two digits (7 and 6), we see that the 12 samples all result in a shape which resemble the original digit. Nevertheless, there are some style difference in writing the 7, and some deformed sixes in the samples. When autocompleting the 9 below, we see that the model can fit multiple digits to it. We obtain diverse samples from 0, 3, 8 and 9. This shows that despite having no latent space, we can still obtain diverse samples from an autoregressive model."
   ]
  },
  {
   "cell_type": "markdown",
   "metadata": {},
   "source": [
    "### Visualization of the predictive distribution (softmax)\n",
    "\n",
    "Autoregressive models use a softmax over 256 values to predict the next pixel.\n",
    "This gives the model a large flexibility as the probabilities for each pixel value can be learned independently if necessary.\n",
    "However, the values are actually not independent because the values 32 and 33 are much closer than 32 and 255. \n",
    "In the following, we visualize the softmax distribution that the model predicts to gain insights how it has learned the relationships of close-by pixels.\n",
    "\n",
    "To do this, we first run the model on a batch of images and store the output softmax distributions:"
   ]
  },
  {
   "cell_type": "code",
   "execution_count": null,
   "metadata": {},
   "outputs": [],
   "source": [
    "det_loader = data.DataLoader(train_set, batch_size=128, shuffle=False, drop_last=False)\n",
    "imgs,_ = next(iter(det_loader))\n",
    "imgs = imgs.to(device)\n",
    "with torch.no_grad():\n",
    "    out = model(imgs)\n",
    "    out = F.softmax(out, dim=1)\n",
    "    mean_out = out.mean(dim=[0,2,3,4]).cpu().numpy()\n",
    "    out = out.cpu().numpy()"
   ]
  },
  {
   "cell_type": "markdown",
   "metadata": {},
   "source": [
    "Before diving into the model, let's visualize the distribution of the pixel values in the whole dataset:"
   ]
  },
  {
   "cell_type": "code",
   "execution_count": null,
   "metadata": {},
   "outputs": [],
   "source": [
    "sns.set()\n",
    "plot_args = {\"color\": to_rgb(\"C0\")+(0.5,), \"edgecolor\": \"C0\", \"linewidth\": 0.5, \"width\": 1.0}\n",
    "plt.hist(imgs.view(-1).cpu().numpy(), bins=256, density=True, **plot_args)\n",
    "plt.yscale(\"log\")\n",
    "plt.xticks([0,64,128,192,256])\n",
    "plt.show()\n",
    "plt.close()"
   ]
  },
  {
   "cell_type": "markdown",
   "metadata": {},
   "source": [
    "As we would expect from the seen images, the pixel value 0 (black) is the dominant value, followed by a batch of values between 250 and 255. \n",
    "Note that we use a log scale on the y-axis due to the big imbalance in the dataset.\n",
    "Interestingly, the pixel values 64, 128 and 191 also stand out which is likely due to the quantization used during the creation of the dataset. For RGB images, we would also see two peaks around 0 and 255, but the values in between would be much more frequent than in MNIST (see Figure 1 in the [PixelCNN++](https://arxiv.org/pdf/1701.05517.pdf) for a visualization on CIFAR10).\n",
    "\n",
    "Next, we can visualize the distribution our model predicts (in average):"
   ]
  },
  {
   "cell_type": "code",
   "execution_count": null,
   "metadata": {},
   "outputs": [],
   "source": [
    "plt.bar(np.arange(mean_out.shape[0]), mean_out, **plot_args)\n",
    "plt.yscale(\"log\")\n",
    "plt.xticks([0,64,128,192,256])\n",
    "plt.show()\n",
    "plt.close()"
   ]
  },
  {
   "cell_type": "markdown",
   "metadata": {},
   "source": [
    "This distribution is very close to the actual dataset distribution. This is in general a good sign, but we can see a slightly smoother histogram than above. \n",
    "\n",
    "Finally, to take a closer look at learned value relations, we can visualize the distribution for individual pixel predictions to get a better intuition. For this, we pick 4 random images and pixels, and visualize their distribution below:"
   ]
  },
  {
   "cell_type": "code",
   "execution_count": null,
   "metadata": {},
   "outputs": [],
   "source": [
    "fig, ax = plt.subplots(2,2, figsize=(10,6))\n",
    "for i in range(4):\n",
    "    ax_sub = ax[i//2][i%2]\n",
    "    ax_sub.bar(np.arange(out.shape[1], dtype=np.int32), out[i+4,:,0,14,14], **plot_args)\n",
    "    ax_sub.set_yscale(\"log\")\n",
    "    ax_sub.set_xticks([0,64,128,192,256])\n",
    "plt.show()\n",
    "plt.close()"
   ]
  },
  {
   "cell_type": "markdown",
   "metadata": {},
   "source": [
    "Overall we see a very diverse set of distributions, with a usual peak for 0 and close to 1. However, the distributions in the first row show a potentially undesirable behavior. For instance, the value 242 has a 1000x lower likelihood than 243 although they are extremely close and can often not be distinguished. This shows that the model might have not generlized well over pixel values. The better solution to this problem is to use discrete logitics mixtures instead of a softmax distribution. A discrete logistic distribution can be imagined as discretized, binned Gaussians. Using a mixture of discrete logistics instead of a softmax introduces an inductive bias to the model to assign close-by values similar likelihoods. We can visualize a discrete logistic below:"
   ]
  },
  {
   "cell_type": "code",
   "execution_count": null,
   "metadata": {},
   "outputs": [],
   "source": [
    "mu = torch.Tensor([128])\n",
    "sigma = torch.Tensor([2.0])\n",
    "\n",
    "def discrete_logistic(x, mu, sigma):\n",
    "    return torch.sigmoid((x+0.5-mu)/sigma) - torch.sigmoid((x-0.5-mu)/sigma)\n",
    "\n",
    "x = torch.arange(256)\n",
    "p = discrete_logistic(x, mu, sigma)\n",
    "\n",
    "# Visualization\n",
    "plt.figure(figsize=(6,3))\n",
    "plt.bar(x.numpy(), p.numpy(), **plot_args)\n",
    "plt.xlim(96,160)\n",
    "plt.title(\"Discrete logistic distribution\")\n",
    "plt.xlabel(\"Pixel value\")\n",
    "plt.ylabel(\"Probability\")\n",
    "plt.show()\n",
    "plt.close()"
   ]
  },
  {
   "cell_type": "markdown",
   "metadata": {},
   "source": [
    "Instead of the softmax, the model would output mean and standard deviations for the $K$ logistics we use in the mixture. This is one of the improvements in autoregressive models that PixelCNN++ [3] has introduced compared to the original PixelCNN."
   ]
  },
  {
   "cell_type": "markdown",
   "metadata": {},
   "source": [
    "## Conclusion\n",
    "\n",
    "In this tutorial, we have looked at autoregressive image modeling, and implemented the PixelCNN architecture. With the usage of masked convolutions, we are able to apply a convolutional network in which a pixel is only influenced by all its predecessors. Separating the masked convolution into a horizontal and vertical stack allowed us to remove the known blind spot on the right upper row of a pixel. In experiments, autoregressive models outperformed normalizing flows in terms of bits per dimension, but are much slower to sample from. Improvements, that we have not implemented ourselves here, are discrete logistic mixtures, a downsampling architecture, and changing the pixel order in a diagonal fashion (see PixelSNAIL). Overall, autoregressive models are another, strong family of generative models, which however are mostly used in sequence tasks because of their linear scaling in sampling time than quadratic as on images."
   ]
  },
  {
   "cell_type": "markdown",
   "metadata": {},
   "source": [
    "## References\n",
    "[1] van den Oord, A., et al. \"Pixel Recurrent Neural Networks.\" arXiv preprint arXiv:1601.06759 (2016). [Link](https://arxiv.org/abs/1601.06759)\n",
    "\n",
    "[2] van den Oord, A., et al. \"Conditional Image Generation with PixelCNN Decoders.\" In Advances in Neural Information Processing Systems 29, pp. 4790–4798 (2016). [Link](http://papers.nips.cc/paper/6527-conditional-image-generation-with-pixelcnn-decoders.pdf)\n",
    "\n",
    "[3] Salimans, Tim, et al. \"PixelCNN++: Improving the PixelCNN with Discretized Logistic Mixture Likelihood and Other Modifications.\" arXiv preprint arXiv:1701.05517 (2017). [Link](https://arxiv.org/abs/1701.05517)"
   ]
  },
  {
   "cell_type": "markdown",
   "metadata": {},
   "source": [
    "---\n",
    "\n",
    "[![Star our repository](https://img.shields.io/static/v1.svg?logo=star&label=⭐&message=Star%20Our%20Repository&color=yellow)](https://github.com/phlippe/uvadlc_notebooks/)  If you found this tutorial helpful, consider ⭐-ing our repository.    \n",
    "[![Ask questions](https://img.shields.io/static/v1.svg?logo=star&label=❔&message=Ask%20Questions&color=9cf)](https://github.com/phlippe/uvadlc_notebooks/issues)  For any questions, typos, or bugs that you found, please raise an issue on GitHub. \n",
    "\n",
    "---"
   ]
  }
 ],
 "metadata": {
  "kernelspec": {
   "display_name": "Python 3",
   "language": "python",
   "name": "python3"
  },
  "language_info": {
   "codemirror_mode": {
    "name": "ipython",
    "version": 3
   },
   "file_extension": ".py",
   "mimetype": "text/x-python",
   "name": "python",
   "nbconvert_exporter": "python",
   "pygments_lexer": "ipython3",
   "version": "3.10.9"
  }
 },
 "nbformat": 4,
 "nbformat_minor": 4
}
